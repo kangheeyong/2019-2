{
 "cells": [
  {
   "cell_type": "code",
   "execution_count": 2,
   "metadata": {},
   "outputs": [
    {
     "name": "stdout",
     "output_type": "stream",
     "text": [
      "12069000.0\n"
     ]
    }
   ],
   "source": [
    "import pybithumb\n",
    " \n",
    "price = pybithumb.get_current_price(\"BTC\")\n",
    "print(price)"
   ]
  },
  {
   "cell_type": "code",
   "execution_count": 3,
   "metadata": {},
   "outputs": [
    {
     "name": "stdout",
     "output_type": "stream",
     "text": [
      "                           open       close        high         low  \\\n",
      "BTC                                                                   \n",
      "2013-12-27 00:00:00    737000.0    755000.0    755000.0    737000.0   \n",
      "2013-12-28 00:00:00    750000.0    750000.0    750000.0    750000.0   \n",
      "2013-12-29 00:00:00    750000.0    739000.0    750000.0    728000.0   \n",
      "2013-12-30 00:00:00    740000.0    768000.0    772000.0    740000.0   \n",
      "2013-12-31 00:00:00    768000.0    768000.0    800000.0    763000.0   \n",
      "...                         ...         ...         ...         ...   \n",
      "2019-09-13 00:00:00  12308000.0  12274000.0  12468000.0  12248000.0   \n",
      "2019-09-14 00:00:00  12268000.0  12273000.0  12341000.0  12125000.0   \n",
      "2019-09-15 00:00:00  12273000.0  12169000.0  12335000.0  12146000.0   \n",
      "2019-09-16 00:00:00  12169000.0  12023000.0  12260000.0  11969000.0   \n",
      "2019-09-17 18:00:00  12025000.0  12012000.0  12203000.0  11953000.0   \n",
      "\n",
      "                          volume  \n",
      "BTC                               \n",
      "2013-12-27 00:00:00     3.780000  \n",
      "2013-12-28 00:00:00    12.000000  \n",
      "2013-12-29 00:00:00    19.058000  \n",
      "2013-12-30 00:00:00     9.488973  \n",
      "2013-12-31 00:00:00    18.650350  \n",
      "...                          ...  \n",
      "2019-09-13 00:00:00  3359.072120  \n",
      "2019-09-14 00:00:00  2403.179624  \n",
      "2019-09-15 00:00:00  2412.160197  \n",
      "2019-09-16 00:00:00  2627.056409  \n",
      "2019-09-17 18:00:00  1861.128261  \n",
      "\n",
      "[2000 rows x 5 columns]\n"
     ]
    }
   ],
   "source": [
    "btc = pybithumb.get_ohlcv(\"BTC\")\n",
    "print(btc)\n"
   ]
  },
  {
   "cell_type": "code",
   "execution_count": null,
   "metadata": {},
   "outputs": [],
   "source": []
  }
 ],
 "metadata": {
  "kernelspec": {
   "display_name": "Python 3",
   "language": "python",
   "name": "python3"
  },
  "language_info": {
   "codemirror_mode": {
    "name": "ipython",
    "version": 3
   },
   "file_extension": ".py",
   "mimetype": "text/x-python",
   "name": "python",
   "nbconvert_exporter": "python",
   "pygments_lexer": "ipython3",
   "version": "3.7.4"
  }
 },
 "nbformat": 4,
 "nbformat_minor": 2
}
