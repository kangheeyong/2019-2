{
 "cells": [
  {
   "cell_type": "code",
   "execution_count": 4,
   "metadata": {},
   "outputs": [],
   "source": [
    "def check(stones, k) : \n",
    "    cnt = 0\n",
    "    for num in stones :\n",
    "        if num == 0 :\n",
    "            cnt +=1\n",
    "        else :\n",
    "            cnt = 0\n",
    "        \n",
    "        if cnt == k :\n",
    "            return False\n",
    "    return True\n",
    "\n",
    "def solution(stones, k):\n",
    "    answer = 0\n",
    "    L = len(stones)\n",
    "    while check(stones, k) :\n",
    "        n = min(list(filter(lambda x : x > 0 ,stones)))\n",
    "        answer += n\n",
    "        for idx in range(0,L) :\n",
    "            if stones[idx] > 0 :\n",
    "                stones[idx] -= n\n",
    "        print(stones)\n",
    "    return answer"
   ]
  },
  {
   "cell_type": "code",
   "execution_count": null,
   "metadata": {},
   "outputs": [],
   "source": []
  },
  {
   "cell_type": "code",
   "execution_count": 8,
   "metadata": {},
   "outputs": [],
   "source": [
    "def check(stones, step, mid) : \n",
    "    cnt = 0\n",
    "    for num in stones :\n",
    "        if num < 0 : cnt +=1\n",
    "        else : cnt = 0\n",
    "        \n",
    "        if cnt == step :\n",
    "            return False\n",
    "    \n",
    "    return True\n",
    "        \n",
    "def solution(stones, step):\n",
    "    answer = 0\n",
    "    \n",
    "    \n",
    "    start, end = min(stones), max(stones)\n",
    "    \n",
    "    while start <= end : \n",
    "        mid = (start+end)//2\n",
    "        print(mid,check(stones, step, mid))\n",
    "        if check(stones, step, mid) : \n",
    "            answer = mid\n",
    "            start = mid-1\n",
    "        else :\n",
    "            end = mid + 1\n",
    "        \n",
    "    return answer"
   ]
  },
  {
   "cell_type": "code",
   "execution_count": 9,
   "metadata": {},
   "outputs": [
    {
     "name": "stdout",
     "output_type": "stream",
     "text": [
      "3 True\n",
      "1 True\n"
     ]
    },
    {
     "data": {
      "text/plain": [
       "1"
      ]
     },
     "execution_count": 9,
     "metadata": {},
     "output_type": "execute_result"
    }
   ],
   "source": [
    "\n",
    "solution([2, 4, 5, 3, 2, 1, 4, 2, 5, 1],3)"
   ]
  },
  {
   "cell_type": "code",
   "execution_count": 10,
   "metadata": {},
   "outputs": [],
   "source": [
    "def getParent(dic,x) :\n",
    "\n",
    "    if dic[x] == x : \n",
    "        dic[x] += 1\n",
    "        return dic[x]\n",
    "    else : \n",
    "        dic[x] = getParent(dic, dic[x])\n",
    "        return dic[x]\n",
    "\n",
    "\n",
    "\n",
    "def solution(k, room_number):\n",
    "    dic = {}\n",
    "    stack = []\n",
    "    for i in range(1,k+2) :\n",
    "        dic[i] = i\n",
    "    \n",
    "    for x in room_number : \n",
    "        num = getParent(dic,x)\n",
    "     \n",
    "        stack.append(num-1)\n",
    "    answer = stack\n",
    "    return answer"
   ]
  },
  {
   "cell_type": "code",
   "execution_count": null,
   "metadata": {},
   "outputs": [],
   "source": [
    "#4"
   ]
  },
  {
   "cell_type": "code",
   "execution_count": null,
   "metadata": {},
   "outputs": [],
   "source": [
    "\n",
    "def getParent(dic,x) :\n",
    "    dic[x] = dic.get(x,x)\n",
    "    if dic[x] == x : \n",
    "        dic[x] += 1\n",
    "        return dic[x]\n",
    "    else : \n",
    "        dic[x] = getParent(dic, dic[x])\n",
    "        return dic[x]\n",
    "\n",
    "\n",
    "\n",
    "def solution(k, room_number):\n",
    "    dic = {}\n",
    "    stack = []\n",
    "    \n",
    "    for x in room_number : \n",
    "        num = getParent(dic,x)\n",
    "     \n",
    "        stack.append(num-1)\n",
    "        print(dic)\n",
    "    answer = stack\n",
    "    return answer"
   ]
  },
  {
   "cell_type": "code",
   "execution_count": null,
   "metadata": {},
   "outputs": [],
   "source": []
  },
  {
   "cell_type": "code",
   "execution_count": null,
   "metadata": {},
   "outputs": [],
   "source": []
  }
 ],
 "metadata": {
  "kernelspec": {
   "display_name": "Python 3",
   "language": "python",
   "name": "python3"
  },
  "language_info": {
   "codemirror_mode": {
    "name": "ipython",
    "version": 3
   },
   "file_extension": ".py",
   "mimetype": "text/x-python",
   "name": "python",
   "nbconvert_exporter": "python",
   "pygments_lexer": "ipython3",
   "version": "3.7.4"
  }
 },
 "nbformat": 4,
 "nbformat_minor": 2
}
