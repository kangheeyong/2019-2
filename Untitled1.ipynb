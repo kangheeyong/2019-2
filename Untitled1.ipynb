{
 "cells": [
  {
   "cell_type": "code",
   "execution_count": null,
   "metadata": {},
   "outputs": [],
   "source": []
  },
  {
   "cell_type": "code",
   "execution_count": 63,
   "metadata": {},
   "outputs": [
    {
     "name": "stdout",
     "output_type": "stream",
     "text": [
      "[[1, 1, 1], [1, 1]] [5, 2, 8] 2\n",
      "[[1, 1], [1]] [5, 2, 8] 2\n",
      "[[1], []] [5, 2, 8] 2\n",
      "[[], [1, 1, 1, 1]] [2, 8] 2\n",
      "[[1], [1, 1, 1]] [8] 2\n",
      "[[], [1, 1]] [8] 2\n",
      "[[1, 1, 1, 1, 1, 1, 1], [1]] [] 2\n",
      "[[1, 1, 1, 1, 1, 1], []] [] 2\n",
      "[[1, 1, 1, 1, 1], []] [] 1\n",
      "[[1, 1, 1, 1], []] [] 1\n",
      "[[1, 1, 1], []] [] 1\n",
      "[[1, 1], []] [] 1\n",
      "[[1], []] [] 1\n",
      "[[], []] [] 1\n",
      "14\n"
     ]
    }
   ],
   "source": [
    "#size, m = map(int, input().strip().split(' '))\n",
    "\n",
    "\n",
    "\n",
    "#data = [int(input()) for _ in range(size)]\n",
    "\n",
    "\n",
    "\n",
    "# 1번에 4초 메시지\n",
    "# 2번에 3초 메시지\n",
    "# 2번에 5초 메시지를 넣어야 실시간으로 처리되는 구조\n",
    "\n",
    "size = 5\n",
    "m = 2\n",
    "data = [4,3,5,2,8]\n",
    "\n",
    "con = [[]]*m\n",
    "\n",
    "t = 0\n",
    "state = m\n",
    "while(True) :\n",
    "    state = m\n",
    "    for i in range(m) :\n",
    "\n",
    "        if con[i] == [] :\n",
    "            if data != [] :\n",
    "                \n",
    "                d = data.pop(0)\n",
    "                for _ in range(d) : \n",
    "                    if con[i] == [] : con[i] = [1]\n",
    "                    else : con[i].append(1)\n",
    "            \n",
    "    for i in range(m) :\n",
    "        if con[i] != [] :\n",
    "            con[i].pop()\n",
    "        else : state -=1\n",
    "    if state == 0 : break\n",
    "    t +=1    \n",
    "    print(con,data,state)       \n",
    "    \n",
    "    \n",
    "   \n",
    "print(t)\n",
    "#print(size,m,data,t)"
   ]
  },
  {
   "cell_type": "code",
   "execution_count": 46,
   "metadata": {},
   "outputs": [],
   "source": []
  },
  {
   "cell_type": "code",
   "execution_count": 97,
   "metadata": {},
   "outputs": [
    {
     "name": "stdout",
     "output_type": "stream",
     "text": [
      "2\n"
     ]
    }
   ],
   "source": [
    "#a = map(int, input().strip().split(' '))\n",
    "#a = input()\n",
    "\n",
    "#data = [input().strip().split(' ') for _ in range(2)]\n",
    "\n",
    "# 기본 구조는 1번과 비슷한것 같음\n",
    "# 차이점은 consumer가 늘어나야 된다는 것\n",
    "\n",
    "a = 3\n",
    "data = [[5 , 15],[0,10],[20,30]]\n",
    "\n",
    "z =[[]]*a\n",
    "\n",
    "for i in range(a) :\n",
    "    z[i] = [ 0 for _ in range(150) ]\n",
    "\n",
    "for i in range(a) :\n",
    "    for j in range(data[i][0],data[i][1]) :\n",
    "        z[i][j] = 1\n",
    "n_max = 0\n",
    "for i in range(150) :\n",
    "    temp = 0\n",
    "    for j in range(a) :\n",
    "        temp += z[j][i]\n",
    "    n_max = max(n_max,temp)\n",
    "\n",
    "        \n",
    "print( n_max)"
   ]
  },
  {
   "cell_type": "code",
   "execution_count": 96,
   "metadata": {},
   "outputs": [
    {
     "name": "stdout",
     "output_type": "stream",
     "text": [
      "[[0, 0, 0, 0, 0, 1, 1, 1, 1, 1, 1, 1, 1, 1, 1, 1, 0, 0, 0, 0, 0, 0, 0, 0, 0, 0, 0, 0, 0, 0, 0, 0, 0, 0, 0, 0, 0, 0, 0, 0, 0, 0, 0, 0, 0, 0, 0, 0, 0, 0, 0, 0, 0, 0, 0, 0, 0, 0, 0, 0, 0, 0, 0, 0, 0, 0, 0, 0, 0, 0, 0, 0, 0, 0, 0, 0, 0, 0, 0, 0, 0, 0, 0, 0, 0, 0, 0, 0, 0, 0, 0, 0, 0, 0, 0, 0, 0, 0, 0, 0, 0, 0, 0, 0, 0, 0, 0, 0, 0, 0, 0, 0, 0, 0, 0, 0, 0, 0, 0, 0, 0, 0, 0, 0, 0, 0, 0, 0, 0, 0, 0, 0, 0, 0, 0, 0, 0, 0, 0, 0, 0, 0, 0, 0, 0, 0, 0, 0, 0, 0], [1, 1, 1, 1, 1, 1, 1, 1, 1, 1, 1, 0, 0, 0, 0, 0, 0, 0, 0, 0, 0, 0, 0, 0, 0, 0, 0, 0, 0, 0, 0, 0, 0, 0, 0, 0, 0, 0, 0, 0, 0, 0, 0, 0, 0, 0, 0, 0, 0, 0, 0, 0, 0, 0, 0, 0, 0, 0, 0, 0, 0, 0, 0, 0, 0, 0, 0, 0, 0, 0, 0, 0, 0, 0, 0, 0, 0, 0, 0, 0, 0, 0, 0, 0, 0, 0, 0, 0, 0, 0, 0, 0, 0, 0, 0, 0, 0, 0, 0, 0, 0, 0, 0, 0, 0, 0, 0, 0, 0, 0, 0, 0, 0, 0, 0, 0, 0, 0, 0, 0, 0, 0, 0, 0, 0, 0, 0, 0, 0, 0, 0, 0, 0, 0, 0, 0, 0, 0, 0, 0, 0, 0, 0, 0, 0, 0, 0, 0, 0, 0], [0, 0, 0, 0, 0, 0, 0, 0, 0, 0, 0, 0, 0, 0, 0, 0, 0, 0, 0, 0, 1, 1, 1, 1, 1, 1, 1, 1, 1, 1, 1, 0, 0, 0, 0, 0, 0, 0, 0, 0, 0, 0, 0, 0, 0, 0, 0, 0, 0, 0, 0, 0, 0, 0, 0, 0, 0, 0, 0, 0, 0, 0, 0, 0, 0, 0, 0, 0, 0, 0, 0, 0, 0, 0, 0, 0, 0, 0, 0, 0, 0, 0, 0, 0, 0, 0, 0, 0, 0, 0, 0, 0, 0, 0, 0, 0, 0, 0, 0, 0, 0, 0, 0, 0, 0, 0, 0, 0, 0, 0, 0, 0, 0, 0, 0, 0, 0, 0, 0, 0, 0, 0, 0, 0, 0, 0, 0, 0, 0, 0, 0, 0, 0, 0, 0, 0, 0, 0, 0, 0, 0, 0, 0, 0, 0, 0, 0, 0, 0, 0]]\n"
     ]
    }
   ],
   "source": [
    "#a = map(int, input().strip().split(' '))\n",
    "a = int(input())\n",
    "data = [input().strip().split(' ') for _ in range(a)]\n",
    "\n",
    "\n",
    "for i in range(a) : \n",
    "    for j in range(2): \n",
    "        data[i][j]  = int(data[i][j] )\n",
    "\n",
    "\n",
    "# 메모리를 사용해서 중복되는 숫자의 최대값을 찾는다\n",
    "\n",
    "\n",
    "z = [ 0 for _ in range(150) ]\n",
    "\n",
    "for i in range(a) :\n",
    "    for j in range(data[i][0],data[i][1]) :\n",
    "        z[j] +=1\n",
    "        \n",
    "n_max = max(z)\n",
    "        \n",
    "print( n_max)"
   ]
  },
  {
   "cell_type": "code",
   "execution_count": 76,
   "metadata": {},
   "outputs": [
    {
     "data": {
      "text/plain": [
       "5"
      ]
     },
     "execution_count": 76,
     "metadata": {},
     "output_type": "execute_result"
    }
   ],
   "source": [
    "data[i][0]"
   ]
  },
  {
   "cell_type": "code",
   "execution_count": 110,
   "metadata": {},
   "outputs": [
    {
     "name": "stdout",
     "output_type": "stream",
     "text": [
      "201\n"
     ]
    }
   ],
   "source": [
    "import copy   \n",
    "def DFS(data,stack,total) :\n",
    "    \n",
    "    if data == [] :\n",
    "\n",
    "        total.append(copy.deepcopy(stack))\n",
    "        return 0\n",
    "    \n",
    "    for idx, v in enumerate(data) : \n",
    "        data.pop(idx)\n",
    "        \n",
    "        stack.append(v)\n",
    "        \n",
    "        DFS(data,stack,total)\n",
    "        \n",
    "        \n",
    "        data.insert(idx,v)\n",
    "        stack.pop()\n",
    "    \n",
    "    return 0      \n",
    "\n",
    "\n",
    "#a, b = map(int, input().strip().split(' '))\n",
    "\n",
    "# 정렬 후 깊이 우선 탐색을 수행하면 됨\n",
    "#data = input().strip().split(' ') \n",
    "data = ['1','0','2']\n",
    "data.sort(reverse = True)\n",
    "a = 5\n",
    "#a = int(input())\n",
    "total = []\n",
    "\n",
    "DFS(data,[],total)\n",
    "\n",
    "total.sort()\n",
    "\n",
    "\n",
    "print(\"\".join(total[a-1]))"
   ]
  },
  {
   "cell_type": "code",
   "execution_count": null,
   "metadata": {},
   "outputs": [],
   "source": []
  },
  {
   "cell_type": "code",
   "execution_count": null,
   "metadata": {},
   "outputs": [],
   "source": [
    "import math\n",
    "#a, b = map(int, input().strip().split(' '))\n",
    "\n",
    "a = int(input())\n",
    "b = input().strip().split(' ') \n",
    "\n",
    "# 0이 반복되는 최대수/2 +1하면 된다\n",
    "\n",
    "n_max = 0\n",
    "cnt = 0\n",
    "for v in b : \n",
    "\n",
    "    if v == '0' : \n",
    "        cnt += 1\n",
    "        n_max = max(n_max,cnt)\n",
    "    else :\n",
    "        cnt = 0\n",
    "\n",
    "print(math.ceil(n_max/2.0))"
   ]
  },
  {
   "cell_type": "code",
   "execution_count": null,
   "metadata": {},
   "outputs": [],
   "source": []
  },
  {
   "cell_type": "code",
   "execution_count": null,
   "metadata": {},
   "outputs": [],
   "source": [
    "3 -> 5\n",
    "5 -> 9\n",
    "7 -> "
   ]
  },
  {
   "cell_type": "code",
   "execution_count": 4,
   "metadata": {},
   "outputs": [],
   "source": [
    "num = []\n",
    "\n",
    "num.append([['#','#','#'],['#','.','#'],['#','.','#'],['#','.','#'],['#','#','#']])\n",
    "num.append([['.','.','#'],['.','.','#'],['.','.','#'],['.','.','#'],['.','.','#']])\n",
    "num.append([['#','#','#'],['.','.','#'],['#','#','#'],['#','.','.'],['#','#','#']])\n",
    "num.append([['#','#','#'],['.','.','#'],['#','#','#'],['.','.','#'],['#','#','#']])\n",
    "num.append([['#','.','#'],['#','.','#'],['#','#','#'],['.','.','#'],['.','.','#']])\n",
    "num.append([['#','#','#'],['#','.','.'],['#','#','#'],['.','.','#'],['#','#','#']])\n",
    "num.append([['#','.','.'],['#','.','.'],['#','#','#'],['#','.','#'],['#','#','#']])\n",
    "num.append([['#','#','#'],['.','.','#'],['.','.','#'],['.','.','#'],['.','.','#']])\n",
    "num.append([['#','#','#'],['#','.','#'],['#','#','#'],['#','.','#'],['#','#','#']])\n",
    "num.append([['#','#','#'],['#','.','#'],['#','#','#'],['.','.','#'],['.','.','#']])"
   ]
  },
  {
   "cell_type": "code",
   "execution_count": 5,
   "metadata": {},
   "outputs": [],
   "source": [
    "import numpy as np\n",
    "\n",
    "def num_add(a,b) : \n",
    "    \n",
    "    if a == []  :\n",
    "        return b\n",
    "    if b == []  :\n",
    "        return a\n",
    "    \n",
    "    x = np.array(a)\n",
    "    y = np.array(b)\n",
    "    tap = np.array([['.']]*len(a))\n",
    "    \n",
    "    \n",
    "    c = np.hstack([a,tap, b])\n",
    "    return c.tolist()\n",
    "\n",
    "\n",
    "\n",
    "def my_list_str(data) : \n",
    "    a = ''\n",
    "    for v in data : \n",
    "        a += \"\".join(v)\n",
    "        a+='\\n'\n",
    "    \n",
    "    return a\n",
    "    \n",
    "    \n"
   ]
  },
  {
   "cell_type": "code",
   "execution_count": 6,
   "metadata": {},
   "outputs": [],
   "source": [
    "z = num_add([],num[6])"
   ]
  },
  {
   "cell_type": "code",
   "execution_count": 7,
   "metadata": {},
   "outputs": [
    {
     "name": "stdout",
     "output_type": "stream",
     "text": [
      "#..\n",
      "#..\n",
      "###\n",
      "#.#\n",
      "###\n",
      "\n"
     ]
    }
   ],
   "source": [
    "print(my_list_str(z))"
   ]
  },
  {
   "cell_type": "code",
   "execution_count": null,
   "metadata": {},
   "outputs": [],
   "source": []
  },
  {
   "cell_type": "code",
   "execution_count": null,
   "metadata": {},
   "outputs": [],
   "source": []
  }
 ],
 "metadata": {
  "kernelspec": {
   "display_name": "Python 3",
   "language": "python",
   "name": "python3"
  },
  "language_info": {
   "codemirror_mode": {
    "name": "ipython",
    "version": 3
   },
   "file_extension": ".py",
   "mimetype": "text/x-python",
   "name": "python",
   "nbconvert_exporter": "python",
   "pygments_lexer": "ipython3",
   "version": "3.7.4"
  }
 },
 "nbformat": 4,
 "nbformat_minor": 2
}
