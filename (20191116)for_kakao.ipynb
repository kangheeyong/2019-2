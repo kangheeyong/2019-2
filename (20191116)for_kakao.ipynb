{
 "cells": [
  {
   "cell_type": "code",
   "execution_count": 1,
   "metadata": {},
   "outputs": [
    {
     "ename": "IndentationError",
     "evalue": "expected an indented block (<ipython-input-1-66d24423432a>, line 14)",
     "output_type": "error",
     "traceback": [
      "\u001b[0;36m  File \u001b[0;32m\"<ipython-input-1-66d24423432a>\"\u001b[0;36m, line \u001b[0;32m14\u001b[0m\n\u001b[0;31m    if __name__ == '__main__':\u001b[0m\n\u001b[0m     ^\u001b[0m\n\u001b[0;31mIndentationError\u001b[0m\u001b[0;31m:\u001b[0m expected an indented block\n"
     ]
    }
   ],
   "source": [
    "#!/bin/python3\n",
    "\n",
    "\n",
    "# Complete the findNumber function below.\n",
    "def solution(x1,v1,x2,v2):\n",
    "    answer = ''\n",
    "    \n",
    "    return answer\n",
    "\n",
    "if __name__ == '__main__':\n",
    "    arr = list(map(int,input().split()))\n",
    "    \n",
    "    res = solution(*arr)\n",
    "\n",
    "    print(res)\n",
    "    "
   ]
  },
  {
   "cell_type": "code",
   "execution_count": null,
   "metadata": {},
   "outputs": [],
   "source": [
    "\n",
    "x1,v1,x2,v2 = [input() for __in range(4)]\n",
    "\n",
    "\n",
    "\n",
    "\n",
    "\n"
   ]
  },
  {
   "cell_type": "code",
   "execution_count": null,
   "metadata": {},
   "outputs": [],
   "source": [
    "#!/bin/python3\n",
    "\n",
    "\n",
    "# Complete the findNumber function below.\n",
    "def solution(x1,v1,x2,v2):\n",
    "    answer = ''\n",
    "    \n",
    "    if x1-x2 > 0 and v1-v2 > 0 and (x2-x1)%(v1-v2)==0 :\n",
    "        answer = 'YES'\n",
    "    else : \n",
    "        answer = 'NO'\n",
    "    \n",
    "    return answer\n",
    "\n",
    "if __name__ == '__main__':\n",
    "    arr = list(map(int,input().split()))\n",
    "    \n",
    "    res = solution(*arr)\n",
    "\n",
    "    print(res)\n",
    "    "
   ]
  },
  {
   "cell_type": "code",
   "execution_count": 12,
   "metadata": {},
   "outputs": [],
   "source": [
    "#!/bin/python3\n",
    "\n",
    "import os\n",
    "import sys\n",
    "\n",
    "# Complete the solve function below.\n",
    "def solve(n, m):\n",
    "    q = n//m\n",
    "    r = n%m\n",
    "\n",
    "    return (q*((m-1)*m)+(r+1)*r)//2\n",
    "\n",
    "if __name__ == '__main__':\n",
    "    fptr = open(os.environ['OUTPUT_PATH'], 'w')\n",
    "\n",
    "    t = int(input())\n",
    "\n",
    "    for t_itr in range(t):\n",
    "        nm = input().split()\n",
    "\n",
    "        n = int(nm[0])\n",
    "\n",
    "        m = int(nm[1])\n",
    "\n",
    "        result = solve(n, m)\n",
    "\n",
    "        fptr.write(str(result) + '\\n')\n",
    "\n",
    "    fptr.close()\n"
   ]
  },
  {
   "cell_type": "code",
   "execution_count": 14,
   "metadata": {},
   "outputs": [
    {
     "data": {
      "text/plain": [
       "True"
      ]
     },
     "execution_count": 14,
     "metadata": {},
     "output_type": "execute_result"
    }
   ],
   "source": [
    "math.sqrt(1) == 1"
   ]
  },
  {
   "cell_type": "code",
   "execution_count": 16,
   "metadata": {},
   "outputs": [
    {
     "data": {
      "text/plain": [
       "1.0"
      ]
     },
     "execution_count": 16,
     "metadata": {},
     "output_type": "execute_result"
    }
   ],
   "source": [
    "1.2 //1"
   ]
  },
  {
   "cell_type": "code",
   "execution_count": 25,
   "metadata": {},
   "outputs": [
    {
     "data": {
      "text/plain": [
       "7"
      ]
     },
     "execution_count": 25,
     "metadata": {},
     "output_type": "execute_result"
    }
   ],
   "source": [
    "3^4"
   ]
  },
  {
   "cell_type": "code",
   "execution_count": null,
   "metadata": {},
   "outputs": [],
   "source": []
  },
  {
   "cell_type": "code",
   "execution_count": null,
   "metadata": {},
   "outputs": [],
   "source": []
  },
  {
   "cell_type": "code",
   "execution_count": null,
   "metadata": {},
   "outputs": [],
   "source": []
  },
  {
   "cell_type": "code",
   "execution_count": null,
   "metadata": {},
   "outputs": [],
   "source": []
  },
  {
   "cell_type": "code",
   "execution_count": null,
   "metadata": {},
   "outputs": [],
   "source": []
  },
  {
   "cell_type": "code",
   "execution_count": null,
   "metadata": {},
   "outputs": [],
   "source": []
  },
  {
   "cell_type": "code",
   "execution_count": null,
   "metadata": {},
   "outputs": [],
   "source": [
    "{\n",
    "    \"nonce\": -1330751366,\n",
    "    \"tx\": [{\"inputs\": [{\"sequence\": 4294967295}], \n",
    "            \"tx_index\": 1939116, \n",
    "            \"hash\": \"5b09bbb8d3cb2f8d4edbcf30664419fb7c9deaeeb1f62cb432e7741c80dbe5ba\", \n",
    "            \"out\": [{\"addr\": \"1KUCp7YP5FP8ViRxhfszSUJCTAajK6viGy\", \"tx_index\": 1939116, \"value\": 5000200000}],\n",
    "            \"size\": 168},\n",
    "           \n",
    "           {\"inputs\": [{\"sequence\": 4294967295, \n",
    "                        \"prev_out\": {\"addr\": \"1EeYUCnnCDqdjNGWK9uNWQ66FQkbr6MUBa\", \n",
    "                                     \"tx_index\": 1934441, \"value\": 8262537860}}], \n",
    "            \"tx_index\": 1939097, \n",
    "            \"hash\": \"7fec6bd918ee43fddebc9a7d976f3c6d31a61efb4f27482810a6b63f0e4a02d5\", \n",
    "            \"out\": [{\"addr\": \"1F2o1EEREuUpjK12ifRtah6SyQK29eff7y\", \"tx_index\": 1939097, \"value\": 5000000}, \n",
    "                    {\"addr\": \"15EFHxnebLB8vUAu8YmeGXaHrwgHwT5jJK\", \"tx_index\": 1939097, \"value\": 8257537860}], \n",
    "            \"size\": 259}, \n",
    "           \n",
    "           {\"inputs\": [{\"sequence\": 4294967295, \n",
    "                        \"prev_out\": {\"addr\": \"14GPE4J81192XDWxsdjVp11fibninVn9pR\", \"tx_index\": 1935211, \"value\": 7591252376}}],\n",
    "            \"tx_index\": 1939095, \"hash\": \"a9300383c7b0f5fc03d495844420f25035c34c4c1abb0bdb43fed1d491bbb5e2\",\n",
    "            \"out\": [{\"addr\": \"1KgeAsUgzduPyfwZVX9qMFUm6aKBJc81Tz\", \"tx_index\": 193{-truncated-}\n",
    "                    }\n",
    "                   ]\n",
    "           }\n",
    "          ]\n",
    "}"
   ]
  },
  {
   "cell_type": "code",
   "execution_count": null,
   "metadata": {},
   "outputs": [],
   "source": []
  },
  {
   "cell_type": "code",
   "execution_count": null,
   "metadata": {},
   "outputs": [],
   "source": [
    "[[0,    0, 0,    0,    0,    0,    0,    0, 0, 0, 0], \n",
    " [0,    0, 0, 1.33, 1.40,    0, 1.30, 1.16, 0, 0, 0], \n",
    " [0, 2.17, 0,    0, 2.32, 2.25, 2.40, 2.30, 0, 0, 0], \n",
    " [0,    0, 0, 3.21, 3.30, 3.27, 3.18,    0, 0, 0, 0],\n",
    " [0,    0, 0,    0, 2.44, 2.43,    0, 2.26, 0, 0, 0], \n",
    " [0, 7.70, 0, 7.66,    0, 7.56, 7.56,    0, 0, 0, 0]]"
   ]
  },
  {
   "cell_type": "code",
   "execution_count": null,
   "metadata": {},
   "outputs": [],
   "source": [
    "[0, 5.870134375619676, 5.179978749624097, 4.760130816305082, 0, 0, 0, 3.780198703066813, 4.666437348990675, 0, 0, 0, 0, 0, 5.73988345260111, 6.273592387160269, 4.9242682443298555, 4.322450482837955, 0, 0, 0, 5.491217680882299, 3.320794232504743, 0, 4.855136508269164, 5.2762362561970155, 5.662899891805697, 4.550585078994927, 5.864097009859568, 5.419128001755496, 6.0122677946396195, 5.394123314413457, 4.5445800914528744, 5.197793047215857, 4.2122495925738725, 0, 4.741736827990754, 0, 5.406538420257998, 0, 3.3555333333333324, 4.3324912918769565, 5.612862246409183, 4.404409882383128, 5.61506203814462, 5.395361334726985, 5.732617214182953, 4.803433333333332, 5.502051859327946, 4.906591724152867, 5.210933333333332]"
   ]
  },
  {
   "cell_type": "code",
   "execution_count": null,
   "metadata": {},
   "outputs": [],
   "source": []
  },
  {
   "cell_type": "code",
   "execution_count": null,
   "metadata": {},
   "outputs": [],
   "source": [
    "[[3.406, 2.1, 4.04, 2.25, 8.2, 1.2, 1.2, 4.75, 0, 0, 0],\n",
    " [1.400, 1.0, 2.0 , 0   , 0  , 1.2, 0  , 0   , 0, 0, 0],\n",
    " [2.250,   0, 1.5 , 3.0 , 0  , 0  , 0  , 0   , 0, 0, 0],\n",
    " [3.300, 2.2, 6.2 , 0   , 0  , 0  , 0  , 1.5 , 0, 0, 0],\n",
    " [2.449, 3.1, 4.0 , 1.5 , 0  , 0  , 1.2, 0   , 0, 0, 0],\n",
    " [7.566,   0, 6.5 , 0   , 8.2, 0  , 0  , 8.0 , 0, 0, 0]]"
   ]
  },
  {
   "cell_type": "code",
   "execution_count": 43,
   "metadata": {},
   "outputs": [
    {
     "data": {
      "text/plain": [
       "2.8657894736842104"
      ]
     },
     "execution_count": 43,
     "metadata": {},
     "output_type": "execute_result"
    }
   ],
   "source": [
    "2.25 + 1/(1.9)*(-0.9*(1.2-2.5))"
   ]
  },
  {
   "cell_type": "code",
   "execution_count": 44,
   "metadata": {},
   "outputs": [
    {
     "data": {
      "text/plain": [
       "2.5868421052631576"
      ]
     },
     "execution_count": 44,
     "metadata": {},
     "output_type": "execute_result"
    }
   ],
   "source": [
    "2.25 + 1/(1.9)*(1*(8.2-7.56))"
   ]
  },
  {
   "cell_type": "code",
   "execution_count": 45,
   "metadata": {},
   "outputs": [
    {
     "data": {
      "text/plain": [
       "2.4815789473684213"
      ]
     },
     "execution_count": 45,
     "metadata": {},
     "output_type": "execute_result"
    }
   ],
   "source": [
    "2.25 + 1/(1.9)*(1*(8.0-7.56))"
   ]
  },
  {
   "cell_type": "code",
   "execution_count": 39,
   "metadata": {},
   "outputs": [
    {
     "data": {
      "text/plain": [
       "1.4"
      ]
     },
     "execution_count": 39,
     "metadata": {},
     "output_type": "execute_result"
    }
   ],
   "source": [
    "1.400 "
   ]
  },
  {
   "cell_type": "code",
   "execution_count": 46,
   "metadata": {},
   "outputs": [
    {
     "data": {
      "text/plain": [
       "1.0428571428571427"
      ]
     },
     "execution_count": 46,
     "metadata": {},
     "output_type": "execute_result"
    }
   ],
   "source": [
    "1.4 + 1/(1.4)*(0.5*(1.5-2.5))"
   ]
  },
  {
   "cell_type": "code",
   "execution_count": null,
   "metadata": {},
   "outputs": [],
   "source": [
    "[[0,    0,    0,    0,    0,    0],\n",
    " [0,    0, -1.0,  0.9,  0.5, -1.0],\n",
    " [0, -1.0,    0, -1.0, -0.9,  1.0],\n",
    " [0,  0.9, -1.0,    0,  0.7, -0.9],\n",
    " [0,  0.5, -0.9,  0.7,    0, -1.0],\n",
    " [0, -1.0,  1.0, -0.9, -1.0,    0]]"
   ]
  },
  {
   "cell_type": "code",
   "execution_count": null,
   "metadata": {},
   "outputs": [],
   "source": []
  },
  {
   "cell_type": "code",
   "execution_count": null,
   "metadata": {},
   "outputs": [],
   "source": []
  },
  {
   "cell_type": "code",
   "execution_count": 29,
   "metadata": {},
   "outputs": [
    {
     "data": {
      "text/plain": [
       "[[0, 0, 0, 0, 0, 0],\n",
       " [0, 0, -1.0, 0.9746917402366384, 0.552794743635355, -1.0],\n",
       " [0, -1.0, 0, -1.0, -0.9723873019805176, 1.0],\n",
       " [0, 0.9746917402366384, -1.0, 0, 0.7250952126141695, -0.9856504931534911],\n",
       " [0, 0.552794743635355, -0.9723873019805176, 0.7250952126141695, 0, -1.0],\n",
       " [0, -1.0, 1.0, -0.9856504931534911, -1.0, 0]]"
      ]
     },
     "execution_count": 29,
     "metadata": {},
     "output_type": "execute_result"
    }
   ],
   "source": [
    "[[0, 0, 0, 0, 0, 0],\n",
    " [0, 0, -1.0, 0.9746917402366384, 0.552794743635355, -1.0], \n",
    " [0, -1.0, 0, -1.0, -0.9723873019805176, 1.0], \n",
    " [0, 0.9746917402366384, -1.0, 0, 0.7250952126141695, -0.9856504931534911], \n",
    " [0, 0.552794743635355, -0.9723873019805176, 0.7250952126141695, 0, -1.0], \n",
    " [0, -1.0, 1.0, -0.9856504931534911, -1.0, 0]]"
   ]
  },
  {
   "cell_type": "code",
   "execution_count": 30,
   "metadata": {},
   "outputs": [
    {
     "data": {
      "text/plain": [
       "[-0.28348797495669964,\n",
       " 0.2763133876467061,\n",
       " 0.1567106624398947,\n",
       " -0.28348797495669964]"
      ]
     },
     "execution_count": 30,
     "metadata": {},
     "output_type": "execute_result"
    }
   ],
   "source": [
    "a = [-1.0, 0.9746917402366384, 0.552794743635355, -1.0]\n",
    "k = 0 \n",
    "for v in a :\n",
    "    k += abs(v)\n",
    "for idx in range(len(a)) :\n",
    "    a[idx] = a[idx]/k\n",
    "a"
   ]
  },
  {
   "cell_type": "code",
   "execution_count": null,
   "metadata": {},
   "outputs": [],
   "source": []
  },
  {
   "cell_type": "code",
   "execution_count": null,
   "metadata": {},
   "outputs": [],
   "source": []
  },
  {
   "cell_type": "code",
   "execution_count": null,
   "metadata": {},
   "outputs": [],
   "source": [
    "import math\n",
    "\n",
    "def solution(matrix,known,unknown,simil):\n",
    "    answer = [[0]*len(matrix[0]) for __ in range(len(matrix))]\n",
    "    for u_idx in range(1,len(matrix)) : \n",
    "        for i_idx in range(1,len(matrix[0])) :\n",
    "            #if unknown[u_idx][i_idx] == 1 :\n",
    "            if True:\n",
    "                r_u = matrix[u_idx][0]\n",
    "                temp = 0\n",
    "                for d_idx, k in enumerate(simil[u_idx][1:]) : \n",
    "                    if u_idx==d_idx :\n",
    "                        continue\n",
    "                    r_d = matrix[d_idx][0]\n",
    "                    temp += (k*(matrix[d_idx][i_idx]-r_d))\n",
    "                answer[u_idx][i_idx] = r_u +temp\n",
    "\n",
    "    \n",
    "    return answer\n",
    "\n",
    "def make_simil(matrix,num_sim_user_topk) : \n",
    "    N = len(matrix)\n",
    "    simil = [[-2]*N for __ in range(N)] # simil[고정][다른놈]\n",
    "\n",
    "    for y_idx in range(1,N) : \n",
    "        for x_idx in range(1,N) :\n",
    "            if x_idx == y_idx : \n",
    "                #simil[y_idx][x_idx] = 0\n",
    "                continue\n",
    "            r_y = matrix[y_idx][0]\n",
    "            r_x = matrix[x_idx][0] \n",
    "            sum_r_xy = 0\n",
    "            sum_r_xx = 0\n",
    "            sum_r_yy = 0\n",
    "            for i_idx in range(1,len(matrix[0])) : \n",
    "                r_yi = matrix[y_idx][i_idx]\n",
    "                r_xi = matrix[x_idx][i_idx]\n",
    "                #print(i_idx,r_xi,r_yi,len(matrix[0]))\n",
    "                if r_yi != 0 and r_xi != 0 :\n",
    "                    sum_r_xy += (r_xi-r_x)*(r_yi-r_y)\n",
    "                    sum_r_xx += (r_xi-r_x)*(r_xi-r_x)\n",
    "                    sum_r_yy += (r_yi-r_y)*(r_yi-r_y)\n",
    "\n",
    "            simil[y_idx][x_idx] = sum_r_xy/(math.sqrt(sum_r_xx)*math.sqrt(sum_r_yy))\n",
    "        cnd = sorted(simil[y_idx])\n",
    "        #print(y_idx,cnd,simil[y_idx],num_sim_user_topk)\n",
    "        for idx,v in enumerate(simil[y_idx]) :\n",
    "            if v not in cnd :\n",
    "                simil[y_idx][idx] = 0\n",
    "\n",
    "\n",
    "    return simil\n",
    "\n",
    "def main() : \n",
    "    num_sim_user_topk = int(input())\n",
    "    num_item_rec_topk = int(input())\n",
    "    num_users = int(input())\n",
    "    num_items = int(input())\n",
    "    num_rows = int(input())\n",
    "    edges = []\n",
    "    for __ in range(num_rows) : \n",
    "        v1,v2,score = input().split()\n",
    "        edges.append([int(v1),int(v2),float(score)])\n",
    "    num_reco_users = int(input())\n",
    "    users = []\n",
    "\n",
    "    for __ in range(num_reco_users) : \n",
    "        users.append(int(input()))\n",
    "    matrix = [[0]*(num_items+1)   for __ in range(num_users+1)]\n",
    "    known = [[0]*(num_items+1)   for __ in range(num_users+1)]\n",
    "    unknown = [[1]*(num_items+1) for __ in range(num_users+1)]\n",
    "\n",
    "    for v1,v2,score in edges : \n",
    "        matrix[v1][v2] = score\n",
    "        known[v1][v2] = 1\n",
    "        unknown[v1][v2] = 0\n",
    "\n",
    "    for u_idx in range(1,num_users+1) : \n",
    "        total = 0\n",
    "        mean = 0\n",
    "        for v in matrix[u_idx][1:] : \n",
    "            if v > 0 :\n",
    "                total +=1\n",
    "                mean+=v\n",
    "        if total != 0 :\n",
    "            matrix[u_idx][0] = mean/total\n",
    "    r_ui=0\n",
    "    N_ui = 0\n",
    "    for i_idx in range(1,num_items+1) : \n",
    "        total = 0\n",
    "        mean = 0\n",
    "        for u_idx in range(1,num_users+1) : \n",
    "            if matrix[u_idx][i_idx] > 0 :\n",
    "                total +=1\n",
    "                N_ui+=1\n",
    "                mean+=matrix[u_idx][i_idx]\n",
    "                r_ui+=matrix[u_idx][i_idx]\n",
    "        if total != 0 :\n",
    "            matrix[0][i_idx] = mean/total\n",
    "    matrix[0][0] = r_ui/N_ui\n",
    "    simil = make_simil(matrix,num_sim_user_topk)\n",
    "    print(matrix)\n",
    "    #print(known)\n",
    "    #print(unknown)\n",
    "    print(simil)\n",
    "    \n",
    "\n",
    "    #print(edges)\n",
    "    #print(users)\n",
    "\n",
    "\n",
    "    #res = solution(matrix,known,unknown,simil)\n",
    "\n",
    "    #print(res)\n",
    "\n",
    "if __name__ == '__main__':\n",
    "    main()\n",
    "\n",
    "    "
   ]
  },
  {
   "cell_type": "code",
   "execution_count": null,
   "metadata": {},
   "outputs": [],
   "source": [
    "import math\n",
    "\n",
    "def solution(matrix,known,unknown,simil):\n",
    "    answer = [[0]*len(matrix[0]) for __ in range(len(matrix))]\n",
    "    for u_idx in range(1,len(matrix)) : \n",
    "        for i_idx in range(1,len(matrix[0])) :\n",
    "            if matrix[0][i_idx] == 0 :\n",
    "                continue\n",
    "            if unknown[u_idx][i_idx] == 1 :\n",
    "                \n",
    "                r_u = matrix[u_idx][0]\n",
    "                temp = 0\n",
    "                total = 0\n",
    "                for d_idx, sim in enumerate(simil[u_idx]) : \n",
    "                    if d_idx == 0 :\n",
    "                        continue\n",
    "                    r_d = matrix[d_idx][0]\n",
    "                    if matrix[d_idx][i_idx] != 0 :\n",
    "                        #print(d_idx,i_idx,matrix[d_idx][i_idx],r_d)\n",
    "                        temp += (sim*(matrix[d_idx][i_idx]-r_d))\n",
    "                        total += abs(sim)\n",
    "                if total == 0 :\n",
    "                    answer[u_idx][i_idx] = r_u\n",
    "                else :\n",
    "                    answer[u_idx][i_idx] = r_u +temp/total\n",
    "\n",
    "    \n",
    "    return answer\n",
    "\n",
    "def make_simil(matrix,num_sim_user_topk) : \n",
    "    N = len(matrix)\n",
    "    simil = [[-2]*N for __ in range(N)] # simil[고정][다른놈]\n",
    "\n",
    "    for y_idx in range(1,N) : \n",
    "        for x_idx in range(1,N) :\n",
    "            if x_idx == y_idx : \n",
    "                #simil[y_idx][x_idx] = 0\n",
    "                continue\n",
    "            r_y = matrix[y_idx][0]\n",
    "            r_x = matrix[x_idx][0] \n",
    "            sum_r_xy = 0\n",
    "            sum_r_xx = 0\n",
    "            sum_r_yy = 0\n",
    "            for i_idx in range(1,len(matrix[0])) : \n",
    "                r_yi = matrix[y_idx][i_idx]\n",
    "                r_xi = matrix[x_idx][i_idx]\n",
    "                #print(i_idx,r_xi,r_yi,len(matrix[0]))\n",
    "                if r_yi != 0 and r_xi != 0 :\n",
    "                    sum_r_xy += (r_xi-r_x)*(r_yi-r_y)\n",
    "                    sum_r_xx += (r_xi-r_x)*(r_xi-r_x)\n",
    "                    sum_r_yy += (r_yi-r_y)*(r_yi-r_y)\n",
    "            if sum_r_xx != 0 and sum_r_yy != 0 :\n",
    "                simil[y_idx][x_idx] = sum_r_xy/(math.sqrt(sum_r_xx)*math.sqrt(sum_r_yy))\n",
    "        cnd = sorted(simil[y_idx],reverse =True)[:num_sim_user_topk]\n",
    "        total = 0 \n",
    "        for idx,v in enumerate(simil[y_idx]) :\n",
    "            if v not in cnd :\n",
    "                simil[y_idx][idx] = 0\n",
    "  \n",
    "\n",
    "\n",
    "\n",
    "    return simil\n",
    "\n",
    "def main() : \n",
    "    num_sim_user_topk = int(input())\n",
    "    num_item_rec_topk = int(input())\n",
    "    num_users = int(input())\n",
    "    num_items = int(input())\n",
    "    num_rows = int(input())\n",
    "    edges = []\n",
    "    for __ in range(num_rows) : \n",
    "        v1,v2,score = input().split()\n",
    "        edges.append([int(v1),int(v2),float(score)])\n",
    "    num_reco_users = int(input())\n",
    "    users = []\n",
    "\n",
    "    for __ in range(num_reco_users) : \n",
    "        users.append(int(input()))\n",
    "    matrix = [[0]*(num_items+1)   for __ in range(num_users+1)]\n",
    "    known = [[0]*(num_items+1)   for __ in range(num_users+1)]\n",
    "    unknown = [[1]*(num_items+1) for __ in range(num_users+1)]\n",
    "\n",
    "    for v1,v2,score in edges : \n",
    "        matrix[v1][v2] = score\n",
    "        known[v1][v2] = 1\n",
    "        unknown[v1][v2] = 0\n",
    "\n",
    "    for u_idx in range(1,num_users+1) : \n",
    "        total = 0\n",
    "        mean = 0\n",
    "        for v in matrix[u_idx][1:] : \n",
    "            if v > 0 :\n",
    "                total +=1\n",
    "                mean+=v\n",
    "        if total != 0 :\n",
    "            matrix[u_idx][0] = mean/total\n",
    "    r_ui=0\n",
    "    N_ui = 0\n",
    "    for i_idx in range(1,num_items+1) : \n",
    "        total = 0\n",
    "        mean = 0\n",
    "        for u_idx in range(1,num_users+1) : \n",
    "            if matrix[u_idx][i_idx] > 0 :\n",
    "                total +=1\n",
    "                N_ui+=1\n",
    "                mean+=matrix[u_idx][i_idx]\n",
    "                r_ui+=matrix[u_idx][i_idx]\n",
    "        if total != 0 :\n",
    "            matrix[0][i_idx] = mean/total\n",
    "    matrix[0][0] = r_ui/N_ui\n",
    "    \n",
    "    simil = make_simil(matrix,num_sim_user_topk)\n",
    "    #print(matrix)\n",
    "    #print(known)\n",
    "    #print(unknown)\n",
    "    #print(simil)\n",
    "    \n",
    "\n",
    "    #print(edges)\n",
    "    #print(users)\n",
    "\n",
    "\n",
    "    res = solution(matrix,known,unknown,simil)\n",
    "    print(res)\n",
    "    answer = []\n",
    "\n",
    "    for u_idx in users :\n",
    "\n",
    "        for idx,v in enumerate(res[u_idx]) : \n",
    "            answer.append([v,idx])\n",
    "        answer.sort(reverse = True)\n",
    "        temp = []\n",
    "        for v,idx in answer[:num_item_rec_topk] : \n",
    "            temp.append(idx)\n",
    "            print (idx,'', end='')\n",
    "        #print(u_idx,temp)\n",
    "        print ('')\n",
    "if __name__ == '__main__':\n",
    "    main()\n",
    "\n",
    "    "
   ]
  },
  {
   "cell_type": "code",
   "execution_count": null,
   "metadata": {},
   "outputs": [],
   "source": [
    "import math\n",
    "\n",
    "def solution(matrix,known,unknown,simil):\n",
    "    answer = [[0]*len(matrix[0]) for __ in range(len(matrix))]\n",
    "    for u_idx in range(1,len(matrix)) : \n",
    "        for i_idx in range(1,len(matrix[0])) :\n",
    "            if matrix[0][i_idx] == 0 :\n",
    "                continue\n",
    "            if unknown[u_idx][i_idx] == 1 :\n",
    "                \n",
    "                r_u = matrix[u_idx][0]\n",
    "                temp = 0\n",
    "                total = 0\n",
    "                for d_idx, sim in enumerate(simil[u_idx]) : \n",
    "                    if d_idx == 0 :\n",
    "                        continue\n",
    "                    r_d = matrix[d_idx][0]\n",
    "                    if matrix[d_idx][i_idx] != 0 :\n",
    "                        #print(d_idx,i_idx,matrix[d_idx][i_idx],r_d)\n",
    "                        temp += (sim*(matrix[d_idx][i_idx]-r_d))\n",
    "                        total += abs(sim)\n",
    "                if total == 0 :\n",
    "                    answer[u_idx][i_idx] = r_u\n",
    "                else :\n",
    "                    answer[u_idx][i_idx] = r_u +temp/total\n",
    "\n",
    "    \n",
    "    return answer\n",
    "\n",
    "def make_simil(matrix,num_sim_user_topk) : \n",
    "    N = len(matrix)\n",
    "    simil = [[-20000]*N for __ in range(N)] # simil[고정][다른놈]\n",
    "\n",
    "    for y_idx in range(1,N) : \n",
    "        for x_idx in range(1,N) :\n",
    "            if x_idx == y_idx : \n",
    "                #simil[y_idx][x_idx] = 0\n",
    "                continue\n",
    "            r_y = matrix[y_idx][0]\n",
    "            r_x = matrix[x_idx][0] \n",
    "            sum_r_xy = 0\n",
    "            sum_r_xx = 0\n",
    "            sum_r_yy = 0\n",
    "            for i_idx in range(1,len(matrix[0])) : \n",
    "                r_yi = matrix[y_idx][i_idx]\n",
    "                r_xi = matrix[x_idx][i_idx]\n",
    "                #print(i_idx,r_xi,r_yi,len(matrix[0]))\n",
    "                if r_yi != 0 and r_xi != 0 :\n",
    "                    sum_r_xy += (r_xi-r_x)*(r_yi-r_y)\n",
    "                    sum_r_xx += (r_xi-r_x)*(r_xi-r_x)\n",
    "                    sum_r_yy += (r_yi-r_y)*(r_yi-r_y)\n",
    "            if sum_r_xx != 0 and sum_r_yy != 0 :\n",
    "                simil[y_idx][x_idx] = sum_r_xy/(math.sqrt(sum_r_xx*sum_r_yy))\n",
    "        \n",
    "        temp = []\n",
    "        for idx, v in enumerate(simil[y_idx]) : \n",
    "            temp.append([v,idx])\n",
    "        temp.sort(key = lambda x : -x[0])\n",
    "\n",
    "        cnd = [idx for v,idx in temp[:num_sim_user_topk]]\n",
    "\n",
    "        for idx,v in enumerate(simil[y_idx]) :\n",
    "            if idx not in cnd :\n",
    "                simil[y_idx][idx] = 0\n",
    "       \n",
    "\n",
    "\n",
    "    return simil\n",
    "\n",
    "def main() : \n",
    "    num_sim_user_topk = int(input())\n",
    "    num_item_rec_topk = int(input())\n",
    "    num_users = int(input())\n",
    "    num_items = int(input())\n",
    "    num_rows = int(input())\n",
    "    edges = []\n",
    "    for __ in range(num_rows) : \n",
    "        v1,v2,score = input().split()\n",
    "        edges.append([int(v1),int(v2),float(score)])\n",
    "    num_reco_users = int(input())\n",
    "    users = []\n",
    "\n",
    "    for __ in range(num_reco_users) : \n",
    "        users.append(int(input()))\n",
    "    matrix = [[0]*(num_items+1)   for __ in range(num_users+1)]\n",
    "    known = [[0]*(num_items+1)   for __ in range(num_users+1)]\n",
    "    unknown = [[1]*(num_items+1) for __ in range(num_users+1)]\n",
    "\n",
    "    for s1,s2,score in edges : \n",
    "        matrix[s1][s2] = score\n",
    "        known[s1][s2] = 1\n",
    "        unknown[s1][s2] = 0\n",
    "\n",
    "    for u_idx in range(1,num_users+1) : \n",
    "        total = 0\n",
    "        mean = 0\n",
    "        for v in matrix[u_idx][1:] : \n",
    "            if v > 0 :\n",
    "                total +=1\n",
    "                mean+=v\n",
    "        if total != 0 :\n",
    "            matrix[u_idx][0] = mean/total\n",
    "    r_ui=0\n",
    "    N_ui = 0\n",
    "    for i_idx in range(1,num_items+1) : \n",
    "        total = 0\n",
    "        mean = 0\n",
    "        for u_idx in range(1,num_users+1) : \n",
    "            if matrix[u_idx][i_idx] > 0 :\n",
    "                total +=1\n",
    "                N_ui+=1\n",
    "                mean+=matrix[u_idx][i_idx]\n",
    "                r_ui+=matrix[u_idx][i_idx]\n",
    "        if total != 0 :\n",
    "            matrix[0][i_idx] = mean/total\n",
    "    matrix[0][0] = r_ui/N_ui\n",
    "    simil = make_simil(matrix,num_sim_user_topk)\n",
    "    #print(matrix)\n",
    "    #print(known)\n",
    "    #print(unknown)\n",
    "    #print(simil)\n",
    "    \n",
    "\n",
    "    #print(edges)\n",
    "    #print(users)\n",
    "\n",
    "\n",
    "    res = solution(matrix,known,unknown,simil)\n",
    "    #print(res[users[1]])\n",
    "    \n",
    "    answer = []\n",
    "\n",
    "    for u_idx in users :\n",
    "        #answer = []\n",
    "        for idx1,v in enumerate(res[u_idx]) : \n",
    "            answer.append([v,idx1])\n",
    "        answer.sort(key = lambda x : -x[0])\n",
    "        temp = []\n",
    "        #print (u_idx,',', end='')\n",
    "        for v,idx in answer[:num_item_rec_topk] : \n",
    "            temp.append(idx)\n",
    "            #print (v - matrix[u_idx][0],'', end='')\n",
    "            print (idx,'', end='')\n",
    "        #print(u_idx,temp)\n",
    "        print ('')\n",
    "if __name__ == '__main__':\n",
    "    main()\n",
    "\n",
    "    "
   ]
  }
 ],
 "metadata": {
  "kernelspec": {
   "display_name": "Python 3",
   "language": "python",
   "name": "python3"
  },
  "language_info": {
   "codemirror_mode": {
    "name": "ipython",
    "version": 3
   },
   "file_extension": ".py",
   "mimetype": "text/x-python",
   "name": "python",
   "nbconvert_exporter": "python",
   "pygments_lexer": "ipython3",
   "version": "3.7.4"
  }
 },
 "nbformat": 4,
 "nbformat_minor": 2
}
