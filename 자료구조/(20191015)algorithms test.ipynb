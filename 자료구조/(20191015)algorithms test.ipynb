{
 "cells": [
  {
   "cell_type": "code",
   "execution_count": null,
   "metadata": {},
   "outputs": [],
   "source": [
    "\n",
    "#https://rebas.kr/789\n"
   ]
  },
  {
   "cell_type": "code",
   "execution_count": null,
   "metadata": {},
   "outputs": [],
   "source": []
  },
  {
   "cell_type": "code",
   "execution_count": null,
   "metadata": {},
   "outputs": [],
   "source": [
    "\n",
    "N = input().split() # N*N Array\n",
    "\n",
    "print(int(N[0])+int(N[1]))\n"
   ]
  },
  {
   "cell_type": "code",
   "execution_count": null,
   "metadata": {},
   "outputs": [],
   "source": []
  },
  {
   "cell_type": "code",
   "execution_count": null,
   "metadata": {},
   "outputs": [],
   "source": []
  },
  {
   "cell_type": "markdown",
   "metadata": {},
   "source": [
    "# 구슬탈출2 https://www.acmicpc.net/problem/13460"
   ]
  },
  {
   "cell_type": "code",
   "execution_count": null,
   "metadata": {},
   "outputs": [],
   "source": []
  },
  {
   "cell_type": "code",
   "execution_count": null,
   "metadata": {},
   "outputs": [],
   "source": [
    "입력 =\"\"\"5 5\n",
    "#####\n",
    "#..B#\n",
    "#.#.#\n",
    "#RO.#\n",
    "#####\"\"\""
   ]
  },
  {
   "cell_type": "code",
   "execution_count": null,
   "metadata": {},
   "outputs": [],
   "source": [
    "입력 = \"\"\"7 7\n",
    "#######\n",
    "#...RB#\n",
    "#.#####\n",
    "#.....#\n",
    "#####.#\n",
    "#O....#\n",
    "#######\"\"\""
   ]
  },
  {
   "cell_type": "code",
   "execution_count": null,
   "metadata": {},
   "outputs": [],
   "source": [
    "입력 = \"\"\"10 10\n",
    "##########\n",
    "#R#...##B#\n",
    "#...#.##.#\n",
    "#####.##.#\n",
    "#......#.#\n",
    "#.######.#\n",
    "#.#....#.#\n",
    "#.#.#.#..#\n",
    "#...#.O#.#\n",
    "##########\"\"\""
   ]
  },
  {
   "cell_type": "code",
   "execution_count": null,
   "metadata": {},
   "outputs": [],
   "source": [
    "입력 =\"\"\"3 7\n",
    "#######\n",
    "#R.O.B#\n",
    "#######\"\"\""
   ]
  },
  {
   "cell_type": "code",
   "execution_count": null,
   "metadata": {},
   "outputs": [],
   "source": [
    "입력 = \"\"\"10 10\n",
    "##########\n",
    "#R#...##B#\n",
    "#...#.##.#\n",
    "#####.##.#\n",
    "#......#.#\n",
    "#.######.#\n",
    "#.#....#.#\n",
    "#.#.##...#\n",
    "#O..#....#\n",
    "##########\"\"\""
   ]
  },
  {
   "cell_type": "code",
   "execution_count": null,
   "metadata": {},
   "outputs": [],
   "source": [
    "입력 =\"\"\"3 10\n",
    "##########\n",
    "#.O....RB#\n",
    "##########\"\"\""
   ]
  },
  {
   "cell_type": "code",
   "execution_count": null,
   "metadata": {},
   "outputs": [],
   "source": []
  },
  {
   "cell_type": "code",
   "execution_count": null,
   "metadata": {},
   "outputs": [],
   "source": [
    "import copy\n",
    "\n",
    "def base_move(m, direction, coordinate, limit) : \n",
    "    \n",
    "    y,x = limit\n",
    "    \n",
    "    if m[y][x] != 'O' : \n",
    "        m[y][x] = '#'\n",
    "    \n",
    "    y,x = coordinate\n",
    "    if direction == 'U' : \n",
    "        for i in range(y-1, -1, -1) : \n",
    "            if m[i][x] == '#' : return (i+1,x)\n",
    "            elif m[i][x] == 'O'  : return (i,x)\n",
    "    elif direction == 'D' :\n",
    "        for i in range(y+1 , len(m), 1) :\n",
    "            if m[i][x] == '#' : return (i-1,x)\n",
    "            elif m[i][x] == 'O'  : return (i,x)\n",
    "    elif direction == 'L' :\n",
    "        for i in range(x-1 , -1, -1) :\n",
    "            if m[y][i] == '#' : return (y,i+1)\n",
    "            elif m[y][i] == 'O'  : return (y,i)\n",
    "    else :\n",
    "        for i in range(x+1 , len(m[y]), 1) :\n",
    "            if m[y][i] == '#' : return (y,i-1)\n",
    "            elif m[y][i] == 'O'  : return (y,i)\n",
    "\n",
    "def move(m, red, blue, direction) : \n",
    "       \n",
    "    red_y, red_x = red\n",
    "    blue_y, blue_x = blue\n",
    "    \n",
    "    if direction == 'U' :\n",
    "        if red_y < blue_y : \n",
    "            red_ = base_move(m,direction, coordinate = red,limit = blue)\n",
    "            return red_,base_move(m,direction,coordinate = blue,limit = red_)\n",
    "        else :\n",
    "            blue_ = base_move(m,direction,coordinate = blue, limit = red)\n",
    "            return base_move(m,direction,coordinate = red,limit = blue_), blue_\n",
    "    \n",
    "    elif direction == 'D' :\n",
    "        if red_y > blue_y : \n",
    "            red_ = base_move(m,direction, coordinate = red,limit = blue)\n",
    "            return red_,base_move(m,direction,coordinate = blue,limit = red_)\n",
    "        else :\n",
    "            blue_ = base_move(m,direction,coordinate = blue, limit = red)\n",
    "            return base_move(m,direction,coordinate = red,limit = blue_), blue_\n",
    "        \n",
    "    elif direction == 'R' :\n",
    "        if red_x > blue_x : \n",
    "            red_ = base_move(m,direction, coordinate = red,limit = blue)\n",
    "            return red_,base_move(m,direction,coordinate = blue,limit = red_)\n",
    "        else :\n",
    "            blue_ = base_move(m,direction,coordinate = blue, limit = red)\n",
    "            return base_move(m,direction,coordinate = red,limit = blue_), blue_\n",
    "        \n",
    "    else :\n",
    "        if red_x < blue_x : \n",
    "            red_ = base_move(m,direction, coordinate = red,limit = blue)\n",
    "            return red_,base_move(m,direction,coordinate = blue,limit = red_)\n",
    "        else :\n",
    "            blue_ = base_move(m,direction,coordinate = blue, limit = red)\n",
    "            return base_move(m,direction,coordinate = red, limit = blue_), blue_\n",
    "        \n",
    "def make_path(m,red,blue) :\n",
    "    stack = [] # 다음 red, 다음 blue, 다음 갈 수 있는 좌표\n",
    "    \n",
    "    red_,blue_ = move(copy.deepcopy(m),red,blue,'U')    \n",
    "    if red != red_ or blue != blue_ :\n",
    "        stack.append([red_,blue_])\n",
    "    red_,blue_ = move(copy.deepcopy(m),red,blue,'D')    \n",
    "    if red != red_ or blue != blue_:\n",
    "        stack.append([red_,blue_])\n",
    "    red_,blue_ = move(copy.deepcopy(m),red,blue,'L')    \n",
    "    if red != red_ or blue != blue_:\n",
    "        stack.append([red_,blue_])\n",
    "    red_,blue_ = move(copy.deepcopy(m),red,blue,'R')    \n",
    "    if red != red_ or blue != blue_:\n",
    "        stack.append([red_,blue_])\n",
    "    return stack\n",
    "        \n"
   ]
  },
  {
   "cell_type": "code",
   "execution_count": null,
   "metadata": {},
   "outputs": [],
   "source": [
    "data = 입력.split()#input() \n",
    "#data = input().split() \n",
    "hight = int(data.pop(0))\n",
    "width = int(data.pop(0))\n",
    "#data = []\n",
    "#for i in range(0,hight) : data.append(input())\n",
    "\n",
    "\n",
    "for y in range(0,hight) : \n",
    "    data[y] = list(data[y])\n",
    "    for x in range(0,width) :\n",
    "        if data[y][x] == 'R' : \n",
    "            red = (y,x)\n",
    "            data[y][x] = '.'\n",
    "        elif data[y][x] == 'B' : \n",
    "            blue = (y,x)\n",
    "            data[y][x] = '.'\n",
    "        elif data[y][x] == 'O' : hole = (y,x)\n",
    "\n",
    "            \n",
    "\n",
    "used = [red+blue]\n",
    "que = make_path(data,red,blue) \n",
    "cnt = 0\n",
    "\n",
    "\n",
    "#print(red,blue)\n",
    "while cnt > -1 :\n",
    "    cnt +=1\n",
    "    #print('--------------',cnt)\n",
    "    for _ in range(len(que)) :\n",
    "        _red,_blue = que.pop(0)\n",
    "        if _red == hole and _blue != hole : \n",
    "            #print(_red,_blue,_red+_blue not in used,'find')\n",
    "            print(cnt)\n",
    "            cnt = -1\n",
    "            break\n",
    "        elif _blue == hole : continue\n",
    "\n",
    "        elif _red+_blue not in used :\n",
    "            \n",
    "            used.append(_red+_blue)\n",
    "                       \n",
    "            que += make_path(data,_red,_blue) \n",
    "\n",
    "    if  cnt > 9 :\n",
    "        print(-1)\n",
    "        break"
   ]
  },
  {
   "cell_type": "code",
   "execution_count": null,
   "metadata": {},
   "outputs": [],
   "source": [
    "data = 입력.split()#input() \n",
    "#data = input().split() \n",
    "hight = int(data.pop(0))\n",
    "width = int(data.pop(0))\n",
    "#data = []\n",
    "#for i in range(0,hight) : data.append(input())\n",
    "\n",
    "\n",
    "\n",
    "\n",
    "\n",
    "\n",
    "def bfs(data, red, blue,hole) :\n",
    "            \n",
    "\n",
    "    used = {(red+blue)} \n",
    "    #used = set([red+blue])\n",
    "    que = make_path(data,red,blue) \n",
    "    cnt = 1\n",
    "       \n",
    "    while 1 <= cnt < 11 :      \n",
    "              \n",
    "        for _ in range(len(que)) :\n",
    "            _red,_blue = que.pop(0)\n",
    "            if _red == hole and _blue != hole : \n",
    "                return cnt\n",
    "            elif _blue == hole : \n",
    "                continue\n",
    "            elif _red + _blue not in used : \n",
    "                #print(type(_red + _blue),type((_red + _blue)))\n",
    "                used.add(_red+_blue)\n",
    "                que += make_path(data,_red,_blue) \n",
    "        cnt +=1\n",
    "    return -1\n",
    "\n",
    "print(bfs(data,red,blue,hole))"
   ]
  },
  {
   "cell_type": "code",
   "execution_count": null,
   "metadata": {},
   "outputs": [],
   "source": [
    "data = 입력.split()#input() \n",
    "#data = input().split() \n",
    "hight = int(data.pop(0))\n",
    "width = int(data.pop(0))\n",
    "#data = [input() for __ in range(range)]\n",
    "data = list(map(list,data))\n",
    "\n",
    "for y in range(hight) : \n",
    "    for x in range(width) :\n",
    "        if data[y][x] == 'R' : \n",
    "            red = (y,x)\n",
    "            data[y][x] = '.'\n",
    "        elif data[y][x] == 'B' : \n",
    "            blue = (y,x)\n",
    "            data[y][x] = '.'\n",
    "        elif data[y][x] == 'O' : \n",
    "            hole = (y,x)\n",
    "\n",
    "def bfs(data, red, blue,hole) :\n",
    "            \n",
    "\n",
    "    used = {(red+blue)} \n",
    "    #used = set([red+blue])\n",
    "    \n",
    "    que = make_path(data,red,blue) \n",
    "       \n",
    "    for cnt in range(1,11) :            \n",
    "        for __ in range(len(que)) :\n",
    "            _red,_blue = que.pop(0)\n",
    "            if _red == hole and _blue != hole : \n",
    "                return cnt\n",
    "            elif _blue == hole : \n",
    "                continue\n",
    "            elif _red + _blue not in used : \n",
    "                used.add(_red+_blue)\n",
    "                que += make_path(data,_red,_blue) \n",
    "    return -1\n",
    "    \n",
    "\n",
    "print(bfs(data,red,blue,hole))"
   ]
  },
  {
   "cell_type": "code",
   "execution_count": null,
   "metadata": {},
   "outputs": [],
   "source": [
    "입력 = \"\"\"\n",
    "9 9\n",
    "#########\n",
    "###.....#\n",
    "#..#..#O#\n",
    "##..R.#B#\n",
    "####....#\n",
    "#.....#.#\n",
    "#.#.....#\n",
    "##.###..#\n",
    "#########\n",
    "\"\"\""
   ]
  },
  {
   "cell_type": "code",
   "execution_count": null,
   "metadata": {},
   "outputs": [],
   "source": [
    "print(data)\n",
    "print(red, blue,hole)"
   ]
  },
  {
   "cell_type": "code",
   "execution_count": null,
   "metadata": {},
   "outputs": [],
   "source": [
    "입력 = \"\"\"10 7\n",
    "#######\n",
    "#.....#\n",
    "#.....#\n",
    "#.#BR.#\n",
    "#.#...#\n",
    "#.....#\n",
    "#....##\n",
    "###...#\n",
    "#O...##\n",
    "#######\"\"\""
   ]
  },
  {
   "cell_type": "code",
   "execution_count": null,
   "metadata": {},
   "outputs": [],
   "source": []
  },
  {
   "cell_type": "code",
   "execution_count": null,
   "metadata": {},
   "outputs": [],
   "source": []
  },
  {
   "cell_type": "markdown",
   "metadata": {},
   "source": []
  },
  {
   "cell_type": "code",
   "execution_count": null,
   "metadata": {},
   "outputs": [],
   "source": []
  },
  {
   "cell_type": "code",
   "execution_count": null,
   "metadata": {},
   "outputs": [],
   "source": []
  },
  {
   "cell_type": "code",
   "execution_count": 2,
   "metadata": {},
   "outputs": [],
   "source": [
    "입력 =\"\"\"6\n",
    "10\n",
    "20\n",
    "15\n",
    "25\n",
    "10\n",
    "20\n",
    "\n",
    "\"\"\""
   ]
  },
  {
   "cell_type": "code",
   "execution_count": 41,
   "metadata": {},
   "outputs": [],
   "source": [
    "입력 = \"\"\"11\n",
    "1\n",
    "6\n",
    "4\n",
    "7\n",
    "3\n",
    "7\n",
    "5\n",
    "2\n",
    "1\n",
    "5\n",
    "3\"\"\""
   ]
  },
  {
   "cell_type": "code",
   "execution_count": 42,
   "metadata": {},
   "outputs": [],
   "source": [
    "data = 입력.split()#input() \n",
    "\n",
    "N = int(data.pop(0))\n",
    "data = list(map(int,data))\n",
    "\n",
    "#N = int(input()) \n",
    "#data = [int(input()) for __ in range(range)]"
   ]
  },
  {
   "cell_type": "code",
   "execution_count": null,
   "metadata": {},
   "outputs": [],
   "source": [
    "print(N,data)"
   ]
  },
  {
   "cell_type": "code",
   "execution_count": null,
   "metadata": {},
   "outputs": [],
   "source": [
    "\n",
    "def dp(N,data,memory) :\n",
    "    if N == 0 :\n",
    "        temp =[[data[0],1]]\n",
    "    elif N == 1 :   \n",
    "        temp = [[data[0]+data[1], 0],[data[1],1]]\n",
    "    elif N == 2 : \n",
    "        temp = [[data[1]+data[2], 0],[data[0]+data[2],1]]\n",
    "    else :\n",
    "        temp=[]\n",
    "        if N-1 not in memory :\n",
    "            dp(N-1,data,memory)\n",
    "        if N-2 not in memory :\n",
    "            dp(N-2,data,memory)\n",
    "        \n",
    "        a = memory[N-1][1][0]\n",
    "        temp.append([data[N] + a,0])\n",
    "        \n",
    "        a = memory[N-2][0][0]\n",
    "        b = memory[N-2][1][0]    \n",
    "        temp.append([data[N] + max(a,b),1])\n",
    "        \n",
    "        \n",
    "            \n",
    "        \n",
    "    memory[N] = temp    \n",
    "    return temp\n"
   ]
  },
  {
   "cell_type": "code",
   "execution_count": null,
   "metadata": {},
   "outputs": [],
   "source": [
    "\n",
    "def dp(N,data,memory) :\n",
    "    if N == 0 :\n",
    "        temp = {0 : data[0]}\n",
    "    elif N == 1 :   \n",
    "        temp = {0 : data[0]+data[1], 1: data[1]}\n",
    "    elif N == 2 : \n",
    "        temp = {0 : data[1]+data[2], 1: data[0]+data[2]}\n",
    "    else :\n",
    "        temp={}\n",
    "        if N-1 not in memory :\n",
    "            dp(N-1,data,memory)\n",
    "        if N-2 not in memory :\n",
    "            dp(N-2,data,memory)\n",
    "        \n",
    "        a = memory[N-1][1]\n",
    "        temp[0] = data[N] + a\n",
    "        \n",
    "        a = memory[N-2][0]\n",
    "        b = memory[N-2][1] \n",
    "        temp[1] = data[N] + max(a,b)          \n",
    "        \n",
    "    memory[N] = temp    \n",
    "    return temp\n",
    "\n"
   ]
  },
  {
   "cell_type": "code",
   "execution_count": 46,
   "metadata": {},
   "outputs": [],
   "source": [
    "import copy\n",
    "def dp(N,data,memory) :\n",
    "    \n",
    "    now = {0 : {}, 1 : {}, 2 : {}} \n",
    "    now[0] = {0 : data[0]+data[1], 1: data[1]} #dp2\n",
    "    now[1] = {0 : data[1]+data[2], 1: data[0]+data[2]} #dp3\n",
    "    \n",
    "    for i in range(3,N+1) : \n",
    "        \n",
    "        a = now[1][1]\n",
    "        now[2][0] = data[i] + a\n",
    "        \n",
    "        a = now[0][0]\n",
    "        b = now[0][1]\n",
    "        now[2][1] = data[i] + max(a,b)  \n",
    "              \n",
    "        now[0] = copy.deepcopy(now[1])\n",
    "        now[1] = copy.deepcopy(now[2])\n",
    "          \n",
    "    return max(now[2].values())\n",
    "\n"
   ]
  },
  {
   "cell_type": "code",
   "execution_count": null,
   "metadata": {},
   "outputs": [],
   "source": [
    "\n",
    "\n",
    "\n"
   ]
  },
  {
   "cell_type": "code",
   "execution_count": 45,
   "metadata": {},
   "outputs": [
    {
     "name": "stdout",
     "output_type": "stream",
     "text": [
      "59\n"
     ]
    }
   ],
   "source": [
    "\n",
    "\n",
    "memory = {}\n",
    "r = dp(N-1,data,memory)\n",
    "print(r)"
   ]
  },
  {
   "cell_type": "code",
   "execution_count": 5,
   "metadata": {},
   "outputs": [
    {
     "name": "stdout",
     "output_type": "stream",
     "text": [
      "6 [10, 20, 15, 25, 10, 20]\n"
     ]
    }
   ],
   "source": [
    "print(N,data)"
   ]
  },
  {
   "cell_type": "markdown",
   "metadata": {},
   "source": []
  },
  {
   "cell_type": "code",
   "execution_count": 132,
   "metadata": {},
   "outputs": [],
   "source": [
    "def dp(L,money,memory) :\n",
    "    if L == 2 :\n",
    "        temp = money[2]\n",
    "    elif L == 3 : \n",
    "        temp = money[3]+money[1]\n",
    "    elif L == 4 :\n",
    "        temp = max(money[4]+money[2], money[4]+money[1])\n",
    "    #elif L = 5 :\n",
    "        #temp = {1 : data[5]+data[3]+data[1],2 : data[5]+data[2]}\n",
    "    else :\n",
    "        if L-3 not in memory :\n",
    "            dp(L-3,money,memory)\n",
    "        if L-2 not in memory :\n",
    "            dp(L-2,money,memory)\n",
    "        \n",
    "        a = money[L] + memory[L-2]\n",
    "        b = money[L] + memory[L-3]\n",
    "        temp = max(a,b)\n",
    "        \n",
    "    memory[L] = temp\n",
    "        \n",
    "    return temp\n",
    "\n",
    "\n",
    "def solution(money):\n",
    "    memory = {}\n",
    "    L = len(money)-1\n",
    "    a1 = dp(L,money,memory)\n",
    "    memory = {}\n",
    "    money.reverse()\n",
    "    a2 = dp(L,money,memory)\n",
    "\n",
    "    return max(a1,a2)"
   ]
  },
  {
   "cell_type": "code",
   "execution_count": 138,
   "metadata": {},
   "outputs": [],
   "source": [
    "def solution(money):\n",
    "    memory = {}\n",
    "    L = len(money)-1\n",
    "    for i in range(2,L+1) :\n",
    "        a1 = dp(i,money,memory)\n",
    "    memory = {}\n",
    "    money.reverse()\n",
    "    for i in range(2,L+1) :\n",
    "        a2 = dp(i,money,memory)\n",
    "\n",
    "    return max(a1,a2)"
   ]
  },
  {
   "cell_type": "code",
   "execution_count": 129,
   "metadata": {},
   "outputs": [],
   "source": [
    "def dp(L,money) :\n",
    "    \n",
    "    now2 = money[2]\n",
    "    now3 = money[3]+money[1]\n",
    "    now4 = max(money[4]+money[2], money[4]+money[1])\n",
    "    \n",
    "    \n",
    "    if L == 3 : return max(money)\n",
    "    elif L == 4 : return now3\n",
    "    elif L == 5 : return now4\n",
    "    else :\n",
    "        for i in range(5, L) :          \n",
    "            now5 = max(now3, now2) + money[i]\n",
    "            now2,now3,now4 = now3,now4,now5   \n",
    "        return now5\n",
    "\n",
    "\n",
    "def solution(money):\n",
    "    \n",
    "    \n",
    "    \n",
    "    L = len(money)\n",
    "    a1 = dp(L,money)\n",
    "    money.reverse()\n",
    "    a2 = dp(L,money)\n",
    "\n",
    "    return max(a1,a2)"
   ]
  },
  {
   "cell_type": "code",
   "execution_count": 139,
   "metadata": {},
   "outputs": [
    {
     "data": {
      "text/plain": [
       "9"
      ]
     },
     "execution_count": 139,
     "metadata": {},
     "output_type": "execute_result"
    }
   ],
   "source": [
    "solution([1, 2, 3, 1,3,1,3])"
   ]
  },
  {
   "cell_type": "code",
   "execution_count": 60,
   "metadata": {},
   "outputs": [],
   "source": [
    "a = [1, 2, 3, 1]"
   ]
  },
  {
   "cell_type": "code",
   "execution_count": 70,
   "metadata": {},
   "outputs": [
    {
     "data": {
      "text/plain": [
       "[1]"
      ]
     },
     "execution_count": 70,
     "metadata": {},
     "output_type": "execute_result"
    }
   ],
   "source": [
    "a[0 : 1]"
   ]
  },
  {
   "cell_type": "code",
   "execution_count": 72,
   "metadata": {},
   "outputs": [
    {
     "data": {
      "text/plain": [
       "[1, 2, 3]"
      ]
     },
     "execution_count": 72,
     "metadata": {},
     "output_type": "execute_result"
    }
   ],
   "source": [
    "a[0:-1]"
   ]
  },
  {
   "cell_type": "code",
   "execution_count": 75,
   "metadata": {},
   "outputs": [
    {
     "data": {
      "text/plain": [
       "[1, 1, 2, 3]"
      ]
     },
     "execution_count": 75,
     "metadata": {},
     "output_type": "execute_result"
    }
   ],
   "source": [
    "a[len(a)-1 : len(a)] + a[:len(a)-1 ] "
   ]
  },
  {
   "cell_type": "code",
   "execution_count": 2,
   "metadata": {},
   "outputs": [
    {
     "data": {
      "text/plain": [
       "(1, 3)"
      ]
     },
     "execution_count": 2,
     "metadata": {},
     "output_type": "execute_result"
    }
   ],
   "source": [
    "\n",
    "\n",
    "\n",
    "def aaa(a,b) : \n",
    "    return (a,b)\n",
    "\n",
    "\n",
    "A = (1,3)\n",
    "aaa(*A)"
   ]
  },
  {
   "cell_type": "code",
   "execution_count": null,
   "metadata": {},
   "outputs": [],
   "source": []
  }
 ],
 "metadata": {
  "kernelspec": {
   "display_name": "Python 3",
   "language": "python",
   "name": "python3"
  },
  "language_info": {
   "codemirror_mode": {
    "name": "ipython",
    "version": 3
   },
   "file_extension": ".py",
   "mimetype": "text/x-python",
   "name": "python",
   "nbconvert_exporter": "python",
   "pygments_lexer": "ipython3",
   "version": "3.7.4"
  }
 },
 "nbformat": 4,
 "nbformat_minor": 2
}
