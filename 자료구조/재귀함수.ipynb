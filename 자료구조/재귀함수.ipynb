{
 "cells": [
  {
   "cell_type": "code",
   "execution_count": null,
   "metadata": {},
   "outputs": [],
   "source": []
  },
  {
   "cell_type": "code",
   "execution_count": null,
   "metadata": {},
   "outputs": [],
   "source": []
  },
  {
   "cell_type": "code",
   "execution_count": 3,
   "metadata": {},
   "outputs": [],
   "source": [
    "def check(s) :\n",
    "    \n",
    "    cnt = 0\n",
    "    for v in s : \n",
    "        if v == '(' : \n",
    "            cnt += 1\n",
    "        elif v == ')' : \n",
    "            cnt -= 1\n",
    "        if cnt < 0 :\n",
    "            return False\n",
    "    return True\n",
    "\n",
    "def change(s) : \n",
    "    if s == '' : return ''\n",
    "\n",
    "    temp =''\n",
    "    for i in range(1, len(s)-1) :\n",
    "        if s[i] == '(' :\n",
    "            temp +=')'\n",
    "        elif s[i] == ')' :\n",
    "            temp+='('\n",
    "    \n",
    "    return temp\n",
    "def divide(s) : \n",
    "    \n",
    "    cnt = 0\n",
    "    for idx, v in enumerate(s) :     \n",
    "        if v == '(' : \n",
    "            cnt +=1\n",
    "        elif v == ')' : \n",
    "            cnt -=1\n",
    "        if cnt == 0 :\n",
    "            return s[0:idx+1], s[idx+1:]\n",
    "\n"
   ]
  },
  {
   "cell_type": "code",
   "execution_count": null,
   "metadata": {},
   "outputs": [],
   "source": []
  },
  {
   "cell_type": "code",
   "execution_count": 76,
   "metadata": {},
   "outputs": [],
   "source": [
    "\n",
    "def solution(p,cnt):  \n",
    "    print('start : ',cnt,', p : ' ,p)\n",
    "    u = ''\n",
    "    v = p    \n",
    "    while v !='':\n",
    "        \n",
    "        u_,v = divide(v)\n",
    "        print('u : ',u_,', v :', v, ',cnt : ',cnt,p)\n",
    "        if not check(u_)  :                        \n",
    "            v = '(' + solution(v,cnt + 1) + ')' + change(u_)\n",
    "        else : \n",
    "            u += u_\n",
    "\n",
    "    answer = u\n",
    "    return answer"
   ]
  },
  {
   "cell_type": "code",
   "execution_count": 78,
   "metadata": {},
   "outputs": [],
   "source": [
    "\n",
    "def solution(p,cnt):\n",
    "    print('start : ',cnt,', p : ' ,p)\n",
    "    \n",
    "    if p == '' : return ''  \n",
    "    \n",
    "    u,v = divide(p)\n",
    "    print('u : ',u,', v :', v, ',cnt : ',cnt,p)\n",
    "    if not check(u) :                        \n",
    "        v = '(' + solution(v, cnt +1) + ')' + change(u)\n",
    "        u = ''\n",
    "    \n",
    "    \n",
    "    return u + solution(v,cnt +1)"
   ]
  },
  {
   "cell_type": "code",
   "execution_count": 87,
   "metadata": {},
   "outputs": [],
   "source": [
    "\n",
    "def solution(p,cnt):\n",
    "    if p == '' : \n",
    "        return ''  \n",
    "    else :\n",
    "        u,v = divide(p)\n",
    "        if not check(u) :                        \n",
    "            return '(' + solution(v, cnt +1) + ')' + change(u)\n",
    "        else :   \n",
    "            return u + solution(v,cnt +1)\n",
    "    \n",
    "    "
   ]
  },
  {
   "cell_type": "code",
   "execution_count": 88,
   "metadata": {},
   "outputs": [
    {
     "data": {
      "text/plain": [
       "'(((())))'"
      ]
     },
     "execution_count": 88,
     "metadata": {},
     "output_type": "execute_result"
    }
   ],
   "source": [
    "solution(\")()()()(\",0)"
   ]
  },
  {
   "cell_type": "code",
   "execution_count": 81,
   "metadata": {},
   "outputs": [
    {
     "name": "stdout",
     "output_type": "stream",
     "text": [
      "start :  0 , p :  )()()()(\n",
      "u :  )( , v : )()()( ,cnt :  0 )()()()(\n",
      "start :  1 , p :  )()()(\n",
      "u :  )( , v : )()( ,cnt :  1 )()()(\n",
      "start :  2 , p :  )()(\n",
      "u :  )( , v : )( ,cnt :  2 )()(\n",
      "start :  3 , p :  )(\n",
      "u :  )( , v :  ,cnt :  3 )(\n",
      "start :  4 , p :  \n"
     ]
    },
    {
     "data": {
      "text/plain": [
       "'(((())))'"
      ]
     },
     "execution_count": 81,
     "metadata": {},
     "output_type": "execute_result"
    }
   ],
   "source": [
    "solution(\")()()()(\",0)"
   ]
  },
  {
   "cell_type": "code",
   "execution_count": 82,
   "metadata": {},
   "outputs": [
    {
     "name": "stdout",
     "output_type": "stream",
     "text": [
      "start :  0 , p :  ()))((()\n",
      "u :  () , v : ))((() ,cnt :  0 ()))((()\n",
      "start :  1 , p :  ))((()\n",
      "u :  ))(( , v : () ,cnt :  1 ))((()\n",
      "start :  2 , p :  ()\n",
      "u :  () , v :  ,cnt :  2 ()\n",
      "start :  3 , p :  \n"
     ]
    },
    {
     "data": {
      "text/plain": [
       "'()(())()'"
      ]
     },
     "execution_count": 82,
     "metadata": {},
     "output_type": "execute_result"
    }
   ],
   "source": [
    "solution(\"()))((()\",0)"
   ]
  },
  {
   "cell_type": "code",
   "execution_count": 83,
   "metadata": {},
   "outputs": [
    {
     "name": "stdout",
     "output_type": "stream",
     "text": [
      "start :  0 , p :  ()))((()\n",
      "u :  () , v : ))((() ,cnt :  0 ()))((()\n",
      "start :  1 , p :  ))((()\n",
      "u :  ))(( , v : () ,cnt :  1 ))((()\n",
      "start :  2 , p :  ()\n",
      "u :  () , v :  ,cnt :  2 ()\n",
      "start :  3 , p :  \n"
     ]
    },
    {
     "data": {
      "text/plain": [
       "'()(())()'"
      ]
     },
     "execution_count": 83,
     "metadata": {},
     "output_type": "execute_result"
    }
   ],
   "source": [
    "solution(\"()))((()\",0)"
   ]
  },
  {
   "cell_type": "code",
   "execution_count": 84,
   "metadata": {},
   "outputs": [],
   "source": [
    "a= 'sdf'"
   ]
  },
  {
   "cell_type": "code",
   "execution_count": 70,
   "metadata": {},
   "outputs": [
    {
     "data": {
      "text/plain": [
       "'f'"
      ]
     },
     "execution_count": 70,
     "metadata": {},
     "output_type": "execute_result"
    }
   ],
   "source": [
    "a[2:3]"
   ]
  },
  {
   "cell_type": "code",
   "execution_count": null,
   "metadata": {},
   "outputs": [],
   "source": []
  }
 ],
 "metadata": {
  "kernelspec": {
   "display_name": "Python 3",
   "language": "python",
   "name": "python3"
  },
  "language_info": {
   "codemirror_mode": {
    "name": "ipython",
    "version": 3
   },
   "file_extension": ".py",
   "mimetype": "text/x-python",
   "name": "python",
   "nbconvert_exporter": "python",
   "pygments_lexer": "ipython3",
   "version": "3.7.4"
  }
 },
 "nbformat": 4,
 "nbformat_minor": 2
}
