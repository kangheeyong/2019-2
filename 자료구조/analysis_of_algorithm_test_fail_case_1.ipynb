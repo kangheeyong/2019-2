{
 "cells": [
  {
   "cell_type": "markdown",
   "metadata": {},
   "source": [
    "# 알고리즘 테스트 풀이 방법\n",
    "1. 문제분석\n",
    "    - 문제 유형을 알아야 한다(ex. DFSm BFS, DP...)\n",
    "2. 프로그래밍\n",
    "    - 프로그래밍에 사용되는 자료구조를 정확히 파악하야 한다"
   ]
  },
  {
   "cell_type": "markdown",
   "metadata": {},
   "source": [
    "1. 1번 and 2번 case가 실패한 경우\n",
    "    - 전체 코드를 수정해야함\n",
    "- 1번 case가 실패한 경우\n",
    "    - 전체 코드를 수정해야함\n",
    "- 2번 case가 실패한 경우 \n",
    "    - 일부 자료구조만 수정해야함\n",
    "- 1번 and 2번 case가 완벽한 경우\n",
    "    - 통과"
   ]
  },
  {
   "cell_type": "markdown",
   "metadata": {},
   "source": [
    "실제 테스트에서는 문제 분석을 실패할 ㅅ"
   ]
  },
  {
   "cell_type": "code",
   "execution_count": 1,
   "metadata": {},
   "outputs": [],
   "source": [
    "def union_get(dic, i) : \n",
    "    if dic[i] == i : return i\n",
    "    else : return union_get(dic,dic[i])\n",
    "\n",
    "def union_comp(dic, x, y) :  \n",
    "    if union_get(dic,x) == union_get(dic,y) : return True\n",
    "    else : return False\n",
    "\n",
    "def union_merge(dic, x, y) : \n",
    "    x_ = union_get(dic,x)\n",
    "    y_ = union_get(dic,y)\n",
    "    \n",
    "    if x_< y_ : dic[y_] = x_ \n",
    "    else : dic[x_] = y_"
   ]
  },
  {
   "cell_type": "code",
   "execution_count": 2,
   "metadata": {},
   "outputs": [],
   "source": [
    "def solution(n, computers): # 성공한 경우, 4번 case\n",
    "    list = []\n",
    "    dic = {}\n",
    "    \n",
    "    for i in range(0,n) :\n",
    "        dic[i] =i\n",
    "    for idx,v in enumerate(computers) :\n",
    "        v[idx] = 0  \n",
    "    for idx,v in enumerate(computers) :\n",
    "        for cnt,p in enumerate(v) :\n",
    "            if p == 1 : \n",
    "                list.append([idx,cnt])\n",
    "                computers[cnt][idx] = 0\n",
    "    \n",
    "    for x,y in list :\n",
    "        if union_comp(dic,x,y) == False :\n",
    "            union_merge(dic, x, y)\n",
    "    print(dic)\n",
    "    print(list)\n",
    "    \n",
    "    temp = []\n",
    "    for key in dic.keys() :\n",
    "        temp.append(union_get(dic,key))\n",
    "        #temp.append(dic[key])\n",
    "    answer = len(set(temp))\n",
    "    return answer"
   ]
  },
  {
   "cell_type": "code",
   "execution_count": null,
   "metadata": {},
   "outputs": [],
   "source": []
  },
  {
   "cell_type": "code",
   "execution_count": null,
   "metadata": {},
   "outputs": [],
   "source": []
  },
  {
   "cell_type": "code",
   "execution_count": 6,
   "metadata": {},
   "outputs": [],
   "source": [
    "def solution(n, computers): # 실패한 경우, 3번 case\n",
    "    list = []\n",
    "    dic = {}\n",
    "    \n",
    "    for i in range(0,n) :\n",
    "        dic[i] =i\n",
    "    for idx,v in enumerate(computers) :\n",
    "        v[idx] = 0  \n",
    "    for idx,v in enumerate(computers) :\n",
    "        for cnt,p in enumerate(v) :\n",
    "            if p == 1 : \n",
    "                list.append([idx,cnt])\n",
    "                computers[cnt][idx] = 0\n",
    "    \n",
    "    for x,y in list :\n",
    "        if union_comp(dic,x,y) == False :\n",
    "            union_merge(dic, x, y)\n",
    "    print(dic)\n",
    "    print(list)\n",
    "    \n",
    "    temp = []\n",
    "    for key in dic.keys() :\n",
    "        #temp.append(union_get(dic,key))\n",
    "        temp.append(dic[key])\n",
    "\n",
    "    answer = len(set(temp))\n",
    "    return answer"
   ]
  },
  {
   "cell_type": "code",
   "execution_count": null,
   "metadata": {},
   "outputs": [],
   "source": []
  },
  {
   "cell_type": "code",
   "execution_count": 4,
   "metadata": {},
   "outputs": [
    {
     "name": "stdout",
     "output_type": "stream",
     "text": [
      "{0: 0, 1: 0, 2: 2}\n",
      "[[0, 1]]\n"
     ]
    },
    {
     "data": {
      "text/plain": [
       "2"
      ]
     },
     "execution_count": 4,
     "metadata": {},
     "output_type": "execute_result"
    }
   ],
   "source": [
    "solution(3, [[1, 1, 0], [1, 1, 0], [0, 0, 1]]) #답 2"
   ]
  },
  {
   "cell_type": "code",
   "execution_count": 7,
   "metadata": {},
   "outputs": [
    {
     "name": "stdout",
     "output_type": "stream",
     "text": [
      "{0: 0, 1: 0, 2: 0, 3: 1}\n",
      "[[0, 2], [1, 3], [2, 3], [3, 0]]\n"
     ]
    },
    {
     "data": {
      "text/plain": [
       "2"
      ]
     },
     "execution_count": 7,
     "metadata": {},
     "output_type": "execute_result"
    }
   ],
   "source": [
    "solution(4,[[1, 0, 1, 0], [0, 1, 0, 1], [1, 0, 1, 1], [1, 1, 0, 1]]) #답1"
   ]
  },
  {
   "cell_type": "code",
   "execution_count": null,
   "metadata": {},
   "outputs": [],
   "source": []
  }
 ],
 "metadata": {
  "kernelspec": {
   "display_name": "Python 3",
   "language": "python",
   "name": "python3"
  },
  "language_info": {
   "codemirror_mode": {
    "name": "ipython",
    "version": 3
   },
   "file_extension": ".py",
   "mimetype": "text/x-python",
   "name": "python",
   "nbconvert_exporter": "python",
   "pygments_lexer": "ipython3",
   "version": "3.7.4"
  }
 },
 "nbformat": 4,
 "nbformat_minor": 2
}
