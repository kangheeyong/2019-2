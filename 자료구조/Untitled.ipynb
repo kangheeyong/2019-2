{
 "cells": [
  {
   "cell_type": "code",
   "execution_count": null,
   "metadata": {},
   "outputs": [],
   "source": []
  },
  {
   "cell_type": "code",
   "execution_count": null,
   "metadata": {},
   "outputs": [],
   "source": []
  },
  {
   "cell_type": "code",
   "execution_count": 7,
   "metadata": {},
   "outputs": [],
   "source": [
    "입력 =\"\"\"3\n",
    "222\n",
    "444\n",
    "888\"\"\""
   ]
  },
  {
   "cell_type": "code",
   "execution_count": 10,
   "metadata": {},
   "outputs": [],
   "source": [
    "입력 =\"\"\"3\n",
    "200\n",
    "020\n",
    "000\"\"\""
   ]
  },
  {
   "cell_type": "code",
   "execution_count": 11,
   "metadata": {},
   "outputs": [
    {
     "name": "stdout",
     "output_type": "stream",
     "text": [
      "3 [[2, 0, 0], [0, 2, 0], [0, 0, 0]]\n"
     ]
    }
   ],
   "source": [
    "\n",
    "\n",
    "\n",
    "#N = int(input())\n",
    "#data = [list(map(int,input().split())) for _ in range(N)]\n",
    "\n",
    "\n",
    "\n",
    "print(N,data)"
   ]
  },
  {
   "cell_type": "code",
   "execution_count": null,
   "metadata": {},
   "outputs": [],
   "source": [
    "def move(data,direction) : \n",
    "    size = len(data)\n",
    "    if direction == 'U' :\n",
    "        "
   ]
  },
  {
   "cell_type": "code",
   "execution_count": null,
   "metadata": {},
   "outputs": [],
   "source": [
    "data = 입력.split()\n",
    "N = int(data.pop(0))\n",
    "data = [list(map(int,p)) for p in data]\n",
    "\n",
    "\n",
    "from collections import deque\n",
    "\n",
    "q = deque()\n",
    "def get(i, j):\n",
    "    if data[i][j]:\n",
    "        q.append(a[i][j])\n",
    "        data[i][j] = 0\n",
    "\n",
    "for i in range()\n",
    "\n",
    "\n",
    "\n"
   ]
  },
  {
   "cell_type": "code",
   "execution_count": null,
   "metadata": {},
   "outputs": [],
   "source": []
  },
  {
   "cell_type": "code",
   "execution_count": null,
   "metadata": {},
   "outputs": [],
   "source": []
  },
  {
   "cell_type": "code",
   "execution_count": null,
   "metadata": {},
   "outputs": [],
   "source": []
  },
  {
   "cell_type": "markdown",
   "metadata": {},
   "source": []
  },
  {
   "cell_type": "code",
   "execution_count": null,
   "metadata": {},
   "outputs": [],
   "source": [
    "def solution(K, travel):\n",
    "    \n",
    "    a = travel.pop()\n",
    "    before = set()\n",
    "    before.add((a[0],a[1]))\n",
    "    before.add((a[2],a[3]))\n",
    "    for w, w_coin, b, b_coin in travel :\n",
    "        temp = set()\n",
    "        for a, a_coin in before :\n",
    "            if a+w <= K :\n",
    "                temp.add((a+w,w_coin + a_coin))\n",
    "            if a+b <= K :\n",
    "                temp.add((a+b,b_coin + a_coin))\n",
    "        #print(sorted(temp, key = lambda x :-x[1]))\n",
    "        before = temp\n",
    "    \n",
    "    before = sorted(before, key = lambda x :-x[1])\n",
    "    answer = before[0][1]\n",
    "    return answer"
   ]
  },
  {
   "cell_type": "code",
   "execution_count": 183,
   "metadata": {},
   "outputs": [],
   "source": [
    "def solution(K, travel):\n",
    "    \n",
    "    w, w_coin, b, b_coin = travel.pop()\n",
    "    before = {w:w_coin, b : b_coin}\n",
    "\n",
    "    for w, w_coin, b, b_coin in travel :\n",
    "        temp = {}\n",
    "        for a in before :\n",
    "            \n",
    "            if a+w <= K :\n",
    "                if a+w in temp :\n",
    "                    temp[a+w] = max(temp[a+w],before[a]+w_coin)\n",
    "                else :\n",
    "                    temp[a+w] = before[a]+w_coin\n",
    "            if a+b <= K :\n",
    "                if a+b in temp :\n",
    "                    temp[a+b] = max(temp[a+b],before[a]+b_coin)\n",
    "                else :\n",
    "                    temp[a+b] = before[a]+b_coin\n",
    "    \n",
    "        before = temp\n",
    "    \n",
    "\n",
    "    answer = max(before.values())\n",
    "    return answer"
   ]
  },
  {
   "cell_type": "code",
   "execution_count": 208,
   "metadata": {},
   "outputs": [],
   "source": [
    "def solution(K, travel):\n",
    "    \n",
    "    w_time, w_coin, b_time, b_coin = travel.pop()\n",
    "    \n",
    "    before = {w_time : w_coin, b_time : b_coin}\n",
    "\n",
    "    for w_time, w_coin, b_time, b_coin in travel :\n",
    "        temp = {}\n",
    "        for a_time in before :\n",
    "            a_coin = before[a_time]\n",
    "            \n",
    "            if a_time+w_time <= K :\n",
    "                temp[a_time+w_time] = max(temp[a_time+w_time],a_coin+w_coin) if a_time+w_time in temp else a_coin+w_coin\n",
    "            \n",
    "            if a_time+b_time <= K :\n",
    "                temp[a_time+b_time] = max(temp[a_time+b_time],a_coin+b_coin) if a_time+b_time in temp else a_coin+b_coin\n",
    "    \n",
    "        before = temp\n",
    "    \n",
    "    answer = max(before.values())\n",
    "    return answer"
   ]
  },
  {
   "cell_type": "code",
   "execution_count": 229,
   "metadata": {},
   "outputs": [],
   "source": [
    "def solution(K, travel):\n",
    "    \n",
    "    w_time, w_coin, b_time, b_coin = travel.pop()\n",
    "    \n",
    "    before = {w_time : w_coin, b_time : b_coin}\n",
    "\n",
    "    for w_time, w_coin, b_time, b_coin in travel :\n",
    "        temp = {}\n",
    "        for a_time in before :\n",
    "            a_coin = before[a_time]\n",
    "                \n",
    "            if a_time+w_time <= K :\n",
    "                temp[a_time+w_time] = max(temp.get(a_time+w_time,0),a_coin+w_coin) \n",
    "                 # temp[a_time+w_time] = max(temp[a_time+w_time] if a_time+w_time in temp else 0,a_coin+w_coin) \n",
    "            \n",
    "            if a_time+b_time <= K :\n",
    "                temp[a_time+b_time] = max(temp.get(a_time+b_time,0),a_coin+b_coin) \n",
    "                # temp[a_time+b_time] = max(temp[a_time+b_time] if a_time+b_time in temp else 0,a_coin+b_coin) \n",
    "                \n",
    "        before = temp\n",
    "    \n",
    "    answer = max(before.values())\n",
    "    return answer"
   ]
  },
  {
   "cell_type": "code",
   "execution_count": 223,
   "metadata": {},
   "outputs": [],
   "source": [
    "def dp(K,layers,data,memory) : \n",
    "    \n",
    "    if layers == 0 :\n",
    "        temp = {data[0][0] : data[0][1], data[0][2] : data[0][3]}\n",
    "    \n",
    "    else : \n",
    "        if layers-1 not in memory :\n",
    "            dp(K,layers-1,data,memory)\n",
    "        \n",
    "        w_time, w_coin, b_time, b_coin = data[layers]\n",
    "        \n",
    "        temp = {}\n",
    "        for a_time in memory[layers-1] :\n",
    "            a_coin = memory[layers-1][a_time]\n",
    "            \n",
    "            if a_time+w_time <= K :\n",
    "                temp[a_time+w_time] = max(temp.get(a_time+w_time,0),a_coin+w_coin) \n",
    "                # temp[a_time+w_time] = max(temp[a_time+w_time] if a_time+w_time in temp else 0,a_coin+w_coin) \n",
    "            if a_time+b_time <= K :\n",
    "                temp[a_time+b_time] = max(temp.get(a_time+b_time,0),a_coin+b_coin) \n",
    "                # temp[a_time+b_time] = max(temp[a_time+b_time] if a_time+b_time in temp else 0,a_coin+b_coin) \n",
    "        \n",
    "    memory[layers] = temp\n",
    "    \n",
    "    return temp\n",
    "\n",
    "def solution(K, travel):\n",
    "    \n",
    "    \n",
    "    memory = {}\n",
    "    temp = dp(K,len(travel)-1,travel,memory)\n",
    "    answer = max(temp.values())\n",
    "    return answer"
   ]
  },
  {
   "cell_type": "code",
   "execution_count": 210,
   "metadata": {},
   "outputs": [],
   "source": [
    "\n",
    "def solution(K, travel):\n",
    "\n",
    "    before = [0 for _ in range(K+1)]\n",
    "    \n",
    "    for w_time, w_coin, b_time, b_coin in travel :\n",
    "        temp = [0 for _ in range(K+1)]\n",
    "\n",
    "        for idx in range(0,K+1) :\n",
    "            \n",
    "            x1 = before[idx-w_time] + w_coin if idx >= w_time and before[idx-w_time] != -1 else -1\n",
    "            x2 = before[idx-b_time] + b_coin if idx >= b_time and before[idx-b_time] != -1 else -1\n",
    "            temp[idx] = max(x1,x2)\n",
    "\n",
    "        before=temp\n",
    "\n",
    "    answer = before[K]\n",
    "    return answer"
   ]
  },
  {
   "cell_type": "code",
   "execution_count": 230,
   "metadata": {},
   "outputs": [
    {
     "data": {
      "text/plain": [
       "660"
      ]
     },
     "execution_count": 230,
     "metadata": {},
     "output_type": "execute_result"
    }
   ],
   "source": [
    "solution(1650,[[500, 200, 200, 100], [800, 370, 300, 120], [700, 250, 300, 90]])"
   ]
  },
  {
   "cell_type": "code",
   "execution_count": 101,
   "metadata": {},
   "outputs": [
    {
     "name": "stdout",
     "output_type": "stream",
     "text": [
      "[(2100, 4100), (1600, 3000), (1400, 3000), (900, 1900)]\n",
      "[(2500, 5000), (2500, 4900), (2700, 4900), (2000, 3900), (1800, 3900), (2000, 3800), (1300, 2800)]\n",
      "[(3000, 5900), (2800, 5900), (3000, 5800), (2800, 5700), (2800, 5600), (3000, 5600), (2300, 4800), (2100, 4600), (2300, 4600), (2300, 4500), (1600, 3500)]\n"
     ]
    },
    {
     "data": {
      "text/plain": [
       "5900"
      ]
     },
     "execution_count": 101,
     "metadata": {},
     "output_type": "execute_result"
    }
   ],
   "source": [
    "solution(3000,[[1000, 2000, 300, 700], [1100, 1900, 400, 900], [900, 1800, 400, 700], [1200, 2300, 500, 1200]])"
   ]
  },
  {
   "cell_type": "code",
   "execution_count": 160,
   "metadata": {},
   "outputs": [],
   "source": [
    "def solution(K, travel):\n",
    "    \n",
    "    cache = [-1 for __ in range(K+1)]\n",
    "    for w_time, w_coin, b_time, b_coin in travel :\n",
    "        temp = [-1 for __ in range(K+1)]\n",
    "        temp1 = [-1 for __ in range(K+1)]\n",
    "        for k in range(K+1) :\n",
    "            print(k,k-w_time)\n",
    "            if k >= w_time : \n",
    "                temp[k] = w_coin\n",
    "                temp1[k] = cache[k-w_time]\n",
    "                \n",
    "        print('temp : ',temp)\n",
    "        print('befo : ',temp1)\n",
    "        cache = temp\n",
    "        \n",
    "    answer = 0\n",
    "    return answer"
   ]
  },
  {
   "cell_type": "code",
   "execution_count": 161,
   "metadata": {},
   "outputs": [
    {
     "name": "stdout",
     "output_type": "stream",
     "text": [
      "0 -3\n",
      "1 -2\n",
      "2 -1\n",
      "3 0\n",
      "4 1\n",
      "5 2\n",
      "6 3\n",
      "7 4\n",
      "8 5\n",
      "9 6\n",
      "10 7\n",
      "11 8\n",
      "12 9\n",
      "13 10\n",
      "14 11\n",
      "15 12\n",
      "16 13\n",
      "17 14\n",
      "18 15\n",
      "19 16\n",
      "20 17\n",
      "temp :  [-1, -1, -1, 2, 2, 2, 2, 2, 2, 2, 2, 2, 2, 2, 2, 2, 2, 2, 2, 2, 2]\n",
      "befo :  [-1, -1, -1, -1, -1, -1, -1, -1, -1, -1, -1, -1, -1, -1, -1, -1, -1, -1, -1, -1, -1]\n",
      "0 -8\n",
      "1 -7\n",
      "2 -6\n",
      "3 -5\n",
      "4 -4\n",
      "5 -3\n",
      "6 -2\n",
      "7 -1\n",
      "8 0\n",
      "9 1\n",
      "10 2\n",
      "11 3\n",
      "12 4\n",
      "13 5\n",
      "14 6\n",
      "15 7\n",
      "16 8\n",
      "17 9\n",
      "18 10\n",
      "19 11\n",
      "20 12\n",
      "temp :  [-1, -1, -1, -1, -1, -1, -1, -1, 3, 3, 3, 3, 3, 3, 3, 3, 3, 3, 3, 3, 3]\n",
      "befo :  [-1, -1, -1, -1, -1, -1, -1, -1, -1, -1, -1, 2, 2, 2, 2, 2, 2, 2, 2, 2, 2]\n"
     ]
    },
    {
     "data": {
      "text/plain": [
       "0"
      ]
     },
     "execution_count": 161,
     "metadata": {},
     "output_type": "execute_result"
    }
   ],
   "source": [
    "solution(20,[[3, 2, 3, 7],[8, 3, 3, 1]])"
   ]
  },
  {
   "cell_type": "code",
   "execution_count": 153,
   "metadata": {},
   "outputs": [],
   "source": [
    "a = [0, 0, 0, 2, 2, 2, 2, 2, 2, 2, 2, 2, 2, 2, 2, 2, 2, 2, 2, 2, 2]"
   ]
  },
  {
   "cell_type": "code",
   "execution_count": 157,
   "metadata": {},
   "outputs": [
    {
     "data": {
      "text/plain": [
       "2"
      ]
     },
     "execution_count": 157,
     "metadata": {},
     "output_type": "execute_result"
    }
   ],
   "source": [
    "a[-7]"
   ]
  },
  {
   "cell_type": "code",
   "execution_count": null,
   "metadata": {},
   "outputs": [],
   "source": []
  },
  {
   "cell_type": "code",
   "execution_count": null,
   "metadata": {},
   "outputs": [],
   "source": []
  },
  {
   "cell_type": "code",
   "execution_count": null,
   "metadata": {},
   "outputs": [],
   "source": []
  },
  {
   "cell_type": "code",
   "execution_count": 131,
   "metadata": {},
   "outputs": [],
   "source": [
    "import copy\n",
    "def solution(K, travel):\n",
    "    travel = sorted(travel, key = lambda x :(-x[0],-x[2]))\n",
    "    before = [0 for _ in range(K+1)]\n",
    "    \n",
    "    for w, w_coin, b, b_coin in travel :\n",
    "        temp = [0 for _ in range(K+1)]\n",
    "        #print(temp)\n",
    "        for idx in range(0,K+1) :\n",
    "            \n",
    "            x1 = before[idx-w] + w_coin if idx >= w and before[idx-w] != -1 else -1\n",
    "            x2 = before[idx-b] + b_coin if idx >= b and before[idx-b] != -1 else -1\n",
    "            #print(idx,x1,x2,b,b_coin,idx >= b , before[idx-b]!= -1)\n",
    "            temp[idx] = max(x1,x2)\n",
    "        #print(temp)\n",
    "        #print(before)\n",
    "        #print('\\n\\n\\n')\n",
    "        before=temp\n",
    "    #print(temp)\n",
    "    answer = before[K]\n",
    "    return answer"
   ]
  },
  {
   "cell_type": "code",
   "execution_count": 132,
   "metadata": {},
   "outputs": [
    {
     "name": "stdout",
     "output_type": "stream",
     "text": [
      "0 -1 -1 2 1 False True\n",
      "1 -1 -1 2 1 False True\n",
      "2 -1 1 2 1 True True\n",
      "3 -1 1 2 1 True True\n",
      "4 -1 1 2 1 True True\n",
      "5 2 1 2 1 True True\n",
      "[-1, -1, 1, 1, 1, 2]\n",
      "[0, 0, 0, 0, 0, 0]\n",
      "\n",
      "\n",
      "\n",
      "\n",
      "0 -1 -1 3 1 False True\n",
      "1 -1 -1 3 1 False True\n",
      "2 -1 -1 3 1 False True\n",
      "3 -1 -1 3 1 True False\n",
      "4 -1 -1 3 1 True False\n",
      "5 -1 2 3 1 True True\n",
      "[-1, -1, -1, -1, -1, 2]\n",
      "[-1, -1, 1, 1, 1, 2]\n",
      "\n",
      "\n",
      "\n",
      "\n",
      "0 -1 -1 3 7 False False\n",
      "1 -1 -1 3 7 False False\n",
      "2 -1 -1 3 7 False True\n",
      "3 -1 -1 3 7 True False\n",
      "4 -1 -1 3 7 True False\n",
      "5 -1 -1 3 7 True False\n",
      "[-1, -1, -1, -1, -1, -1]\n",
      "[-1, -1, -1, -1, -1, 2]\n",
      "\n",
      "\n",
      "\n",
      "\n"
     ]
    },
    {
     "data": {
      "text/plain": [
       "-1"
      ]
     },
     "execution_count": 132,
     "metadata": {},
     "output_type": "execute_result"
    }
   ],
   "source": [
    "solution(5,[[5, 2, 2, 1], [8, 3, 3, 1], [7, 2, 3, 7]])  \n",
    "\n"
   ]
  },
  {
   "cell_type": "code",
   "execution_count": 162,
   "metadata": {},
   "outputs": [],
   "source": [
    "def solution(K, travel):\n",
    "    n=len(travel)\n",
    "\n",
    "    memo=[[0 for j in range(K+1)] for x in range(n+1)] \n",
    "\n",
    "\n",
    "    for i in range(1,n+1):\n",
    "        t_walk,v_walk,t_bike,v_bike=travel[i-1]\n",
    "\n",
    "        for j in range(K+1):\n",
    "            #walk\n",
    "            walk=memo[i-1][j-t_walk]+v_walk if j>=t_walk and memo[i-1][j-t_walk] != -1 else -1\n",
    "            bike=memo[i-1][j-t_bike]+v_bike if j>=t_bike and memo[i-1][j-t_bike] != -1 else -1\n",
    "\n",
    "            memo[i][j]=max(walk,bike)\n",
    "    print(memo[3])\n",
    "    return  memo[n][K]"
   ]
  },
  {
   "cell_type": "code",
   "execution_count": 163,
   "metadata": {},
   "outputs": [
    {
     "name": "stdout",
     "output_type": "stream",
     "text": [
      "[-1, -1, -1, -1, -1, -1, -1, -1, -1, -1, -1, -1, -1, -1, -1, -1, -1, -1, -1, -1, -1, -1, -1, -1, -1, -1, -1, -1, -1, -1, -1, -1, -1, -1, -1, -1, -1, -1, -1, -1, -1, -1, -1, -1, -1, -1, -1, -1, -1, -1, -1, -1, -1, -1, -1, -1, -1, -1, -1, -1, -1, -1, -1, -1, -1, -1, -1, -1, -1, -1, -1, -1, -1, -1, -1, -1, -1, -1, -1, -1, -1, -1, -1, -1, -1, -1, -1, -1, -1, -1, -1, -1, -1, -1, -1, -1, -1, -1, -1, -1, -1, -1, -1, -1, -1, -1, -1, -1, -1, -1, -1, -1, -1, -1, -1, -1, -1, -1, -1, -1, -1, -1, -1, -1, -1, -1, -1, -1, -1, -1, -1, -1, -1, -1, -1, -1, -1, -1, -1, -1, -1, -1, -1, -1, -1, -1, -1, -1, -1, -1, -1, -1, -1, -1, -1, -1, -1, -1, -1, -1, -1, -1, -1, -1, -1, -1, -1, -1, -1, -1, -1, -1, -1, -1, -1, -1, -1, -1, -1, -1, -1, -1, -1, -1, -1, -1, -1, -1, -1, -1, -1, -1, -1, -1, -1, -1, -1, -1, -1, -1, -1, -1, -1, -1, -1, -1, -1, -1, -1, -1, -1, -1, -1, -1, -1, -1, -1, -1, -1, -1, -1, -1, -1, -1, -1, -1, -1, -1, -1, -1, -1, -1, -1, -1, -1, -1, -1, -1, -1, -1, -1, -1, -1, -1, -1, -1, -1, -1, -1, -1, -1, -1, -1, -1, -1, -1, -1, -1, -1, -1, -1, -1, -1, -1, -1, -1, -1, -1, -1, -1, -1, -1, -1, -1, -1, -1, -1, -1, -1, -1, -1, -1, -1, -1, -1, -1, -1, -1, -1, -1, -1, -1, -1, -1, -1, -1, -1, -1, -1, -1, -1, -1, -1, -1, -1, -1, -1, -1, -1, -1, -1, -1, -1, -1, -1, -1, -1, -1, -1, -1, -1, -1, -1, -1, -1, -1, -1, -1, -1, -1, -1, -1, -1, -1, -1, -1, -1, -1, -1, -1, -1, -1, -1, -1, -1, -1, -1, -1, -1, -1, -1, -1, -1, -1, -1, -1, -1, -1, -1, -1, -1, -1, -1, -1, -1, -1, -1, -1, -1, -1, -1, -1, -1, -1, -1, -1, -1, -1, -1, -1, -1, -1, -1, -1, -1, -1, -1, -1, -1, -1, -1, -1, -1, -1, -1, -1, -1, -1, -1, -1, -1, -1, -1, -1, -1, -1, -1, -1, -1, -1, -1, -1, -1, -1, -1, -1, -1, -1, -1, -1, -1, -1, -1, -1, -1, -1, -1, -1, -1, -1, -1, -1, -1, -1, -1, -1, -1, -1, -1, -1, -1, -1, -1, -1, -1, -1, -1, -1, -1, -1, -1, -1, -1, -1, -1, -1, -1, -1, -1, -1, -1, -1, -1, -1, -1, -1, -1, -1, -1, -1, -1, -1, -1, -1, -1, -1, -1, -1, -1, -1, -1, -1, -1, -1, -1, -1, -1, -1, -1, -1, -1, -1, -1, -1, -1, -1, -1, -1, -1, -1, -1, -1, -1, -1, -1, -1, -1, -1, -1, -1, -1, -1, -1, -1, -1, -1, -1, -1, -1, -1, -1, -1, -1, -1, -1, -1, -1, -1, -1, -1, -1, -1, -1, -1, -1, -1, -1, -1, -1, -1, -1, -1, -1, -1, -1, -1, -1, -1, -1, -1, -1, -1, -1, -1, -1, -1, -1, -1, -1, -1, -1, -1, -1, -1, -1, -1, -1, -1, -1, -1, -1, -1, -1, -1, -1, -1, -1, -1, -1, -1, -1, -1, -1, -1, -1, -1, -1, -1, -1, -1, -1, -1, -1, -1, -1, -1, -1, -1, -1, -1, -1, -1, -1, -1, -1, -1, -1, -1, -1, -1, -1, -1, -1, -1, -1, -1, -1, -1, -1, -1, -1, -1, -1, -1, -1, -1, -1, -1, -1, -1, -1, -1, -1, -1, -1, -1, -1, -1, -1, -1, -1, -1, -1, -1, -1, -1, -1, -1, -1, -1, -1, -1, -1, -1, -1, -1, -1, -1, -1, -1, -1, -1, -1, -1, -1, -1, -1, -1, -1, -1, -1, -1, -1, -1, -1, -1, -1, -1, -1, -1, -1, -1, -1, -1, -1, -1, -1, -1, -1, -1, -1, -1, -1, -1, -1, -1, -1, -1, -1, -1, -1, -1, -1, -1, -1, -1, -1, -1, -1, -1, -1, -1, -1, -1, -1, -1, -1, -1, -1, -1, -1, -1, -1, -1, -1, -1, -1, -1, -1, -1, -1, -1, -1, -1, -1, -1, -1, -1, -1, -1, -1, -1, -1, -1, -1, -1, -1, -1, -1, -1, -1, -1, -1, -1, -1, -1, -1, -1, -1, -1, -1, -1, -1, -1, -1, -1, -1, -1, -1, -1, -1, -1, -1, -1, -1, -1, -1, -1, -1, -1, -1, -1, -1, -1, -1, -1, -1, -1, -1, -1, -1, -1, -1, -1, -1, -1, -1, -1, -1, -1, 310, 310, 310, 310, 310, 310, 310, 310, 310, 310, 310, 310, 310, 310, 310, 310, 310, 310, 310, 310, 310, 310, 310, 310, 310, 310, 310, 310, 310, 310, 310, 310, 310, 310, 310, 310, 310, 310, 310, 310, 310, 310, 310, 310, 310, 310, 310, 310, 310, 310, 310, 310, 310, 310, 310, 310, 310, 310, 310, 310, 310, 310, 310, 310, 310, 310, 310, 310, 310, 310, 310, 310, 310, 310, 310, 310, 310, 310, 310, 310, 310, 310, 310, 310, 310, 310, 310, 310, 310, 310, 310, 310, 310, 310, 310, 310, 310, 310, 310, 310, 310, 310, 310, 310, 310, 310, 310, 310, 310, 310, 310, 310, 310, 310, 310, 310, 310, 310, 310, 310, 310, 310, 310, 310, 310, 310, 310, 310, 310, 310, 310, 310, 310, 310, 310, 310, 310, 310, 310, 310, 310, 310, 310, 310, 310, 310, 310, 310, 310, 310, 310, 310, 310, 310, 310, 310, 310, 310, 310, 310, 310, 310, 310, 310, 310, 310, 310, 310, 310, 310, 310, 310, 310, 310, 310, 310, 310, 310, 310, 310, 310, 310, 310, 310, 310, 310, 310, 310, 310, 310, 310, 310, 310, 310, 310, 310, 310, 310, 310, 310, 310, 310, 310, 310, 310, 310, 310, 310, 310, 310, 310, 310, 310, 310, 310, 310, 310, 310, 310, 310, 310, 310, 310, 310, 310, 310, 310, 310, 310, 310, 310, 310, 310, 310, 310, 310, 310, 310, 310, 310, 310, 310, 310, 310, 310, 310, 310, 310, 310, 310, 310, 310, 310, 310, 310, 310, 310, 310, 310, 310, 310, 310, 310, 310, 310, 310, 310, 310, 310, 310, 310, 310, 310, 310, 310, 310, 310, 310, 310, 310, 310, 310, 310, 310, 310, 310, 310, 310, 310, 310, 310, 310, 310, 310, 310, 310, 310, 310, 310, 310, 410, 410, 410, 410, 410, 410, 410, 410, 410, 410, 410, 410, 410, 410, 410, 410, 410, 410, 410, 410, 410, 410, 410, 410, 410, 410, 410, 410, 410, 410, 410, 410, 410, 410, 410, 410, 410, 410, 410, 410, 410, 410, 410, 410, 410, 410, 410, 410, 410, 410, 410, 410, 410, 410, 410, 410, 410, 410, 410, 410, 410, 410, 410, 410, 410, 410, 410, 410, 410, 410, 410, 410, 410, 410, 410, 410, 410, 410, 410, 410, 410, 410, 410, 410, 410, 410, 410, 410, 410, 410, 410, 410, 410, 410, 410, 410, 410, 410, 410, 410, 470, 470, 470, 470, 470, 470, 470, 470, 470, 470, 470, 470, 470, 470, 470, 470, 470, 470, 470, 470, 470, 470, 470, 470, 470, 470, 470, 470, 470, 470, 470, 470, 470, 470, 470, 470, 470, 470, 470, 470, 470, 470, 470, 470, 470, 470, 470, 470, 470, 470, 470, 470, 470, 470, 470, 470, 470, 470, 470, 470, 470, 470, 470, 470, 470, 470, 470, 470, 470, 470, 470, 470, 470, 470, 470, 470, 470, 470, 470, 470, 470, 470, 470, 470, 470, 470, 470, 470, 470, 470, 470, 470, 470, 470, 470, 470, 470, 470, 470, 470, 560, 560, 560, 560, 560, 560, 560, 560, 560, 560, 560, 560, 560, 560, 560, 560, 560, 560, 560, 560, 560, 560, 560, 560, 560, 560, 560, 560, 560, 560, 560, 560, 560, 560, 560, 560, 560, 560, 560, 560, 560, 560, 560, 560, 560, 560, 560, 560, 560, 560, 560, 560, 560, 560, 560, 560, 560, 560, 560, 560, 560, 560, 560, 560, 560, 560, 560, 560, 560, 560, 560, 560, 560, 560, 560, 560, 560, 560, 560, 560, 560, 560, 560, 560, 560, 560, 560, 560, 560, 560, 560, 560, 560, 560, 560, 560, 560, 560, 560, 560, 560, 560, 560, 560, 560, 560, 560, 560, 560, 560, 560, 560, 560, 560, 560, 560, 560, 560, 560, 560, 560, 560, 560, 560, 560, 560, 560, 560, 560, 560, 560, 560, 560, 560, 560, 560, 560, 560, 560, 560, 560, 560, 560, 560, 560, 560, 560, 560, 560, 560, 560, 560, 560, 560, 560, 560, 560, 560, 560, 560, 560, 560, 560, 560, 560, 560, 560, 560, 560, 560, 560, 560, 560, 560, 560, 560, 560, 560, 560, 560, 560, 560, 560, 560, 560, 560, 560, 560, 560, 560, 560, 560, 560, 560, 560, 560, 560, 560, 560, 560, 570, 570, 570, 570, 570, 570, 570, 570, 570, 570, 570, 570, 570, 570, 570, 570, 570, 570, 570, 570, 570, 570, 570, 570, 570, 570, 570, 570, 570, 570, 570, 570, 570, 570, 570, 570, 570, 570, 570, 570, 570, 570, 570, 570, 570, 570, 570, 570, 570, 570, 570, 570, 570, 570, 570, 570, 570, 570, 570, 570, 570, 570, 570, 570, 570, 570, 570, 570, 570, 570, 570, 570, 570, 570, 570, 570, 570, 570, 570, 570, 570, 570, 570, 570, 570, 570, 570, 570, 570, 570, 570, 570, 570, 570, 570, 570, 570, 570, 570, 570, 660, 660, 660, 660, 660, 660, 660, 660, 660, 660, 660, 660, 660, 660, 660, 660, 660, 660, 660, 660, 660, 660, 660, 660, 660, 660, 660, 660, 660, 660, 660, 660, 660, 660, 660, 660, 660, 660, 660, 660, 660, 660, 660, 660, 660, 660, 660, 660, 660, 660, 660]\n"
     ]
    },
    {
     "data": {
      "text/plain": [
       "660"
      ]
     },
     "execution_count": 163,
     "metadata": {},
     "output_type": "execute_result"
    }
   ],
   "source": [
    "solution(1650,[[500, 200, 200, 100], [800, 370, 300, 120], [700, 250, 300, 90]])"
   ]
  },
  {
   "cell_type": "code",
   "execution_count": 164,
   "metadata": {},
   "outputs": [
    {
     "data": {
      "text/plain": [
       "15"
      ]
     },
     "execution_count": 164,
     "metadata": {},
     "output_type": "execute_result"
    }
   ],
   "source": []
  },
  {
   "cell_type": "code",
   "execution_count": 225,
   "metadata": {},
   "outputs": [],
   "source": [
    "a = {1:333, 4:3434, 3:343434}\n",
    "\n"
   ]
  },
  {
   "cell_type": "code",
   "execution_count": 228,
   "metadata": {},
   "outputs": [
    {
     "data": {
      "text/plain": [
       "0"
      ]
     },
     "execution_count": 228,
     "metadata": {},
     "output_type": "execute_result"
    }
   ],
   "source": [
    "a.get(2,0)"
   ]
  },
  {
   "cell_type": "code",
   "execution_count": 206,
   "metadata": {},
   "outputs": [],
   "source": [
    "x = 1 if 1 ==2 else 0"
   ]
  },
  {
   "cell_type": "code",
   "execution_count": 207,
   "metadata": {},
   "outputs": [
    {
     "data": {
      "text/plain": [
       "0"
      ]
     },
     "execution_count": 207,
     "metadata": {},
     "output_type": "execute_result"
    }
   ],
   "source": [
    "x"
   ]
  },
  {
   "cell_type": "code",
   "execution_count": 245,
   "metadata": {},
   "outputs": [],
   "source": [
    "def solution(n, lost, reserve):\n",
    "    \n",
    "    \n",
    "    \n",
    "    print(set(lost) - set(reserve))\n",
    "      \n",
    "    print(set(reserve) - set(lost))\n",
    "\n",
    "    answer = 0\n",
    "    return answer"
   ]
  },
  {
   "cell_type": "code",
   "execution_count": 246,
   "metadata": {},
   "outputs": [
    {
     "name": "stdout",
     "output_type": "stream",
     "text": [
      "{2}\n",
      "{3}\n"
     ]
    },
    {
     "data": {
      "text/plain": [
       "0"
      ]
     },
     "execution_count": 246,
     "metadata": {},
     "output_type": "execute_result"
    }
   ],
   "source": [
    "solution(5,[2, 4],[3,4])"
   ]
  },
  {
   "cell_type": "code",
   "execution_count": 247,
   "metadata": {},
   "outputs": [],
   "source": [
    "a = set()"
   ]
  },
  {
   "cell_type": "code",
   "execution_count": 248,
   "metadata": {},
   "outputs": [
    {
     "data": {
      "text/plain": [
       "set"
      ]
     },
     "execution_count": 248,
     "metadata": {},
     "output_type": "execute_result"
    }
   ],
   "source": []
  },
  {
   "cell_type": "code",
   "execution_count": 249,
   "metadata": {},
   "outputs": [],
   "source": []
  },
  {
   "cell_type": "code",
   "execution_count": 280,
   "metadata": {},
   "outputs": [],
   "source": [
    "\n",
    "\n",
    "def measure(number,weight,memory) :\n",
    "    \n",
    "    if number == 0 :\n",
    "        temp = set([weight[0]])\n",
    "        memory[number] = temp\n",
    "    else :\n",
    "        if number not in memory : \n",
    "            measure(number-1,weight,memory)     \n",
    "        n = weight[number]\n",
    "        temp=set([n])\n",
    "        for v in memory[number-1] :\n",
    "            temp.add(v + n)   \n",
    "        memory[number] =  temp.union(memory[number-1])\n",
    "    \n",
    "    return temp\n",
    "\n",
    "def solution(weight):\n",
    "    \n",
    "    weight.sort()\n",
    "    memory = {}\n",
    "    #print(weight)\n",
    "\n",
    "    cnt = 1\n",
    "    for idx,v in enumerate(weight) : \n",
    "    \n",
    "        measure(idx,weight,memory)\n",
    "\n",
    "        \n",
    "        while cnt<= v :      \n",
    "            if cnt not in memory[idx] :\n",
    "                return cnt\n",
    "            cnt +=1\n",
    "    while True : \n",
    "        if cnt not in memory[idx] :\n",
    "            break\n",
    "        cnt +=1\n",
    "        \n",
    "    \n",
    "    answer = cnt\n",
    "    return answer"
   ]
  },
  {
   "cell_type": "code",
   "execution_count": 277,
   "metadata": {},
   "outputs": [],
   "source": [
    "def solution(weight):\n",
    "    \n",
    "    \n",
    "    weight.sort()\n",
    "    before = weight[0]\n",
    "    \n",
    "    for v in weight[1:] :    \n",
    "        if before + 1 >= v : \n",
    "            before+=v\n",
    "        else :\n",
    "            break\n",
    "    \n",
    "    return before + 1"
   ]
  },
  {
   "cell_type": "code",
   "execution_count": 281,
   "metadata": {},
   "outputs": [
    {
     "name": "stdout",
     "output_type": "stream",
     "text": [
      "[1, 1, 2, 3, 6, 7, 30]\n"
     ]
    },
    {
     "data": {
      "text/plain": [
       "21"
      ]
     },
     "execution_count": 281,
     "metadata": {},
     "output_type": "execute_result"
    }
   ],
   "source": [
    "solution([3, 1, 6, 2, 7, 30, 1])"
   ]
  },
  {
   "cell_type": "code",
   "execution_count": 282,
   "metadata": {},
   "outputs": [
    {
     "name": "stdout",
     "output_type": "stream",
     "text": [
      "[1, 1, 2, 3, 6, 7, 10, 32]\n"
     ]
    },
    {
     "data": {
      "text/plain": [
       "31"
      ]
     },
     "execution_count": 282,
     "metadata": {},
     "output_type": "execute_result"
    }
   ],
   "source": [
    "solution([3, 1, 6, 2, 7, 10, 1,32])"
   ]
  },
  {
   "cell_type": "code",
   "execution_count": null,
   "metadata": {},
   "outputs": [],
   "source": []
  },
  {
   "cell_type": "markdown",
   "metadata": {},
   "source": []
  },
  {
   "cell_type": "code",
   "execution_count": 31,
   "metadata": {},
   "outputs": [],
   "source": [
    "입력 = \"\"\"3 3\n",
    "1 2 1\n",
    "2 3 2\n",
    "1 3 3\"\"\"\n",
    "\n",
    "\n"
   ]
  },
  {
   "cell_type": "code",
   "execution_count": 27,
   "metadata": {},
   "outputs": [],
   "source": [
    "입력 = \"\"\"1 1\n",
    "1 1 1\"\"\""
   ]
  },
  {
   "cell_type": "code",
   "execution_count": 32,
   "metadata": {},
   "outputs": [
    {
     "name": "stdout",
     "output_type": "stream",
     "text": [
      "3\n"
     ]
    }
   ],
   "source": [
    "data = 입력.split('\\n')\n",
    "\n",
    "V,E = list(map(int,data.pop(0).split()))\n",
    "\n",
    "data = [list(map(int,v.split())) for v in data]\n",
    "\n",
    "#V,E = list(map(int,input().split())) \n",
    "#data = [list(map(int,input().split())) for v in range(E)]\n",
    "#print(V,E,data)\n",
    "\n",
    "\n",
    "\n",
    "def find(dic,x) :\n",
    "    if dic[x] == x : \n",
    "        return x\n",
    "    else :\n",
    "        dic[x] = find(dic,dic[x])\n",
    "        return dic[x]\n",
    "    \n",
    "def union(dic,x,y) :\n",
    "    _x = find(dic,x)\n",
    "    _y = find(dic,y)\n",
    "    \n",
    "    if _x < _y :\n",
    "        dic[_y] = _x\n",
    "    else :\n",
    "        dic[_x] = _y\n",
    "        \n",
    "def check(dic,x,y) :\n",
    "    _x = find(dic,x)\n",
    "    _y = find(dic,y)\n",
    "    \n",
    "    return True if _x == _y else False\n",
    "\n",
    "\n",
    "dic = {}\n",
    "for i in range(1,V+1) : \n",
    "    dic[i] = i\n",
    "\n",
    "answer = 0\n",
    "\n",
    "data.sort(key = lambda x : x[2])\n",
    "\n",
    "for v1, v2, cost in data :\n",
    "    if not check(dic,v1,v2) :\n",
    "        union(dic,v1,v2)\n",
    "        answer += cost\n",
    "print(answer)"
   ]
  },
  {
   "cell_type": "code",
   "execution_count": null,
   "metadata": {},
   "outputs": [],
   "source": []
  },
  {
   "cell_type": "code",
   "execution_count": 57,
   "metadata": {},
   "outputs": [],
   "source": []
  },
  {
   "cell_type": "code",
   "execution_count": null,
   "metadata": {},
   "outputs": [],
   "source": []
  },
  {
   "cell_type": "code",
   "execution_count": 43,
   "metadata": {},
   "outputs": [
    {
     "data": {
      "text/plain": [
       "(2, 1, 1, 0)"
      ]
     },
     "execution_count": 43,
     "metadata": {},
     "output_type": "execute_result"
    }
   ],
   "source": [
    "(max((1,0),(2,1)) + min((1,0),(2,1)))"
   ]
  },
  {
   "cell_type": "code",
   "execution_count": 66,
   "metadata": {},
   "outputs": [],
   "source": [
    "\n",
    "def move(board,curr,dy,dx) :\n",
    "    y1,x1,y2,x2 = curr    \n",
    "    L = len(board)\n",
    "    \n",
    "    if y1+dy in (-1,L)  or x1+dx in (-1,L) or board[y1+dy][x1+dx] == 1\\\n",
    "        or y2+dy in (-1,L) or x2+dx in (-1,L) or board[y2+dy][x2+dx] == 1:\n",
    "        return [(y1,x1,y2,x2)]\n",
    "    else : \n",
    "        return [(y1+dy, x1+dx, y2+dy, x2+dx)]\n",
    "\n",
    "def rotate(board,curr,dy,dx) :\n",
    "    y1,x1,y2,x2 = curr\n",
    "    L = len(board)\n",
    "    \n",
    "    if x1 == x2 and dx != 0:\n",
    "        if y1+dy in (-1,L)  or x1+dx in (-1,L) or y2+dy in (-1,L) or x2+dx in (-1,L)\\\n",
    "            or board[y1+dy][x1+dx] == 1 or board[y2+dy][x2+dx] == 1:\n",
    "            return [(y1,x1,y2,x2)]\n",
    "        else :     \n",
    "            return [(min((y1,x1),(y1,x1+dx)) + max((y1,x1),(y1,x1+dx))),\\\n",
    "                    (min((y2,x2),(y2,x2+dx)) + max((y2,x2),(y2,x2+dx)))]\n",
    "    elif y1 == y2 and dy != 0:\n",
    "        if y1+dy in (-1,L)  or x1+dx in (-1,L) or y2+dy in (-1,L) or x2+dx in (-1,L)\\\n",
    "            or board[y1+dy][x1+dx] == 1 or board[y2+dy][x2+dx] == 1:\n",
    "            return [(y1,x1,y2,x2)]\n",
    "        else :     \n",
    "            return [(min((y1,x1),(y1+dy,x1)) + max((y1,x1),(y1+dy,x1))),\\\n",
    "                    (min((y2,x2),(y2+dy,x2)) + max((y2,x2),(y2+dy,x2)))]\n",
    "    else :\n",
    "        return [(y1,x1,y2,x2)]\n",
    "def make_set(board,curr,used) : \n",
    "\n",
    "    \n",
    "    stack = []    \n",
    "    for direction in [(-1,0),(1,0),(0,-1),(0,1)] :\n",
    "        temp = move(board,curr,*direction)\n",
    "        stack += [v for v in temp if v not in used and v != curr]\n",
    "        used.update(temp)\n",
    "            \n",
    "        temp = rotate(board,curr,*direction)       \n",
    "        stack += [v for v in temp if v not in used and v != curr]\n",
    "        used.update(temp)\n",
    "            \n",
    "    return stack\n",
    "\n"
   ]
  },
  {
   "cell_type": "code",
   "execution_count": 68,
   "metadata": {},
   "outputs": [],
   "source": [
    "\n",
    "def move(board,curr,dy,dx) :\n",
    "    y1,x1,y2,x2 = curr    \n",
    "    L = len(board)\n",
    "    \n",
    "    if y1+dy in (-1,L)  or x1+dx in (-1,L) or board[y1+dy][x1+dx] == 1\\\n",
    "        or y2+dy in (-1,L) or x2+dx in (-1,L) or board[y2+dy][x2+dx] == 1:\n",
    "        return []\n",
    "    else : \n",
    "        return [(y1+dy, x1+dx, y2+dy, x2+dx)]\n",
    "\n",
    "def rotate(board,curr,dy,dx) :\n",
    "    y1,x1,y2,x2 = curr\n",
    "    L = len(board)\n",
    "    \n",
    "    \n",
    "    if y1+dy in (-1,L)  or x1+dx in (-1,L) or y2+dy in (-1,L) or x2+dx in (-1,L)\\\n",
    "        or board[y1+dy][x1+dx] == 1 or board[y2+dy][x2+dx] == 1:\n",
    "        return []\n",
    "    else :     \n",
    "        if x1 == x2 and dx != 0:\n",
    "            return [(min((y1,x1),(y1,x1+dx)) + max((y1,x1),(y1,x1+dx))),\\\n",
    "                    (min((y2,x2),(y2,x2+dx)) + max((y2,x2),(y2,x2+dx)))]\n",
    "        elif y1 == y2 and dy != 0:\n",
    "                 \n",
    "            return [(min((y1,x1),(y1+dy,x1)) + max((y1,x1),(y1+dy,x1))),\\\n",
    "                    (min((y2,x2),(y2+dy,x2)) + max((y2,x2),(y2+dy,x2)))]\n",
    "        else :\n",
    "            return []\n",
    "def make_set(board,curr,used) : \n",
    "\n",
    "    \n",
    "    stack = []    \n",
    "    for direction in [(-1,0),(1,0),(0,-1),(0,1)] :\n",
    "        temp = move(board,curr,*direction)\n",
    "        stack += [v for v in temp if v not in used]\n",
    "        used.update(temp)\n",
    "            \n",
    "        temp = rotate(board,curr,*direction)       \n",
    "        stack += [v for v in temp if v not in used]\n",
    "        used.update(temp)\n",
    "            \n",
    "    return stack"
   ]
  },
  {
   "cell_type": "code",
   "execution_count": null,
   "metadata": {},
   "outputs": [],
   "source": [
    "def move(board,curr,dy,dx) :\n",
    "    y1,x1,y2,x2 = curr    \n",
    "    L = len(board)\n",
    "    \n",
    "    if y1+dy in (-1,L)  or x1+dx in (-1,L) or board[y1+dy][x1+dx] == 1\\\n",
    "        or y2+dy in (-1,L) or x2+dx in (-1,L) or board[y2+dy][x2+dx] == 1:\n",
    "        return [(y1,x1,y2,x2)]\n",
    "    else : \n",
    "        return [(y1+dy, x1+dx, y2+dy, x2+dx)]\n",
    "\n",
    "def rotate(board,curr,dy,dx) :\n",
    "    y1,x1,y2,x2 = curr\n",
    "    L = len(board)\n",
    "       \n",
    "    if x1 == x2 and dx != 0 and x1+dx not in (-1,L) \\\n",
    "        and board[y1][x1+dx] == board[y2][x2+dx] == 0:\n",
    "        \n",
    "        return [(min((y1,x1),(y1,x1+dx)) + max((y1,x1),(y1,x1+dx))),\\\n",
    "                (min((y2,x2),(y2,x2+dx)) + max((y2,x2),(y2,x2+dx)))]\n",
    "    \n",
    "    elif y1 == y2 and dy != 0 and y1+dy not in (-1,L) \\\n",
    "        and board[y1+dy][x1] == board[y2+dy][x2] == 0:\n",
    "        \n",
    "        return [(min((y1,x1),(y1+dy,x1)) + max((y1,x1),(y1+dy,x1))),\\\n",
    "                (min((y2,x2),(y2+dy,x2)) + max((y2,x2),(y2+dy,x2)))]\n",
    "    else :\n",
    "        return [(y1,x1,y2,x2)]\n",
    "    \n",
    "def make_set(board,curr,used) : \n",
    "\n",
    "    \n",
    "    stack = []    \n",
    "    for direction in [(-1,0),(1,0),(0,-1),(0,1)] :\n",
    "        temp = move(board,curr,*direction)\n",
    "        stack += [v for v in temp if v not in used]\n",
    "        used.update(temp)\n",
    "            \n",
    "        temp = rotate(board,curr,*direction)       \n",
    "        stack += [v for v in temp if v not in used]\n",
    "        used.update(temp)\n",
    "            \n",
    "    return stack\n",
    "\n"
   ]
  },
  {
   "cell_type": "code",
   "execution_count": null,
   "metadata": {},
   "outputs": [],
   "source": [
    "def solution(board):\n",
    "    #U = (-1,0)\n",
    "    #D = (1,0)\n",
    "    #L = (0,-1)\n",
    "    #R = (0,1)\n",
    "\n",
    "    \n",
    "    \n",
    "    L = len(board)\n",
    "    curr = [(0,0,0,1)]\n",
    "    used = {(0,0,0,1)}\n",
    "    t = 0 \n",
    "    \n",
    "    while True : \n",
    "        temp = []\n",
    "        \n",
    "        for nxt in curr :\n",
    "            if nxt[2] == L-1 and nxt[3] == L-1 :\n",
    "                return t\n",
    "            temp += make_set(board,nxt,used)\n",
    "\n",
    "        curr = temp\n",
    "        t+=1\n"
   ]
  },
  {
   "cell_type": "code",
   "execution_count": null,
   "metadata": {},
   "outputs": [],
   "source": []
  },
  {
   "cell_type": "code",
   "execution_count": 67,
   "metadata": {},
   "outputs": [
    {
     "data": {
      "text/plain": [
       "7"
      ]
     },
     "execution_count": 67,
     "metadata": {},
     "output_type": "execute_result"
    }
   ],
   "source": [
    "solution([[0, 0, 0, 1, 1], [0, 0, 0, 1, 0], [0, 1, 0, 1, 1], [1, 1, 0, 0, 1], [0, 0, 0, 0, 0]])"
   ]
  },
  {
   "cell_type": "code",
   "execution_count": 64,
   "metadata": {},
   "outputs": [],
   "source": [
    "a = [1,2]"
   ]
  },
  {
   "cell_type": "code",
   "execution_count": 65,
   "metadata": {},
   "outputs": [
    {
     "data": {
      "text/plain": [
       "[1, 2]"
      ]
     },
     "execution_count": 65,
     "metadata": {},
     "output_type": "execute_result"
    }
   ],
   "source": [
    "a+[]"
   ]
  },
  {
   "cell_type": "code",
   "execution_count": 69,
   "metadata": {},
   "outputs": [
    {
     "data": {
      "text/plain": [
       "(2, True)"
      ]
     },
     "execution_count": 69,
     "metadata": {},
     "output_type": "execute_result"
    }
   ],
   "source": [
    "2,3 not in a"
   ]
  },
  {
   "cell_type": "code",
   "execution_count": 71,
   "metadata": {},
   "outputs": [
    {
     "data": {
      "text/plain": [
       "True"
      ]
     },
     "execution_count": 71,
     "metadata": {},
     "output_type": "execute_result"
    }
   ],
   "source": [
    "1 == 1 or 1 == 3"
   ]
  },
  {
   "cell_type": "code",
   "execution_count": null,
   "metadata": {},
   "outputs": [],
   "source": []
  },
  {
   "cell_type": "code",
   "execution_count": null,
   "metadata": {},
   "outputs": [],
   "source": [
    "def solution(n, build_frame):\n",
    "    # x,y => 기둥은 x,y좌표에서 위로 설치, 보는 x,y 기준으로 오른쪽으로 설치\n",
    "    # a => 0이면 기둥, 1이면 보\n",
    "    # b = > 0은 삭제, 1은 설치\n",
    "    build = set()\n",
    "    for x,y,a,b in build_frame :\n",
    "  \n",
    "        if b == 1 : # 설치\n",
    "            if a == 0 :\n",
    "                if y == 0 or (x,y-1,0) in build or (x,y,1) in build or (x-1,y,1) in build  :\n",
    "                    build.add((x,y,a))\n",
    "            else :\n",
    "                cnd1 = (x-1,y,1) in build and (x+1,y,1) in build\n",
    "                if (x,y-1,0) in build or (x+1,y-1,0) in build or cnd1: \n",
    "                    build.add((x,y,a))\n",
    "    \n",
    "        elif b == 0 and (x,y,a) in build:\n",
    "            if a == 0 :\n",
    "                if (x,y+1,1) in build and (x-1,y+1,1) in build :\n",
    "                    build.remove((x,y,a))\n",
    "                elif (x-1,y,0) in build and (x-1,y+1,1) in build :\n",
    "                    build.remove((x,y,a))\n",
    "                elif (x,y+1,1) in build and (x+1,y,0) in build :\n",
    "                    build.remove((x,y,a))\n",
    "                elif (x,y+1,0) not in build :\n",
    "                    build.remove((x,y,a))\n",
    "            else :\n",
    "                cnd1 = (x,y-1,0) in build or (x-1,y-1,0) in build \n",
    "                cnd2 = (x+1,y-1,0) in build or (x+2,y-1,0) in build\n",
    "                if (x-1,y,1) in build and (x+1,y,1) not in build and cnd1 :\n",
    "                    build.remove((x,y,a))\n",
    "                elif (x+1,y,1) in build and (x-1,y,1) not in build and cnd2 :\n",
    "                    build.remove((x,y,a))\n",
    "                elif (x+1,y,1) in build and (x-1,y,1) in build and cnd1 and cnd2 :\n",
    "                    build.remove((x,y,a))\n",
    "            \n",
    "    temp = list(map(list,build))\n",
    "    temp.sort()\n",
    "    #print(temp)\n",
    "\n",
    "    answer = temp\n",
    "    return answer"
   ]
  },
  {
   "cell_type": "code",
   "execution_count": null,
   "metadata": {},
   "outputs": [],
   "source": []
  },
  {
   "cell_type": "code",
   "execution_count": null,
   "metadata": {},
   "outputs": [],
   "source": [
    "def solution(n, build_frame):\n",
    "    # x,y => 기둥은 x,y좌표에서 위로 설치, 보는 x,y 기준으로 오른쪽으로 설치\n",
    "    # a => 0이면 기둥, 1이면 보\n",
    "    # b = > 0은 삭제, 1은 설치\n",
    "    build = set()\n",
    "    for x,y,a,b in build_frame :\n",
    "  \n",
    "        if b == 1 : # 설치\n",
    "            if a == 0 :\n",
    "                if y == 0 or (x,y-1,0) in build or (x,y,1) in build or (x-1,y,1) in build  :\n",
    "                    build.add((x,y,a))\n",
    "            else :\n",
    "                cnd1 = (x-1,y,1) in build and (x+1,y,1) in build\n",
    "                if (x,y-1,0) in build or (x+1,y-1,0) in build or cnd1: \n",
    "                    build.add((x,y,a))\n",
    "    \n",
    "        elif b == 0 and (x,y,a) in build:\n",
    "            if a == 0 :\n",
    "                if (x,y+1,1) in build and (x-1,y+1,1) in build :\n",
    "                    build.remove((x,y,a))\n",
    "                elif (x-1,y,0) in build and (x-1,y+1,1) in build :\n",
    "                    build.remove((x,y,a))\n",
    "                elif (x,y+1,1) in build and (x+1,y,0) in build :\n",
    "                    build.remove((x,y,a))\n",
    "\n",
    "            \n",
    "    temp = list(map(list,build))\n",
    "    temp.sort()\n",
    "    #print(temp)\n",
    "\n",
    "    answer = temp\n",
    "    return answer"
   ]
  },
  {
   "cell_type": "code",
   "execution_count": null,
   "metadata": {},
   "outputs": [],
   "source": [
    "def validity(build,x,y,a) : \n",
    "    \n",
    "    if a == 0 :\n",
    "        if y == 0 or (x,y-1,0) in build or (x,y,1) in build or (x-1,y,1) in build  :\n",
    "            return True\n",
    "        else :\n",
    "            return False\n",
    "    else :\n",
    "        cnd1 = (x-1,y,1) in build and (x+1,y,1) in build\n",
    "        if (x,y-1,0) in build or (x+1,y-1,0) in build or cnd1: \n",
    "            return True\n",
    "        else :\n",
    "            return False\n",
    "    \n",
    "\n",
    "def solution(n, build_frame):\n",
    "    # x,y => 기둥은 x,y좌표에서 위로 설치, 보는 x,y 기준으로 오른쪽으로 설치\n",
    "    # a => 0이면 기둥, 1이면 보\n",
    "    # b = > 0은 삭제, 1은 설치\n",
    "    build = set()\n",
    "    for x,y,a,b in build_frame :\n",
    "  \n",
    "        if b == 1 : # 설치\n",
    "            if validity(build,x,y,a) : \n",
    "                build.add((x,y,a))\n",
    "    \n",
    "        elif b == 0 : # 제거\n",
    "            build.remove((x,y,a))\n",
    "            for _x, _y, _a in build :\n",
    "                if not validity(build,_x,_y,_a) :\n",
    "                    build.add((x,y,a))\n",
    "                    break\n",
    "    temp = list(map(list,build))\n",
    "    temp.sort()\n",
    "    #print(temp)\n",
    "\n",
    "    answer = temp\n",
    "    return answer"
   ]
  },
  {
   "cell_type": "code",
   "execution_count": null,
   "metadata": {},
   "outputs": [],
   "source": [
    "def is_installable(x, y, is_beam, beam_board, pillar_board):\n",
    "    if is_beam:\n",
    "        return (pillar_board[x][y - 1] or pillar_board[x + 1][y - 1]) or ((x >= 1 and beam_board[x - 1][y]) and beam_board[x + 1][y])\n",
    "    else:\n",
    "        return (y == 0) or ((x >= 1 and beam_board[x - 1][y]) or beam_board[x][y]) or pillar_board[x][y - 1]\n",
    "\n",
    "def install(x, y, is_beam, beam_board, pillar_board, is_install):\n",
    "    if is_beam:\n",
    "        beam_board[x][y] = is_install\n",
    "    else:\n",
    "        pillar_board[x][y] = is_install\n",
    "\n",
    "def check_validity(res, beam_board, pillar_board):\n",
    "    for x, y, is_beam in res:\n",
    "        if not is_installable(x, y, is_beam, beam_board, pillar_board):\n",
    "            return False\n",
    "    return True\n",
    "\n",
    "def solution(board_sz, insts):\n",
    "    res = []\n",
    "    beam_board = [[False] * (board_sz + 1) for _ in range(board_sz + 1)]\n",
    "    pillar_board = [[False] * (board_sz + 1) for _ in range(board_sz + 1)]\n",
    "    for x, y, is_beam, is_install in insts:\n",
    "        if is_install:\n",
    "            if is_installable(x, y, is_beam, beam_board, pillar_board):\n",
    "                install(x, y, is_beam, beam_board, pillar_board, is_install)\n",
    "                res.append([x, y, is_beam])\n",
    "        else:\n",
    "            install(x, y, is_beam, beam_board, pillar_board, is_install)\n",
    "            if check_validity(res, beam_board, pillar_board):\n",
    "                res.remove([x, y, is_beam])\n",
    "            else:\n",
    "                install(x, y, is_beam, beam_board, pillar_board, True)\n",
    "    return sorted(res)\n",
    "\n"
   ]
  },
  {
   "cell_type": "code",
   "execution_count": 1,
   "metadata": {},
   "outputs": [
    {
     "ename": "TypeError",
     "evalue": "can only concatenate str (not \"int\") to str",
     "output_type": "error",
     "traceback": [
      "\u001b[0;31m----------------------------------------------------------------------\u001b[0m",
      "\u001b[0;31mTypeError\u001b[0m                            Traceback (most recent call last)",
      "\u001b[0;32m<ipython-input-1-51de2d3bac91>\u001b[0m in \u001b[0;36m<module>\u001b[0;34m\u001b[0m\n\u001b[0;32m----> 1\u001b[0;31m \u001b[0;34m'a'\u001b[0m\u001b[0;34m+\u001b[0m\u001b[0;36m1\u001b[0m\u001b[0;34m\u001b[0m\u001b[0;34m\u001b[0m\u001b[0m\n\u001b[0m",
      "\u001b[0;31mTypeError\u001b[0m: can only concatenate str (not \"int\") to str"
     ]
    }
   ],
   "source": [
    "'a'+1"
   ]
  },
  {
   "cell_type": "code",
   "execution_count": null,
   "metadata": {},
   "outputs": [],
   "source": []
  }
 ],
 "metadata": {
  "kernelspec": {
   "display_name": "Python 3",
   "language": "python",
   "name": "python3"
  },
  "language_info": {
   "codemirror_mode": {
    "name": "ipython",
    "version": 3
   },
   "file_extension": ".py",
   "mimetype": "text/x-python",
   "name": "python",
   "nbconvert_exporter": "python",
   "pygments_lexer": "ipython3",
   "version": "3.7.4"
  }
 },
 "nbformat": 4,
 "nbformat_minor": 2
}
