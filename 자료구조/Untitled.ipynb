{
 "cells": [
  {
   "cell_type": "code",
   "execution_count": null,
   "metadata": {},
   "outputs": [],
   "source": [
    "\n",
    "#https://rebas.kr/789\n"
   ]
  },
  {
   "cell_type": "code",
   "execution_count": null,
   "metadata": {},
   "outputs": [],
   "source": []
  },
  {
   "cell_type": "code",
   "execution_count": null,
   "metadata": {},
   "outputs": [],
   "source": [
    "\n",
    "N = input().split() # N*N Array\n",
    "\n",
    "print(int(N[0])+int(N[1]))\n"
   ]
  },
  {
   "cell_type": "code",
   "execution_count": null,
   "metadata": {},
   "outputs": [],
   "source": []
  },
  {
   "cell_type": "code",
   "execution_count": null,
   "metadata": {},
   "outputs": [],
   "source": []
  },
  {
   "cell_type": "markdown",
   "metadata": {},
   "source": [
    "# 구슬탈출2 https://www.acmicpc.net/problem/13460"
   ]
  },
  {
   "cell_type": "code",
   "execution_count": null,
   "metadata": {},
   "outputs": [],
   "source": []
  },
  {
   "cell_type": "code",
   "execution_count": null,
   "metadata": {},
   "outputs": [],
   "source": [
    "입력 =\"\"\"5 5\n",
    "#####\n",
    "#..B#\n",
    "#.#.#\n",
    "#RO.#\n",
    "#####\"\"\""
   ]
  },
  {
   "cell_type": "code",
   "execution_count": null,
   "metadata": {},
   "outputs": [],
   "source": [
    "입력 = \"\"\"7 7\n",
    "#######\n",
    "#...RB#\n",
    "#.#####\n",
    "#.....#\n",
    "#####.#\n",
    "#O....#\n",
    "#######\"\"\""
   ]
  },
  {
   "cell_type": "code",
   "execution_count": null,
   "metadata": {},
   "outputs": [],
   "source": [
    "입력 = \"\"\"10 10\n",
    "##########\n",
    "#R#...##B#\n",
    "#...#.##.#\n",
    "#####.##.#\n",
    "#......#.#\n",
    "#.######.#\n",
    "#.#....#.#\n",
    "#.#.#.#..#\n",
    "#...#.O#.#\n",
    "##########\"\"\""
   ]
  },
  {
   "cell_type": "code",
   "execution_count": null,
   "metadata": {},
   "outputs": [],
   "source": [
    "입력 =\"\"\"3 7\n",
    "#######\n",
    "#R.O.B#\n",
    "#######\"\"\""
   ]
  },
  {
   "cell_type": "code",
   "execution_count": null,
   "metadata": {},
   "outputs": [],
   "source": [
    "입력 = \"\"\"10 10\n",
    "##########\n",
    "#R#...##B#\n",
    "#...#.##.#\n",
    "#####.##.#\n",
    "#......#.#\n",
    "#.######.#\n",
    "#.#....#.#\n",
    "#.#.##...#\n",
    "#O..#....#\n",
    "##########\"\"\""
   ]
  },
  {
   "cell_type": "code",
   "execution_count": null,
   "metadata": {},
   "outputs": [],
   "source": [
    "입력 =\"\"\"3 10\n",
    "##########\n",
    "#.O....RB#\n",
    "##########\"\"\""
   ]
  },
  {
   "cell_type": "code",
   "execution_count": null,
   "metadata": {},
   "outputs": [],
   "source": []
  },
  {
   "cell_type": "code",
   "execution_count": 1,
   "metadata": {},
   "outputs": [],
   "source": [
    "import copy\n",
    "\n",
    "def base_move(m, direction, coordinate, limit) : \n",
    "    \n",
    "    y,x = limit\n",
    "    \n",
    "    if m[y][x] != 'O' : \n",
    "        m[y][x] = '#'\n",
    "    \n",
    "    y,x = coordinate\n",
    "    if direction == 'U' : \n",
    "        for i in range(y-1, -1, -1) : \n",
    "            if m[i][x] == '#' : return (i+1,x)\n",
    "            elif m[i][x] == 'O'  : return (i,x)\n",
    "    elif direction == 'D' :\n",
    "        for i in range(y+1 , len(m), 1) :\n",
    "            if m[i][x] == '#' : return (i-1,x)\n",
    "            elif m[i][x] == 'O'  : return (i,x)\n",
    "    elif direction == 'L' :\n",
    "        for i in range(x-1 , -1, -1) :\n",
    "            if m[y][i] == '#' : return (y,i+1)\n",
    "            elif m[y][i] == 'O'  : return (y,i)\n",
    "    else :\n",
    "        for i in range(x+1 , len(m[y]), 1) :\n",
    "            if m[y][i] == '#' : return (y,i-1)\n",
    "            elif m[y][i] == 'O'  : return (y,i)\n",
    "\n",
    "def move(m, red, blue, direction) : \n",
    "       \n",
    "    red_y, red_x = red\n",
    "    blue_y, blue_x = blue\n",
    "    \n",
    "    if direction == 'U' :\n",
    "        if red_y < blue_y : \n",
    "            red_ = base_move(m,direction, coordinate = red,limit = blue)\n",
    "            return red_,base_move(m,direction,coordinate = blue,limit = red_)\n",
    "        else :\n",
    "            blue_ = base_move(m,direction,coordinate = blue, limit = red)\n",
    "            return base_move(m,direction,coordinate = red,limit = blue_), blue_\n",
    "    \n",
    "    elif direction == 'D' :\n",
    "        if red_y > blue_y : \n",
    "            red_ = base_move(m,direction, coordinate = red,limit = blue)\n",
    "            return red_,base_move(m,direction,coordinate = blue,limit = red_)\n",
    "        else :\n",
    "            blue_ = base_move(m,direction,coordinate = blue, limit = red)\n",
    "            return base_move(m,direction,coordinate = red,limit = blue_), blue_\n",
    "        \n",
    "    elif direction == 'R' :\n",
    "        if red_x > blue_x : \n",
    "            red_ = base_move(m,direction, coordinate = red,limit = blue)\n",
    "            return red_,base_move(m,direction,coordinate = blue,limit = red_)\n",
    "        else :\n",
    "            blue_ = base_move(m,direction,coordinate = blue, limit = red)\n",
    "            return base_move(m,direction,coordinate = red,limit = blue_), blue_\n",
    "        \n",
    "    else :\n",
    "        if red_x < blue_x : \n",
    "            red_ = base_move(m,direction, coordinate = red,limit = blue)\n",
    "            return red_,base_move(m,direction,coordinate = blue,limit = red_)\n",
    "        else :\n",
    "            blue_ = base_move(m,direction,coordinate = blue, limit = red)\n",
    "            return base_move(m,direction,coordinate = red, limit = blue_), blue_\n",
    "        \n",
    "def make_path(m,red,blue) :\n",
    "    stack = [] # 다음 red, 다음 blue, 다음 갈 수 있는 좌표\n",
    "    \n",
    "    red_,blue_ = move(copy.deepcopy(m),red,blue,'U')    \n",
    "    if red != red_ or blue != blue_ :\n",
    "        stack.append([red_,blue_])\n",
    "    red_,blue_ = move(copy.deepcopy(m),red,blue,'D')    \n",
    "    if red != red_ or blue != blue_:\n",
    "        stack.append([red_,blue_])\n",
    "    red_,blue_ = move(copy.deepcopy(m),red,blue,'L')    \n",
    "    if red != red_ or blue != blue_:\n",
    "        stack.append([red_,blue_])\n",
    "    red_,blue_ = move(copy.deepcopy(m),red,blue,'R')    \n",
    "    if red != red_ or blue != blue_:\n",
    "        stack.append([red_,blue_])\n",
    "    return stack\n",
    "        \n"
   ]
  },
  {
   "cell_type": "code",
   "execution_count": null,
   "metadata": {},
   "outputs": [],
   "source": [
    "data = 입력.split()#input() \n",
    "#data = input().split() \n",
    "hight = int(data.pop(0))\n",
    "width = int(data.pop(0))\n",
    "#data = []\n",
    "#for i in range(0,hight) : data.append(input())\n",
    "\n",
    "\n",
    "for y in range(0,hight) : \n",
    "    data[y] = list(data[y])\n",
    "    for x in range(0,width) :\n",
    "        if data[y][x] == 'R' : \n",
    "            red = (y,x)\n",
    "            data[y][x] = '.'\n",
    "        elif data[y][x] == 'B' : \n",
    "            blue = (y,x)\n",
    "            data[y][x] = '.'\n",
    "        elif data[y][x] == 'O' : hole = (y,x)\n",
    "\n",
    "            \n",
    "\n",
    "used = [red+blue]\n",
    "que = make_path(data,red,blue) \n",
    "cnt = 0\n",
    "\n",
    "\n",
    "#print(red,blue)\n",
    "while cnt > -1 :\n",
    "    cnt +=1\n",
    "    #print('--------------',cnt)\n",
    "    for _ in range(len(que)) :\n",
    "        _red,_blue = que.pop(0)\n",
    "        if _red == hole and _blue != hole : \n",
    "            #print(_red,_blue,_red+_blue not in used,'find')\n",
    "            print(cnt)\n",
    "            cnt = -1\n",
    "            break\n",
    "        elif _blue == hole : continue\n",
    "\n",
    "        elif _red+_blue not in used :\n",
    "            \n",
    "            used.append(_red+_blue)\n",
    "                       \n",
    "            que += make_path(data,_red,_blue) \n",
    "\n",
    "    if  cnt > 9 :\n",
    "        print(-1)\n",
    "        break"
   ]
  },
  {
   "cell_type": "code",
   "execution_count": null,
   "metadata": {},
   "outputs": [],
   "source": [
    "data = 입력.split()#input() \n",
    "#data = input().split() \n",
    "hight = int(data.pop(0))\n",
    "width = int(data.pop(0))\n",
    "#data = []\n",
    "#for i in range(0,hight) : data.append(input())\n",
    "\n",
    "\n",
    "\n",
    "\n",
    "\n",
    "\n",
    "def bfs(data, red, blue,hole) :\n",
    "            \n",
    "\n",
    "    used = {(red+blue)} \n",
    "    #used = set([red+blue])\n",
    "    que = make_path(data,red,blue) \n",
    "    cnt = 1\n",
    "       \n",
    "    while 1 <= cnt < 11 :      \n",
    "              \n",
    "        for _ in range(len(que)) :\n",
    "            _red,_blue = que.pop(0)\n",
    "            if _red == hole and _blue != hole : \n",
    "                return cnt\n",
    "            elif _blue == hole : \n",
    "                continue\n",
    "            elif _red + _blue not in used : \n",
    "                #print(type(_red + _blue),type((_red + _blue)))\n",
    "                used.add(_red+_blue)\n",
    "                que += make_path(data,_red,_blue) \n",
    "        cnt +=1\n",
    "    return -1\n",
    "\n",
    "print(bfs(data,red,blue,hole))"
   ]
  },
  {
   "cell_type": "code",
   "execution_count": 6,
   "metadata": {},
   "outputs": [
    {
     "name": "stdout",
     "output_type": "stream",
     "text": [
      "{(3, 4, 3, 7)}\n",
      "<class 'set'>\n",
      "-1\n"
     ]
    }
   ],
   "source": [
    "data = 입력.split()#input() \n",
    "#data = input().split() \n",
    "hight = int(data.pop(0))\n",
    "width = int(data.pop(0))\n",
    "#data = [input() for __ in range(range)]\n",
    "data = list(map(list,data))\n",
    "\n",
    "for y in range(hight) : \n",
    "    for x in range(width) :\n",
    "        if data[y][x] == 'R' : \n",
    "            red = (y,x)\n",
    "            data[y][x] = '.'\n",
    "        elif data[y][x] == 'B' : \n",
    "            blue = (y,x)\n",
    "            data[y][x] = '.'\n",
    "        elif data[y][x] == 'O' : \n",
    "            hole = (y,x)\n",
    "\n",
    "def bfs(data, red, blue,hole) :\n",
    "            \n",
    "\n",
    "    used = {(red+blue)} \n",
    "    #used = set([red+blue])\n",
    "    \n",
    "    que = make_path(data,red,blue) \n",
    "       \n",
    "    for cnt in range(1,11) :            \n",
    "        for __ in range(len(que)) :\n",
    "            _red,_blue = que.pop(0)\n",
    "            if _red == hole and _blue != hole : \n",
    "                return cnt\n",
    "            elif _blue == hole : \n",
    "                continue\n",
    "            elif _red + _blue not in used : \n",
    "                used.add(_red+_blue)\n",
    "                que += make_path(data,_red,_blue) \n",
    "    return -1\n",
    "    \n",
    "\n",
    "print(bfs(data,red,blue,hole))"
   ]
  },
  {
   "cell_type": "code",
   "execution_count": 2,
   "metadata": {},
   "outputs": [],
   "source": [
    "입력 = \"\"\"\n",
    "9 9\n",
    "#########\n",
    "###.....#\n",
    "#..#..#O#\n",
    "##..R.#B#\n",
    "####....#\n",
    "#.....#.#\n",
    "#.#.....#\n",
    "##.###..#\n",
    "#########\n",
    "\"\"\""
   ]
  },
  {
   "cell_type": "code",
   "execution_count": null,
   "metadata": {},
   "outputs": [],
   "source": [
    "print(data)\n",
    "print(red, blue,hole)"
   ]
  },
  {
   "cell_type": "code",
   "execution_count": null,
   "metadata": {},
   "outputs": [],
   "source": [
    "입력 = \"\"\"10 7\n",
    "#######\n",
    "#.....#\n",
    "#.....#\n",
    "#.#BR.#\n",
    "#.#...#\n",
    "#.....#\n",
    "#....##\n",
    "###...#\n",
    "#O...##\n",
    "#######\"\"\""
   ]
  },
  {
   "cell_type": "code",
   "execution_count": null,
   "metadata": {},
   "outputs": [],
   "source": []
  },
  {
   "cell_type": "code",
   "execution_count": null,
   "metadata": {},
   "outputs": [],
   "source": [
    "data = 입력.split()#input() \n",
    "#data = input().split() \n",
    "hight = int(data.pop(0))\n",
    "width = int(data.pop(0))\n",
    "#data = []\n",
    "#for i in range(0,hight) : data.append(input())\n",
    "\n",
    "\n",
    "data1 = map(list,data)\n",
    "\n",
    "for v in map(list,data) : \n",
    "    for p in v : \n",
    "        if p=='B':\n",
    "            p='1'\n",
    "\n",
    "print(data)\n",
    "print(list(data1))"
   ]
  },
  {
   "cell_type": "code",
   "execution_count": null,
   "metadata": {},
   "outputs": [],
   "source": [
    "data = 입력.split()#input() \n",
    "#data = input().split() \n",
    "hight = int(data.pop(0))\n",
    "width = int(data.pop(0))\n",
    "\n",
    "data = list(enumerate(data))\n",
    "print(data)"
   ]
  },
  {
   "cell_type": "code",
   "execution_count": null,
   "metadata": {},
   "outputs": [],
   "source": [
    "data = 입력.split()#input() \n",
    "#data = input().split() \n",
    "hight = int(data.pop(0))\n",
    "width = int(data.pop(0))\n",
    "\n",
    "def aaa(x,c,c1) : \n",
    "    if x == c :\n",
    "        return c1\n",
    "    else :\n",
    "        return x\n",
    "    \n",
    "data = list(map(list,data))\n",
    "data1 = []\n",
    "for v in data : \n",
    "    print(list(map(aaa ,v)))"
   ]
  },
  {
   "cell_type": "code",
   "execution_count": null,
   "metadata": {},
   "outputs": [],
   "source": [
    "data1"
   ]
  },
  {
   "cell_type": "code",
   "execution_count": null,
   "metadata": {},
   "outputs": [],
   "source": [
    "a"
   ]
  },
  {
   "cell_type": "code",
   "execution_count": null,
   "metadata": {},
   "outputs": [],
   "source": [
    "b+b+b in a"
   ]
  },
  {
   "cell_type": "code",
   "execution_count": null,
   "metadata": {},
   "outputs": [],
   "source": [
    "cnt = 1"
   ]
  },
  {
   "cell_type": "code",
   "execution_count": null,
   "metadata": {},
   "outputs": [],
   "source": [
    "type(0 <= cnt < 10)"
   ]
  },
  {
   "cell_type": "code",
   "execution_count": null,
   "metadata": {},
   "outputs": [],
   "source": []
  },
  {
   "cell_type": "code",
   "execution_count": null,
   "metadata": {},
   "outputs": [],
   "source": []
  },
  {
   "cell_type": "code",
   "execution_count": null,
   "metadata": {},
   "outputs": [],
   "source": []
  }
 ],
 "metadata": {
  "kernelspec": {
   "display_name": "Python 3",
   "language": "python",
   "name": "python3"
  },
  "language_info": {
   "codemirror_mode": {
    "name": "ipython",
    "version": 3
   },
   "file_extension": ".py",
   "mimetype": "text/x-python",
   "name": "python",
   "nbconvert_exporter": "python",
   "pygments_lexer": "ipython3",
   "version": "3.7.4"
  }
 },
 "nbformat": 4,
 "nbformat_minor": 2
}
