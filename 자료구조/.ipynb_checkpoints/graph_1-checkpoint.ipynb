{
 "cells": [
  {
   "cell_type": "code",
   "execution_count": 1,
   "metadata": {},
   "outputs": [],
   "source": [
    "# 참고 : https://www.zerocho.com/category/Algorithm/post/5870153c37e1c80018b64eb0\n",
    "def dfs(g, start):\n",
    "    stack = []    \n",
    "    result = []\n",
    "    done = set()     \n",
    "    stack.append(start) \n",
    "    done.add(start)  \n",
    "       \n",
    "    while stack != []:    \n",
    "\n",
    "        p = stack.pop() \n",
    "        result.append(p)\n",
    "         \n",
    "        for x in g[p]:        \n",
    "            if x not in done: \n",
    "                stack.append(x)  \n",
    "                done.add(x)   \n",
    "\n",
    "    return result \n",
    "\n",
    "def bfs(g, start):\n",
    "    qu = []\n",
    "    result = []\n",
    "    done = set()     \n",
    "    qu.append(start) \n",
    "    done.add(start)  \n",
    "\n",
    "    while qu != []:    \n",
    "        l = len(qu)\n",
    "        \n",
    "        for i in range(0,l) :\n",
    "            p = qu.pop(0) \n",
    "            result.append(p)\n",
    "            for x in g[p]:        \n",
    "                if x not in done: \n",
    "                    qu.append(x)  \n",
    "                    done.add(x)   \n",
    "\n",
    "    return result"
   ]
  },
  {
   "cell_type": "code",
   "execution_count": 2,
   "metadata": {},
   "outputs": [
    {
     "data": {
      "text/plain": [
       "{3: [6, 4, 2, 1], 6: [3], 4: [3, 2], 2: [3, 1, 4, 5], 1: [3, 2], 5: [2]}"
      ]
     },
     "execution_count": 2,
     "metadata": {},
     "output_type": "execute_result"
    }
   ],
   "source": [
    "a = [[3, 6], [4, 3], [3, 2], [1, 3], [1, 2], [2, 4], [5, 2]] # 중복걱정 없음\n",
    "g = {}\n",
    "for v in a :\n",
    "    if v[0] not in g : g[v[0]] = [v[1]]\n",
    "    else : g[v[0]] = g[v[0]] + [v[1]] \n",
    "    if v[1] not in g : g[v[1]] = [v[0]]\n",
    "    else : g[v[1]] = g[v[1]] + [v[0]] \n",
    "g      "
   ]
  },
  {
   "cell_type": "code",
   "execution_count": 10,
   "metadata": {},
   "outputs": [
    {
     "data": {
      "text/plain": [
       "[[], [3, 2], [3, 1, 4, 5], [6, 4, 2, 1], [3, 2], [2], [3]]"
      ]
     },
     "execution_count": 10,
     "metadata": {},
     "output_type": "execute_result"
    }
   ],
   "source": [
    "a = [[3, 6], [4, 3], [3, 2], [1, 3], [1, 2], [2, 4], [5, 2]] # 중복걱정 없음 \n",
    "n = 6\n",
    "g = [[] for _ in range(0,n+1)]\n",
    "for v in a :\n",
    "    g[v[0]].append(v[1])\n",
    "    g[v[1]].append(v[0])\n",
    "g      "
   ]
  },
  {
   "cell_type": "code",
   "execution_count": 11,
   "metadata": {},
   "outputs": [
    {
     "data": {
      "text/plain": [
       "[1, 3, 2, 6, 4, 5]"
      ]
     },
     "execution_count": 11,
     "metadata": {},
     "output_type": "execute_result"
    }
   ],
   "source": [
    "bfs(g, 1)"
   ]
  },
  {
   "cell_type": "code",
   "execution_count": 12,
   "metadata": {},
   "outputs": [
    {
     "data": {
      "text/plain": [
       "[1, 2, 5, 4, 3, 6]"
      ]
     },
     "execution_count": 12,
     "metadata": {},
     "output_type": "execute_result"
    }
   ],
   "source": [
    "dfs(g, 1)"
   ]
  },
  {
   "cell_type": "code",
   "execution_count": null,
   "metadata": {},
   "outputs": [],
   "source": []
  },
  {
   "cell_type": "code",
   "execution_count": null,
   "metadata": {},
   "outputs": [],
   "source": []
  },
  {
   "cell_type": "code",
   "execution_count": null,
   "metadata": {},
   "outputs": [],
   "source": []
  }
 ],
 "metadata": {
  "kernelspec": {
   "display_name": "Python 3",
   "language": "python",
   "name": "python3"
  },
  "language_info": {
   "codemirror_mode": {
    "name": "ipython",
    "version": 3
   },
   "file_extension": ".py",
   "mimetype": "text/x-python",
   "name": "python",
   "nbconvert_exporter": "python",
   "pygments_lexer": "ipython3",
   "version": "3.7.4"
  }
 },
 "nbformat": 4,
 "nbformat_minor": 2
}
