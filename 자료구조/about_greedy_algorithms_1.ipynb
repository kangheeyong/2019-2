{
 "cells": [
  {
   "cell_type": "code",
   "execution_count": null,
   "metadata": {},
   "outputs": [],
   "source": []
  },
  {
   "cell_type": "code",
   "execution_count": null,
   "metadata": {},
   "outputs": [],
   "source": []
  },
  {
   "cell_type": "markdown",
   "metadata": {},
   "source": [
    "- 한번에 모든 것을 다 처리하지 말자!! \n",
    "    - 어려운 이유는 처음과 끝처리가 서로 다를 수 있다. 그러면 예외처리를 해야하는데 이게 생각보다 복잡하다\n",
    "\n",
    "- 둘로 나누면 생각보다 간단해지는 경우가 있다!!\n",
    "    - 둘로 나눈다고 속도가 무조건 느려지는 건 아니다!!"
   ]
  },
  {
   "cell_type": "code",
   "execution_count": 80,
   "metadata": {},
   "outputs": [],
   "source": [
    "# 가장 처음 짠 코드\n",
    "def aaaaa(s, cnt) : \n",
    "    L= len(s)\n",
    "    before = s[0:cnt]\n",
    "    stack = []  \n",
    "    temp= [before]\n",
    "    for i in range(cnt,L+1,cnt) :\n",
    "        now = s[i:i+cnt]\n",
    "        #print(temp,'now : ',now,'bwfore : ',before)     \n",
    "        if now != before : \n",
    "            if len(temp) == 1 :\n",
    "                stack.append(temp.pop())\n",
    "            else : stack.append(str(len(temp)) + temp.pop())\n",
    "            temp = []\n",
    "        temp.append(now)\n",
    "        before = now   \n",
    "    stack.append(temp.pop())\n",
    "    return \"\".join(stack)\n",
    "\n",
    "def solution(s):\n",
    "\n",
    "    if len(s) == 1 : return 1\n",
    "    cnt = 1\n",
    "    n_min = 1000\n",
    "    for cnt in range(1 , len(s)) : \n",
    "\n",
    "        n_min = min(n_min,len(aaaaa(s,cnt))) \n",
    "\n",
    "\n",
    "    answer = n_min\n",
    "\n",
    "    return answer"
   ]
  },
  {
   "cell_type": "code",
   "execution_count": 73,
   "metadata": {},
   "outputs": [],
   "source": [
    "# 한번 정리된 코드\n",
    "def find(s,gap) : \n",
    "    \n",
    "    L = len(s)\n",
    "    before = \"\"   \n",
    "    stack = []\n",
    "    for i in range(0,L,gap) : \n",
    "        now = s[i:i+gap]        \n",
    "        if now != before :  stack.append([now,1])\n",
    "        elif now == before :  stack[-1][1] +=1\n",
    "        before = now\n",
    "    \n",
    "    answer = []\n",
    "    for v, cnt in stack : \n",
    "        if cnt == 1 :   answer.append(v)\n",
    "        elif cnt > 1 :  answer.append(str(cnt) + v)\n",
    "    \n",
    "    \n",
    "    print(\"\".join(answer))   \n",
    "    return len(\"\".join(answer))\n",
    "\n",
    "def solution(s):\n",
    "    \n",
    "    L = len(s)\n",
    "    answer = L\n",
    "    \n",
    "    for gap in range(1,L//2+1) : \n",
    "        answer = min(answer, find(s,gap))\n",
    "    return answer"
   ]
  },
  {
   "cell_type": "code",
   "execution_count": 165,
   "metadata": {},
   "outputs": [],
   "source": [
    "# 두번 정리된 코드 -> 한번 정리된 코드보다 더 느리고 더 복잡하다\n",
    "def find(s,gap) : \n",
    "    \n",
    "    L = len(s)\n",
    "    before = \"\"   \n",
    "    stack = []\n",
    "    answer = []\n",
    "    for i in range(0,L,gap) : \n",
    "        now = s[i:i+gap]        \n",
    "        if now != before :  stack.append([now,1])\n",
    "        else :  stack[-1][1] +=1\n",
    "        \n",
    "        if len(stack) == 2 : \n",
    "            v,cnt = stack.pop(0)\n",
    "            if cnt == 1 :   answer.append(v)\n",
    "            elif cnt > 1 :  answer.append(str(cnt) + v)\n",
    "        if  i > L -2* gap : \n",
    "            while stack != [] : \n",
    "                v,cnt = stack.pop(0)\n",
    "                if cnt == 1 :   answer.append(v)\n",
    "                elif cnt > 1 :  answer.append(str(cnt) + v)\n",
    "                \n",
    "        #print(stack,answer,i,L - gap,i == L - gap)\n",
    "        before = now\n",
    "\n",
    "    \n",
    "    print(\"\".join(answer))   \n",
    "    return len(\"\".join(answer))\n",
    "\n",
    "def solution(s):\n",
    "    \n",
    "    L = len(s)\n",
    "    answer = L\n",
    "    \n",
    "    for gap in range(1,L//2+1) : \n",
    "        answer = min(answer, find(s,gap))\n",
    "        \n",
    "    print(answer)\n",
    "    return answer"
   ]
  },
  {
   "cell_type": "code",
   "execution_count": 166,
   "metadata": {},
   "outputs": [
    {
     "name": "stdout",
     "output_type": "stream",
     "text": [
      "8 5 4\n",
      "2a2ba3c\n",
      "aabbaccc\n",
      "aabbaccc\n",
      "aabbaccc\n",
      "7\n"
     ]
    },
    {
     "data": {
      "text/plain": [
       "True"
      ]
     },
     "execution_count": 166,
     "metadata": {},
     "output_type": "execute_result"
    }
   ],
   "source": [
    "solution(\"aabbaccc\") == 7"
   ]
  },
  {
   "cell_type": "code",
   "execution_count": 167,
   "metadata": {},
   "outputs": [
    {
     "name": "stdout",
     "output_type": "stream",
     "text": [
      "16 9 8\n",
      "ababcdcdababcdcd\n",
      "2ab2cd2ab2cd\n",
      "ababcdcdababcdcd\n",
      "ababcdcdababcdcd\n",
      "ababcdcdababcdcd\n",
      "ababcdcdababcdcd\n",
      "ababcdcdababcdcd\n",
      "2ababcdcd\n",
      "9\n"
     ]
    },
    {
     "data": {
      "text/plain": [
       "True"
      ]
     },
     "execution_count": 167,
     "metadata": {},
     "output_type": "execute_result"
    }
   ],
   "source": [
    "solution(\"ababcdcdababcdcd\") == 9"
   ]
  },
  {
   "cell_type": "code",
   "execution_count": 168,
   "metadata": {},
   "outputs": [
    {
     "name": "stdout",
     "output_type": "stream",
     "text": [
      "10 6 5\n",
      "abcabcdede\n",
      "abcabc2de\n",
      "2abcdede\n",
      "abcabcdede\n",
      "abcabcdede\n",
      "8\n"
     ]
    },
    {
     "data": {
      "text/plain": [
       "True"
      ]
     },
     "execution_count": 168,
     "metadata": {},
     "output_type": "execute_result"
    }
   ],
   "source": [
    "solution(\"abcabcdede\") == 8"
   ]
  },
  {
   "cell_type": "code",
   "execution_count": 169,
   "metadata": {},
   "outputs": [
    {
     "name": "stdout",
     "output_type": "stream",
     "text": [
      "24 13 12\n",
      "abcabcabcabcdededededede\n",
      "abcabcabcabc6de\n",
      "4abcdededededede\n",
      "abcabcabcabc3dede\n",
      "abcabcabcabcdededededede\n",
      "2abcabc2dedede\n",
      "abcabcabcabcdededededede\n",
      "abcabcabcabcdededededede\n",
      "abcabcabcabcdededededede\n",
      "abcabcabcabcdededededede\n",
      "abcabcabcabcdededededede\n",
      "abcabcabcabcdededededede\n",
      "14\n"
     ]
    },
    {
     "data": {
      "text/plain": [
       "True"
      ]
     },
     "execution_count": 169,
     "metadata": {},
     "output_type": "execute_result"
    }
   ],
   "source": [
    "solution(\"abcabcabcabcdededededede\") == 14"
   ]
  },
  {
   "cell_type": "code",
   "execution_count": 170,
   "metadata": {},
   "outputs": [
    {
     "name": "stdout",
     "output_type": "stream",
     "text": [
      "17 9 8\n",
      "xababcdcdababcdcd\n",
      "xababcdcdababcdcd\n",
      "xababcdcdababcdcd\n",
      "xababcdcdababcdcd\n",
      "xababcdcdababcdcd\n",
      "xababcdcdababcdcd\n",
      "xababcdcdababcdcd\n",
      "xababcdcdababcdcd\n",
      "17\n"
     ]
    },
    {
     "data": {
      "text/plain": [
       "True"
      ]
     },
     "execution_count": 170,
     "metadata": {},
     "output_type": "execute_result"
    }
   ],
   "source": [
    "solution(\"xababcdcdababcdcd\") == 17"
   ]
  },
  {
   "cell_type": "code",
   "execution_count": 171,
   "metadata": {},
   "outputs": [
    {
     "name": "stdout",
     "output_type": "stream",
     "text": [
      "1 1 0\n",
      "1\n"
     ]
    },
    {
     "data": {
      "text/plain": [
       "True"
      ]
     },
     "execution_count": 171,
     "metadata": {},
     "output_type": "execute_result"
    }
   ],
   "source": [
    "solution(\"x\") == 1"
   ]
  },
  {
   "cell_type": "code",
   "execution_count": 175,
   "metadata": {},
   "outputs": [
    {
     "data": {
      "text/plain": [
       "[0, 3]"
      ]
     },
     "execution_count": 175,
     "metadata": {},
     "output_type": "execute_result"
    }
   ],
   "source": [
    "[i for i in range(0,7//2+1,3)]"
   ]
  },
  {
   "cell_type": "code",
   "execution_count": 108,
   "metadata": {},
   "outputs": [],
   "source": [
    "a = '123'"
   ]
  },
  {
   "cell_type": "code",
   "execution_count": 99,
   "metadata": {},
   "outputs": [
    {
     "data": {
      "text/plain": [
       "'123'"
      ]
     },
     "execution_count": 99,
     "metadata": {},
     "output_type": "execute_result"
    }
   ],
   "source": [
    "a[0:7]"
   ]
  },
  {
   "cell_type": "code",
   "execution_count": 178,
   "metadata": {},
   "outputs": [
    {
     "data": {
      "text/plain": [
       "4"
      ]
     },
     "execution_count": 178,
     "metadata": {},
     "output_type": "execute_result"
    }
   ],
   "source": [
    "8//2"
   ]
  },
  {
   "cell_type": "code",
   "execution_count": null,
   "metadata": {},
   "outputs": [],
   "source": []
  }
 ],
 "metadata": {
  "kernelspec": {
   "display_name": "Python 3",
   "language": "python",
   "name": "python3"
  },
  "language_info": {
   "codemirror_mode": {
    "name": "ipython",
    "version": 3
   },
   "file_extension": ".py",
   "mimetype": "text/x-python",
   "name": "python",
   "nbconvert_exporter": "python",
   "pygments_lexer": "ipython3",
   "version": "3.7.4"
  }
 },
 "nbformat": 4,
 "nbformat_minor": 2
}
