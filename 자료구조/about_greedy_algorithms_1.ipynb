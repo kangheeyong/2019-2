{
 "cells": [
  {
   "cell_type": "code",
   "execution_count": null,
   "metadata": {},
   "outputs": [],
   "source": []
  },
  {
   "cell_type": "code",
   "execution_count": null,
   "metadata": {},
   "outputs": [],
   "source": []
  },
  {
   "cell_type": "markdown",
   "metadata": {},
   "source": [
    "- 한번에 모든 것을 다 처리하지 말자!! \n",
    "    - 어려운 이유는 처음과 끝처리가 서로 다를 수 있다. 그러면 예외처리를 해야하는데 이게 생각보다 복잡하다\n",
    "\n",
    "- 둘로 나누면 생각보다 간단해지는 경우가 있다!!\n",
    "    - 둘로 나눈다고 속도가 무조건 느려지는 건 아니다!!"
   ]
  },
  {
   "cell_type": "code",
   "execution_count": 80,
   "metadata": {},
   "outputs": [],
   "source": [
    "# 가장 처음 짠 코드\n",
    "def aaaaa(s, cnt) : \n",
    "    L= len(s)\n",
    "    before = s[0:cnt]\n",
    "    stack = []  \n",
    "    temp= [before]\n",
    "    for i in range(cnt,L+1,cnt) :\n",
    "        now = s[i:i+cnt]\n",
    "        #print(temp,'now : ',now,'bwfore : ',before)     \n",
    "        if now != before : \n",
    "            if len(temp) == 1 :\n",
    "                stack.append(temp.pop())\n",
    "            else : stack.append(str(len(temp)) + temp.pop())\n",
    "            temp = []\n",
    "        temp.append(now)\n",
    "        before = now   \n",
    "    stack.append(temp.pop())\n",
    "    return \"\".join(stack)\n",
    "\n",
    "def solution(s):\n",
    "\n",
    "    if len(s) == 1 : return 1\n",
    "    cnt = 1\n",
    "    n_min = 1000\n",
    "    for cnt in range(1 , len(s)) : \n",
    "\n",
    "        n_min = min(n_min,len(aaaaa(s,cnt))) \n",
    "\n",
    "\n",
    "    answer = n_min\n",
    "\n",
    "    return answer"
   ]
  },
  {
   "cell_type": "code",
   "execution_count": 73,
   "metadata": {},
   "outputs": [],
   "source": [
    "# 한번 정리된 코드\n",
    "def find(s,gap) : \n",
    "    \n",
    "    L = len(s)\n",
    "    before = \"\"   \n",
    "    stack = []\n",
    "    for i in range(0,L,gap) : \n",
    "        now = s[i:i+gap]        \n",
    "        if now != before :  stack.append([now,1])\n",
    "        elif now == before :  stack[-1][1] +=1\n",
    "        before = now\n",
    "    \n",
    "    answer = []\n",
    "    for v, cnt in stack : \n",
    "        if cnt == 1 :   answer.append(v)\n",
    "        elif cnt > 1 :  answer.append(str(cnt) + v)\n",
    "    \n",
    "    \n",
    "    print(\"\".join(answer))   \n",
    "    return len(\"\".join(answer))\n",
    "\n",
    "def solution(s):\n",
    "    \n",
    "    L = len(s)\n",
    "    answer = L\n",
    "    \n",
    "    for gap in range(1,L//2+1) : \n",
    "        answer = min(answer, find(s,gap))\n",
    "    return answer"
   ]
  },
  {
   "cell_type": "code",
   "execution_count": 94,
   "metadata": {},
   "outputs": [],
   "source": [
    "# 두번 정리된 코드 -> 한번 정리된 코드보다 더 느리고 더 복잡하다\n",
    "def find(s,gap) : \n",
    "    \n",
    "    L = len(s)\n",
    "    before = \"\"   \n",
    "    stack = []\n",
    "    answer = []\n",
    "    for i in range(0,L,gap) : \n",
    "        now = s[i:i+gap]        \n",
    "        if now != before :  stack.append([now,1])\n",
    "        else :  stack[-1][1] +=1\n",
    "        \n",
    "        if len(stack) == 2 : \n",
    "            v,cnt = stack.pop(0)\n",
    "            if cnt == 1 :   answer.append(v)\n",
    "            elif cnt > 1 :  answer.append(str(cnt) + v)\n",
    "        if  i > L -2* gap : \n",
    "            while stack != [] : \n",
    "                v,cnt = stack.pop(0)\n",
    "                if cnt == 1 :   answer.append(v)\n",
    "                elif cnt > 1 :  answer.append(str(cnt) + v)\n",
    "                \n",
    "        #print(stack,answer,i,L - gap,i == L - gap)\n",
    "        before = now\n",
    "\n",
    "    \n",
    "    print(\"\".join(answer))   \n",
    "    return len(\"\".join(answer))\n",
    "\n",
    "def solution(s):\n",
    "    \n",
    "    L = len(s)\n",
    "    answer = L\n",
    "    \n",
    "    for gap in range(1,L//2+1) : \n",
    "        answer = min(answer, find(s,gap))\n",
    "        \n",
    "    print(answer)\n",
    "    return answer"
   ]
  },
  {
   "cell_type": "code",
   "execution_count": 101,
   "metadata": {},
   "outputs": [],
   "source": [
    "# 번 정리된 코드 -> 한번 정리된 코드보다 더 느리고 더 복잡하다\n",
    "def find(s,gap) : \n",
    "    \n",
    "    L = len(s)\n",
    "    data = [s[i:i+gap] for i in range(0,L,gap)]\n",
    "    data.reverse()\n",
    "    \n",
    "    result = [[data.pop(),1]]\n",
    "    while data != [] :\n",
    "        p = data.pop()\n",
    "        if p == result[-1][0] :\n",
    "            result[-1][1] += 1\n",
    "        else :   \n",
    "            result.append([p,1])\n",
    "    \n",
    "    string =\"\"\n",
    "    for v, cnt in result :\n",
    "        cnt = str(cnt) if cnt > 1 else ''\n",
    "        string += cnt + v\n",
    "        \n",
    "    print(string)\n",
    "    return len(string)\n",
    "\n",
    "def solution(s):\n",
    "    \n",
    "    L = len(s)\n",
    "    answer = L\n",
    "    \n",
    "    for gap in range(1,L//2+1) : \n",
    "        answer = min(answer, find(s,gap))\n",
    "        \n",
    "    print(answer)\n",
    "    return answer"
   ]
  },
  {
   "cell_type": "code",
   "execution_count": 102,
   "metadata": {},
   "outputs": [
    {
     "name": "stdout",
     "output_type": "stream",
     "text": [
      "2a2ba3c\n",
      "aabbaccc\n",
      "aabbaccc\n",
      "aabbaccc\n",
      "7\n"
     ]
    },
    {
     "data": {
      "text/plain": [
       "True"
      ]
     },
     "execution_count": 102,
     "metadata": {},
     "output_type": "execute_result"
    }
   ],
   "source": [
    "solution(\"aabbaccc\") == 7"
   ]
  },
  {
   "cell_type": "code",
   "execution_count": 103,
   "metadata": {},
   "outputs": [
    {
     "name": "stdout",
     "output_type": "stream",
     "text": [
      "ababcdcdababcdcd\n",
      "2ab2cd2ab2cd\n",
      "ababcdcdababcdcd\n",
      "ababcdcdababcdcd\n",
      "ababcdcdababcdcd\n",
      "ababcdcdababcdcd\n",
      "ababcdcdababcdcd\n",
      "2ababcdcd\n",
      "9\n"
     ]
    },
    {
     "data": {
      "text/plain": [
       "True"
      ]
     },
     "execution_count": 103,
     "metadata": {},
     "output_type": "execute_result"
    }
   ],
   "source": [
    "solution(\"ababcdcdababcdcd\") == 9"
   ]
  },
  {
   "cell_type": "code",
   "execution_count": 104,
   "metadata": {},
   "outputs": [
    {
     "name": "stdout",
     "output_type": "stream",
     "text": [
      "abcabcdede\n",
      "abcabc2de\n",
      "2abcdede\n",
      "abcabcdede\n",
      "abcabcdede\n",
      "8\n"
     ]
    },
    {
     "data": {
      "text/plain": [
       "True"
      ]
     },
     "execution_count": 104,
     "metadata": {},
     "output_type": "execute_result"
    }
   ],
   "source": [
    "solution(\"abcabcdede\") == 8"
   ]
  },
  {
   "cell_type": "code",
   "execution_count": 105,
   "metadata": {},
   "outputs": [
    {
     "name": "stdout",
     "output_type": "stream",
     "text": [
      "abcabcabcabcdededededede\n",
      "abcabcabcabc6de\n",
      "4abcdededededede\n",
      "abcabcabcabc3dede\n",
      "abcabcabcabcdededededede\n",
      "2abcabc2dedede\n",
      "abcabcabcabcdededededede\n",
      "abcabcabcabcdededededede\n",
      "abcabcabcabcdededededede\n",
      "abcabcabcabcdededededede\n",
      "abcabcabcabcdededededede\n",
      "abcabcabcabcdededededede\n",
      "14\n"
     ]
    },
    {
     "data": {
      "text/plain": [
       "True"
      ]
     },
     "execution_count": 105,
     "metadata": {},
     "output_type": "execute_result"
    }
   ],
   "source": [
    "solution(\"abcabcabcabcdededededede\") == 14"
   ]
  },
  {
   "cell_type": "code",
   "execution_count": 106,
   "metadata": {},
   "outputs": [
    {
     "name": "stdout",
     "output_type": "stream",
     "text": [
      "abcabcabcabcdededededede\n",
      "abcabcabcabc6de\n",
      "4abcdededededede\n",
      "abcabcabcabc3dede\n",
      "abcabcabcabcdededededede\n",
      "2abcabc2dedede\n",
      "abcabcabcabcdededededede\n",
      "abcabcabcabcdededededede\n",
      "abcabcabcabcdededededede\n",
      "abcabcabcabcdededededede\n",
      "abcabcabcabcdededededede\n",
      "abcabcabcabcdededededede\n",
      "14\n"
     ]
    },
    {
     "data": {
      "text/plain": [
       "True"
      ]
     },
     "execution_count": 106,
     "metadata": {},
     "output_type": "execute_result"
    }
   ],
   "source": [
    "solution(\"abcabcabcabcdededededede\") == 14"
   ]
  },
  {
   "cell_type": "code",
   "execution_count": 107,
   "metadata": {},
   "outputs": [
    {
     "name": "stdout",
     "output_type": "stream",
     "text": [
      "xababcdcdababcdcd\n",
      "xababcdcdababcdcd\n",
      "xababcdcdababcdcd\n",
      "xababcdcdababcdcd\n",
      "xababcdcdababcdcd\n",
      "xababcdcdababcdcd\n",
      "xababcdcdababcdcd\n",
      "xababcdcdababcdcd\n",
      "17\n"
     ]
    },
    {
     "data": {
      "text/plain": [
       "True"
      ]
     },
     "execution_count": 107,
     "metadata": {},
     "output_type": "execute_result"
    }
   ],
   "source": [
    "solution(\"xababcdcdababcdcd\") == 17"
   ]
  },
  {
   "cell_type": "code",
   "execution_count": 171,
   "metadata": {},
   "outputs": [
    {
     "name": "stdout",
     "output_type": "stream",
     "text": [
      "1 1 0\n",
      "1\n"
     ]
    },
    {
     "data": {
      "text/plain": [
       "True"
      ]
     },
     "execution_count": 171,
     "metadata": {},
     "output_type": "execute_result"
    }
   ],
   "source": [
    "solution(\"x\") == 1"
   ]
  },
  {
   "cell_type": "code",
   "execution_count": 175,
   "metadata": {},
   "outputs": [
    {
     "data": {
      "text/plain": [
       "[0, 3]"
      ]
     },
     "execution_count": 175,
     "metadata": {},
     "output_type": "execute_result"
    }
   ],
   "source": [
    "[i for i in range(0,7//2+1,3)]"
   ]
  },
  {
   "cell_type": "code",
   "execution_count": 108,
   "metadata": {},
   "outputs": [],
   "source": [
    "a = '123'"
   ]
  },
  {
   "cell_type": "code",
   "execution_count": 99,
   "metadata": {},
   "outputs": [
    {
     "data": {
      "text/plain": [
       "'123'"
      ]
     },
     "execution_count": 99,
     "metadata": {},
     "output_type": "execute_result"
    }
   ],
   "source": [
    "a[0:7]"
   ]
  },
  {
   "cell_type": "code",
   "execution_count": 178,
   "metadata": {},
   "outputs": [
    {
     "data": {
      "text/plain": [
       "4"
      ]
     },
     "execution_count": 178,
     "metadata": {},
     "output_type": "execute_result"
    }
   ],
   "source": [
    "8//2"
   ]
  },
  {
   "cell_type": "code",
   "execution_count": null,
   "metadata": {},
   "outputs": [],
   "source": []
  },
  {
   "cell_type": "code",
   "execution_count": 164,
   "metadata": {},
   "outputs": [],
   "source": [
    "\n",
    "\n",
    "\n",
    "def solution(data, k):\n",
    "    \n",
    "    temp =[data[0]]\n",
    "    \n",
    "    for p in data[1:] :\n",
    "        \n",
    "        while temp != [] and k != 0 and temp[-1] < p :\n",
    "            temp.pop()\n",
    "            k -=1\n",
    "            \n",
    "        temp+=[p]\n",
    "    \n",
    "    r = temp if k == 0 else data[:-k]\n",
    "    return ''.join(r)\n",
    "    "
   ]
  },
  {
   "cell_type": "code",
   "execution_count": 165,
   "metadata": {},
   "outputs": [
    {
     "data": {
      "text/plain": [
       "'477252841'"
      ]
     },
     "execution_count": 165,
     "metadata": {},
     "output_type": "execute_result"
    }
   ],
   "source": [
    "solution(\"4177252841\",1)"
   ]
  },
  {
   "cell_type": "code",
   "execution_count": 144,
   "metadata": {},
   "outputs": [
    {
     "ename": "TypeError",
     "evalue": "'<' not supported between instances of 'list' and 'int'",
     "output_type": "error",
     "traceback": [
      "\u001b[0;31m----------------------------------------------------------------------\u001b[0m",
      "\u001b[0;31mTypeError\u001b[0m                            Traceback (most recent call last)",
      "\u001b[0;32m<ipython-input-144-b36d47480f90>\u001b[0m in \u001b[0;36m<module>\u001b[0;34m\u001b[0m\n\u001b[0;32m----> 1\u001b[0;31m \u001b[0;34m[\u001b[0m\u001b[0;34m]\u001b[0m \u001b[0;34m<\u001b[0m \u001b[0;36m1\u001b[0m\u001b[0;34m\u001b[0m\u001b[0;34m\u001b[0m\u001b[0m\n\u001b[0m",
      "\u001b[0;31mTypeError\u001b[0m: '<' not supported between instances of 'list' and 'int'"
     ]
    }
   ],
   "source": [
    "[] < 1"
   ]
  },
  {
   "cell_type": "code",
   "execution_count": 145,
   "metadata": {},
   "outputs": [],
   "source": []
  },
  {
   "cell_type": "code",
   "execution_count": 150,
   "metadata": {},
   "outputs": [
    {
     "data": {
      "text/plain": [
       "False"
      ]
     },
     "execution_count": 150,
     "metadata": {},
     "output_type": "execute_result"
    }
   ],
   "source": [
    "a = []\n",
    "#a[-1] < p and a != [] # 에러\n",
    "a != [] and a[-1] < p  # 동작"
   ]
  },
  {
   "cell_type": "code",
   "execution_count": null,
   "metadata": {},
   "outputs": [],
   "source": []
  }
 ],
 "metadata": {
  "kernelspec": {
   "display_name": "Python 3",
   "language": "python",
   "name": "python3"
  },
  "language_info": {
   "codemirror_mode": {
    "name": "ipython",
    "version": 3
   },
   "file_extension": ".py",
   "mimetype": "text/x-python",
   "name": "python",
   "nbconvert_exporter": "python",
   "pygments_lexer": "ipython3",
   "version": "3.7.4"
  }
 },
 "nbformat": 4,
 "nbformat_minor": 2
}
