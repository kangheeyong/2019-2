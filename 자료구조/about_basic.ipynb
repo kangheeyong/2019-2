{
 "cells": [
  {
   "cell_type": "markdown",
   "metadata": {},
   "source": [
    "# 주의사항들?"
   ]
  },
  {
   "cell_type": "markdown",
   "metadata": {},
   "source": [
    "## 튜플과 lambda(익명함수)"
   ]
  },
  {
   "cell_type": "code",
   "execution_count": 15,
   "metadata": {},
   "outputs": [
    {
     "name": "stdout",
     "output_type": "stream",
     "text": [
      "(1, 2, 3, 4, 5) (1, 2, 3, 4, 5)\n"
     ]
    }
   ],
   "source": [
    "a = 1,2,3,4,5 # 튜플 선언\n",
    "b = (1,2,3,4,5)\n",
    "print(a,b)"
   ]
  },
  {
   "cell_type": "code",
   "execution_count": 16,
   "metadata": {},
   "outputs": [
    {
     "name": "stdout",
     "output_type": "stream",
     "text": [
      "<function a at 0x10deeaa70> <function <lambda> at 0x110ec24d0>\n",
      "(1, 2) (1, 2)\n"
     ]
    }
   ],
   "source": [
    "def a(x,y) : \n",
    "    return x,y\n",
    "\n",
    "b = lambda x,y : (x,y) # lambda는 콜론 뒤에 컴마가 있으며 안됨\n",
    "\n",
    "\n",
    "print(a,b) # 포인터 개념인가??\n",
    "print(a(1,2), b(1,2))"
   ]
  },
  {
   "cell_type": "code",
   "execution_count": 150,
   "metadata": {},
   "outputs": [
    {
     "name": "stdout",
     "output_type": "stream",
     "text": [
      "(<function <lambda> at 0x110ee8290>, 10, 2)\n"
     ]
    }
   ],
   "source": [
    "c = lambda x,y : (x,y) , 10, 2 # 컴마 때문에 튜플로 저장됨\n",
    "print(c)"
   ]
  },
  {
   "cell_type": "markdown",
   "metadata": {},
   "source": [
    "## 정렬"
   ]
  },
  {
   "cell_type": "code",
   "execution_count": 141,
   "metadata": {},
   "outputs": [
    {
     "data": {
      "text/plain": [
       "[[4, 31, 111, 4],\n",
       " [2, 99, 345, 4],\n",
       " [3, 31, 888, 3],\n",
       " [4, 18, 111, 4],\n",
       " [5, 55, 332, 3],\n",
       " [6, 42, 888, 4],\n",
       " [7, 13, 888, 4]]"
      ]
     },
     "execution_count": 141,
     "metadata": {},
     "output_type": "execute_result"
    }
   ],
   "source": [
    "\n",
    "data = [[4,31,111,4],[2,99,345,4],[3,31,888,3],[4,18,111,4],[5,55,332,3],[6,42,888,4],[7,13,888,4]]\n",
    "\n",
    "data"
   ]
  },
  {
   "cell_type": "code",
   "execution_count": 142,
   "metadata": {},
   "outputs": [
    {
     "data": {
      "text/plain": [
       "[[2, 99, 345, 4],\n",
       " [3, 31, 888, 3],\n",
       " [4, 18, 111, 4],\n",
       " [4, 31, 111, 4],\n",
       " [5, 55, 332, 3],\n",
       " [6, 42, 888, 4],\n",
       " [7, 13, 888, 4]]"
      ]
     },
     "execution_count": 142,
     "metadata": {},
     "output_type": "execute_result"
    }
   ],
   "source": [
    "data.sort() #앞에거 하나만 기준으로 정렬\n",
    "data"
   ]
  },
  {
   "cell_type": "code",
   "execution_count": 144,
   "metadata": {},
   "outputs": [
    {
     "data": {
      "text/plain": [
       "[[7, 13, 888, 4],\n",
       " [4, 18, 111, 4],\n",
       " [4, 31, 111, 4],\n",
       " [3, 31, 888, 3],\n",
       " [6, 42, 888, 4],\n",
       " [5, 55, 332, 3],\n",
       " [2, 99, 345, 4]]"
      ]
     },
     "execution_count": 144,
     "metadata": {},
     "output_type": "execute_result"
    }
   ],
   "source": [
    "data.sort(key =  lambda x : (x[1])) \n",
    "data"
   ]
  },
  {
   "cell_type": "code",
   "execution_count": 146,
   "metadata": {},
   "outputs": [
    {
     "data": {
      "text/plain": [
       "[[7, 13, 888, 4],\n",
       " [4, 18, 111, 4],\n",
       " [4, 31, 111, 4],\n",
       " [3, 31, 888, 3],\n",
       " [6, 42, 888, 4],\n",
       " [5, 55, 332, 3],\n",
       " [2, 99, 345, 4]]"
      ]
     },
     "execution_count": 146,
     "metadata": {},
     "output_type": "execute_result"
    }
   ],
   "source": [
    "data.sort(key =  lambda x : (x[1],x[0]))\n",
    "data"
   ]
  },
  {
   "cell_type": "code",
   "execution_count": 148,
   "metadata": {},
   "outputs": [
    {
     "data": {
      "text/plain": [
       "[[2, 99, 345, 4],\n",
       " [3, 31, 888, 3],\n",
       " [4, 31, 111, 4],\n",
       " [4, 18, 111, 4],\n",
       " [5, 55, 332, 3],\n",
       " [6, 42, 888, 4],\n",
       " [7, 13, 888, 4]]"
      ]
     },
     "execution_count": 148,
     "metadata": {},
     "output_type": "execute_result"
    }
   ],
   "source": [
    "data.sort(key =  lambda x : (x[0],-x[1]))\n",
    "data"
   ]
  },
  {
   "cell_type": "markdown",
   "metadata": {},
   "source": [
    "## for 문과 스택/큐 사용 주의사항"
   ]
  },
  {
   "cell_type": "code",
   "execution_count": 186,
   "metadata": {},
   "outputs": [
    {
     "name": "stdout",
     "output_type": "stream",
     "text": [
      "0 1 [1, 2, 3, 4, 5, 6, 7, 8, 9]\n",
      "1 3 [2, 3, 4, 5, 6, 7, 8, 9]\n",
      "2 5 [3, 4, 5, 6, 7, 8, 9]\n",
      "3 7 [4, 5, 6, 7, 8, 9]\n",
      "4 9 [5, 6, 7, 8, 9]\n"
     ]
    }
   ],
   "source": [
    "a = [1,2,3,4,5,6,7,8,9]\n",
    "\n",
    "for idx, v in enumerate(a) : \n",
    "    print(idx,v,a)\n",
    "    a.pop(0)  "
   ]
  },
  {
   "cell_type": "code",
   "execution_count": 187,
   "metadata": {},
   "outputs": [
    {
     "name": "stdout",
     "output_type": "stream",
     "text": [
      "0 1 [1, 2, 3, 4, 5, 6, 7, 8, 9]\n",
      "1 2 [1, 2, 3, 4, 5, 6, 7, 8, 9]\n",
      "2 3 [1, 2, 3, 4, 5, 6, 7, 8, 9]\n",
      "3 4 [1, 2, 3, 4, 5, 6, 7, 8, 9]\n",
      "4 5 [1, 2, 3, 4, 5, 6, 7, 8, 9]\n",
      "5 6 [1, 2, 3, 4, 5, 6, 7, 8, 9]\n",
      "6 7 [1, 2, 3, 4, 5, 6, 7, 8, 9]\n",
      "7 8 [1, 2, 3, 4, 5, 6, 7, 8, 9]\n",
      "8 9 [1, 2, 3, 4, 5, 6, 7, 8, 9]\n"
     ]
    }
   ],
   "source": [
    "a = [1,2,3,4,5,6,7,8,9]\n",
    "\n",
    "for idx, v in enumerate(a) : \n",
    "    print(idx,v,a)\n",
    "    a.pop(idx)\n",
    "    a.insert(idx,v)"
   ]
  },
  {
   "cell_type": "code",
   "execution_count": 240,
   "metadata": {},
   "outputs": [
    {
     "name": "stdout",
     "output_type": "stream",
     "text": [
      "0 1 [1, 2, 3, 4, 5, 6, 7, 8, 9]\n",
      "1 3 [2, 3, 4, 5, 6, 7, 8, 9]\n",
      "2 5 [3, 4, 5, 6, 7, 8, 9]\n",
      "3 7 [4, 5, 6, 7, 8, 9]\n",
      "4 9 [5, 6, 7, 8, 9]\n"
     ]
    }
   ],
   "source": [
    "a = [1,2,3,4,5,6,7,8,9]\n",
    "\n",
    "for idx, v in enumerate(a) : \n",
    "    print(idx,v,a)\n",
    "    a.pop(0)\n",
    "    #a.insert(0,v)"
   ]
  },
  {
   "cell_type": "markdown",
   "metadata": {},
   "source": [
    "## list와 비슷한 자료형은 포인터 개념을 생각하자"
   ]
  },
  {
   "cell_type": "code",
   "execution_count": null,
   "metadata": {},
   "outputs": [],
   "source": [
    "# https://lee-seul.github.io/concept/python/2018/05/02/python-call-by-object-reference.html"
   ]
  },
  {
   "cell_type": "code",
   "execution_count": 226,
   "metadata": {},
   "outputs": [
    {
     "data": {
      "text/plain": [
       "[[1, 2], [3, 4], [5, 6], [7, 8], [9]]"
      ]
     },
     "execution_count": 226,
     "metadata": {},
     "output_type": "execute_result"
    }
   ],
   "source": [
    "a = [[1,2],[3,4],[5,6],[7,8],[9]]\n",
    "b = a\n",
    "b"
   ]
  },
  {
   "cell_type": "code",
   "execution_count": 227,
   "metadata": {},
   "outputs": [
    {
     "data": {
      "text/plain": [
       "[[1, 2], [3, 4], [5, 6], [7, 8], 1]"
      ]
     },
     "execution_count": 227,
     "metadata": {},
     "output_type": "execute_result"
    }
   ],
   "source": [
    "b[4] = 1\n",
    "a"
   ]
  },
  {
   "cell_type": "code",
   "execution_count": 230,
   "metadata": {},
   "outputs": [
    {
     "data": {
      "text/plain": [
       "[[1, 2], [3, 4], [5, 6], [7, 8], [9]]"
      ]
     },
     "execution_count": 230,
     "metadata": {},
     "output_type": "execute_result"
    }
   ],
   "source": [
    "a = [[1,2],[3,4],[5,6],[7,8],[9]]\n",
    "b = a.copy()\n",
    "b"
   ]
  },
  {
   "cell_type": "code",
   "execution_count": 231,
   "metadata": {},
   "outputs": [
    {
     "data": {
      "text/plain": [
       "[[1, 2], [3, 4], [5, 6], [7, 8], [1]]"
      ]
     },
     "execution_count": 231,
     "metadata": {},
     "output_type": "execute_result"
    }
   ],
   "source": [
    "b[4][0] = 1\n",
    "a"
   ]
  },
  {
   "cell_type": "code",
   "execution_count": 238,
   "metadata": {},
   "outputs": [
    {
     "data": {
      "text/plain": [
       "[1]"
      ]
     },
     "execution_count": 238,
     "metadata": {},
     "output_type": "execute_result"
    }
   ],
   "source": [
    "z = [3]\n",
    "x = z # 주소값을 주는 거구나...\n",
    "y = x\n",
    "y[0] = 1\n",
    "z"
   ]
  },
  {
   "cell_type": "code",
   "execution_count": 235,
   "metadata": {},
   "outputs": [
    {
     "data": {
      "text/plain": [
       "[3]"
      ]
     },
     "execution_count": 235,
     "metadata": {},
     "output_type": "execute_result"
    }
   ],
   "source": [
    "z = [3]\n",
    "x = z\n",
    "y = x\n",
    "y = 1\n",
    "z"
   ]
  },
  {
   "cell_type": "markdown",
   "metadata": {},
   "source": [
    "# for else 문"
   ]
  },
  {
   "cell_type": "code",
   "execution_count": 16,
   "metadata": {},
   "outputs": [
    {
     "name": "stdout",
     "output_type": "stream",
     "text": [
      "2 is a prime number\n",
      "3 is a prime number\n",
      "4 equals 2 * 2.0\n",
      "5 is a prime number\n",
      "6 equals 2 * 3.0\n",
      "7 is a prime number\n",
      "8 equals 2 * 4.0\n",
      "9 equals 3 * 3.0\n",
      "9 3 ㅇㄹㄴㅇㄹㄴㅇㄹ\n",
      "3\n"
     ]
    }
   ],
   "source": [
    "for n in range(2, 10):\n",
    "    for x in range(2, n):\n",
    "        if n % x == 0:\n",
    "            print( n, 'equals', x, '*', n/x)\n",
    "            break\n",
    "    else:\n",
    "        # loop fell through without finding a factor\n",
    "        print(n, 'is a prime number')\n",
    "else:\n",
    "        # loop fell through without finding a factor\n",
    "    print(n,x, 'ㅇㄹㄴㅇㄹㄴㅇㄹ')"
   ]
  },
  {
   "cell_type": "code",
   "execution_count": 2,
   "metadata": {},
   "outputs": [
    {
     "name": "stdout",
     "output_type": "stream",
     "text": [
      "2 is a prime number\n",
      "3 is a prime number\n",
      "4 equals 2 * 2.0\n",
      "4 is a prime number\n",
      "5 is a prime number\n",
      "6 equals 2 * 3.0\n",
      "6 equals 3 * 2.0\n",
      "6 is a prime number\n",
      "7 is a prime number\n",
      "8 equals 2 * 4.0\n",
      "8 equals 4 * 2.0\n",
      "8 is a prime number\n",
      "9 equals 3 * 3.0\n",
      "9 is a prime number\n"
     ]
    }
   ],
   "source": [
    "for n in range(2, 10):\n",
    "    for x in range(2, n):\n",
    "        if n % x == 0:\n",
    "            print( n, 'equals', x, '*', n/x)\n",
    "            \n",
    "    else:\n",
    "        # loop fell through without finding a factor\n",
    "        print(n, 'is a prime number')"
   ]
  },
  {
   "cell_type": "code",
   "execution_count": 5,
   "metadata": {},
   "outputs": [
    {
     "name": "stdout",
     "output_type": "stream",
     "text": [
      "0\n",
      "1\n",
      "2\n",
      "3\n"
     ]
    }
   ],
   "source": [
    "\n",
    "for a in range(0,5):\n",
    "    print(a)\n",
    "    if a == 3:\n",
    "        break;\n",
    "else :\n",
    "    print(\"else statement is called\")"
   ]
  },
  {
   "cell_type": "code",
   "execution_count": 6,
   "metadata": {},
   "outputs": [
    {
     "name": "stdout",
     "output_type": "stream",
     "text": [
      "0\n",
      "1\n",
      "2\n",
      "3\n",
      "4\n",
      "else statement is called\n"
     ]
    }
   ],
   "source": [
    "for a in range(0,5):\n",
    "    print(a)\n",
    "    if a == 6:\n",
    "        break;\n",
    "else :\n",
    "    print(\"else statement is called\")"
   ]
  },
  {
   "cell_type": "markdown",
   "metadata": {},
   "source": [
    "# set "
   ]
  },
  {
   "cell_type": "code",
   "execution_count": 17,
   "metadata": {},
   "outputs": [
    {
     "name": "stdout",
     "output_type": "stream",
     "text": [
      "<class 'dict'>\n"
     ]
    }
   ],
   "source": [
    "b = {}\n",
    "print(type(b))"
   ]
  },
  {
   "cell_type": "code",
   "execution_count": 18,
   "metadata": {},
   "outputs": [
    {
     "name": "stdout",
     "output_type": "stream",
     "text": [
      "<class 'set'>\n"
     ]
    }
   ],
   "source": [
    "a = {(1,2)}\n",
    "print(type(a))"
   ]
  },
  {
   "cell_type": "code",
   "execution_count": 25,
   "metadata": {},
   "outputs": [
    {
     "ename": "TypeError",
     "evalue": "unhashable type: 'list'",
     "output_type": "error",
     "traceback": [
      "\u001b[0;31m----------------------------------------------------------------------\u001b[0m",
      "\u001b[0;31mTypeError\u001b[0m                            Traceback (most recent call last)",
      "\u001b[0;32m<ipython-input-25-0800ecad841a>\u001b[0m in \u001b[0;36m<module>\u001b[0;34m\u001b[0m\n\u001b[0;32m----> 1\u001b[0;31m \u001b[0ma\u001b[0m\u001b[0;34m.\u001b[0m\u001b[0madd\u001b[0m\u001b[0;34m(\u001b[0m\u001b[0;34m[\u001b[0m\u001b[0;36m2\u001b[0m\u001b[0;34m,\u001b[0m\u001b[0;36m3\u001b[0m\u001b[0;34m,\u001b[0m\u001b[0;36m4\u001b[0m\u001b[0;34m,\u001b[0m\u001b[0;36m5\u001b[0m\u001b[0;34m,\u001b[0m\u001b[0;36m4\u001b[0m\u001b[0;34m]\u001b[0m\u001b[0;34m)\u001b[0m\u001b[0;34m\u001b[0m\u001b[0;34m\u001b[0m\u001b[0m\n\u001b[0m\u001b[1;32m      2\u001b[0m \u001b[0mprint\u001b[0m\u001b[0;34m(\u001b[0m\u001b[0ma\u001b[0m\u001b[0;34m)\u001b[0m\u001b[0;34m\u001b[0m\u001b[0;34m\u001b[0m\u001b[0m\n",
      "\u001b[0;31mTypeError\u001b[0m: unhashable type: 'list'"
     ]
    }
   ],
   "source": [
    "a.add([2,3,4,5,4]) # 튜플만 들어간다??\n",
    "print(a)"
   ]
  },
  {
   "cell_type": "code",
   "execution_count": null,
   "metadata": {},
   "outputs": [],
   "source": []
  }
 ],
 "metadata": {
  "kernelspec": {
   "display_name": "Python 3",
   "language": "python",
   "name": "python3"
  },
  "language_info": {
   "codemirror_mode": {
    "name": "ipython",
    "version": 3
   },
   "file_extension": ".py",
   "mimetype": "text/x-python",
   "name": "python",
   "nbconvert_exporter": "python",
   "pygments_lexer": "ipython3",
   "version": "3.7.4"
  }
 },
 "nbformat": 4,
 "nbformat_minor": 2
}
