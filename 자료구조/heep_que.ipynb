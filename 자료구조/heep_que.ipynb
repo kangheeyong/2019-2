{
 "cells": [
  {
   "cell_type": "code",
   "execution_count": 3,
   "metadata": {},
   "outputs": [],
   "source": [
    "import heapq as hq"
   ]
  },
  {
   "cell_type": "code",
   "execution_count": 6,
   "metadata": {},
   "outputs": [
    {
     "name": "stdout",
     "output_type": "stream",
     "text": [
      "[2, 4, 14]\n"
     ]
    }
   ],
   "source": [
    "pque = []\n",
    "\n",
    "\n",
    "hq.heappush(pque,4)\n",
    "hq.heappush(pque,2)\n",
    "hq.heappush(pque,14)\n",
    "\n",
    "print(pque)\n",
    "\n"
   ]
  },
  {
   "cell_type": "code",
   "execution_count": 9,
   "metadata": {},
   "outputs": [
    {
     "data": {
      "text/plain": [
       "2"
      ]
     },
     "execution_count": 9,
     "metadata": {},
     "output_type": "execute_result"
    }
   ],
   "source": [
    "hq.heappop(pque)"
   ]
  },
  {
   "cell_type": "code",
   "execution_count": 10,
   "metadata": {},
   "outputs": [
    {
     "data": {
      "text/plain": [
       "[4, 14]"
      ]
     },
     "execution_count": 10,
     "metadata": {},
     "output_type": "execute_result"
    }
   ],
   "source": [
    "pque"
   ]
  },
  {
   "cell_type": "code",
   "execution_count": null,
   "metadata": {},
   "outputs": [],
   "source": []
  },
  {
   "cell_type": "code",
   "execution_count": 28,
   "metadata": {},
   "outputs": [],
   "source": [
    "from collections import deque"
   ]
  },
  {
   "cell_type": "code",
   "execution_count": 37,
   "metadata": {},
   "outputs": [
    {
     "name": "stdout",
     "output_type": "stream",
     "text": [
      "1\n",
      "5\n",
      "12\n"
     ]
    },
    {
     "ename": "TypeError",
     "evalue": "can only concatenate deque (not \"list\") to deque",
     "output_type": "error",
     "traceback": [
      "\u001b[0;31m----------------------------------------------------------------------\u001b[0m",
      "\u001b[0;31mTypeError\u001b[0m                            Traceback (most recent call last)",
      "\u001b[0;32m<ipython-input-37-01e29e7a87fc>\u001b[0m in \u001b[0;36m<module>\u001b[0;34m\u001b[0m\n\u001b[1;32m      8\u001b[0m \u001b[0mprint\u001b[0m\u001b[0;34m(\u001b[0m\u001b[0mq\u001b[0m\u001b[0;34m.\u001b[0m\u001b[0mpopleft\u001b[0m\u001b[0;34m(\u001b[0m\u001b[0;34m)\u001b[0m\u001b[0;34m)\u001b[0m\u001b[0;34m\u001b[0m\u001b[0;34m\u001b[0m\u001b[0m\n\u001b[1;32m      9\u001b[0m \u001b[0mprint\u001b[0m\u001b[0;34m(\u001b[0m\u001b[0mq\u001b[0m\u001b[0;34m.\u001b[0m\u001b[0mpopleft\u001b[0m\u001b[0;34m(\u001b[0m\u001b[0;34m)\u001b[0m\u001b[0;34m)\u001b[0m\u001b[0;34m\u001b[0m\u001b[0;34m\u001b[0m\u001b[0m\n\u001b[0;32m---> 10\u001b[0;31m \u001b[0mq\u001b[0m \u001b[0;34m+\u001b[0m \u001b[0;34m[\u001b[0m\u001b[0;36m3\u001b[0m\u001b[0;34m]\u001b[0m\u001b[0;34m\u001b[0m\u001b[0;34m\u001b[0m\u001b[0m\n\u001b[0m",
      "\u001b[0;31mTypeError\u001b[0m: can only concatenate deque (not \"list\") to deque"
     ]
    }
   ],
   "source": [
    "q = deque()\n",
    "q.append(1)\n",
    "q.append(5)\n",
    "q.append(12)\n",
    "q.append(3)\n",
    "\n",
    "print(q.popleft())\n",
    "print(q.popleft())\n",
    "print(q.popleft())\n",
    "q + [3]"
   ]
  },
  {
   "cell_type": "code",
   "execution_count": null,
   "metadata": {},
   "outputs": [],
   "source": [
    "q = "
   ]
  },
  {
   "cell_type": "markdown",
   "metadata": {},
   "source": [
    "# 메시지 큐 문제"
   ]
  },
  {
   "cell_type": "code",
   "execution_count": 19,
   "metadata": {},
   "outputs": [],
   "source": [
    "def solution(N,S) :\n",
    "    \n",
    "    q = [[] for _ in range(N)]\n",
    "    \n",
    "    \n",
    "    for v in S :\n",
    "        q[0] += [v]*v\n",
    "        q.sort(key = lambda x : len(x))\n",
    "        print(q)\n",
    "    \n",
    "    \n",
    "    \n",
    "    return max([len(v) for v in q])"
   ]
  },
  {
   "cell_type": "code",
   "execution_count": 16,
   "metadata": {},
   "outputs": [],
   "source": [
    "def solution(N,S) :\n",
    "    \n",
    "    q = [0 for _ in range(N)]\n",
    "    \n",
    "    \n",
    "    for v in S :\n",
    "        q[0] += v\n",
    "        q.sort()\n",
    "        print(q)\n",
    "    \n",
    "    \n",
    "    \n",
    "    return max(q)"
   ]
  },
  {
   "cell_type": "code",
   "execution_count": 20,
   "metadata": {},
   "outputs": [
    {
     "name": "stdout",
     "output_type": "stream",
     "text": [
      "[[], [], [], [4, 4, 4, 4]]\n",
      "[[], [], [3, 3, 3], [4, 4, 4, 4]]\n",
      "[[], [3, 3, 3], [4, 4, 4, 4], [6, 6, 6, 6, 6, 6]]\n",
      "[[2, 2], [3, 3, 3], [4, 4, 4, 4], [6, 6, 6, 6, 6, 6]]\n",
      "[[2, 2, 1], [3, 3, 3], [4, 4, 4, 4], [6, 6, 6, 6, 6, 6]]\n",
      "[[3, 3, 3], [4, 4, 4, 4], [2, 2, 1, 3, 3, 3], [6, 6, 6, 6, 6, 6]]\n",
      "[[4, 4, 4, 4], [2, 2, 1, 3, 3, 3], [6, 6, 6, 6, 6, 6], [3, 3, 3, 4, 4, 4, 4]]\n"
     ]
    },
    {
     "data": {
      "text/plain": [
       "7"
      ]
     },
     "execution_count": 20,
     "metadata": {},
     "output_type": "execute_result"
    }
   ],
   "source": [
    "solution(4,[4,3,6,2,1,3,4])"
   ]
  },
  {
   "cell_type": "code",
   "execution_count": null,
   "metadata": {},
   "outputs": [],
   "source": []
  },
  {
   "cell_type": "code",
   "execution_count": null,
   "metadata": {},
   "outputs": [],
   "source": []
  },
  {
   "cell_type": "code",
   "execution_count": null,
   "metadata": {},
   "outputs": [],
   "source": []
  },
  {
   "cell_type": "code",
   "execution_count": null,
   "metadata": {},
   "outputs": [],
   "source": []
  },
  {
   "cell_type": "code",
   "execution_count": null,
   "metadata": {},
   "outputs": [],
   "source": [
    "\n",
    "\n",
    "def solution(bridge_length, weight, truck_weights):\n",
    "    answer = 0\n",
    "    \n",
    "    max_t = bridge_length\n",
    "    max_w = weight\n",
    "    t = 1\n",
    "    que = [0 for __ in range(bridge_length-1)] \n",
    "    que.append(truck_weights.pop(0))\n",
    "    while sum(que) != 0:\n",
    "        \n",
    "        if truck_weights != [] and sum(que) + truck_weights[0] <= max_w :\n",
    "            que.pop(0)\n",
    "            que.append(truck_weights.pop(0))             \n",
    "        else :\n",
    "            que.pop(0)\n",
    "            if truck_weights != [] and sum(que) == 0 :\n",
    "                que.append(truck_weights.pop(0))\n",
    "            else :       \n",
    "                que.append(0)      \n",
    "            \n",
    "                \n",
    "            \n",
    "        t += 1\n",
    "    #print(t)\n",
    "    return t"
   ]
  },
  {
   "cell_type": "code",
   "execution_count": null,
   "metadata": {},
   "outputs": [],
   "source": [
    "from collections import deque\n",
    "\n",
    "def solution(bridge_length, weight, truck_weights):\n",
    "    answer = 0\n",
    "    \n",
    "    max_t = bridge_length\n",
    "    max_w = weight\n",
    "    t = 1\n",
    "    que = [0 for __ in range(bridge_length-1)] \n",
    "    \n",
    "    truck_weights.reverse()\n",
    "    \n",
    "    que.append(truck_weights.pop())\n",
    "    while sum(que) != 0:\n",
    "        que.pop(0)\n",
    "        if truck_weights != [] and sum(que) + truck_weights[-1] <= max_w :\n",
    "            \n",
    "            que.append(truck_weights.pop())             \n",
    "        else :\n",
    "            que.append(0)      \n",
    "            \n",
    "                \n",
    "            \n",
    "        t += 1\n",
    "    #print(t)\n",
    "    return t"
   ]
  },
  {
   "cell_type": "code",
   "execution_count": 41,
   "metadata": {},
   "outputs": [
    {
     "ename": "SyntaxError",
     "evalue": "invalid syntax (<ipython-input-41-7b24372e3c2d>, line 18)",
     "output_type": "error",
     "traceback": [
      "\u001b[0;36m  File \u001b[0;32m\"<ipython-input-41-7b24372e3c2d>\"\u001b[0;36m, line \u001b[0;32m18\u001b[0m\n\u001b[0;31m    que[t%max_t+1]truck_weights.pop()\u001b[0m\n\u001b[0m                              ^\u001b[0m\n\u001b[0;31mSyntaxError\u001b[0m\u001b[0;31m:\u001b[0m invalid syntax\n"
     ]
    }
   ],
   "source": [
    "from collections import deque\n",
    "\n",
    "def solution(bridge_length, weight, truck_weights):\n",
    "    answer = 0\n",
    "    \n",
    "    max_t = bridge_length\n",
    "    max_w = weight\n",
    "    t = 1\n",
    "    que = [0 for __ in range(bridge_length)] \n",
    "    \n",
    "    truck_weights.reverse()\n",
    "    \n",
    "    que[t-1] = truck_weights.pop()\n",
    "    while sum(que) != 0:\n",
    "        que[t%max_t] = 0\n",
    "        if truck_weights != [] and sum(que) + truck_weights[-1] <= max_w :\n",
    "            \n",
    "            que[t%max_t] = truck_weights.pop()           \n",
    "        else :\n",
    "            que[t%max_t] = 0  \n",
    "            \n",
    "                \n",
    "            \n",
    "        t += 1\n",
    "    #print(t)\n",
    "    return t"
   ]
  },
  {
   "cell_type": "code",
   "execution_count": null,
   "metadata": {},
   "outputs": [],
   "source": [
    "from collections import deque\n",
    "\n",
    "def solution(bridge_length, weight, truck_weights):\n",
    "    answer = 0\n",
    "    \n",
    "    max_t = bridge_length\n",
    "    max_w = weight\n",
    "    t = 1\n",
    "    que = [0 for __ in range(bridge_length)] \n",
    "    \n",
    "    max_idx = len(truck_weights)\n",
    "    idx = 1\n",
    "    que[t-1] = truck_weights[0]\n",
    "    while sum(que) != 0:\n",
    "        que[t%max_t] = 0\n",
    "        if idx < max_idx and sum(que) + truck_weights[idx] <= max_w :\n",
    "            que[t%max_t] = truck_weights[idx]  \n",
    "            idx += 1  \n",
    "        else :\n",
    "            que[t%max_t] = 0  \n",
    "            \n",
    "                \n",
    "        \n",
    "        t += 1\n",
    "    #print(t)\n",
    "    return t"
   ]
  },
  {
   "cell_type": "code",
   "execution_count": null,
   "metadata": {},
   "outputs": [],
   "source": [
    "from collections import deque\n",
    "\n",
    "def solution(bridge_length, weight, truck_weights):\n",
    "    answer = 0\n",
    "    \n",
    "    max_t = bridge_length\n",
    "    max_w = weight\n",
    "    t = 1\n",
    "    que = [0 for __ in range(bridge_length)] \n",
    "    \n",
    "    max_idx = len(truck_weights)\n",
    "    idx = 1\n",
    "    que[t-1] = truck_weights[0]\n",
    "    total = truck_weights[0]\n",
    "    while total != 0:\n",
    "        total -= que[t%max_t]\n",
    "        que[t%max_t] = 0\n",
    "        if idx < max_idx and total + truck_weights[idx] <= max_w :\n",
    "            que[t%max_t] = truck_weights[idx]  \n",
    "            total += que[t%max_t]\n",
    "            idx += 1  \n",
    "        else :\n",
    "            que[t%max_t] = 0  \n",
    "            \n",
    "                \n",
    "        \n",
    "        t += 1\n",
    "    #print(t)\n",
    "    return t"
   ]
  },
  {
   "cell_type": "code",
   "execution_count": null,
   "metadata": {},
   "outputs": [],
   "source": []
  },
  {
   "cell_type": "code",
   "execution_count": null,
   "metadata": {},
   "outputs": [],
   "source": [
    "\n",
    "\n",
    "def solution(bridge_length, weight, truck_weights):\n",
    "    \n",
    "    state = [0]*bridge_length\n",
    "    \n",
    "    t = 0\n",
    "    while state :\n",
    "        \n",
    "        state.pop(0)\n",
    "        \n",
    "        if truck_weights :\n",
    "            if sum(state) + truck_weights[0] <= weight :\n",
    "                state.append(truck_weight.pop(0))\n",
    "            else :\n",
    "                state.append(0)\n",
    "        t+=1\n",
    "    \n",
    "    \n",
    "    return t"
   ]
  },
  {
   "cell_type": "code",
   "execution_count": null,
   "metadata": {},
   "outputs": [],
   "source": []
  },
  {
   "cell_type": "code",
   "execution_count": null,
   "metadata": {},
   "outputs": [],
   "source": []
  },
  {
   "cell_type": "code",
   "execution_count": null,
   "metadata": {},
   "outputs": [],
   "source": []
  },
  {
   "cell_type": "code",
   "execution_count": 203,
   "metadata": {},
   "outputs": [],
   "source": []
  },
  {
   "cell_type": "code",
   "execution_count": 215,
   "metadata": {},
   "outputs": [],
   "source": []
  },
  {
   "cell_type": "code",
   "execution_count": 219,
   "metadata": {},
   "outputs": [],
   "source": []
  },
  {
   "cell_type": "code",
   "execution_count": 217,
   "metadata": {},
   "outputs": [],
   "source": []
  },
  {
   "cell_type": "code",
   "execution_count": 221,
   "metadata": {},
   "outputs": [
    {
     "name": "stdout",
     "output_type": "stream",
     "text": [
      "[2, 3, 1, 2]\n",
      "[1, 1, 1, 3]\n",
      "[4, 5, 1, 4]\n",
      "----\n",
      "[False, 3, 1, False]\n",
      "[1, 1, 1, 3]\n",
      "[4, 5, 1, 4]\n",
      "----\n",
      "[False, 3, False, False]\n",
      "[False, False, False, 3]\n",
      "[4, 5, False, 4]\n",
      "----\n",
      "[False, 3, False, False]\n",
      "[False, False, False, 3]\n",
      "[False, 5, False, False]\n"
     ]
    },
    {
     "data": {
      "text/plain": [
       "-1"
      ]
     },
     "execution_count": 221,
     "metadata": {},
     "output_type": "execute_result"
    }
   ],
   "source": []
  },
  {
   "cell_type": "code",
   "execution_count": 207,
   "metadata": {},
   "outputs": [
    {
     "name": "stdout",
     "output_type": "stream",
     "text": [
      "[2, 3, 1, 2]\n",
      "[2, 3, 1, 2]\n",
      "[4, 1, 1, 4]\n",
      "----\n",
      "[False, 3, 1, False]\n",
      "[False, 3, 1, False]\n",
      "[4, 1, 1, 4]\n",
      "----\n",
      "[False, False, 1, False]\n",
      "[False, False, 1, False]\n",
      "[4, 1, 1, 4]\n",
      "----\n",
      "[False, False, False, False]\n",
      "[False, False, False, False]\n",
      "[4, False, False, 4]\n",
      "----\n",
      "[False, False, False, False]\n",
      "[False, False, False, False]\n",
      "[False, False, False, False]\n"
     ]
    },
    {
     "data": {
      "text/plain": [
       "-1"
      ]
     },
     "execution_count": 207,
     "metadata": {},
     "output_type": "execute_result"
    }
   ],
   "source": []
  },
  {
   "cell_type": "code",
   "execution_count": 158,
   "metadata": {},
   "outputs": [
    {
     "name": "stdout",
     "output_type": "stream",
     "text": [
      "[3, 3, 1, 1]\n",
      "[1, 1, 1, 2]\n",
      "[1, 4, 4, 1]\n",
      "----\n",
      "[False, False, 1, 1]\n",
      "[1, 1, 1, 2]\n",
      "[1, 4, 4, 1]\n",
      "----\n",
      "[False, False, False, False]\n",
      "[False, False, False, 2]\n",
      "[False, 4, 4, False]\n",
      "----\n",
      "[False, False, False, False]\n",
      "[False, False, False, 2]\n",
      "[False, False, False, False]\n"
     ]
    },
    {
     "data": {
      "text/plain": [
       "-1"
      ]
     },
     "execution_count": 158,
     "metadata": {},
     "output_type": "execute_result"
    }
   ],
   "source": []
  },
  {
   "cell_type": "code",
   "execution_count": null,
   "metadata": {},
   "outputs": [],
   "source": []
  },
  {
   "cell_type": "code",
   "execution_count": 199,
   "metadata": {},
   "outputs": [],
   "source": []
  },
  {
   "cell_type": "code",
   "execution_count": 202,
   "metadata": {},
   "outputs": [
    {
     "data": {
      "text/plain": [
       "[[1, 2, 3, 4], [1, 2, 3, 4], [1, 2, 3, 4], []]"
      ]
     },
     "execution_count": 202,
     "metadata": {},
     "output_type": "execute_result"
    }
   ],
   "source": [
    "d"
   ]
  },
  {
   "cell_type": "code",
   "execution_count": 114,
   "metadata": {},
   "outputs": [
    {
     "ename": "SyntaxError",
     "evalue": "invalid syntax (<ipython-input-114-0e4f3ccf8a5b>, line 1)",
     "output_type": "error",
     "traceback": [
      "\u001b[0;36m  File \u001b[0;32m\"<ipython-input-114-0e4f3ccf8a5b>\"\u001b[0;36m, line \u001b[0;32m1\u001b[0m\n\u001b[0;31m    data[*a]\u001b[0m\n\u001b[0m         ^\u001b[0m\n\u001b[0;31mSyntaxError\u001b[0m\u001b[0;31m:\u001b[0m invalid syntax\n"
     ]
    }
   ],
   "source": [
    "data[*a]"
   ]
  },
  {
   "cell_type": "code",
   "execution_count": 227,
   "metadata": {},
   "outputs": [
    {
     "data": {
      "text/plain": [
       "[3, 4, 5]"
      ]
     },
     "execution_count": 227,
     "metadata": {},
     "output_type": "execute_result"
    }
   ],
   "source": [
    "a = [1,2,3,4,5]\n",
    "\n",
    "\n",
    "list(filter(lambda x : 2<x , a)) \n",
    "\n"
   ]
  },
  {
   "cell_type": "code",
   "execution_count": 143,
   "metadata": {},
   "outputs": [
    {
     "ename": "SyntaxError",
     "evalue": "invalid syntax (<ipython-input-143-7dd2165bb3aa>, line 1)",
     "output_type": "error",
     "traceback": [
      "\u001b[0;36m  File \u001b[0;32m\"<ipython-input-143-7dd2165bb3aa>\"\u001b[0;36m, line \u001b[0;32m1\u001b[0m\n\u001b[0;31m    if a, False :\u001b[0m\n\u001b[0m        ^\u001b[0m\n\u001b[0;31mSyntaxError\u001b[0m\u001b[0;31m:\u001b[0m invalid syntax\n"
     ]
    }
   ],
   "source": []
  },
  {
   "cell_type": "code",
   "execution_count": 3,
   "metadata": {},
   "outputs": [],
   "source": [
    "a = set()"
   ]
  },
  {
   "cell_type": "code",
   "execution_count": 5,
   "metadata": {},
   "outputs": [],
   "source": [
    "a.add((1,2,1))\n",
    "a.add((1,2,2))"
   ]
  },
  {
   "cell_type": "code",
   "execution_count": 6,
   "metadata": {},
   "outputs": [
    {
     "data": {
      "text/plain": [
       "{(1, 2, 1), (1, 2, 2)}"
      ]
     },
     "execution_count": 6,
     "metadata": {},
     "output_type": "execute_result"
    }
   ],
   "source": [
    "a"
   ]
  },
  {
   "cell_type": "code",
   "execution_count": 8,
   "metadata": {},
   "outputs": [],
   "source": [
    "a.remove((1,2,1))"
   ]
  },
  {
   "cell_type": "code",
   "execution_count": 9,
   "metadata": {},
   "outputs": [
    {
     "data": {
      "text/plain": [
       "{(1, 2, 2)}"
      ]
     },
     "execution_count": 9,
     "metadata": {},
     "output_type": "execute_result"
    }
   ],
   "source": [
    "a"
   ]
  },
  {
   "cell_type": "code",
   "execution_count": null,
   "metadata": {},
   "outputs": [],
   "source": []
  },
  {
   "cell_type": "code",
   "execution_count": 360,
   "metadata": {},
   "outputs": [],
   "source": []
  },
  {
   "cell_type": "code",
   "execution_count": null,
   "metadata": {},
   "outputs": [],
   "source": []
  },
  {
   "cell_type": "code",
   "execution_count": null,
   "metadata": {},
   "outputs": [],
   "source": []
  },
  {
   "cell_type": "code",
   "execution_count": null,
   "metadata": {},
   "outputs": [],
   "source": []
  }
 ],
 "metadata": {
  "kernelspec": {
   "display_name": "Python 3",
   "language": "python",
   "name": "python3"
  },
  "language_info": {
   "codemirror_mode": {
    "name": "ipython",
    "version": 3
   },
   "file_extension": ".py",
   "mimetype": "text/x-python",
   "name": "python",
   "nbconvert_exporter": "python",
   "pygments_lexer": "ipython3",
   "version": "3.7.4"
  }
 },
 "nbformat": 4,
 "nbformat_minor": 2
}
