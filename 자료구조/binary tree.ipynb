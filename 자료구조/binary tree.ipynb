{
 "cells": [
  {
   "cell_type": "markdown",
   "metadata": {},
   "source": [
    "## 기본 알고리즘"
   ]
  },
  {
   "cell_type": "markdown",
   "metadata": {},
   "source": [
    "\n",
    "min[ p(1)*n(1) , p(2)*n(2) , p(3)*n(3) ] =  m*n\n",
    "\n",
    "중간값 정리를 이용하는 것 같음??\n"
   ]
  },
  {
   "cell_type": "code",
   "execution_count": 20,
   "metadata": {},
   "outputs": [
    {
     "name": "stdout",
     "output_type": "stream",
     "text": [
      "0 0 1\n",
      "1 1 1\n",
      "final :  1 1 1\n"
     ]
    }
   ],
   "source": [
    "target = 1\n",
    "\n",
    "start = 0\n",
    "end = 1\n",
    "\n",
    "while(start <= end) :\n",
    "    mid = (start + end)//2\n",
    "    \n",
    "    print(start, mid, end)\n",
    "    if target == mid :\n",
    "        break\n",
    "        \n",
    "    if mid > target : \n",
    "        end = mid-1\n",
    "        \n",
    "    else : \n",
    "        start = mid +1\n",
    "\n",
    "print('final : ',start, mid, end)"
   ]
  },
  {
   "cell_type": "code",
   "execution_count": 18,
   "metadata": {},
   "outputs": [],
   "source": [
    "def solution(budgets, M):\n",
    "    \n",
    "    if sum(budgets) <= M : \n",
    "        return max(budgets)\n",
    "    \n",
    "    answer = 0\n",
    "    \n",
    "    start = 0\n",
    "    end = sum(budgets)\n",
    "    \n",
    "    while(start <= end ) : \n",
    "        mid = (start + end)//2\n",
    "        total = 0\n",
    "        \n",
    "        for i in budgets : \n",
    "            if i < mid : total += i\n",
    "            else : total += mid\n",
    "        \n",
    "        print(start, mid, end, M, total, answer)\n",
    "        \n",
    "        if total > M :\n",
    "            end = mid - 1\n",
    "        else :     \n",
    "            answer = mid\n",
    "            start = mid + 1\n",
    "    \n",
    "    \n",
    "    return answer"
   ]
  },
  {
   "cell_type": "code",
   "execution_count": 24,
   "metadata": {},
   "outputs": [],
   "source": [
    "def solution(n, times):\n",
    "    \n",
    "    answer = 0\n",
    "    n_max = max(times)\n",
    "    \n",
    "    start = 1\n",
    "    end = n_max*n\n",
    "    while(start <= end) :\n",
    "        mid  = (start + end)//2\n",
    "        poeple = 0\n",
    "        \n",
    "        for v in times : \n",
    "            poeple += mid//v \n",
    "        \n",
    "        print(start, mid, end,'      ', poeple, n,'    ', answer)\n",
    "        \n",
    "        \n",
    "        if n > poeple :            \n",
    "            start = mid+1\n",
    "        else : \n",
    "            answer = mid\n",
    "            end = mid -1\n",
    "        \n",
    "    return answer"
   ]
  },
  {
   "cell_type": "code",
   "execution_count": 35,
   "metadata": {},
   "outputs": [
    {
     "name": "stdout",
     "output_type": "stream",
     "text": [
      "1 1950 3900        8551 300      0\n",
      "1 975 1949        4274 300      1950\n",
      "1 487 974        2132 300      975\n",
      "1 243 486        1062 300      487\n",
      "1 121 242        529 300      243\n",
      "1 60 120        262 300      121\n",
      "61 90 120        391 300      121\n",
      "61 75 89        325 300      90\n",
      "61 67 74        290 300      75\n",
      "68 71 74        307 300      75\n",
      "68 69 70        300 300      71\n",
      "68 68 68        296 300      69\n"
     ]
    },
    {
     "data": {
      "text/plain": [
       "69"
      ]
     },
     "execution_count": 35,
     "metadata": {},
     "output_type": "execute_result"
    }
   ],
   "source": [
    "solution(300,[3,7,4,13,4,4,12,1,1,1])"
   ]
  },
  {
   "cell_type": "markdown",
   "metadata": {},
   "source": [
    "## 징검다리 문제 수정 전"
   ]
  },
  {
   "cell_type": "code",
   "execution_count": 418,
   "metadata": {},
   "outputs": [],
   "source": [
    "# https://programmers.co.kr/learn/courses/30/lessons/43236\n",
    "def solution(distance, rocks, n):\n",
    "    answer = 0\n",
    "    rocks.append(distance)\n",
    "    rocks.append(0)\n",
    "    rocks.sort()\n",
    "    l = len(rocks)\n",
    "\n",
    "    \n",
    "    start = 0 \n",
    "    end = distance\n",
    "    \n",
    "    while start <= end : \n",
    "        mid = (start + end )//2\n",
    "        \n",
    "        temp = rocks.copy()\n",
    "        state = 0\n",
    "        idx = 1\n",
    "        while idx < len(temp)-1 :\n",
    "            if temp[idx] - temp[idx - 1] < mid :\n",
    "                state +=1 \n",
    "                temp.pop(idx)\n",
    "            elif temp[idx + 1] - temp[idx] < mid : \n",
    "                state +=1 \n",
    "                temp.pop(idx+1)\n",
    "            else :\n",
    "                idx +=1\n",
    "        \n",
    "        if state <=n :\n",
    "            answer = mid\n",
    "            start = mid + 1\n",
    "        else :       \n",
    "            end = mid -1\n",
    "        print(start, mid, end, '    ', state, n, state <=n,'    ', answer, temp)\n",
    "        \n",
    "    \n",
    "    return answer"
   ]
  },
  {
   "cell_type": "markdown",
   "metadata": {},
   "source": [
    "## 징검다리 문제 수정 후"
   ]
  },
  {
   "cell_type": "code",
   "execution_count": 409,
   "metadata": {},
   "outputs": [],
   "source": [
    "# https://programmers.co.kr/learn/courses/30/lessons/43236\n",
    "def solution(distance, rocks, n):\n",
    "    answer = 0\n",
    "    rocks.append(distance)\n",
    "    rocks.append(0)\n",
    "    rocks.sort()\n",
    "    l = len(rocks)\n",
    "\n",
    "    \n",
    "    start = 0 \n",
    "    end = distance\n",
    "    \n",
    "    while start <= end : \n",
    "        mid = (start + end )//2\n",
    "        \n",
    "        state = 0\n",
    "        idx1 = 0\n",
    "        idx2 =  1\n",
    "        idx3 = 2\n",
    "        while idx3< l :\n",
    "            if rocks[idx2] -rocks[idx1] < mid :\n",
    "                state +=1 \n",
    "                idx2 = idx3\n",
    "                idx3 +=1\n",
    "            elif rocks[idx3]- rocks[idx2] < mid : \n",
    "                state +=1 \n",
    "                idx3 +=1\n",
    "            else :\n",
    "                idx1 = idx2\n",
    "                idx2 = idx3\n",
    "                idx3 +=1\n",
    "        \n",
    "        if state <=n :\n",
    "            answer = mid\n",
    "            start = mid + 1\n",
    "        else :       \n",
    "            end = mid -1\n",
    "        #print(start, mid, end, '    ', state, n, state <=n,'    ', answer)\n",
    "        \n",
    "    \n",
    "    return answer"
   ]
  },
  {
   "cell_type": "code",
   "execution_count": 419,
   "metadata": {},
   "outputs": [
    {
     "name": "stdout",
     "output_type": "stream",
     "text": [
      "0 12 11      5 2 False      0 [0, 14]\n",
      "0 5 4      3 2 False      0 [0, 11, 17, 25]\n",
      "3 2 4      0 2 True      2 [0, 2, 11, 14, 17, 21, 25]\n",
      "4 3 4      1 2 True      3 [0, 11, 14, 17, 21, 25]\n",
      "4 4 3      2 2 True      3 [0, 11, 17, 21, 25]\n"
     ]
    },
    {
     "data": {
      "text/plain": [
       "3"
      ]
     },
     "execution_count": 419,
     "metadata": {},
     "output_type": "execute_result"
    }
   ],
   "source": [
    "solution(25,[2, 14, 11, 21, 17],2) # 답 4"
   ]
  },
  {
   "cell_type": "code",
   "execution_count": 420,
   "metadata": {},
   "outputs": [
    {
     "name": "stdout",
     "output_type": "stream",
     "text": [
      "0 6 5      4 1 False      0 [0, 6, 13]\n",
      "3 2 5      0 1 True      2 [0, 2, 4, 6, 8, 10, 13]\n",
      "3 4 3      3 1 False      2 [0, 4, 8, 13]\n",
      "3 3 2      3 1 False      2 [0, 4, 8, 13]\n"
     ]
    },
    {
     "data": {
      "text/plain": [
       "2"
      ]
     },
     "execution_count": 420,
     "metadata": {},
     "output_type": "execute_result"
    }
   ],
   "source": [
    "solution(13,[2, 4, 6, 8, 10],1) #답 2"
   ]
  },
  {
   "cell_type": "code",
   "execution_count": 421,
   "metadata": {},
   "outputs": [
    {
     "name": "stdout",
     "output_type": "stream",
     "text": [
      "618 617 1234      3 4 True      617 [0, 1234]\n",
      "927 926 1234      3 4 True      926 [0, 1234]\n",
      "1081 1080 1234      3 4 True      1080 [0, 1234]\n",
      "1158 1157 1234      3 4 True      1157 [0, 1234]\n",
      "1197 1196 1234      3 4 True      1196 [0, 1234]\n",
      "1216 1215 1234      3 4 True      1215 [0, 1234]\n",
      "1226 1225 1234      3 4 True      1225 [0, 1234]\n",
      "1231 1230 1234      3 4 True      1230 [0, 1234]\n",
      "1233 1232 1234      3 4 True      1232 [0, 1234]\n",
      "1234 1233 1234      3 4 True      1233 [0, 1234]\n",
      "1235 1234 1234      3 4 True      1234 [0, 1234]\n"
     ]
    },
    {
     "data": {
      "text/plain": [
       "1234"
      ]
     },
     "execution_count": 421,
     "metadata": {},
     "output_type": "execute_result"
    }
   ],
   "source": [
    "solution(1234,[1,2,3],4) # 답 1234"
   ]
  },
  {
   "cell_type": "code",
   "execution_count": 422,
   "metadata": {},
   "outputs": [
    {
     "name": "stdout",
     "output_type": "stream",
     "text": [
      "0 17 16      3 2 False      0 [0, 19]\n",
      "0 8 7      2 2 True      0 [0, 19, 28]\n",
      "4 3 7      0 2 True      3 [0, 5, 19, 28, 34]\n",
      "6 5 7      0 2 True      5 [0, 5, 19, 28, 34]\n",
      "7 6 7      1 2 True      6 [0, 19, 28, 34]\n",
      "7 7 6      2 2 True      6 [0, 19, 28]\n"
     ]
    },
    {
     "data": {
      "text/plain": [
       "6"
      ]
     },
     "execution_count": 422,
     "metadata": {},
     "output_type": "execute_result"
    }
   ],
   "source": [
    "solution(34, [5, 19, 28],2) # 답 15"
   ]
  },
  {
   "cell_type": "code",
   "execution_count": null,
   "metadata": {},
   "outputs": [],
   "source": []
  },
  {
   "cell_type": "code",
   "execution_count": null,
   "metadata": {},
   "outputs": [],
   "source": []
  }
 ],
 "metadata": {
  "kernelspec": {
   "display_name": "Python 3",
   "language": "python",
   "name": "python3"
  },
  "language_info": {
   "codemirror_mode": {
    "name": "ipython",
    "version": 3
   },
   "file_extension": ".py",
   "mimetype": "text/x-python",
   "name": "python",
   "nbconvert_exporter": "python",
   "pygments_lexer": "ipython3",
   "version": "3.7.4"
  }
 },
 "nbformat": 4,
 "nbformat_minor": 2
}
