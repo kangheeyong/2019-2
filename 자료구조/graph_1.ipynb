{
 "cells": [
  {
   "cell_type": "code",
   "execution_count": 69,
   "metadata": {},
   "outputs": [],
   "source": []
  },
  {
   "cell_type": "markdown",
   "metadata": {},
   "source": [
    "## 그래프 기본 탐색 "
   ]
  },
  {
   "cell_type": "code",
   "execution_count": 194,
   "metadata": {},
   "outputs": [],
   "source": [
    "# 참고 : https://www.zerocho.com/category/Algorithm/post/5870153c37e1c80018b64eb0\n",
    "def dfs(g, start):\n",
    "    stack = []    \n",
    "    result = []\n",
    "    done = set()     \n",
    "    stack.append(start) \n",
    "    done.add(start)  \n",
    "       \n",
    "    while stack != []:    \n",
    "\n",
    "        p = stack.pop() \n",
    "        result.append(p)\n",
    "         \n",
    "        for x in g[p]:        \n",
    "            if x not in done: \n",
    "                stack.append(x)  \n",
    "                done.add(x)   \n",
    "\n",
    "    return result \n",
    "\n",
    "def bfs(g, start):\n",
    "    qu = []\n",
    "    result = []\n",
    "    done = set()     \n",
    "    qu.append(start) \n",
    "    done.add(start)  \n",
    "\n",
    "    while qu != []:    \n",
    "        l = len(qu)\n",
    "        \n",
    "        for i in range(0,l) :\n",
    "            p = qu.pop(0) \n",
    "            result.append(p)\n",
    "            for x in g[p]:        \n",
    "                if x not in done: \n",
    "                    qu.append(x)  \n",
    "                    done.add(x)   \n",
    "\n",
    "    return result"
   ]
  },
  {
   "cell_type": "code",
   "execution_count": null,
   "metadata": {},
   "outputs": [],
   "source": []
  },
  {
   "cell_type": "code",
   "execution_count": null,
   "metadata": {},
   "outputs": [],
   "source": []
  },
  {
   "cell_type": "markdown",
   "metadata": {},
   "source": [
    "## 그래프 정의 방법"
   ]
  },
  {
   "cell_type": "code",
   "execution_count": 217,
   "metadata": {},
   "outputs": [
    {
     "data": {
      "text/plain": [
       "{3: [6, 2], 4: [3], 1: [3, 2], 2: [4], 5: [2]}"
      ]
     },
     "execution_count": 217,
     "metadata": {},
     "output_type": "execute_result"
    }
   ],
   "source": [
    "a = [[3, 6], [4, 3], [3, 2], [1, 3], [1, 2], [2, 4], [5, 2]] # 중복걱정 없음\n",
    "g = {}\n",
    "for v in a :\n",
    "    if v[0] not in g : g[v[0]] = [v[1]]\n",
    "    else : g[v[0]] = g[v[0]] + [v[1]]\n",
    "    #if v[1] not in g : g[v[1]] = [v[0]]\n",
    "    #else : g[v[1]] = g[v[1]] + [v[0]] \n",
    "g      "
   ]
  },
  {
   "cell_type": "code",
   "execution_count": 219,
   "metadata": {},
   "outputs": [
    {
     "data": {
      "text/plain": [
       "{3: [6, 2], 4: [3], 1: [3, 2], 2: [4], 5: [2]}"
      ]
     },
     "execution_count": 219,
     "metadata": {},
     "output_type": "execute_result"
    }
   ],
   "source": [
    "a = [[3, 6], [4, 3], [3, 2], [1, 3], [1, 2], [2, 4], [5, 2]] # 중복걱정 없음\n",
    "g = {}\n",
    "for v in a :\n",
    "    if v[0] not in g : g[v[0]] = [v[1]]\n",
    "    else : g[v[0]].append(v[1])\n",
    "    #if v[1] not in g : g[v[1]] = [v[0]]\n",
    "    #else : g[v[1]] = g[v[1]] + [v[0]] \n",
    "g"
   ]
  },
  {
   "cell_type": "code",
   "execution_count": 197,
   "metadata": {},
   "outputs": [
    {
     "data": {
      "text/plain": [
       "[[], [3, 2], [3, 1, 4, 5], [6, 4, 2, 1], [3, 2], [2], [3]]"
      ]
     },
     "execution_count": 197,
     "metadata": {},
     "output_type": "execute_result"
    }
   ],
   "source": [
    "a = [[3, 6], [4, 3], [3, 2], [1, 3], [1, 2], [2, 4], [5, 2]] # 중복걱정 없음 \n",
    "n = 6\n",
    "g = [[] for _ in range(0,n+1)]\n",
    "for v in a :\n",
    "    g[v[0]].append(v[1])\n",
    "    g[v[1]].append(v[0])\n",
    "g      "
   ]
  },
  {
   "cell_type": "code",
   "execution_count": 198,
   "metadata": {},
   "outputs": [
    {
     "data": {
      "text/plain": [
       "[1, 3, 2, 6, 4, 5]"
      ]
     },
     "execution_count": 198,
     "metadata": {},
     "output_type": "execute_result"
    }
   ],
   "source": [
    "bfs(g, 1)"
   ]
  },
  {
   "cell_type": "code",
   "execution_count": 199,
   "metadata": {},
   "outputs": [
    {
     "data": {
      "text/plain": [
       "[1, 2, 5, 4, 3, 6]"
      ]
     },
     "execution_count": 199,
     "metadata": {},
     "output_type": "execute_result"
    }
   ],
   "source": [
    "dfs(g, 1)"
   ]
  },
  {
   "cell_type": "markdown",
   "metadata": {},
   "source": [
    "# 라이브러리 사용 버전"
   ]
  },
  {
   "cell_type": "code",
   "execution_count": null,
   "metadata": {},
   "outputs": [],
   "source": []
  },
  {
   "cell_type": "code",
   "execution_count": 200,
   "metadata": {},
   "outputs": [],
   "source": [
    "from collections import defaultdict, Counter\n",
    "\n",
    "\n",
    "g = defaultdict(list)\n",
    "a = [[3, 6], [4, 3], [3, 2], [1, 3], [1, 2], [2, 4], [5, 2]] # 중복걱정 없음\n",
    "for v in a :\n",
    "    g[v[0]] = g[v[0]] + [v[1]] \n"
   ]
  },
  {
   "cell_type": "code",
   "execution_count": null,
   "metadata": {},
   "outputs": [],
   "source": []
  },
  {
   "cell_type": "code",
   "execution_count": null,
   "metadata": {},
   "outputs": [],
   "source": []
  },
  {
   "cell_type": "code",
   "execution_count": 203,
   "metadata": {},
   "outputs": [
    {
     "name": "stdout",
     "output_type": "stream",
     "text": [
      "False\n",
      "[['ICN', 'ATL', 'ICN', 'SFO', 'ATL', 'SFO'], ['ICN', 'ATL', 'SFO', 'ATL', 'ICN', 'SFO'], ['ICN', 'SFO', 'ATL', 'ICN', 'ATL', 'SFO']]\n"
     ]
    }
   ],
   "source": [
    "\n",
    "    \n",
    "\n",
    "    \n",
    "def DFS(g,st, stack,total) :\n",
    "    stack.append(st)\n",
    " \n",
    "    if  sum([len(g[i]) for i in g.keys() ]) == 0: \n",
    "        #print(stack)\n",
    "        total.append(stack.copy())\n",
    "        return 0 \n",
    "    \n",
    "    for idx, v in enumerate(g[st]) :\n",
    "\n",
    "        g[st].pop(idx)\n",
    "        DFS(g,v,stack, total)\n",
    "        g[st].insert(idx,v)\n",
    "        stack.pop()\n",
    "    #return 0      \n",
    "\n",
    "tickets = [[\"ICN\", \"SFO\"], [\"ICN\", \"ATL\"], [\"SFO\", \"ATL\"], [\"ATL\", \"ICN\"], [\"ATL\", \"SFO\"]]\n",
    "dic = {}\n",
    "L = len(tickets)\n",
    "for v in tickets :\n",
    "    if v[0] not in dic :\n",
    "        dic[v[0]] = [v[1]]\n",
    "    else :\n",
    "        dic[v[0]] = dic[v[0]] + [v[1]]\n",
    "\n",
    "print('aa' in dic)\n",
    "st = \"ICN\"\n",
    "total = []\n",
    "DFS(dic,st,[ ],total)\n",
    "\n",
    "total = [i for i in total if len(i) == L+ 1]\n",
    "\n",
    "total.sort()\n",
    "print(total)\n"
   ]
  },
  {
   "cell_type": "code",
   "execution_count": null,
   "metadata": {},
   "outputs": [],
   "source": []
  },
  {
   "cell_type": "markdown",
   "metadata": {},
   "source": [
    "## 크루스컬 알고리즘"
   ]
  },
  {
   "cell_type": "code",
   "execution_count": 220,
   "metadata": {},
   "outputs": [],
   "source": [
    "# https://ratsgo.github.io/data%20structure&algorithm/2017/11/18/graph/"
   ]
  },
  {
   "cell_type": "code",
   "execution_count": 210,
   "metadata": {},
   "outputs": [],
   "source": [
    "def getParent(dic,x) :\n",
    "\n",
    "    p = dic[x]\n",
    "    if p == x : \n",
    "        return p\n",
    "    else : \n",
    "        return getParent(dic,p)\n",
    "\n",
    "def unionParent(dic,x,y) : \n",
    "    \n",
    "    a = getParent(dic,x)\n",
    "    b = getParent(dic,y)\n",
    "    if a!=b :\n",
    "        if a < b : \n",
    "            dic[b] = a\n",
    "        else : \n",
    "            dic[a] = b\n",
    "        \n",
    "def findParent(dic, x, y) :\n",
    "    a = getParent(dic,x)\n",
    "    b = getParent(dic,y)\n",
    "    \n",
    "    if a == b : \n",
    "        return True\n",
    "    else :\n",
    "        return False"
   ]
  },
  {
   "cell_type": "code",
   "execution_count": 271,
   "metadata": {},
   "outputs": [],
   "source": [
    "\n",
    "\n",
    "def solution(n, costs):\n",
    "    dic = {}\n",
    "    costs.sort(key=lambda x : x[2])\n",
    "    for i in range(n) : dic[i] = i\n",
    "    stack = []\n",
    "    n_min = 0\n",
    "   \n",
    "    for v1, v2, cost in costs :  \n",
    "        if findParent(dic,v1,v2) == False :\n",
    "            unionParent(dic,v1,v2)\n",
    "            n_min += cost\n",
    "            stack.append([v1,v2,cost])\n",
    "        else : \n",
    "            pass\n",
    "    answer = n_min\n",
    "    print(stack)\n",
    "    return answer"
   ]
  },
  {
   "cell_type": "code",
   "execution_count": 272,
   "metadata": {},
   "outputs": [
    {
     "name": "stdout",
     "output_type": "stream",
     "text": [
      "[[1, 4, 1], [0, 3, 2], [1, 2, 2], [0, 4, 3], [2, 5, 3]]\n"
     ]
    },
    {
     "data": {
      "text/plain": [
       "11"
      ]
     },
     "execution_count": 272,
     "metadata": {},
     "output_type": "execute_result"
    }
   ],
   "source": [
    "solution(6,[[0, 1, 5], [0, 3, 2], [0, 4, 3], [1, 4, 1], [3, 4, 10], [1, 2, 2], [2, 5, 3], [4, 5, 4]])"
   ]
  },
  {
   "cell_type": "markdown",
   "metadata": {},
   "source": [
    "## 프림 알고리즘"
   ]
  },
  {
   "cell_type": "code",
   "execution_count": 276,
   "metadata": {},
   "outputs": [],
   "source": [
    "from collections import defaultdict\n",
    "import heapq as hq\n",
    "\n",
    "def prim_bfs(g, start):\n",
    "    qu = []\n",
    "    result = []\n",
    "    done = set()     \n",
    "    qu.append(start) \n",
    "    done.add(start)  \n",
    "\n",
    "    while qu != []:    \n",
    "        l = len(qu)\n",
    "        \n",
    "        for i in range(0,l) :\n",
    "            p = qu.pop(0) \n",
    "            result.append(p)\n",
    "            for x in g[p]:        \n",
    "                if x not in done: \n",
    "                    qu.append(x)  \n",
    "                    done.add(x)   \n",
    "\n",
    "    return result\n",
    "\n",
    "\n",
    "def solution(n, costs):\n",
    "    g = defaultdict(list)\n",
    "    v_key = defaultdict(list)\n",
    "    for v1, v2, cost in costs :\n",
    "        v_key[v1] = 999\n",
    "        v_key[v2] = 999\n",
    "        g[v1] = g[v1] + [[v2,cost]]\n",
    "        g[v2] = g[v2] + [[v1,cost]] \n",
    "   \n",
    "                        \n",
    "    print(g)\n",
    "    print(g[0][2])\n",
    "    print(v_key)\n",
    "    answer = 0\n",
    "    return answer"
   ]
  },
  {
   "cell_type": "code",
   "execution_count": 277,
   "metadata": {},
   "outputs": [
    {
     "name": "stdout",
     "output_type": "stream",
     "text": [
      "defaultdict(<class 'list'>, {0: [[1, 5], [3, 2], [4, 3]], 1: [[0, 5], [4, 1], [2, 2]], 3: [[0, 2], [4, 10]], 4: [[0, 3], [1, 1], [3, 10], [5, 4]], 2: [[1, 2], [5, 3]], 5: [[2, 3], [4, 4]]})\n",
      "[4, 3]\n",
      "defaultdict(<class 'list'>, {0: 999, 1: 999, 3: 999, 4: 999, 2: 999, 5: 999})\n"
     ]
    },
    {
     "data": {
      "text/plain": [
       "0"
      ]
     },
     "execution_count": 277,
     "metadata": {},
     "output_type": "execute_result"
    }
   ],
   "source": [
    "solution(6,[[0, 1, 5], [0, 3, 2], [0, 4, 3], [1, 4, 1], [3, 4, 10], [1, 2, 2], [2, 5, 3], [4, 5, 4]])"
   ]
  },
  {
   "cell_type": "code",
   "execution_count": null,
   "metadata": {},
   "outputs": [],
   "source": []
  },
  {
   "cell_type": "code",
   "execution_count": null,
   "metadata": {},
   "outputs": [],
   "source": []
  },
  {
   "cell_type": "code",
   "execution_count": null,
   "metadata": {},
   "outputs": [],
   "source": []
  },
  {
   "cell_type": "code",
   "execution_count": 323,
   "metadata": {},
   "outputs": [],
   "source": []
  },
  {
   "cell_type": "code",
   "execution_count": null,
   "metadata": {},
   "outputs": [],
   "source": []
  },
  {
   "cell_type": "code",
   "execution_count": null,
   "metadata": {},
   "outputs": [],
   "source": []
  },
  {
   "cell_type": "code",
   "execution_count": null,
   "metadata": {},
   "outputs": [],
   "source": []
  },
  {
   "cell_type": "code",
   "execution_count": null,
   "metadata": {},
   "outputs": [],
   "source": []
  }
 ],
 "metadata": {
  "kernelspec": {
   "display_name": "Python 3",
   "language": "python",
   "name": "python3"
  },
  "language_info": {
   "codemirror_mode": {
    "name": "ipython",
    "version": 3
   },
   "file_extension": ".py",
   "mimetype": "text/x-python",
   "name": "python",
   "nbconvert_exporter": "python",
   "pygments_lexer": "ipython3",
   "version": "3.7.4"
  }
 },
 "nbformat": 4,
 "nbformat_minor": 2
}
