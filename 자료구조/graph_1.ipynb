{
 "cells": [
  {
   "cell_type": "code",
   "execution_count": null,
   "metadata": {},
   "outputs": [],
   "source": []
  },
  {
   "cell_type": "markdown",
   "metadata": {},
   "source": [
    "## 그래프 기본 탐색 "
   ]
  },
  {
   "cell_type": "code",
   "execution_count": null,
   "metadata": {},
   "outputs": [],
   "source": [
    "# 참고 : https://www.zerocho.com/category/Algorithm/post/5870153c37e1c80018b64eb0\n",
    "def dfs(g, start):\n",
    "    stack = []    \n",
    "    result = []\n",
    "    done = set()     \n",
    "    stack.append(start) \n",
    "    done.add(start)  \n",
    "       \n",
    "    while stack != []:    \n",
    "\n",
    "        p = stack.pop() \n",
    "        result.append(p)\n",
    "         \n",
    "        for x in g[p]:        \n",
    "            if x not in done: \n",
    "                stack.append(x)  \n",
    "                done.add(x)   \n",
    "\n",
    "    return result \n",
    "\n",
    "def bfs(g, start):\n",
    "    qu = []\n",
    "    result = []\n",
    "    done = set()     \n",
    "    qu.append(start) \n",
    "    done.add(start)  \n",
    "\n",
    "    while qu != []:    \n",
    "        l = len(qu)\n",
    "        \n",
    "        for i in range(0,l) :\n",
    "            p = qu.pop(0) \n",
    "            result.append(p)\n",
    "            for x in g[p]:        \n",
    "                if x not in done: \n",
    "                    qu.append(x)  \n",
    "                    done.add(x)   \n",
    "\n",
    "    return result"
   ]
  },
  {
   "cell_type": "code",
   "execution_count": null,
   "metadata": {},
   "outputs": [],
   "source": []
  },
  {
   "cell_type": "code",
   "execution_count": null,
   "metadata": {},
   "outputs": [],
   "source": []
  },
  {
   "cell_type": "markdown",
   "metadata": {},
   "source": [
    "## 그래프 정의 방법"
   ]
  },
  {
   "cell_type": "code",
   "execution_count": null,
   "metadata": {},
   "outputs": [],
   "source": [
    "a = [[3, 6], [4, 3], [3, 2], [1, 3], [1, 2], [2, 4], [5, 2]] # 중복걱정 없음\n",
    "g = {}\n",
    "for v in a :\n",
    "    if v[0] not in g : g[v[0]] = [v[1]]\n",
    "    else : g[v[0]] = g[v[0]] + [v[1]]\n",
    "    #if v[1] not in g : g[v[1]] = [v[0]]\n",
    "    #else : g[v[1]] = g[v[1]] + [v[0]] \n",
    "g      "
   ]
  },
  {
   "cell_type": "code",
   "execution_count": null,
   "metadata": {},
   "outputs": [],
   "source": [
    "a = [[3, 6], [4, 3], [3, 2], [1, 3], [1, 2], [2, 4], [5, 2]] # 중복걱정 없음\n",
    "g = {}\n",
    "for v in a :\n",
    "    if v[0] not in g : g[v[0]] = [v[1]]\n",
    "    else : g[v[0]].append(v[1])\n",
    "    #if v[1] not in g : g[v[1]] = [v[0]]\n",
    "    #else : g[v[1]] = g[v[1]] + [v[0]] \n",
    "g"
   ]
  },
  {
   "cell_type": "code",
   "execution_count": null,
   "metadata": {},
   "outputs": [],
   "source": [
    "a = [[3, 6], [4, 3], [3, 2], [1, 3], [1, 2], [2, 4], [5, 2]] # 중복걱정 없음 \n",
    "n = 6\n",
    "g = [[] for _ in range(0,n+1)]\n",
    "for v in a :\n",
    "    g[v[0]].append(v[1])\n",
    "    g[v[1]].append(v[0])\n",
    "g      "
   ]
  },
  {
   "cell_type": "code",
   "execution_count": null,
   "metadata": {},
   "outputs": [],
   "source": [
    "bfs(g, 1)"
   ]
  },
  {
   "cell_type": "code",
   "execution_count": null,
   "metadata": {},
   "outputs": [],
   "source": [
    "dfs(g, 1)"
   ]
  },
  {
   "cell_type": "markdown",
   "metadata": {},
   "source": [
    "# 라이브러리 사용 버전"
   ]
  },
  {
   "cell_type": "code",
   "execution_count": null,
   "metadata": {},
   "outputs": [],
   "source": []
  },
  {
   "cell_type": "code",
   "execution_count": null,
   "metadata": {},
   "outputs": [],
   "source": [
    "from collections import defaultdict, Counter\n",
    "\n",
    "\n",
    "g = defaultdict(list)\n",
    "a = [[3, 6], [4, 3], [3, 2], [1, 3], [1, 2], [2, 4], [5, 2]] # 중복걱정 없음\n",
    "for v in a :\n",
    "    g[v[0]] = g[v[0]] + [v[1]] \n"
   ]
  },
  {
   "cell_type": "code",
   "execution_count": null,
   "metadata": {},
   "outputs": [],
   "source": []
  },
  {
   "cell_type": "code",
   "execution_count": null,
   "metadata": {},
   "outputs": [],
   "source": []
  },
  {
   "cell_type": "code",
   "execution_count": null,
   "metadata": {},
   "outputs": [],
   "source": [
    "\n",
    "    \n",
    "\n",
    "    \n",
    "def DFS(g,st, stack,total) :\n",
    "    stack.append(st)\n",
    " \n",
    "    if  sum([len(g[i]) for i in g.keys() ]) == 0: \n",
    "        #print(stack)\n",
    "        total.append(stack.copy())\n",
    "        return 0 \n",
    "    \n",
    "    for idx, v in enumerate(g[st]) :\n",
    "\n",
    "        g[st].pop(idx)\n",
    "        DFS(g,v,stack, total)\n",
    "        g[st].insert(idx,v)\n",
    "        stack.pop()\n",
    "    #return 0      \n",
    "\n",
    "tickets = [[\"ICN\", \"SFO\"], [\"ICN\", \"ATL\"], [\"SFO\", \"ATL\"], [\"ATL\", \"ICN\"], [\"ATL\", \"SFO\"]]\n",
    "dic = {}\n",
    "L = len(tickets)\n",
    "for v in tickets :\n",
    "    if v[0] not in dic :\n",
    "        dic[v[0]] = [v[1]]\n",
    "    else :\n",
    "        dic[v[0]] = dic[v[0]] + [v[1]]\n",
    "\n",
    "print('aa' in dic)\n",
    "st = \"ICN\"\n",
    "total = []\n",
    "DFS(dic,st,[ ],total)\n",
    "\n",
    "total = [i for i in total if len(i) == L+ 1]\n",
    "\n",
    "total.sort()\n",
    "print(total)\n"
   ]
  },
  {
   "cell_type": "code",
   "execution_count": null,
   "metadata": {},
   "outputs": [],
   "source": []
  },
  {
   "cell_type": "markdown",
   "metadata": {},
   "source": [
    "## 크루스컬 알고리즘"
   ]
  },
  {
   "cell_type": "code",
   "execution_count": null,
   "metadata": {},
   "outputs": [],
   "source": [
    "# https://ratsgo.github.io/data%20structure&algorithm/2017/11/18/graph/\n",
    "# MST는 이와 같이 연결된(connected) 무방향(undirected)의 가중치(weight) 그래프를 가정합니다."
   ]
  },
  {
   "cell_type": "code",
   "execution_count": null,
   "metadata": {},
   "outputs": [],
   "source": [
    "def getParent(dic,x) :\n",
    "\n",
    "    if dic[x] == x : \n",
    "        return dic[x]\n",
    "    else : \n",
    "        dic[x] = getParent(dic, dic[x])\n",
    "        return dic[x]\n",
    "\n",
    "    \n",
    "    \n",
    "    \n",
    "def unionParent(dic,x,y) : \n",
    "    \n",
    "    a = getParent(dic,x)\n",
    "    b = getParent(dic,y)\n",
    "    if a!=b :\n",
    "        dic[b] = a\n",
    "            \n",
    "def findParent(dic, x, y) :\n",
    "    a = getParent(dic,x)\n",
    "    b = getParent(dic,y)\n",
    "    \n",
    "    return True if a == b else False\n"
   ]
  },
  {
   "cell_type": "code",
   "execution_count": null,
   "metadata": {},
   "outputs": [],
   "source": [
    "\n",
    "\n",
    "def solution(n, costs):\n",
    "    dic = {}\n",
    "    costs.sort(key=lambda x : x[2])\n",
    "    for i in range(n) : dic[i] = i\n",
    "    stack = []\n",
    "    n_min = 0\n",
    "   \n",
    "    for v1, v2, cost in costs :  \n",
    "        if findParent(dic,v1,v2) == False :\n",
    "            unionParent(dic,v1,v2)\n",
    "            n_min += cost\n",
    "            stack.append([v1,v2,cost])\n",
    "\n",
    "    answer = n_min\n",
    "    print(dic)\n",
    "    print(stack)\n",
    "    return answer"
   ]
  },
  {
   "cell_type": "code",
   "execution_count": null,
   "metadata": {},
   "outputs": [],
   "source": [
    "solution(6,[[0, 1, 5], [0, 3, 2], [0, 4, 3], [1, 4, 1], [3, 4, 10], [1, 2, 2], [2, 5, 3], [4, 5, 4]])"
   ]
  },
  {
   "cell_type": "code",
   "execution_count": null,
   "metadata": {},
   "outputs": [],
   "source": [
    "#https://victorydntmd.tistory.com/102?category=686701\n",
    "#https://victorydntmd.tistory.com/101?category=686701\n",
    "solution(7,[[0,1,5],[0,2,10],[1,2,7],[1,3,6],[2,3,12],[2,5,2],[3,5,11],[3,6,15],[5,6,14],[1,4,9],[4,6,3]])"
   ]
  },
  {
   "cell_type": "markdown",
   "metadata": {},
   "source": [
    "## 프림 알고리즘"
   ]
  },
  {
   "cell_type": "code",
   "execution_count": null,
   "metadata": {},
   "outputs": [],
   "source": [
    "#MST는 이와 같이 연결된(connected) 무방향(undirected)의 가중치(weight) 그래프를 가정합니다."
   ]
  },
  {
   "cell_type": "code",
   "execution_count": 47,
   "metadata": {},
   "outputs": [],
   "source": [
    "\n",
    "import heapq as hq\n",
    "\n",
    "def prim_bfs(g, start, v_key, m_cost):\n",
    "    qu = []\n",
    "    done = set()  \n",
    "    hq.heappush(qu,[0,start])  \n",
    "    v_key[start] = 0\n",
    "    \n",
    "    while qu != []:    \n",
    "        cost,curr = hq.heappop(qu)\n",
    "        print(v_key,[cost,curr],qu)\n",
    "        done.add(curr)\n",
    "        for nxt in g[curr]:        \n",
    "            if nxt not in done: \n",
    "                hq.heappush(qu,(m_cost[nxt][curr],nxt)) \n",
    "                print(nxt,curr,v_key[nxt], m_cost[nxt][curr])\n",
    "                v_key[nxt] = min(v_key[nxt], m_cost[nxt][curr])\n",
    "\n",
    "    return -1\n",
    "\n",
    "\n",
    "def solution(n, costs):\n",
    "    g = {}\n",
    "    v_key = {}\n",
    "    m_cost =[[0]*n for __ in range(n)]\n",
    "    for v1, v2, cost in costs :\n",
    "        v_key[v1] = 999\n",
    "        v_key[v2] = 999\n",
    "        m_cost[v1][v2] = m_cost[v2][v1] = cost\n",
    "        g[v1] = g.get(v1,[]) + [v2]\n",
    "        g[v2] = g.get(v2,[]) + [v1] \n",
    "   \n",
    "                        \n",
    "    print(g)\n",
    "    print(v_key)\n",
    "    print('\\n\\n')\n",
    "    prim_bfs(g, 1, v_key, m_cost)\n",
    "    print(v_key)\n",
    "    answer = sum(v_key.values())\n",
    "    return answer"
   ]
  },
  {
   "cell_type": "code",
   "execution_count": 48,
   "metadata": {},
   "outputs": [
    {
     "name": "stdout",
     "output_type": "stream",
     "text": [
      "{0: [1, 3, 4], 1: [0, 4, 2], 3: [0, 4], 4: [0, 1, 3, 5], 2: [1, 5], 5: [2, 4]}\n",
      "{0: 999, 1: 999, 3: 999, 4: 999, 2: 999, 5: 999}\n",
      "\n",
      "\n",
      "\n",
      "{0: 999, 1: 0, 3: 999, 4: 999, 2: 999, 5: 999} [0, 1] []\n",
      "0 1 999 5\n",
      "4 1 999 1\n",
      "2 1 999 2\n",
      "{0: 5, 1: 0, 3: 999, 4: 1, 2: 2, 5: 999} [1, 4] [(2, 2), (5, 0)]\n",
      "0 4 5 3\n",
      "3 4 999 10\n",
      "5 4 999 4\n",
      "{0: 3, 1: 0, 3: 10, 4: 1, 2: 2, 5: 4} [2, 2] [(3, 0), (4, 5), (5, 0), (10, 3)]\n",
      "5 2 4 3\n",
      "{0: 3, 1: 0, 3: 10, 4: 1, 2: 2, 5: 3} [3, 0] [(3, 5), (4, 5), (5, 0), (10, 3)]\n",
      "3 0 10 2\n",
      "{0: 3, 1: 0, 3: 2, 4: 1, 2: 2, 5: 3} [2, 3] [(3, 5), (4, 5), (5, 0), (10, 3)]\n",
      "{0: 3, 1: 0, 3: 2, 4: 1, 2: 2, 5: 3} [3, 5] [(4, 5), (10, 3), (5, 0)]\n",
      "{0: 3, 1: 0, 3: 2, 4: 1, 2: 2, 5: 3} [4, 5] [(5, 0), (10, 3)]\n",
      "{0: 3, 1: 0, 3: 2, 4: 1, 2: 2, 5: 3} [5, 0] [(10, 3)]\n",
      "{0: 3, 1: 0, 3: 2, 4: 1, 2: 2, 5: 3} [10, 3] []\n",
      "{0: 3, 1: 0, 3: 2, 4: 1, 2: 2, 5: 3}\n"
     ]
    },
    {
     "data": {
      "text/plain": [
       "11"
      ]
     },
     "execution_count": 48,
     "metadata": {},
     "output_type": "execute_result"
    }
   ],
   "source": [
    "solution(6,[[0, 1, 5], [0, 3, 2], [0, 4, 3], [1, 4, 1], [3, 4, 10], [1, 2, 2], [2, 5, 3], [4, 5, 4]])"
   ]
  },
  {
   "cell_type": "code",
   "execution_count": null,
   "metadata": {},
   "outputs": [],
   "source": [
    "#https://victorydntmd.tistory.com/102?category=686701\n",
    "#https://victorydntmd.tistory.com/101?category=686701\n",
    "solution(7,[[0,1,5],[0,2,10],[1,2,7],[1,3,6],[2,3,12],[2,5,2],[3,5,11],[3,6,15],[5,6,14],[1,4,9],[4,6,3]])"
   ]
  },
  {
   "cell_type": "markdown",
   "metadata": {},
   "source": [
    "# 위상정렬\n",
    "https://m.blog.naver.com/kks227/220800013823"
   ]
  },
  {
   "cell_type": "code",
   "execution_count": null,
   "metadata": {},
   "outputs": [],
   "source": [
    "입력 = \"\"\"4 2\n",
    "2 1 2\n",
    "2 1 3\"\"\""
   ]
  },
  {
   "cell_type": "code",
   "execution_count": 39,
   "metadata": {},
   "outputs": [],
   "source": [
    "입력 = \"\"\"6 3\n",
    "3 1 4 3\n",
    "4 6 2 5 4\n",
    "2 2 3\"\"\""
   ]
  },
  {
   "cell_type": "code",
   "execution_count": null,
   "metadata": {},
   "outputs": [],
   "source": [
    "입력 = \"\"\"2 2\n",
    "\n",
    "2 1 2\n",
    "\n",
    "2 1 2\"\"\""
   ]
  },
  {
   "cell_type": "code",
   "execution_count": 41,
   "metadata": {},
   "outputs": [
    {
     "name": "stdout",
     "output_type": "stream",
     "text": [
      "6 3 [[3, 1, 4, 3], [4, 6, 2, 5, 4], [2, 2, 3]]\n",
      "{1: 0, 2: 1, 3: 2, 4: 2, 5: 1, 6: 0}\n",
      "{1: {4}, 2: {3, 5}, 3: set(), 4: {3}, 5: {4}, 6: {2}}\n"
     ]
    },
    {
     "data": {
      "text/plain": [
       "[1, 6, 2, 5, 4, 3]"
      ]
     },
     "execution_count": 41,
     "metadata": {},
     "output_type": "execute_result"
    }
   ],
   "source": [
    "data = 입력.split('\\n')\n",
    "N,M = list(map(int,data.pop(0).split()))\n",
    "data = [list(map(int,v.split())) for v in data]\n",
    "\n",
    "# N,M = list(map(int,input().split()))\n",
    "# data = [list(map(int,input().split())) for __ in range(M)]\n",
    "print(N,M,data)\n",
    "\n",
    "dic = {}\n",
    "check = {}\n",
    "\n",
    "for idx in range(1,N+1) :\n",
    "    dic[idx] = set()\n",
    "    check[idx] = 0\n",
    "\n",
    "for _, *v in data :\n",
    "    for idx in range(0,len(v)-1) :\n",
    "        dic[v[idx]].add(v[idx+1])\n",
    "\n",
    "for idx in dic.keys() :\n",
    "    for nxt in dic[idx] :\n",
    "        check[nxt] += 1\n",
    "\n",
    "print(check)\n",
    "print(dic)\n",
    "\n",
    "que = []\n",
    "used = set()\n",
    "answer = []\n",
    "\n",
    "que = [idx for idx in check.keys() if check[idx] == 0]\n",
    "used.update(que)\n",
    "\n",
    "while que :\n",
    "    #print(que,check,used)\n",
    "    curr = que.pop(0)   \n",
    "    answer.append(curr)\n",
    "        \n",
    "    for nxt in dic[curr] :\n",
    "        check[nxt] -=1\n",
    "        if nxt not in used and check[nxt] == 0 : \n",
    "            que.append(nxt)        \n",
    "            used.add(nxt)\n",
    "\n",
    "        \n",
    "answer\n",
    "\n"
   ]
  },
  {
   "cell_type": "code",
   "execution_count": 42,
   "metadata": {},
   "outputs": [
    {
     "name": "stdout",
     "output_type": "stream",
     "text": [
      "{1: 0, 2: 1, 3: 2, 4: 2, 5: 1, 6: 0}\n",
      "{1: {4}, 2: {3, 5}, 3: set(), 4: {3}, 5: {4}, 6: {2}}\n",
      "{1: 0, 2: 0, 3: 0, 4: 0, 5: 0, 6: 0}\n"
     ]
    },
    {
     "data": {
      "text/plain": [
       "[1, 6, 2, 5, 4, 3]"
      ]
     },
     "execution_count": 42,
     "metadata": {},
     "output_type": "execute_result"
    }
   ],
   "source": [
    "dic = {}\n",
    "check = {}\n",
    "\n",
    "for idx in range(1,N+1) :\n",
    "    dic[idx] = set()\n",
    "    check[idx] = 0\n",
    "\n",
    "for _, *v in data :\n",
    "    for idx in range(0,len(v)-1) :\n",
    "        dic[v[idx]].add(v[idx+1])\n",
    "\n",
    "for idx in dic.keys() :\n",
    "    for v in dic[idx] :\n",
    "        check[v] += 1\n",
    "\n",
    "print(check)\n",
    "print(dic)\n",
    "\n",
    "que = []\n",
    "answer = []\n",
    "\n",
    "que = [idx for idx in check.keys() if check[idx] == 0]\n",
    "\n",
    "while que :\n",
    "    #print(que,check,used)\n",
    "    curr = que.pop(0)   \n",
    "    answer.append(curr)\n",
    "        \n",
    "    for nxt in dic[curr] :\n",
    "        \n",
    "        check[nxt] -=1\n",
    "        if check[nxt] == 0 : \n",
    "            que.append(nxt)\n",
    "\n",
    "\n",
    "print(check)       \n",
    "answer\n",
    "\n",
    "        \n",
    "\n"
   ]
  },
  {
   "cell_type": "markdown",
   "metadata": {},
   "source": [
    "# 위상정렬 테크트리\n",
    "https://m.blog.naver.com/kks227/220800013823"
   ]
  },
  {
   "cell_type": "code",
   "execution_count": 44,
   "metadata": {},
   "outputs": [],
   "source": [
    "입력 = \"\"\"5\n",
    "10 -1\n",
    "10 1 -1\n",
    "4 1 -1\n",
    "4 3 1 -1\n",
    "3 3 -1\"\"\""
   ]
  },
  {
   "cell_type": "code",
   "execution_count": 45,
   "metadata": {},
   "outputs": [],
   "source": [
    "data = 입력.split('\\n')\n",
    "N = int(data.pop(0))\n",
    "\n",
    "data = [list(map(int,v.split())) for v in data]\n",
    "\n",
    "#N = int(input())\n",
    "#data = [list(map(int,input().split())) for __ in range(N)]\n",
    "#print(N,data)"
   ]
  },
  {
   "cell_type": "code",
   "execution_count": 22,
   "metadata": {},
   "outputs": [
    {
     "name": "stdout",
     "output_type": "stream",
     "text": [
      "10\n",
      "20\n",
      "14\n",
      "18\n",
      "17\n"
     ]
    }
   ],
   "source": [
    "dic = {}\n",
    "check = {}\n",
    "time = {} \n",
    "min_time ={}\n",
    "for i in range(1,N+1) :\n",
    "    dic[i] = set()\n",
    "    check[i] = 0\n",
    "    time[i] = 0\n",
    "    min_time[i] = 0\n",
    "\n",
    "idx = 1   \n",
    "for cost, *v, a in data :\n",
    "    #print(cost,v,a)\n",
    "    check[idx] = len(v)\n",
    "    time[idx] = cost\n",
    "    min_time[idx] = cost\n",
    "    for v1 in v :\n",
    "        dic[v1].add(idx)\n",
    "    idx += 1\n",
    "\n",
    "    \n",
    "#print(dic)\n",
    "#print(check)\n",
    "#print(time)\n",
    "\n",
    "\n",
    "que = []\n",
    "result = []\n",
    "\n",
    "que = [idx for idx in check.keys() if check[idx] == 0]\n",
    "used.update(que)\n",
    "\n",
    "while que :\n",
    "    p = que.pop(0)\n",
    "    #print(p,que,used,check)\n",
    "    result.append(p)\n",
    "    \n",
    "    for v in dic[p] :\n",
    "        check[v] -= 1\n",
    "        if v not in used and check[v] == 0 :\n",
    "            min_time[v] = max(min_time[v], min_time[p] + time[v])\n",
    "            que.append(v)\n",
    "            used.add(v)\n",
    "\n",
    "#print(que)\n",
    "#print(used)\n",
    "#print(result)\n",
    "\n",
    "for idx in result :\n",
    "    for v in dic[idx] :\n",
    "        min_time[v] = max(min_time[v], min_time[idx] + time[v])\n",
    "\n",
    "for i in range(1,N+1) :\n",
    "    \n",
    "    print(min_time[i])"
   ]
  },
  {
   "cell_type": "code",
   "execution_count": 46,
   "metadata": {},
   "outputs": [
    {
     "name": "stdout",
     "output_type": "stream",
     "text": [
      "10\n",
      "20\n",
      "14\n",
      "18\n",
      "17\n"
     ]
    }
   ],
   "source": [
    "dic = {}\n",
    "check = {}\n",
    "time = {} \n",
    "min_time ={}\n",
    "for i in range(1,N+1) :\n",
    "    dic[i] = set()\n",
    "    check[i] = 0\n",
    "    time[i] = 0\n",
    "    min_time[i] = 0\n",
    "\n",
    "idx = 1   \n",
    "for cost, *v, a in data :\n",
    "    #print(cost,v,a)\n",
    "    check[idx] = len(v)\n",
    "    time[idx] = cost\n",
    "    min_time[idx] = cost\n",
    "    for v1 in v :\n",
    "        dic[v1].add(idx)\n",
    "    idx += 1\n",
    "\n",
    "    \n",
    "#print(dic)\n",
    "#print(check)\n",
    "#print(time)\n",
    "\n",
    "\n",
    "que = []\n",
    "result = []\n",
    "\n",
    "que = [idx for idx in check.keys() if check[idx] == 0]\n",
    "\n",
    "while que :\n",
    "    curr = que.pop(0)\n",
    "    result.append(curr)\n",
    "    \n",
    "    for nxt in dic[curr] :\n",
    "        min_time[nxt] = max(min_time[nxt], min_time[curr] + time[nxt])\n",
    "        \n",
    "        check[nxt] -= 1\n",
    "        if check[nxt] == 0 :          \n",
    "            que.append(nxt)\n",
    "\n",
    "#print(que)\n",
    "#print(used)\n",
    "#print(result)\n",
    "\n",
    "\n",
    "for i in range(1,N+1) :\n",
    "    \n",
    "    print(min_time[i])"
   ]
  },
  {
   "cell_type": "code",
   "execution_count": null,
   "metadata": {},
   "outputs": [],
   "source": []
  }
 ],
 "metadata": {
  "kernelspec": {
   "display_name": "Python 3",
   "language": "python",
   "name": "python3"
  },
  "language_info": {
   "codemirror_mode": {
    "name": "ipython",
    "version": 3
   },
   "file_extension": ".py",
   "mimetype": "text/x-python",
   "name": "python",
   "nbconvert_exporter": "python",
   "pygments_lexer": "ipython3",
   "version": "3.7.4"
  }
 },
 "nbformat": 4,
 "nbformat_minor": 2
}
