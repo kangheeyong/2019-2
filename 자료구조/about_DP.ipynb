{
 "cells": [
  {
   "cell_type": "code",
   "execution_count": null,
   "metadata": {},
   "outputs": [],
   "source": []
  },
  {
   "cell_type": "markdown",
   "metadata": {},
   "source": [
    "# top-down \n",
    "- 점화식 사용\n",
    "- global 변수 사용"
   ]
  },
  {
   "cell_type": "code",
   "execution_count": 128,
   "metadata": {},
   "outputs": [],
   "source": [
    "def fibonacci(n):\n",
    "    global dp\n",
    "    \n",
    "    if (n == 0) :\n",
    "        return 0\n",
    "    elif (n == 1) :\n",
    "        return 1\n",
    "    else : \n",
    "        if n not in dp : \n",
    "            dp[n] = fibonacci(n - 1) + fibonacci(n - 2) \n",
    "            \n",
    "        return dp[n]\n",
    " \n",
    "    "
   ]
  },
  {
   "cell_type": "code",
   "execution_count": 129,
   "metadata": {},
   "outputs": [
    {
     "name": "stdout",
     "output_type": "stream",
     "text": [
      "89 {2: 1, 3: 2, 4: 3, 5: 5, 6: 8, 7: 13, 8: 21, 9: 34, 10: 55, 11: 89}\n"
     ]
    }
   ],
   "source": [
    "dp ={}\n",
    "r = fibonacci(11)\n",
    "print(r, dp)"
   ]
  },
  {
   "cell_type": "markdown",
   "metadata": {},
   "source": [
    "# top-down \n",
    "- 점화식 사용\n",
    "- global 변수 사용x"
   ]
  },
  {
   "cell_type": "code",
   "execution_count": 130,
   "metadata": {},
   "outputs": [],
   "source": [
    "def fibonacci(n,dp):\n",
    "    \n",
    "    if (n == 0) :\n",
    "        return 0\n",
    "    elif (n == 1) :\n",
    "        return 1\n",
    "    else : \n",
    "        if n not in dp : \n",
    "            dp[n] = fibonacci(n - 1,dp) + fibonacci(n - 2,dp) \n",
    "            \n",
    "        return dp[n]"
   ]
  },
  {
   "cell_type": "code",
   "execution_count": 131,
   "metadata": {},
   "outputs": [
    {
     "name": "stdout",
     "output_type": "stream",
     "text": [
      "89 {2: 1, 3: 2, 4: 3, 5: 5, 6: 8, 7: 13, 8: 21, 9: 34, 10: 55, 11: 89}\n"
     ]
    }
   ],
   "source": [
    "dp ={}\n",
    "r = fibonacci(11,dp)\n",
    "print(r, dp)"
   ]
  },
  {
   "cell_type": "code",
   "execution_count": 115,
   "metadata": {},
   "outputs": [],
   "source": [
    "def fibonacci(n,dp):\n",
    "    \n",
    "    if (n == 0) :\n",
    "        return 0\n",
    "    elif (n == 1) :\n",
    "        return 1\n",
    "    else : \n",
    "        if n >= len(dp) : # 요놈이 문제다...\n",
    "            dp +=[ fibonacci(n - 2,dp) + fibonacci(n - 1,dp)]\n",
    "    print(dp,len(dp))      \n",
    "    return dp[-1]"
   ]
  },
  {
   "cell_type": "code",
   "execution_count": 123,
   "metadata": {},
   "outputs": [
    {
     "name": "stdout",
     "output_type": "stream",
     "text": [
      "[0, 1, 1] 3\n",
      "[0, 1, 1, 2] 4\n",
      "2 [0, 1, 1, 2]\n"
     ]
    }
   ],
   "source": [
    "dp =[0,1]\n",
    "r = fibonacci(3,dp)\n",
    "print(r, dp)"
   ]
  },
  {
   "cell_type": "code",
   "execution_count": null,
   "metadata": {},
   "outputs": [],
   "source": []
  },
  {
   "cell_type": "markdown",
   "metadata": {},
   "source": [
    "# bottom up"
   ]
  },
  {
   "cell_type": "code",
   "execution_count": 124,
   "metadata": {},
   "outputs": [],
   "source": [
    "def fibonacci(n):\n",
    "    a = []\n",
    "    \n",
    "    a += [0]\n",
    "    a += [1]\n",
    "    \n",
    "    for i in range(2,n+1) :\n",
    "        a +=[a[i-1]+a[-2]]\n",
    "    return a.pop()\n",
    "    "
   ]
  },
  {
   "cell_type": "code",
   "execution_count": 125,
   "metadata": {},
   "outputs": [
    {
     "data": {
      "text/plain": [
       "89"
      ]
     },
     "execution_count": 125,
     "metadata": {},
     "output_type": "execute_result"
    }
   ],
   "source": [
    "fibonacci(11)"
   ]
  },
  {
   "cell_type": "code",
   "execution_count": 126,
   "metadata": {},
   "outputs": [],
   "source": [
    "def fibonacci(n):\n",
    "    before = 0\n",
    "    now = 1\n",
    "    for i in range(n-1) :\n",
    "        now, before = now+before, now\n",
    "    \n",
    "    return now"
   ]
  },
  {
   "cell_type": "code",
   "execution_count": 127,
   "metadata": {},
   "outputs": [
    {
     "data": {
      "text/plain": [
       "89"
      ]
     },
     "execution_count": 127,
     "metadata": {},
     "output_type": "execute_result"
    }
   ],
   "source": [
    "fibonacci(11)"
   ]
  },
  {
   "cell_type": "code",
   "execution_count": null,
   "metadata": {},
   "outputs": [],
   "source": []
  },
  {
   "cell_type": "code",
   "execution_count": null,
   "metadata": {},
   "outputs": [],
   "source": []
  },
  {
   "cell_type": "code",
   "execution_count": null,
   "metadata": {},
   "outputs": [],
   "source": []
  },
  {
   "cell_type": "code",
   "execution_count": null,
   "metadata": {},
   "outputs": [],
   "source": []
  },
  {
   "cell_type": "code",
   "execution_count": null,
   "metadata": {},
   "outputs": [],
   "source": [
    "def solution(N, number):\n",
    "    S = [{N}]\n",
    "    for i in range(2, 9):\n",
    "        \n",
    "        print(i,' : ',S)\n",
    "        \n",
    "        lst = [int(str(N)*i)]\n",
    "        for X_i in range(0, int(i / 2)):\n",
    "            for x in S[X_i]:\n",
    "                for y in S[i - X_i - 2]:\n",
    "                    lst.append(x + y)\n",
    "                    lst.append(x - y)\n",
    "                    lst.append(y - x)\n",
    "                    lst.append(x * y)\n",
    "                    if x != 0: lst.append(y // x)\n",
    "                    if y != 0: lst.append(x // y)\n",
    "        if number in set(lst):\n",
    "            print(lst)\n",
    "            return i\n",
    "        S.append(lst)\n",
    "    return -1"
   ]
  },
  {
   "cell_type": "code",
   "execution_count": null,
   "metadata": {},
   "outputs": [],
   "source": [
    "\n",
    "def dp(N,number,cnt,stack) : \n",
    "\n",
    "    if cnt > 8 : \n",
    "        return -1\n",
    "    else : \n",
    "        \n",
    "\n",
    "def solution(N, number):\n",
    "    S = []\n",
    "    for L in range(1, 9):\n",
    "        \n",
    "        lst = [int(str(N)*L)]\n",
    "        \n",
    "        for X_i in range(0, L // 2 ):\n",
    "            for x in S[X_i]:\n",
    "                for y in S[L - X_i - 2]:\n",
    "                    lst.append(x + y)\n",
    "                    lst.append(x - y)\n",
    "                    lst.append(y - x)\n",
    "                    lst.append(x * y)\n",
    "                    if x != 0: lst.append(y // x)\n",
    "                    if y != 0: lst.append(x // y)\n",
    "        \n",
    "        S.append(set(lst))\n",
    "        print(L,' : ',S)\n",
    "        if number in set(lst):\n",
    "            return L\n",
    "        \n",
    "    return -1"
   ]
  },
  {
   "cell_type": "code",
   "execution_count": null,
   "metadata": {},
   "outputs": [],
   "source": [
    "solution(5,12)"
   ]
  },
  {
   "cell_type": "code",
   "execution_count": null,
   "metadata": {},
   "outputs": [],
   "source": []
  }
 ],
 "metadata": {
  "kernelspec": {
   "display_name": "Python 3",
   "language": "python",
   "name": "python3"
  },
  "language_info": {
   "codemirror_mode": {
    "name": "ipython",
    "version": 3
   },
   "file_extension": ".py",
   "mimetype": "text/x-python",
   "name": "python",
   "nbconvert_exporter": "python",
   "pygments_lexer": "ipython3",
   "version": "3.7.4"
  }
 },
 "nbformat": 4,
 "nbformat_minor": 2
}
