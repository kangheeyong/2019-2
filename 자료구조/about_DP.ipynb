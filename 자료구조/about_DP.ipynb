{
 "cells": [
  {
   "cell_type": "markdown",
   "metadata": {},
   "source": [
    "\n",
    "# Dynimic Programming\n",
    "\n",
    "- 조건 1 : 중복되는 것이 있어야 하고,\n",
    "- 조건 2 : 이전의 찾은 결과 값이 최적의 값이어야 한다\n",
    "\n",
    "함수의 반환값은 그때 구한 값으로 생각하는게 편하다\n"
   ]
  },
  {
   "cell_type": "code",
   "execution_count": 126,
   "metadata": {},
   "outputs": [],
   "source": [
    "def fibonacci(n):\n",
    "    \n",
    "    if (n == 0) :\n",
    "        return 0\n",
    "    elif (n == 1) :\n",
    "        return 1\n",
    "    else : \n",
    "        return fibonacci(n - 1) + fibonacci(n - 2) \n",
    "            \n",
    "        "
   ]
  },
  {
   "cell_type": "markdown",
   "metadata": {},
   "source": [
    "# top-down \n",
    "- 점화식 사용\n",
    "- global 변수 사용"
   ]
  },
  {
   "cell_type": "code",
   "execution_count": null,
   "metadata": {},
   "outputs": [],
   "source": [
    "def fibonacci(n):\n",
    "    global dp\n",
    "    \n",
    "    if (n == 0) :\n",
    "        return 0\n",
    "    elif (n == 1) :\n",
    "        return 1\n",
    "    else : \n",
    "        if n not in dp : \n",
    "            dp[n] = fibonacci(n - 1) + fibonacci(n - 2) \n",
    "            \n",
    "        return dp[n]\n",
    " \n",
    "    "
   ]
  },
  {
   "cell_type": "code",
   "execution_count": 127,
   "metadata": {},
   "outputs": [
    {
     "name": "stdout",
     "output_type": "stream",
     "text": [
      "89 {}\n"
     ]
    }
   ],
   "source": [
    "dp ={}\n",
    "r = fibonacci(11)\n",
    "print(r, dp)"
   ]
  },
  {
   "cell_type": "markdown",
   "metadata": {},
   "source": [
    "# top-down \n",
    "- 점화식 사용\n",
    "- global 변수 사용x"
   ]
  },
  {
   "cell_type": "code",
   "execution_count": null,
   "metadata": {},
   "outputs": [],
   "source": [
    "def fibonacci(n,dp):\n",
    "    \n",
    "    if (n == 0) :\n",
    "        return 0\n",
    "    elif (n == 1) :\n",
    "        return 1\n",
    "    else : \n",
    "        if n not in dp : \n",
    "            dp[n] = fibonacci(n - 1,dp) + fibonacci(n - 2,dp) \n",
    "            \n",
    "        return dp[n]"
   ]
  },
  {
   "cell_type": "code",
   "execution_count": null,
   "metadata": {},
   "outputs": [],
   "source": [
    "dp ={}\n",
    "r = fibonacci(11,dp)\n",
    "print(r, dp)"
   ]
  },
  {
   "cell_type": "code",
   "execution_count": null,
   "metadata": {},
   "outputs": [],
   "source": [
    "def fibonacci(n,dp):\n",
    "    \n",
    "    if (n == 0) :\n",
    "        return 0\n",
    "    elif (n == 1) :\n",
    "        return 1\n",
    "    else : \n",
    "        if n >= len(dp) : # 요놈이 문제다...\n",
    "            dp +=[ fibonacci(n - 2,dp) + fibonacci(n - 1,dp)]\n",
    "    print(dp,len(dp))      \n",
    "    return dp[-1]"
   ]
  },
  {
   "cell_type": "code",
   "execution_count": null,
   "metadata": {},
   "outputs": [],
   "source": [
    "dp =[0,1]\n",
    "r = fibonacci(3,dp)\n",
    "print(r, dp)"
   ]
  },
  {
   "cell_type": "code",
   "execution_count": null,
   "metadata": {},
   "outputs": [],
   "source": []
  },
  {
   "cell_type": "markdown",
   "metadata": {},
   "source": [
    "# bottom up"
   ]
  },
  {
   "cell_type": "code",
   "execution_count": null,
   "metadata": {},
   "outputs": [],
   "source": [
    "def fibonacci(n):\n",
    "    a = []\n",
    "    \n",
    "    a += [0]\n",
    "    a += [1]\n",
    "    \n",
    "    for i in range(2,n+1) :\n",
    "        a +=[a[i-1]+a[-2]]\n",
    "    return a.pop()\n",
    "    "
   ]
  },
  {
   "cell_type": "code",
   "execution_count": null,
   "metadata": {},
   "outputs": [],
   "source": [
    "fibonacci(11)"
   ]
  },
  {
   "cell_type": "code",
   "execution_count": null,
   "metadata": {},
   "outputs": [],
   "source": [
    "def fibonacci(n):\n",
    "    before = 0\n",
    "    now = 1\n",
    "    for i in range(n-1) :\n",
    "        now, before = now+before, now\n",
    "    \n",
    "    return now"
   ]
  },
  {
   "cell_type": "code",
   "execution_count": null,
   "metadata": {},
   "outputs": [],
   "source": [
    "fibonacci(11)"
   ]
  },
  {
   "cell_type": "code",
   "execution_count": null,
   "metadata": {},
   "outputs": [],
   "source": []
  },
  {
   "cell_type": "code",
   "execution_count": null,
   "metadata": {},
   "outputs": [],
   "source": []
  },
  {
   "cell_type": "code",
   "execution_count": null,
   "metadata": {},
   "outputs": [],
   "source": []
  },
  {
   "cell_type": "code",
   "execution_count": null,
   "metadata": {},
   "outputs": [],
   "source": []
  },
  {
   "cell_type": "code",
   "execution_count": 37,
   "metadata": {},
   "outputs": [],
   "source": [
    "def solution1(N, number):\n",
    "    S = [{N}]\n",
    "    for i in range(2, 5):\n",
    "        \n",
    "        #print(i,' : ',S)\n",
    "        \n",
    "        lst = [int(str(N)*i)]\n",
    "        for X_i in range(0, int(i / 2)):\n",
    "            for x in S[X_i]:\n",
    "                for y in S[i - X_i - 2]:\n",
    "                    lst.append(x + y)\n",
    "                    lst.append(x - y)\n",
    "                    lst.append(y - x)\n",
    "                    lst.append(x * y)\n",
    "                    if x != 0: lst.append(y // x)\n",
    "                    if y != 0: lst.append(x // y)\n",
    "        print(set(lst))\n",
    "        if number in set(lst):\n",
    "            #print(lst)\n",
    "            return i\n",
    "        S.append(set(lst))\n",
    "    return -1"
   ]
  },
  {
   "cell_type": "code",
   "execution_count": 124,
   "metadata": {},
   "outputs": [],
   "source": [
    "def cal(memory, n, m, temp) :\n",
    "    \n",
    "    for a1 in memory[n] : \n",
    "        for a2 in memory[m] : \n",
    "            temp.add(a1+a2)\n",
    "            temp.add(a1-a2)\n",
    "            temp.add(a2-a1)\n",
    "            temp.add(a1*a2)\n",
    "            if a1 != 0 :\n",
    "                temp.add(a2//a1)\n",
    "            if a2 != 0 :\n",
    "                temp.add(a1//a2)\n",
    "\n",
    "def dp(N,layers,memory) : \n",
    "    \n",
    "    temp = {int(str(N)*layers)}\n",
    "    \n",
    "    for i in range(1,layers//2+1) :      \n",
    "        cal(memory,i,layers-i,temp)\n",
    "        \n",
    "    memory[layers] = temp\n",
    "    \n",
    "    return temp\n",
    "\n",
    "def solution(N, number):\n",
    "    memory = {}\n",
    "    for layers in range(1,9) :\n",
    "        \n",
    "        if number in dp(N,layers,memory) :\n",
    "            return layers\n",
    "    else :\n",
    "        return -1"
   ]
  },
  {
   "cell_type": "code",
   "execution_count": 116,
   "metadata": {},
   "outputs": [],
   "source": [
    "\n",
    "def cal(memory, n, m, temp) :\n",
    "    \n",
    "    for a1 in memory[n] : \n",
    "        for a2 in memory[m] : \n",
    "            temp.add(a1+a2)\n",
    "            temp.add(a1-a2)\n",
    "            temp.add(a2-a1)\n",
    "            temp.add(a1*a2)\n",
    "            if a1 != 0 :\n",
    "                temp.add(a2//a1)\n",
    "            if a2 != 0 :\n",
    "                temp.add(a1//a2)\n",
    "    \n",
    "\n",
    "def dp(N,layers,memory) : \n",
    "    \n",
    "    \n",
    "\n",
    "    temp = {int(str(N)*layers)}\n",
    "        \n",
    "    for i in range(1,layers//2+1) :      \n",
    "            \n",
    "        if i not in memory : \n",
    "            dp(N,i,memory)\n",
    "        if layers-i not in memory :\n",
    "            dp(N,layers-i,memory)\n",
    "            \n",
    "        cal(memory,i,layers-i,temp)\n",
    "        \n",
    "    memory[layers] = temp \n",
    "    \n",
    "    return temp\n",
    "            \n",
    "def solution(N, number):\n",
    "    memory = {}\n",
    "    layers = 4\n",
    "    dp(N,layers,memory)\n",
    "    #print(memory)\n",
    "    return 0"
   ]
  },
  {
   "cell_type": "code",
   "execution_count": 125,
   "metadata": {},
   "outputs": [
    {
     "data": {
      "text/plain": [
       "4"
      ]
     },
     "execution_count": 125,
     "metadata": {},
     "output_type": "execute_result"
    }
   ],
   "source": [
    "solution(5,12)"
   ]
  },
  {
   "cell_type": "code",
   "execution_count": 40,
   "metadata": {},
   "outputs": [
    {
     "name": "stdout",
     "output_type": "stream",
     "text": [
      "{0, 1, 10, 55, 25}\n",
      "{0, 2, 4, 5, 6, 555, 11, -20, 60, 15, -50, 50, 275, 20, -5, -4, 125, 30}\n",
      "{0, 1, 2, 3, 4, 5, 6, 7, -250, 9, 10, 11, 12, -120, 270, 15, 16, 130, 20, 150, 280, 25, 26, 24, -100, 30, 35, 550, 300, 45, 560, 50, 5555, 54, 55, 56, 65, -55, -54, 75, 80, 3025, -45, 2775, -550, 120, 1375, -30, 100, -25, -24, 250, -20, 110, 111, -15, -270, 625, -10, -9, -2, -6, -5, -4, -3, -1}\n"
     ]
    },
    {
     "data": {
      "text/plain": [
       "4"
      ]
     },
     "execution_count": 40,
     "metadata": {},
     "output_type": "execute_result"
    }
   ],
   "source": [
    "solution1(5,12)"
   ]
  },
  {
   "cell_type": "markdown",
   "metadata": {},
   "source": [
    "# 2019 네이버 2번 문제??"
   ]
  },
  {
   "cell_type": "code",
   "execution_count": null,
   "metadata": {},
   "outputs": [],
   "source": []
  },
  {
   "cell_type": "code",
   "execution_count": null,
   "metadata": {},
   "outputs": [],
   "source": []
  },
  {
   "cell_type": "code",
   "execution_count": 146,
   "metadata": {},
   "outputs": [],
   "source": [
    "def solution(n) :\n",
    "    \n",
    "    before = set()\n",
    "    answer = set()\n",
    "    a = -1\n",
    "    for i in range(1, 100) : \n",
    "        \n",
    "        temp = set([i])\n",
    "        \n",
    "        for v in before :\n",
    "            temp.add(v*i)\n",
    "        \n",
    "        before = temp\n",
    "        answer = answer.union(temp)\n",
    "        \n",
    "        print(before,i)\n",
    "        if len(answer) > n :\n",
    "            aaa = list(answer)\n",
    "            aaa.sort()\n",
    "            b = aaa[n]\n",
    "            if a == b : break\n",
    "            a = b\n",
    "    print(aaa)\n",
    "    return b"
   ]
  },
  {
   "cell_type": "code",
   "execution_count": 193,
   "metadata": {},
   "outputs": [],
   "source": [
    "def solution(n) :\n",
    "    \n",
    "    cache = set()\n",
    "    data = set()\n",
    "    before = -1\n",
    "    for i in range(1, 10) : \n",
    "        \n",
    "        temp = set([i])      \n",
    "        for v in cache :\n",
    "            temp.add(v*i)\n",
    "        cache = temp\n",
    "        data = data | cache\n",
    "        \n",
    "        \n",
    "        _data = sorted(list(data))   \n",
    "        now = _data[n-1] if n <= len(_data) else -1\n",
    "        \n",
    "        \n",
    "        if now == before and now != -1 :\n",
    "            break\n",
    "        else : \n",
    "            before = now\n",
    "        \n",
    "    print(sorted(list(data)))\n",
    "    return now"
   ]
  },
  {
   "cell_type": "code",
   "execution_count": 194,
   "metadata": {},
   "outputs": [
    {
     "name": "stdout",
     "output_type": "stream",
     "text": [
      "[1, 2, 3, 4, 5, 6, 12, 20, 24, 30, 60, 120, 360, 720]\n"
     ]
    },
    {
     "data": {
      "text/plain": [
       "24"
      ]
     },
     "execution_count": 194,
     "metadata": {},
     "output_type": "execute_result"
    }
   ],
   "source": [
    "solution(9)"
   ]
  },
  {
   "cell_type": "code",
   "execution_count": 186,
   "metadata": {},
   "outputs": [],
   "source": [
    "a = [1,2,3,4]"
   ]
  },
  {
   "cell_type": "code",
   "execution_count": 187,
   "metadata": {},
   "outputs": [
    {
     "data": {
      "text/plain": [
       "True"
      ]
     },
     "execution_count": 187,
     "metadata": {},
     "output_type": "execute_result"
    }
   ],
   "source": [
    "len(a) >= 3"
   ]
  },
  {
   "cell_type": "markdown",
   "metadata": {},
   "source": [
    "# 다른문제"
   ]
  },
  {
   "cell_type": "code",
   "execution_count": null,
   "metadata": {},
   "outputs": [],
   "source": []
  },
  {
   "cell_type": "code",
   "execution_count": 259,
   "metadata": {},
   "outputs": [],
   "source": [
    "\n",
    "\n",
    "def measure(number,weight,memory) :\n",
    "    \n",
    "    if number == 0 :\n",
    "        temp = set([weight[0]])\n",
    "        memory[number] = temp\n",
    "    else :\n",
    "        if number not in memory : \n",
    "            measure(number-1,weight,memory)     \n",
    "        n = weight[number]\n",
    "        temp=set([n])\n",
    "        for v in memory[number-1] :\n",
    "            temp.add(v + n)   \n",
    "        memory[number] =  temp.union(memory[number-1])\n",
    "    \n",
    "    return temp\n",
    "\n",
    "def solution(weight):\n",
    "    \n",
    "    weight.sort()\n",
    "    memory = {}\n",
    "    #print(weight)\n",
    "\n",
    "    cnt = 1\n",
    "    for idx,v in enumerate(weight) : \n",
    "    \n",
    "        measure(idx,weight,memory)\n",
    "\n",
    "        \n",
    "        while cnt<= v :      \n",
    "            if cnt not in memory[idx] :\n",
    "                return cnt\n",
    "            cnt +=1\n",
    "    while True : \n",
    "        if cnt not in memory[idx] :\n",
    "            break\n",
    "        cnt +=1\n",
    "        \n",
    "    \n",
    "    answer = cnt\n",
    "    return answer"
   ]
  },
  {
   "cell_type": "code",
   "execution_count": null,
   "metadata": {},
   "outputs": [],
   "source": []
  },
  {
   "cell_type": "code",
   "execution_count": 220,
   "metadata": {},
   "outputs": [],
   "source": [
    "def solution(weight):\n",
    "    \n",
    "    weight.sort()\n",
    "\n",
    "    cache = set()\n",
    "    \n",
    "    \n",
    "    print(weight)\n",
    "    \n",
    "    for v in weight : \n",
    "        temp = set([v])\n",
    "        for p in cache : \n",
    "            temp.add(p + v)\n",
    "        \n",
    "        \n",
    "        cache = cache | temp\n",
    "\n",
    "        \n",
    "    print(cache)\n",
    "    answer = -1\n",
    "    return answer"
   ]
  },
  {
   "cell_type": "code",
   "execution_count": 261,
   "metadata": {},
   "outputs": [],
   "source": []
  },
  {
   "cell_type": "code",
   "execution_count": 262,
   "metadata": {},
   "outputs": [
    {
     "name": "stdout",
     "output_type": "stream",
     "text": [
      "[1, 1, 2, 3, 6, 7, 30]\n",
      "{(1, 6, 30), (1, 3), (1, 1, 7), (1, 1, 6, 7), (1, 1, 6), (1, 3, 30), (1, 6), (3, 7), (2, 6, 7), (6, 7), (2, 30), (3,), (1, 1, 2, 3, 6, 7), (1, 1, 2, 30), (1, 2, 3, 6), (7,), (1, 1, 7, 30), (1, 1), (2, 6), (1, 1, 30), (2, 6, 7, 30), (1, 1, 2, 3, 6, 7, 30), (1, 2, 3), (6, 7, 30), (1, 2, 3, 6, 7), (1, 1, 3, 6, 7), (2, 3), (1, 1, 2, 6, 7, 30), (2, 7, 30), (1, 2, 3, 30), (1, 3, 7), (2, 3, 6, 7), (1, 2, 6), (1, 2, 6, 30), (1, 3, 6), (1, 1, 3, 7), (1, 2, 7), (7, 30), (1, 7, 30), (1, 7), (1, 1, 2, 3), (1, 3, 6, 7, 30), (3, 6, 30), (1, 1, 2, 6), (3, 6, 7, 30), (1, 3, 7, 30), (2, 3, 6), (1, 1, 6, 30), (1, 2, 3, 7), (2, 3, 7), (1, 1, 3, 7, 30), (1, 1, 2, 6, 30), (2, 3, 6, 30), (1, 1, 3, 6, 7, 30), (1, 1, 2, 3, 7, 30), (1, 2, 30), (2, 3, 7, 30), (1, 2), (1, 1, 2, 3, 6, 30), (1,), (30,), (1, 1, 2, 3, 6), (1, 2, 6, 7, 30), (1, 2, 7, 30), (3, 6), (3, 6, 7), (1, 1, 3, 6), (2, 3, 30), (1, 1, 3, 6, 30), (1, 2, 3, 6, 30), (1, 1, 2, 7, 30), (1, 2, 6, 7), (3, 30), (1, 6, 7), (6, 30), (2, 6, 30), (1, 3, 6, 30), (1, 1, 2, 7), (1, 1, 6, 7, 30), (1, 1, 2, 3, 30), (1, 6, 7, 30), (2, 7), (1, 3, 6, 7), (1, 1, 3), (2,), (1, 1, 3, 30), (1, 2, 3, 6, 7, 30), (2, 3, 6, 7, 30), (1, 1, 2), (3, 7, 30), (6,), (1, 2, 3, 7, 30), (1, 1, 2, 3, 7), (1, 30), (1, 1, 2, 6, 7)}\n"
     ]
    },
    {
     "data": {
      "text/plain": [
       "-1"
      ]
     },
     "execution_count": 262,
     "metadata": {},
     "output_type": "execute_result"
    }
   ],
   "source": [
    "solution([3, 1, 6, 2, 7, 30, 1]) # 21"
   ]
  },
  {
   "cell_type": "code",
   "execution_count": 263,
   "metadata": {},
   "outputs": [
    {
     "name": "stdout",
     "output_type": "stream",
     "text": [
      "[1, 1, 2, 3, 6, 7, 10, 32]\n",
      "{(1, 1, 32), (1, 2, 3, 10, 32), (32,), (1, 1, 7), (1, 2, 3, 6, 32), (1, 1, 6, 7), (3, 6, 10, 32), (1, 2, 10), (1, 1, 6, 7, 10, 32), (1, 6, 7, 10), (1, 6), (1, 2, 3, 6, 7, 10), (3, 7), (1, 7, 10, 32), (2, 6, 7), (1, 1, 2, 6, 10), (6, 7), (1, 1, 2, 3, 6, 7, 10), (6, 10), (1, 2, 7, 10, 32), (1, 1, 3, 6, 10), (1, 1, 2, 3, 6, 7), (7,), (1, 6, 10, 32), (1, 1), (1, 2, 3, 7, 32), (2, 6), (1, 2, 6, 7, 10), (1, 1, 2, 3, 6, 7, 10, 32), (1, 1, 7, 10), (1, 2, 6, 32), (1, 2, 3, 6, 7), (2, 32), (1, 1, 2, 6, 10, 32), (1, 1, 2, 32), (2, 3, 6, 7, 10), (1, 3, 6, 10, 32), (3, 10, 32), (1, 1, 7, 10, 32), (2, 3, 6, 7, 32), (2, 3, 6, 10), (1, 3, 7), (2, 3, 6, 7), (1, 2, 6), (1, 1, 3, 7), (2, 3, 10), (2, 6, 7, 32), (1, 2, 6, 7, 10, 32), (2, 6, 32), (1, 1, 3, 6, 32), (1, 2, 3, 7, 10, 32), (3, 7, 10), (1, 2, 7, 10), (1, 1, 6, 32), (1, 2, 3, 6, 7, 10, 32), (2, 3, 6), (1, 1, 3, 10, 32), (1, 1, 6, 7, 10), (1, 1, 2, 3, 10), (1, 2, 3, 7), (1, 2, 3, 10), (1, 1, 2, 3, 6, 32), (1, 3, 7, 10), (1, 1, 2, 3, 7, 10), (2, 3, 6, 32), (1,), (1, 1, 2, 3, 7, 10, 32), (6, 10, 32), (1, 6, 10), (6, 32), (1, 1, 2, 3, 6, 10), (1, 3, 10, 32), (1, 3, 32), (1, 3, 6, 32), (3, 6), (1, 1, 10), (1, 10), (1, 1, 2, 6, 32), (1, 1, 10, 32), (7, 10, 32), (1, 3, 6, 7, 32), (1, 1, 2, 3, 10, 32), (1, 2, 3, 6, 10, 32), (1, 3, 6, 7, 10), (2, 3, 6, 10, 32), (1, 2, 6, 7), (1, 2, 10, 32), (1, 1, 2, 10, 32), (10,), (2, 3, 7, 10), (1, 1, 2, 7), (10, 32), (2, 7, 32), (2, 7), (1, 3, 6, 7), (6, 7, 32), (2,), (1, 1, 2, 3, 7, 32), (1, 1, 2), (3, 6, 7, 10, 32), (2, 3, 10, 32), (1, 1, 2, 6, 7), (1, 3), (3, 6, 10), (1, 6, 7, 10, 32), (1, 1, 6), (3, 6, 7, 32), (1, 1, 3, 6, 7, 10, 32), (1, 2, 6, 7, 32), (1, 1, 2, 6, 7, 10, 32), (1, 2, 32), (1, 3, 6, 7, 10, 32), (1, 1, 6, 10, 32), (1, 1, 3, 7, 10), (1, 6, 7, 32), (3, 10), (3,), (1, 1, 2, 7, 10), (1, 2, 3, 6, 10), (1, 2, 3, 6), (1, 32), (1, 1, 3, 7, 10, 32), (2, 3, 7, 10, 32), (1, 1, 3, 32), (1, 2, 3), (1, 7, 32), (1, 1, 3, 6, 7), (2, 3), (1, 1, 6, 10), (3, 7, 32), (1, 2, 7, 32), (2, 6, 7, 10), (1, 1, 2, 6, 7, 32), (1, 1, 6, 7, 32), (1, 1, 2, 3, 32), (3, 32), (1, 3, 6), (1, 1, 2, 10), (1, 2, 7), (1, 2, 6, 10, 32), (1, 1, 2, 3, 6, 10, 32), (2, 6, 10, 32), (1, 1, 2, 3, 6, 7, 32), (1, 1, 2, 7, 32), (2, 3, 32), (1, 7), (1, 1, 2, 3), (1, 2, 6, 10), (1, 1, 7, 32), (1, 1, 2, 6), (2, 6, 10), (1, 1, 2, 6, 7, 10), (2, 7, 10, 32), (2, 3, 7), (3, 6, 7, 10), (1, 3, 7, 10, 32), (1, 3, 6, 10), (1, 2), (1, 1, 3, 6, 7, 10), (6, 7, 10, 32), (1, 2, 3, 32), (1, 2, 3, 7, 10), (1, 1, 2, 3, 6), (1, 3, 7, 32), (7, 10), (1, 6, 32), (3, 6, 7), (1, 1, 3, 7, 32), (3, 6, 32), (1, 3, 10), (1, 1, 3, 6), (1, 1, 3, 6, 10, 32), (1, 1, 2, 7, 10, 32), (7, 32), (1, 2, 3, 6, 7, 32), (1, 6, 7), (2, 10), (2, 7, 10), (2, 6, 7, 10, 32), (1, 1, 3, 10), (2, 10, 32), (6, 7, 10), (1, 10, 32), (2, 3, 6, 7, 10, 32), (1, 1, 3), (1, 7, 10), (2, 3, 7, 32), (1, 1, 3, 6, 7, 32), (3, 7, 10, 32), (6,), (1, 1, 2, 3, 7)}\n"
     ]
    },
    {
     "data": {
      "text/plain": [
       "-1"
      ]
     },
     "execution_count": 263,
     "metadata": {},
     "output_type": "execute_result"
    }
   ],
   "source": [
    "solution([3, 1, 6, 2, 7, 10, 1,32]) # 31"
   ]
  },
  {
   "cell_type": "code",
   "execution_count": 225,
   "metadata": {},
   "outputs": [
    {
     "data": {
      "text/plain": [
       "{2}"
      ]
     },
     "execution_count": 225,
     "metadata": {},
     "output_type": "execute_result"
    }
   ],
   "source": [
    "set([(2)])"
   ]
  },
  {
   "cell_type": "code",
   "execution_count": 256,
   "metadata": {},
   "outputs": [
    {
     "data": {
      "text/plain": [
       "set"
      ]
     },
     "execution_count": 256,
     "metadata": {},
     "output_type": "execute_result"
    }
   ],
   "source": [
    "type(set([1]))"
   ]
  },
  {
   "cell_type": "code",
   "execution_count": 308,
   "metadata": {},
   "outputs": [],
   "source": [
    "# combinations\n",
    "\n",
    "def solution(data):\n",
    "\n",
    "    cache = set()     \n",
    "    for v in data : \n",
    "        temp = set([(v,)])\n",
    "        for p in cache : \n",
    "            temp.add(p + (v,))      \n",
    "        cache = cache | temp\n",
    "     \n",
    "    string = [ int(''.join(list(map(str,v)))) for v in cache]\n",
    "    \n",
    "    print(string)\n",
    "    return -1"
   ]
  },
  {
   "cell_type": "code",
   "execution_count": 408,
   "metadata": {},
   "outputs": [],
   "source": [
    "# permutations\n",
    "\n",
    "def solution(data):\n",
    "\n",
    "    cache = set()    \n",
    "    for v in data : \n",
    "        temp = set([(v,)])\n",
    "        for p in cache : \n",
    "            temp.update([p[:i] + (v,) + p[i:] for i in range(0,len(p)+2)])   \n",
    "        cache = cache | temp\n",
    "        \n",
    "        \n",
    "    string = [ int(''.join(list(map(str,v)))) for v in cache]\n",
    "    string.sort()\n",
    "    print(string)\n",
    "    \n",
    "    a = [v for v in string if 1<len(str(v))<3]\n",
    "    \n",
    "    print(a)\n",
    "    return -1"
   ]
  },
  {
   "cell_type": "code",
   "execution_count": 409,
   "metadata": {},
   "outputs": [
    {
     "name": "stdout",
     "output_type": "stream",
     "text": [
      "[1, 2, 3, 12, 13, 21, 23, 31, 32, 123, 132, 213, 231, 312, 321]\n",
      "[12, 13, 21, 23, 31, 32]\n"
     ]
    },
    {
     "data": {
      "text/plain": [
       "-1"
      ]
     },
     "execution_count": 409,
     "metadata": {},
     "output_type": "execute_result"
    }
   ],
   "source": [
    "solution([1,2,3])"
   ]
  },
  {
   "cell_type": "code",
   "execution_count": 364,
   "metadata": {},
   "outputs": [],
   "source": [
    "import itertools\n",
    "def solution(weight):\n",
    "    print('\\n\\npermutations\\n\\n')\n",
    "    \n",
    "    print([list(itertools.permutations(weight,i)) for i in range(1, len(weight)+1)])\n",
    "    \n",
    "    print('\\n\\ncombinations\\n\\n')\n",
    "    \n",
    "    print([list(itertools.combinations(weight,i)) for i in range(1, len(weight)+1)])\n"
   ]
  },
  {
   "cell_type": "code",
   "execution_count": 365,
   "metadata": {},
   "outputs": [
    {
     "name": "stdout",
     "output_type": "stream",
     "text": [
      "\n",
      "\n",
      "permutations\n",
      "\n",
      "\n",
      "[[(1,), (2,), (3,)], [(1, 2), (1, 3), (2, 1), (2, 3), (3, 1), (3, 2)], [(1, 2, 3), (1, 3, 2), (2, 1, 3), (2, 3, 1), (3, 1, 2), (3, 2, 1)]]\n",
      "\n",
      "\n",
      "combinations\n",
      "\n",
      "\n",
      "[[(1,), (2,), (3,)], [(1, 2), (1, 3), (2, 3)], [(1, 2, 3)]]\n"
     ]
    }
   ],
   "source": [
    "solution([1,2,3])"
   ]
  },
  {
   "cell_type": "code",
   "execution_count": 372,
   "metadata": {},
   "outputs": [
    {
     "name": "stdout",
     "output_type": "stream",
     "text": [
      "2\n"
     ]
    }
   ],
   "source": [
    "a = [1,2]\n",
    "print(len(a))"
   ]
  },
  {
   "cell_type": "code",
   "execution_count": 382,
   "metadata": {},
   "outputs": [
    {
     "name": "stdout",
     "output_type": "stream",
     "text": [
      "[] [1, 2]\n"
     ]
    }
   ],
   "source": [
    "i = -3\n",
    "print(a[:i],a[i:])"
   ]
  },
  {
   "cell_type": "code",
   "execution_count": 3,
   "metadata": {},
   "outputs": [
    {
     "data": {
      "text/plain": [
       "1.3261117612421833"
      ]
     },
     "execution_count": 3,
     "metadata": {},
     "output_type": "execute_result"
    }
   ],
   "source": [
    "1.0626590538269367/0.8013344613062872"
   ]
  },
  {
   "cell_type": "code",
   "execution_count": 4,
   "metadata": {},
   "outputs": [
    {
     "data": {
      "text/plain": [
       "1.1009309309095188"
      ]
     },
     "execution_count": 4,
     "metadata": {},
     "output_type": "execute_result"
    }
   ],
   "source": [
    "2.850467387160269/2.5891427946396193"
   ]
  },
  {
   "cell_type": "code",
   "execution_count": null,
   "metadata": {},
   "outputs": [],
   "source": []
  }
 ],
 "metadata": {
  "kernelspec": {
   "display_name": "Python 3",
   "language": "python",
   "name": "python3"
  },
  "language_info": {
   "codemirror_mode": {
    "name": "ipython",
    "version": 3
   },
   "file_extension": ".py",
   "mimetype": "text/x-python",
   "name": "python",
   "nbconvert_exporter": "python",
   "pygments_lexer": "ipython3",
   "version": "3.7.4"
  }
 },
 "nbformat": 4,
 "nbformat_minor": 2
}
