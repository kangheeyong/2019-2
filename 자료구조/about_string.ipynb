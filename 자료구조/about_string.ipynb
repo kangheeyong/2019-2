{
 "cells": [
  {
   "cell_type": "code",
   "execution_count": null,
   "metadata": {},
   "outputs": [],
   "source": []
  },
  {
   "cell_type": "markdown",
   "metadata": {},
   "source": [
    "## 간단한 웹 크롤링?"
   ]
  },
  {
   "cell_type": "markdown",
   "metadata": {},
   "source": [
    "### 아무런 지식이 없을 경우"
   ]
  },
  {
   "cell_type": "code",
   "execution_count": 51,
   "metadata": {},
   "outputs": [],
   "source": [
    "\n",
    "from collections import defaultdict\n",
    "\n",
    "def get_txt(txt, start, end) : \n",
    "    cnt = txt.find(start)\n",
    "    txt = txt[cnt + len(start) :]\n",
    "    cnt =txt.find(end)\n",
    "   \n",
    "    return txt[ : cnt]\n",
    "\n",
    "def get_link(txt, start, end) :\n",
    "    stack = []\n",
    "    while txt.find(start) != -1 :\n",
    "        cnt = txt.find(start)\n",
    "        txt = txt[cnt + len(start) :]\n",
    "        cnt =txt.find(end)\n",
    "        \n",
    "        stack.append(txt[ : cnt])\n",
    "        txt = txt[len(end) : ]\n",
    "    return stack\n",
    "\n",
    "\n",
    "def get_score(txt, keyword) :\n",
    "     \n",
    "    txt = txt.lower()\n",
    "    keyword = keyword.lower()\n",
    "    score = 0.0\n",
    "    \n",
    "    while txt.find(keyword) != -1 :\n",
    "        cnt = txt.find(keyword)\n",
    "        \n",
    "        a = txt[cnt-1]\n",
    "        b = txt[cnt + len(keyword)]\n",
    "        \n",
    "        if a.isalpha() == False and b.isalpha() == False :\n",
    "            score +=1\n",
    "        \n",
    "        txt = txt[cnt + len(keyword) +1:]\n",
    "    return score\n",
    "\n",
    "\n",
    "    \n",
    "def solution(word, pages):\n",
    "    answer = []\n",
    "    temp = []\n",
    "    dic_link = defaultdict(list)\n",
    "    dic_score = defaultdict(list)\n",
    "    dic_link_score = defaultdict(list)\n",
    "    \n",
    "    for d in pages :\n",
    "              \n",
    "        name = get_txt(d, start = '<meta property=\\\"og:url\\\" content=\\\"', end = '\\\"')\n",
    "        temp.append(name)\n",
    "        txt = get_txt(d, start = '<body>', end = '</body>')\n",
    "        dic_link[name] += get_link(txt,start = 'a href=\\\"', end = '\\\"')\n",
    "        dic_score[name] = get_score(txt,word) \n",
    "\n",
    "    \n",
    "    for keys in temp :\n",
    "        dic_link_score[keys] = 0.0\n",
    "        \n",
    "    for keys in dic_score.keys() :\n",
    "        score = dic_score[keys]\n",
    "        for v in dic_link[keys] : \n",
    "            total = len(dic_link[keys])   \n",
    "            if v in dic_link_score :\n",
    "         \n",
    "                dic_link_score[v] += score/total\n",
    "            \n",
    "    n_max = -1\n",
    "    for idx, v in enumerate(temp) :\n",
    "        if dic_link_score[v] + dic_score[v] > n_max :\n",
    "            answer = idx\n",
    "            n_max = dic_link_score[v] + dic_score[v]\n",
    "\n",
    "  \n",
    "    print(dic_link)\n",
    "    print(dic_score)\n",
    "    print( dic_link_score)\n",
    "   \n",
    "    \n",
    "    return answer"
   ]
  },
  {
   "cell_type": "markdown",
   "metadata": {},
   "source": [
    "### 문자열과 조금의 정규표현식 응용한 경우"
   ]
  },
  {
   "cell_type": "code",
   "execution_count": 286,
   "metadata": {},
   "outputs": [],
   "source": [
    "# 정규식 테스트 사이트 : https://regexr.com\n",
    "# 정규식 시각 테스트 사이트 : https://regexper.com/#%3Ctr.*%3F%3E%28.*%3F%29%3C%5C%2Ftr%3E"
   ]
  },
  {
   "cell_type": "code",
   "execution_count": 317,
   "metadata": {},
   "outputs": [],
   "source": [
    "import re\n",
    "\n",
    "def solution(word, pages):\n",
    "    webpage = {} # [{idx, link_stack, score, total_score }\n",
    "    \n",
    "    \n",
    "    for idx, page in enumerate(pages) :\n",
    "        page_name = page.split('<meta property=\\\"og:url\\\" content=\\\"')[1].split('\\\"')[0]\n",
    "        \n",
    "        link = []\n",
    "        for link_data in page.split('<a href=\\\"')[1:] : \n",
    "            link.append(link_data.split('\\\"')[0])\n",
    "         \n",
    "        score = re.findall('[a-z]+',page.lower()).count(word.lower())\n",
    "        \n",
    "        webpage[page_name] = [idx, link,score, score]\n",
    "    \n",
    "    for keys in webpage.keys() :\n",
    "        idx, link_stack, score, _ = webpage[keys]\n",
    "        for link in link_stack : \n",
    "            if  link in webpage :\n",
    "                webpage[link][3] += score/len(link_stack)\n",
    "    \n",
    "    n_max = -1\n",
    "    \n",
    "    for keys  in webpage.keys() :\n",
    "        idx, _, _, total_score = webpage[keys]\n",
    "        if total_score > n_max : \n",
    "            n_max = total_score\n",
    "            answer = idx\n",
    "    \n",
    "    print(webpage)\n",
    "    \n",
    "    return answer\n",
    "    \n",
    "    value\":(.*?)}\n",
    "    "
   ]
  },
  {
   "cell_type": "markdown",
   "metadata": {},
   "source": [
    "### 정규표현식 버전"
   ]
  },
  {
   "cell_type": "code",
   "execution_count": 392,
   "metadata": {},
   "outputs": [],
   "source": [
    "import re\n",
    "\n",
    "def solution(word, pages):\n",
    "    webpage = {} # {idx, links, score, total_score }\n",
    "    \n",
    "    for idx, page in enumerate(pages) :\n",
    "        page_name = re.findall('<meta property=\\\\\"og:url\\\\\" content=\\\\\"(.*?)\"/>',page)[0]\n",
    "        links = re.findall('<a href=\\\\\"(.*?)\">',page)\n",
    "        score = re.findall('[a-z]+',page.lower()).count(word.lower())\n",
    "        total_score = score\n",
    "        webpage[page_name] = [idx, links, score, total_score]\n",
    "     \n",
    "    for key in webpage.keys() :\n",
    "        _, links, score, _ = webpage[key]\n",
    "        for link in links : \n",
    "            if  link in webpage :\n",
    "                webpage[link][3] += score/len(links)\n",
    "    \n",
    "    answer = []\n",
    "    for idx, _, _, total_score in webpage.values() :\n",
    "         answer.append([idx,total_score])\n",
    "    \n",
    "    answer.sort(key = lambda x : (-x[1],x[0]))\n",
    "    for key in webpage.keys() :\n",
    "        print(key,' : ',webpage[key])\n",
    "    \n",
    "    return answer[0][0]\n",
    "    \n",
    "    \n",
    "    "
   ]
  },
  {
   "cell_type": "code",
   "execution_count": 393,
   "metadata": {},
   "outputs": [
    {
     "name": "stdout",
     "output_type": "stream",
     "text": [
      "[[0, 4.5], [1, 4.0], [2, 1.5]]\n",
      "https://a.com  :  [0, ['https://b.com'], 3, 4.5]\n",
      "https://b.com  :  [1, ['https://a.com', 'https://c.com'], 1, 4.0]\n",
      "https://c.com  :  [2, ['https://a.com'], 1, 1.5]\n",
      "[[0, 4.5], [1, 4.0], [2, 1.5]]\n"
     ]
    },
    {
     "data": {
      "text/plain": [
       "0"
      ]
     },
     "execution_count": 393,
     "metadata": {},
     "output_type": "execute_result"
    }
   ],
   "source": [
    "# 답 0 \n",
    "solution(\"blind\",[\"<html lang=\\\"ko\\\" xml:lang=\\\"ko\\\" xmlns=\\\"http://www.w3.org/1999/xhtml\\\">\\n<head>\\n  <meta charset=\\\"utf-8\\\">\\n  <meta property=\\\"og:url\\\" content=\\\"https://a.com\\\"/>\\n</head>  \\n<body>\\nBlind Lorem Blind ipsum dolor Blind test sit amet, consectetur adipiscing elit. \\n<a href=\\\"https://b.com\\\"> Link to b </a>\\n</body>\\n</html>\", \"<html lang=\\\"ko\\\" xml:lang=\\\"ko\\\" xmlns=\\\"http://www.w3.org/1999/xhtml\\\">\\n<head>\\n  <meta charset=\\\"utf-8\\\">\\n  <meta property=\\\"og:url\\\" content=\\\"https://b.com\\\"/>\\n</head>  \\n<body>\\nSuspendisse potenti. Vivamus venenatis tellus non turpis bibendum, \\n<a href=\\\"https://a.com\\\"> Link to a </a>\\nblind sed congue urna varius. Suspendisse feugiat nisl ligula, quis malesuada felis hendrerit ut.\\n<a href=\\\"https://c.com\\\"> Link to c </a>\\n</body>\\n</html>\", \"<html lang=\\\"ko\\\" xml:lang=\\\"ko\\\" xmlns=\\\"http://www.w3.org/1999/xhtml\\\">\\n<head>\\n  <meta charset=\\\"utf-8\\\">\\n  <meta property=\\\"og:url\\\" content=\\\"https://c.com\\\"/>\\n</head>  \\n<body>\\nUt condimentum urna at felis sodales rutrum. Sed dapibus cursus diam, non interdum nulla tempor nec. Phasellus rutrum enim at orci consectetu blind\\n<a href=\\\"https://a.com\\\"> Link to a </a>\\n</body>\\n</html>\"])"
   ]
  },
  {
   "cell_type": "code",
   "execution_count": 394,
   "metadata": {},
   "outputs": [
    {
     "name": "stdout",
     "output_type": "stream",
     "text": [
      "[[0, 0], [1, 1]]\n",
      "https://careers.kakao.com/interview/list  :  [0, ['https://programmers.co.kr/learn/courses/4673'], 0, 0]\n",
      "https://www.kakaocorp.com  :  [1, ['https://hashcode.co.kr/tos'], 1, 1]\n",
      "[[1, 1], [0, 0]]\n"
     ]
    },
    {
     "data": {
      "text/plain": [
       "1"
      ]
     },
     "execution_count": 394,
     "metadata": {},
     "output_type": "execute_result"
    }
   ],
   "source": [
    "# 답 1\n",
    "solution(\"Muzi\",[\"<html lang=\\\"ko\\\" xml:lang=\\\"ko\\\" xmlns=\\\"http://www.w3.org/1999/xhtml\\\">\\n<head>\\n  <meta charset=\\\"utf-8\\\">\\n  <meta property=\\\"og:url\\\" content=\\\"https://careers.kakao.com/interview/list\\\"/>\\n</head>  \\n<body>\\n<a href=\\\"https://programmers.co.kr/learn/courses/4673\\\"></a>#!MuziMuzi!)jayg07con&&\\n\\n</body>\\n</html>\", \"<html lang=\\\"ko\\\" xml:lang=\\\"ko\\\" xmlns=\\\"http://www.w3.org/1999/xhtml\\\">\\n<head>\\n  <meta charset=\\\"utf-8\\\">\\n  <meta property=\\\"og:url\\\" content=\\\"https://www.kakaocorp.com\\\"/>\\n</head>  \\n<body>\\ncon%\\tmuzI92apeach&2<a href=\\\"https://hashcode.co.kr/tos\\\"></a>\\n\\n\\t^\\n</body>\\n</html>\"])"
   ]
  },
  {
   "cell_type": "code",
   "execution_count": 342,
   "metadata": {},
   "outputs": [],
   "source": [
    "def solution(word, pages):\n",
    "    answer = 0    \n",
    "    for idx, page in enumerate(pages) :\n",
    "        print(page)\n",
    "    return answer"
   ]
  },
  {
   "cell_type": "code",
   "execution_count": null,
   "metadata": {},
   "outputs": [],
   "source": []
  },
  {
   "cell_type": "code",
   "execution_count": null,
   "metadata": {},
   "outputs": [],
   "source": []
  },
  {
   "cell_type": "code",
   "execution_count": 320,
   "metadata": {},
   "outputs": [],
   "source": [
    "data = '<html lang=\\\"ko\\\" xml:lang=\\\"ko\\\" xmlns=\\\"http://www.w3.org/1999/xhtml\\\">\\n<head>\\n  <meta charset=\\\"utf-8\\\">\\n  <meta property=\\\"og:url\\\" content=\\\"https://careers.kakao.com/interview/list\\\"/>\\n</head>  \\n<body>\\n<a href=\\\"https://programmers.co.kr/learn/courses/4673\\\"></a>#!MuziMuzi!)jayg07con&&\\n\\n</body>\\n</html>\", \"<html lang=\\\"ko\\\" xml:lang=\\\"ko\\\" xmlns=\\\"http://www.w3.org/1999/xhtml\\\">\\n<head>\\n  <meta charset=\\\"utf-8\\\">\\n  <meta property=\\\"og:url\\\" content=\\\"https://www.kakaocorp.com\\\"/>\\n</head>  \\n<body>\\ncon%\\tmuzI92apeach&2<a href=\\\"https://hashcode.co.kr/tos\\\"></a>\\n\\n\\t^\\n</body>\\n</html>'"
   ]
  },
  {
   "cell_type": "code",
   "execution_count": null,
   "metadata": {},
   "outputs": [],
   "source": [
    "import re\n",
    "p = re.compile('<meta property=\\\\\"og:url\\\\\" content=\\\\\"(.*?)\"/>')\n",
    "\n",
    "data"
   ]
  },
  {
   "cell_type": "markdown",
   "metadata": {},
   "source": [
    "# 문자열 범위 표현방법\n",
    "- 범위로 표현하면 길이에 대한 예외처리를 할 필요가 없다"
   ]
  },
  {
   "cell_type": "code",
   "execution_count": 1,
   "metadata": {},
   "outputs": [],
   "source": [
    "s = 'string'"
   ]
  },
  {
   "cell_type": "code",
   "execution_count": 2,
   "metadata": {},
   "outputs": [
    {
     "data": {
      "text/plain": [
       "'g'"
      ]
     },
     "execution_count": 2,
     "metadata": {},
     "output_type": "execute_result"
    }
   ],
   "source": [
    "s[-1]"
   ]
  },
  {
   "cell_type": "code",
   "execution_count": 6,
   "metadata": {},
   "outputs": [
    {
     "data": {
      "text/plain": [
       "'g'"
      ]
     },
     "execution_count": 6,
     "metadata": {},
     "output_type": "execute_result"
    }
   ],
   "source": [
    "s[5:6]"
   ]
  },
  {
   "cell_type": "code",
   "execution_count": 4,
   "metadata": {},
   "outputs": [
    {
     "ename": "IndexError",
     "evalue": "string index out of range",
     "output_type": "error",
     "traceback": [
      "\u001b[0;31m----------------------------------------------------------------------\u001b[0m",
      "\u001b[0;31mIndexError\u001b[0m                           Traceback (most recent call last)",
      "\u001b[0;32m<ipython-input-4-c4bc18d4aa1b>\u001b[0m in \u001b[0;36m<module>\u001b[0;34m\u001b[0m\n\u001b[0;32m----> 1\u001b[0;31m \u001b[0ms\u001b[0m\u001b[0;34m[\u001b[0m\u001b[0;36m6\u001b[0m\u001b[0;34m]\u001b[0m\u001b[0;34m\u001b[0m\u001b[0;34m\u001b[0m\u001b[0m\n\u001b[0m",
      "\u001b[0;31mIndexError\u001b[0m: string index out of range"
     ]
    }
   ],
   "source": [
    "s[6]"
   ]
  },
  {
   "cell_type": "code",
   "execution_count": 5,
   "metadata": {},
   "outputs": [
    {
     "data": {
      "text/plain": [
       "''"
      ]
     },
     "execution_count": 5,
     "metadata": {},
     "output_type": "execute_result"
    }
   ],
   "source": [
    "s[6:7]"
   ]
  },
  {
   "cell_type": "markdown",
   "metadata": {},
   "source": []
  },
  {
   "cell_type": "code",
   "execution_count": null,
   "metadata": {},
   "outputs": [],
   "source": []
  },
  {
   "cell_type": "code",
   "execution_count": 5,
   "metadata": {},
   "outputs": [],
   "source": []
  },
  {
   "cell_type": "code",
   "execution_count": 8,
   "metadata": {},
   "outputs": [],
   "source": []
  },
  {
   "cell_type": "code",
   "execution_count": 72,
   "metadata": {},
   "outputs": [],
   "source": []
  },
  {
   "cell_type": "code",
   "execution_count": 73,
   "metadata": {},
   "outputs": [
    {
     "name": "stdout",
     "output_type": "stream",
     "text": [
      "fro??\n",
      "????o\n",
      "fr???\n",
      "fro???\n",
      "pro?\n",
      "[3, 2, 4, 1, 0]\n"
     ]
    },
    {
     "data": {
      "text/plain": [
       "[3, 2, 4, 1, 0]"
      ]
     },
     "execution_count": 73,
     "metadata": {},
     "output_type": "execute_result"
    }
   ],
   "source": []
  },
  {
   "cell_type": "code",
   "execution_count": null,
   "metadata": {},
   "outputs": [],
   "source": []
  }
 ],
 "metadata": {
  "kernelspec": {
   "display_name": "Python 3",
   "language": "python",
   "name": "python3"
  },
  "language_info": {
   "codemirror_mode": {
    "name": "ipython",
    "version": 3
   },
   "file_extension": ".py",
   "mimetype": "text/x-python",
   "name": "python",
   "nbconvert_exporter": "python",
   "pygments_lexer": "ipython3",
   "version": "3.7.4"
  }
 },
 "nbformat": 4,
 "nbformat_minor": 2
}
