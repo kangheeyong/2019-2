{
 "cells": [
  {
   "cell_type": "code",
   "execution_count": null,
   "metadata": {},
   "outputs": [],
   "source": []
  },
  {
   "cell_type": "markdown",
   "metadata": {},
   "source": [
    "## 간단한 웹 크롤링?"
   ]
  },
  {
   "cell_type": "markdown",
   "metadata": {},
   "source": [
    "### 아무런 지식이 없을 경우"
   ]
  },
  {
   "cell_type": "code",
   "execution_count": 51,
   "metadata": {},
   "outputs": [],
   "source": [
    "\n",
    "from collections import defaultdict\n",
    "\n",
    "def get_txt(txt, start, end) : \n",
    "    cnt = txt.find(start)\n",
    "    txt = txt[cnt + len(start) :]\n",
    "    cnt =txt.find(end)\n",
    "   \n",
    "    return txt[ : cnt]\n",
    "\n",
    "def get_link(txt, start, end) :\n",
    "    stack = []\n",
    "    while txt.find(start) != -1 :\n",
    "        cnt = txt.find(start)\n",
    "        txt = txt[cnt + len(start) :]\n",
    "        cnt =txt.find(end)\n",
    "        \n",
    "        stack.append(txt[ : cnt])\n",
    "        txt = txt[len(end) : ]\n",
    "    return stack\n",
    "\n",
    "\n",
    "# def get_score(txt, keyword ,start = 'a href=\\\"', end = '\\\"') :\n",
    "#     txt = txt.lower()\n",
    "#     keyword = keyword.lower()\n",
    "#     score = 0.0\n",
    "    \n",
    "# #     while txt.find(start) != -1 :\n",
    "# #         cnt = txt.find(start)\n",
    "# #         temp =  txt[: cnt]    \n",
    "# #         txt = txt[cnt + len(start) :]\n",
    "# #         cnt =txt.find(end)\n",
    "# #         txt = temp+ txt[cnt + len(end) : ]\n",
    "\n",
    "#     while txt.find(keyword) != -1 :\n",
    "#         cnt = txt.find(keyword)\n",
    "        \n",
    "#         txt = txt[cnt :]\n",
    "        \n",
    "#         if txt[0:len(keyword)] == txt[len(keyword):2*len(keyword)] :\n",
    "        \n",
    "#             while txt[0:len(keyword)] == txt[len(keyword):2*len(keyword)] :\n",
    "#                     txt = txt[len(keyword) :]\n",
    "\n",
    "#         else :\n",
    "#             score +=1\n",
    "#         txt = txt[ len(keyword) :]\n",
    "#     return score\n",
    "\n",
    "def get_score(txt, keyword) :\n",
    "     \n",
    "    txt = txt.lower()\n",
    "    keyword = keyword.lower()\n",
    "    score = 0.0\n",
    "    \n",
    "    while txt.find(keyword) != -1 :\n",
    "        cnt = txt.find(keyword)\n",
    "        \n",
    "        a = txt[cnt-1]\n",
    "        b = txt[cnt + len(keyword)]\n",
    "        \n",
    "        if a.isalpha() == False and b.isalpha() == False :\n",
    "            score +=1\n",
    "        \n",
    "    \n",
    "        txt = txt[cnt + len(keyword) +1:]\n",
    "    return score\n",
    "\n",
    "def getScore(page,word):\n",
    "    import re\n",
    "    return re.sub('[^a-z]+', '.', page.lower()).split('.').count(word.lower())\n",
    "\n",
    "    \n",
    "def solution(word, pages):\n",
    "    answer = []\n",
    "    temp = []\n",
    "    dic_link = defaultdict(list)\n",
    "    dic_score = defaultdict(list)\n",
    "    dic_link_score = defaultdict(list)\n",
    "    \n",
    "    for d in pages :\n",
    "              \n",
    "        name = get_txt(d, start = '<meta property=\\\"og:url\\\" content=\\\"', end = '\\\"')\n",
    "        temp.append(name)\n",
    "        txt = get_txt(d, start = '<body>', end = '</body>')\n",
    "        dic_link[name] += get_link(txt,start = 'a href=\\\"', end = '\\\"')\n",
    "        dic_score[name] = get_score(txt,word) \n",
    "\n",
    "    \n",
    "    for keys in temp :\n",
    "        dic_link_score[keys] = 0.0\n",
    "        \n",
    "    for keys in dic_score.keys() :\n",
    "        score = dic_score[keys]\n",
    "        for v in dic_link[keys] : \n",
    "            total = len(dic_link[keys])   \n",
    "            if v in dic_link_score :\n",
    "         \n",
    "                dic_link_score[v] += score/total\n",
    "            \n",
    "    n_max = -1\n",
    "    for idx, v in enumerate(temp) :\n",
    "        if dic_link_score[v] + dic_score[v] > n_max :\n",
    "            answer = idx\n",
    "            n_max = dic_link_score[v] + dic_score[v]\n",
    "\n",
    "  \n",
    "    print(dic_link)\n",
    "    print(dic_score)\n",
    "    print( dic_link_score)\n",
    "   \n",
    "    \n",
    "    return answer"
   ]
  },
  {
   "cell_type": "markdown",
   "metadata": {},
   "source": [
    "### 문자열과 조금의 정규표현식 응용한 경우"
   ]
  },
  {
   "cell_type": "code",
   "execution_count": 286,
   "metadata": {},
   "outputs": [],
   "source": [
    "# 정규식 테스트 사이트 : https://regexr.com"
   ]
  },
  {
   "cell_type": "code",
   "execution_count": 317,
   "metadata": {},
   "outputs": [],
   "source": [
    "import re\n",
    "\n",
    "def solution(word, pages):\n",
    "    webpage = {} # [{idx, link_stack, score, total_score }\n",
    "    \n",
    "    \n",
    "    for idx, page in enumerate(pages) :\n",
    "        page_name = page.split('<meta property=\\\"og:url\\\" content=\\\"')[1].split('\\\"')[0]\n",
    "        \n",
    "        link = []\n",
    "        for link_data in page.split('<a href=\\\"')[1:] : \n",
    "            link.append(link_data.split('\\\"')[0])\n",
    "         \n",
    "        score = re.findall('[a-z]+',page.lower()).count(word.lower())\n",
    "        \n",
    "        webpage[page_name] = [idx, link,score, score]\n",
    "    \n",
    "    for keys in webpage.keys() :\n",
    "        idx, link_stack, score, _ = webpage[keys]\n",
    "        for link in link_stack : \n",
    "            if  link in webpage :\n",
    "                webpage[link][3] += score/len(link_stack)\n",
    "    \n",
    "    n_max = -1\n",
    "    \n",
    "    for keys  in webpage.keys() :\n",
    "        idx, _, _, total_score = webpage[keys]\n",
    "        if total_score > n_max : \n",
    "            n_max = total_score\n",
    "            answer = idx\n",
    "    \n",
    "    print(webpage)\n",
    "    \n",
    "    return answer\n",
    "    \n",
    "    \n",
    "    "
   ]
  },
  {
   "cell_type": "code",
   "execution_count": 318,
   "metadata": {},
   "outputs": [
    {
     "name": "stdout",
     "output_type": "stream",
     "text": [
      "{'https://a.com': [0, ['https://b.com'], 3, 4.5], 'https://b.com': [1, ['https://a.com', 'https://c.com'], 1, 4.0], 'https://c.com': [2, ['https://a.com'], 1, 1.5]}\n"
     ]
    },
    {
     "data": {
      "text/plain": [
       "0"
      ]
     },
     "execution_count": 318,
     "metadata": {},
     "output_type": "execute_result"
    }
   ],
   "source": [
    "# 답 0 \n",
    "solution(\"blind\",[\"<html lang=\\\"ko\\\" xml:lang=\\\"ko\\\" xmlns=\\\"http://www.w3.org/1999/xhtml\\\">\\n<head>\\n  <meta charset=\\\"utf-8\\\">\\n  <meta property=\\\"og:url\\\" content=\\\"https://a.com\\\"/>\\n</head>  \\n<body>\\nBlind Lorem Blind ipsum dolor Blind test sit amet, consectetur adipiscing elit. \\n<a href=\\\"https://b.com\\\"> Link to b </a>\\n</body>\\n</html>\", \"<html lang=\\\"ko\\\" xml:lang=\\\"ko\\\" xmlns=\\\"http://www.w3.org/1999/xhtml\\\">\\n<head>\\n  <meta charset=\\\"utf-8\\\">\\n  <meta property=\\\"og:url\\\" content=\\\"https://b.com\\\"/>\\n</head>  \\n<body>\\nSuspendisse potenti. Vivamus venenatis tellus non turpis bibendum, \\n<a href=\\\"https://a.com\\\"> Link to a </a>\\nblind sed congue urna varius. Suspendisse feugiat nisl ligula, quis malesuada felis hendrerit ut.\\n<a href=\\\"https://c.com\\\"> Link to c </a>\\n</body>\\n</html>\", \"<html lang=\\\"ko\\\" xml:lang=\\\"ko\\\" xmlns=\\\"http://www.w3.org/1999/xhtml\\\">\\n<head>\\n  <meta charset=\\\"utf-8\\\">\\n  <meta property=\\\"og:url\\\" content=\\\"https://c.com\\\"/>\\n</head>  \\n<body>\\nUt condimentum urna at felis sodales rutrum. Sed dapibus cursus diam, non interdum nulla tempor nec. Phasellus rutrum enim at orci consectetu blind\\n<a href=\\\"https://a.com\\\"> Link to a </a>\\n</body>\\n</html>\"])"
   ]
  },
  {
   "cell_type": "code",
   "execution_count": 319,
   "metadata": {},
   "outputs": [
    {
     "name": "stdout",
     "output_type": "stream",
     "text": [
      "{'https://careers.kakao.com/interview/list': [0, ['https://programmers.co.kr/learn/courses/4673'], 0, 0], 'https://www.kakaocorp.com': [1, ['https://hashcode.co.kr/tos'], 1, 1]}\n"
     ]
    },
    {
     "data": {
      "text/plain": [
       "1"
      ]
     },
     "execution_count": 319,
     "metadata": {},
     "output_type": "execute_result"
    }
   ],
   "source": [
    "# 답 1\n",
    "solution(\"Muzi\",[\"<html lang=\\\"ko\\\" xml:lang=\\\"ko\\\" xmlns=\\\"http://www.w3.org/1999/xhtml\\\">\\n<head>\\n  <meta charset=\\\"utf-8\\\">\\n  <meta property=\\\"og:url\\\" content=\\\"https://careers.kakao.com/interview/list\\\"/>\\n</head>  \\n<body>\\n<a href=\\\"https://programmers.co.kr/learn/courses/4673\\\"></a>#!MuziMuzi!)jayg07con&&\\n\\n</body>\\n</html>\", \"<html lang=\\\"ko\\\" xml:lang=\\\"ko\\\" xmlns=\\\"http://www.w3.org/1999/xhtml\\\">\\n<head>\\n  <meta charset=\\\"utf-8\\\">\\n  <meta property=\\\"og:url\\\" content=\\\"https://www.kakaocorp.com\\\"/>\\n</head>  \\n<body>\\ncon%\\tmuzI92apeach&2<a href=\\\"https://hashcode.co.kr/tos\\\"></a>\\n\\n\\t^\\n</body>\\n</html>\"])"
   ]
  },
  {
   "cell_type": "code",
   "execution_count": 47,
   "metadata": {},
   "outputs": [],
   "source": [
    "def solution(word, pages):\n",
    "    answer = 0    \n",
    "    for idx, page in enumerate(pages) :\n",
    "        print(page)\n",
    "    return answer"
   ]
  },
  {
   "cell_type": "code",
   "execution_count": 215,
   "metadata": {},
   "outputs": [],
   "source": [
    "data = '<html lang=\\\"ko\\\" xml:lang=\\\"ko\\\" xmlns=\\\"http://www.w3.org/1999/xhtml\\\">\\n<head>\\n  <meta charset=\\\"utf-8\\\">\\n  <meta property=\\\"og:url\\\" content=\\\"https://careers.kakao.com/interview/list\\\"/>\\n</head>  \\n<body>\\n<a href=\\\"https://programmers.co.kr/learn/courses/4673\\\"></a>#!MuziMuzi!)jayg07con&&\\n\\n</body>\\n</html>\", \"<html lang=\\\"ko\\\" xml:lang=\\\"ko\\\" xmlns=\\\"http://www.w3.org/1999/xhtml\\\">\\n<head>\\n  <meta charset=\\\"utf-8\\\">\\n  <meta property=\\\"og:url\\\" content=\\\"https://www.kakaocorp.com\\\"/>\\n</head>  \\n<body>\\ncon%\\tmuzI92apeach&2<a href=\\\"https://hashcode.co.kr/tos\\\"></a>\\n\\n\\t^\\n</body>\\n</html>'"
   ]
  },
  {
   "cell_type": "code",
   "execution_count": 195,
   "metadata": {},
   "outputs": [],
   "source": []
  },
  {
   "cell_type": "code",
   "execution_count": 196,
   "metadata": {},
   "outputs": [
    {
     "name": "stdout",
     "output_type": "stream",
     "text": [
      "<re.Match object; span=(0, 6), match='azzzzz'>\n"
     ]
    }
   ],
   "source": [
    " print(p.match('azzzzz1'))"
   ]
  },
  {
   "cell_type": "code",
   "execution_count": 292,
   "metadata": {},
   "outputs": [
    {
     "data": {
      "text/plain": [
       "'<html lang=\"ko\" xml:lang=\"ko\" xmlns=\"http://www.w3.org/1999/xhtml\">\\n<head>\\n  <meta charset=\"utf-8\">\\n  <meta property=\"og:url\" content=\"https://careers.kakao.com/interview/list\"/>\\n</head>  \\n<body>\\n<a href=\"https://programmers.co.kr/learn/courses/4673\"></a>#!MuziMuzi!)jayg07con&&\\n\\n</body>\\n</html>\", \"<html lang=\"ko\" xml:lang=\"ko\" xmlns=\"http://www.w3.org/1999/xhtml\">\\n<head>\\n  <meta charset=\"utf-8\">\\n  <meta property=\"og:url\" content=\"https://www.kakaocorp.com\"/>\\n</head>  \\n<body>\\ncon%\\tmuzI92apeach&2<a href=\"https://hashcode.co.kr/tos\"></a>\\n\\n\\t^\\n</body>\\n</html>'"
      ]
     },
     "execution_count": 292,
     "metadata": {},
     "output_type": "execute_result"
    }
   ],
   "source": [
    "p = re.compile('[A-Za-z]+')\n",
    "a = p.sub( ' ', data.lower())\n",
    "data\n"
   ]
  },
  {
   "cell_type": "code",
   "execution_count": 241,
   "metadata": {},
   "outputs": [
    {
     "name": "stdout",
     "output_type": "stream",
     "text": [
      " html lang ko xml lang ko xmlns http www w org xhtml head meta charset utf meta property og url content https careers kakao com interview list head body a href https programmers co kr learn courses a muzimuzi jayg con body html html lang ko xml lang ko xmlns http www w org xhtml head meta charset utf meta property og url content https www kakaocorp com head body con muzi apeach a href https hashcode co kr tos a body html \n"
     ]
    }
   ],
   "source": [
    "print(a)"
   ]
  },
  {
   "cell_type": "code",
   "execution_count": 242,
   "metadata": {},
   "outputs": [
    {
     "name": "stdout",
     "output_type": "stream",
     "text": [
      "['', 'html', 'lang', 'ko', 'xml', 'lang', 'ko', 'xmlns', 'http', 'www', 'w', 'org', 'xhtml', 'head', 'meta', 'charset', 'utf', 'meta', 'property', 'og', 'url', 'content', 'https', 'careers', 'kakao', 'com', 'interview', 'list', 'head', 'body', 'a', 'href', 'https', 'programmers', 'co', 'kr', 'learn', 'courses', 'a', 'muzimuzi', 'jayg', 'con', 'body', 'html', 'html', 'lang', 'ko', 'xml', 'lang', 'ko', 'xmlns', 'http', 'www', 'w', 'org', 'xhtml', 'head', 'meta', 'charset', 'utf', 'meta', 'property', 'og', 'url', 'content', 'https', 'www', 'kakaocorp', 'com', 'head', 'body', 'con', 'muzi', 'apeach', 'a', 'href', 'https', 'hashcode', 'co', 'kr', 'tos', 'a', 'body', 'html', '']\n"
     ]
    }
   ],
   "source": [
    "print(a.split(' '))"
   ]
  },
  {
   "cell_type": "code",
   "execution_count": 293,
   "metadata": {},
   "outputs": [
    {
     "name": "stdout",
     "output_type": "stream",
     "text": [
      "['html', 'lang', 'ko', 'xml', 'lang', 'ko', 'xmlns', 'http', 'www', 'w', 'org', 'xhtml', 'head', 'meta', 'charset', 'utf', 'meta', 'property', 'og', 'url', 'content', 'https', 'careers', 'kakao', 'com', 'interview', 'list', 'head', 'body', 'a', 'href', 'https', 'programmers', 'co', 'kr', 'learn', 'courses', 'a', 'MuziMuzi', 'jayg', 'con', 'body', 'html', 'html', 'lang', 'ko', 'xml', 'lang', 'ko', 'xmlns', 'http', 'www', 'w', 'org', 'xhtml', 'head', 'meta', 'charset', 'utf', 'meta', 'property', 'og', 'url', 'content', 'https', 'www', 'kakaocorp', 'com', 'head', 'body', 'con', 'muzI', 'apeach', 'a', 'href', 'https', 'hashcode', 'co', 'kr', 'tos', 'a', 'body', 'html']\n"
     ]
    }
   ],
   "source": [
    "b = p.findall(data)\n",
    "print(b)"
   ]
  },
  {
   "cell_type": "code",
   "execution_count": 262,
   "metadata": {},
   "outputs": [
    {
     "data": {
      "text/plain": [
       "['__abs__',\n",
       " '__add__',\n",
       " '__and__',\n",
       " '__bool__',\n",
       " '__ceil__',\n",
       " '__class__',\n",
       " '__delattr__',\n",
       " '__dir__',\n",
       " '__divmod__',\n",
       " '__doc__',\n",
       " '__eq__',\n",
       " '__float__',\n",
       " '__floor__',\n",
       " '__floordiv__',\n",
       " '__format__',\n",
       " '__ge__',\n",
       " '__getattribute__',\n",
       " '__getnewargs__',\n",
       " '__gt__',\n",
       " '__hash__',\n",
       " '__index__',\n",
       " '__init__',\n",
       " '__init_subclass__',\n",
       " '__int__',\n",
       " '__invert__',\n",
       " '__le__',\n",
       " '__lshift__',\n",
       " '__lt__',\n",
       " '__mod__',\n",
       " '__mul__',\n",
       " '__ne__',\n",
       " '__neg__',\n",
       " '__new__',\n",
       " '__or__',\n",
       " '__pos__',\n",
       " '__pow__',\n",
       " '__radd__',\n",
       " '__rand__',\n",
       " '__rdivmod__',\n",
       " '__reduce__',\n",
       " '__reduce_ex__',\n",
       " '__repr__',\n",
       " '__rfloordiv__',\n",
       " '__rlshift__',\n",
       " '__rmod__',\n",
       " '__rmul__',\n",
       " '__ror__',\n",
       " '__round__',\n",
       " '__rpow__',\n",
       " '__rrshift__',\n",
       " '__rshift__',\n",
       " '__rsub__',\n",
       " '__rtruediv__',\n",
       " '__rxor__',\n",
       " '__setattr__',\n",
       " '__sizeof__',\n",
       " '__str__',\n",
       " '__sub__',\n",
       " '__subclasshook__',\n",
       " '__truediv__',\n",
       " '__trunc__',\n",
       " '__xor__',\n",
       " 'bit_length',\n",
       " 'conjugate',\n",
       " 'denominator',\n",
       " 'from_bytes',\n",
       " 'imag',\n",
       " 'numerator',\n",
       " 'real',\n",
       " 'to_bytes']"
      ]
     },
     "execution_count": 262,
     "metadata": {},
     "output_type": "execute_result"
    }
   ],
   "source": [
    "dir(1)"
   ]
  },
  {
   "cell_type": "code",
   "execution_count": null,
   "metadata": {},
   "outputs": [],
   "source": []
  }
 ],
 "metadata": {
  "kernelspec": {
   "display_name": "Python 3",
   "language": "python",
   "name": "python3"
  },
  "language_info": {
   "codemirror_mode": {
    "name": "ipython",
    "version": 3
   },
   "file_extension": ".py",
   "mimetype": "text/x-python",
   "name": "python",
   "nbconvert_exporter": "python",
   "pygments_lexer": "ipython3",
   "version": "3.7.4"
  }
 },
 "nbformat": 4,
 "nbformat_minor": 2
}
