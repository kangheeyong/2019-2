{
 "cells": [
  {
   "cell_type": "code",
   "execution_count": null,
   "metadata": {},
   "outputs": [],
   "source": [
    "#!/usr/bin/python\n",
    "def check(n,grid) :\n",
    "    for y in range(n) :\n",
    "        for x in range(n) :\n",
    "            if grid[y][x] == 'm' :\n",
    "                m_y,m_x = y,x\n",
    "            elif grid[y][x] == 'p' :\n",
    "                p_y,p_x = y,x\n",
    "    return p_y-m_y, p_x-m_x\n",
    "\n",
    "\n",
    "def displayPathtoPrincess(n,grid):\n",
    "#print all the moves here\n",
    "    y_step,x_step = check(n,grid)\n",
    "    \n",
    "    for __ in range(abs(y_step)) :\n",
    "        if y_step > 0 : \n",
    "            print('DOWN')\n",
    "        else : \n",
    "            print('UP')\n",
    "    \n",
    "    for __ in range(abs(x_step)) :\n",
    "        if x_step > 0 : \n",
    "            print('RIGHT')\n",
    "        else : \n",
    "            print('LEFT')\n",
    "    \n",
    "m = int(input())\n",
    "grid = [] \n",
    "for i in range(0, m): \n",
    "    grid.append(input().strip())\n",
    "\n",
    "displayPathtoPrincess(m,grid)"
   ]
  }
 ],
 "metadata": {
  "kernelspec": {
   "display_name": "Python 3",
   "language": "python",
   "name": "python3"
  },
  "language_info": {
   "codemirror_mode": {
    "name": "ipython",
    "version": 3
   },
   "file_extension": ".py",
   "mimetype": "text/x-python",
   "name": "python",
   "nbconvert_exporter": "python",
   "pygments_lexer": "ipython3",
   "version": "3.7.4"
  }
 },
 "nbformat": 4,
 "nbformat_minor": 2
}
