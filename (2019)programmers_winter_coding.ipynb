{
 "cells": [
  {
   "cell_type": "code",
   "execution_count": null,
   "metadata": {},
   "outputs": [],
   "source": []
  },
  {
   "cell_type": "code",
   "execution_count": null,
   "metadata": {},
   "outputs": [],
   "source": [
    "#1"
   ]
  },
  {
   "cell_type": "code",
   "execution_count": null,
   "metadata": {},
   "outputs": [],
   "source": [
    "#6번 실패\n",
    "def solution(w,h):\n",
    "    if w == h : return h*h-h\n",
    "    \n",
    "    w, h = min(w,h), max(w,h)\n",
    "    a = h/w\n",
    "    answer = 0\n",
    "    for x in range(1,w) :\n",
    "        answer += int(a*x)\n",
    "    \n",
    "    answer = 2*answer\n",
    "    return answer"
   ]
  },
  {
   "cell_type": "code",
   "execution_count": null,
   "metadata": {},
   "outputs": [],
   "source": [
    "#6번 실패\n",
    "#12번 시간 초과\n",
    "def solution(w,h):\n",
    "    #if w == h : return h*h-h\n",
    "    \n",
    "    w, h = min(w,h), max(w,h)\n",
    "    a = h/w\n",
    "    answer = 0\n",
    "    for x in range(1,w) :\n",
    "        answer += int(a*x)\n",
    "    \n",
    "    answer = 2*answer\n",
    "    return answer"
   ]
  },
  {
   "cell_type": "code",
   "execution_count": null,
   "metadata": {},
   "outputs": [],
   "source": [
    "#6번 통과...\n",
    "def solution(w,h):\n",
    "    if w == h : return h*h-h\n",
    "    \n",
    "    w, h = min(w,h), max(w,h)\n",
    "    answer = 0\n",
    "    for x in range(1,w) :\n",
    "        answer += int(x*h/w)\n",
    "    \n",
    "    answer = 2*answer\n",
    "    return answer"
   ]
  },
  {
   "cell_type": "code",
   "execution_count": null,
   "metadata": {},
   "outputs": [],
   "source": [
    "# 다른사람 답\n",
    "def gcb(a,b) : \n",
    "    \n",
    "    a,b = max(a,b), min(a,b)    \n",
    "    while a%b != 0 :\n",
    "        temp = a%b\n",
    "        a,b = b,temp\n",
    "    \n",
    "    return b\n",
    "def solution(w,h):\n",
    "    answer = w*h\n",
    "    w, h = min(w,h), max(w,h)\n",
    "    small = gcb(w,h)\n",
    "    \n",
    "    W = w//small\n",
    "    H = h//small\n",
    "    answer -= small*H*W\n",
    "    a = H/W\n",
    "    temp = 0\n",
    "    for x in range(1,W) :\n",
    "        temp += int(a*x)\n",
    "    \n",
    "    answer += 2*temp*small\n",
    "    return answer"
   ]
  },
  {
   "cell_type": "code",
   "execution_count": null,
   "metadata": {},
   "outputs": [],
   "source": [
    "# 다른사람 답\n",
    "def gcb(a,b) : \n",
    "    \n",
    "    while a%b != 0 :\n",
    "        a,b = b,a%b\n",
    "    \n",
    "    return b\n",
    "def solution(w,h):\n",
    "    \n",
    "    return h*w-w-h+gbc(h,w)"
   ]
  },
  {
   "cell_type": "code",
   "execution_count": 30,
   "metadata": {},
   "outputs": [
    {
     "data": {
      "text/plain": [
       "12"
      ]
     },
     "execution_count": 30,
     "metadata": {},
     "output_type": "execute_result"
    }
   ],
   "source": []
  },
  {
   "cell_type": "code",
   "execution_count": 29,
   "metadata": {},
   "outputs": [
    {
     "data": {
      "text/plain": [
       "13"
      ]
     },
     "execution_count": 29,
     "metadata": {},
     "output_type": "execute_result"
    }
   ],
   "source": [
    "#2 \n",
    "def solve(data,cnt) :\n",
    "    \n",
    "    L = len(data)\n",
    "    if L == 0 : return data\n",
    "    data[L//2] = cnt\n",
    "    return solve(data[:L//2],0) + [data[L//2]] + solve(data[L//2+1:],1)\n",
    "    \n",
    "def solution(n):\n",
    "    L = 2**n-1\n",
    "    answer = [-1]*L\n",
    "    return solve(answer,0)"
   ]
  },
  {
   "cell_type": "code",
   "execution_count": 34,
   "metadata": {},
   "outputs": [
    {
     "data": {
      "text/plain": [
       "True"
      ]
     },
     "execution_count": 34,
     "metadata": {},
     "output_type": "execute_result"
    }
   ],
   "source": []
  },
  {
   "cell_type": "code",
   "execution_count": 37,
   "metadata": {},
   "outputs": [],
   "source": [
    "#3 실패 + 시간초과\n",
    "# 이문제가 최소신장트리 문제라고!?!?!?!?!?!?\n",
    "\n",
    "def check(check_list,land) :# 공간 안에 탐색되지 않은 layer 중 최소값 좌표 찾기\n",
    "    N = len(land)\n",
    "    temp = 10001\n",
    "    _y,_x = -1,-1\n",
    "    for y in range(N) :\n",
    "        for x in range(N) :\n",
    "            if check_list[y][x] == -1 and temp > land[y][x]:\n",
    "                temp = min(temp,land[y][x])   \n",
    "                _y,_x = y,x\n",
    "    return _y,_x\n",
    "\n",
    "def make_layer(check_list,land,height,y,x,layer) : # 찾은 좌표와 주어진 조건으로 layer 만들기\n",
    "    N = len(land)\n",
    "    check_list[y][x] = layer\n",
    "    cnd = (-1,N)\n",
    "    \n",
    "    for dy,dx in [[1,0],[-1,0],[0,1],[0,-1]] :\n",
    "        if y+dy not in cnd and x+dx not in cnd and abs(land[y][x]-land[y+dy][x+dx]) <= height and check_list[y+dy][x+dx] != layer :\n",
    "            make_layer(check_list,land,height,y+dy,x+dx,layer)\n",
    "    return \n",
    "\n",
    "def search(check_list,land,height,layer) : #\n",
    "    N = len(land)\n",
    "    temp = 10001\n",
    "    cnd = (-1,N)\n",
    "    for y in range(N) :\n",
    "        for x in range(N) :\n",
    "            if check_list[y][x] == layer :\n",
    "                for dy,dx in [[1,0],[-1,0],[0,1],[0,-1]] :\n",
    "                    if y+dy not in cnd and x+dx not in cnd and check_list[y+dy][x+dx] == -1  :\n",
    "                        temp = min(land[y+dy][x+dx] - land[y][x],temp) #여기서 차이 값은 음수일리가 없다? 나오는것같다 왜??\n",
    "    if temp == 10001 : \n",
    "        return 0\n",
    "    else : \n",
    "        return temp\n",
    "    \n",
    "def solution(land, height):\n",
    "    N = len(land)\n",
    "    check_list = [[-1]*N for __ in range(N)]\n",
    "    answer = 0\n",
    "    layer = 0\n",
    "    while True :\n",
    "    \n",
    "        y,x = check(check_list,land)\n",
    "        if y == -1 :\n",
    "            break\n",
    "        make_layer(check_list,land,height,y,x,layer)\n",
    "        answer += search(check_list,land,height,layer)\n",
    "        #print(layer)\n",
    "        #print(check_list)\n",
    "        layer += 1\n",
    "\n",
    "    print(check_list)\n",
    "    \n",
    "    return answer"
   ]
  },
  {
   "cell_type": "code",
   "execution_count": 55,
   "metadata": {},
   "outputs": [],
   "source": [
    "# 재귀방식 스택은 타임오버당함\n",
    "def dfs(land,height,visited,layer,y,x) : \n",
    "    visited[y][x] = layer\n",
    "    cnd = (-1,len(visited))\n",
    "    for dy,dx in [[1,0],[-1,0],[0,1],[0,-1]] : \n",
    "        if y+dy not in cnd and x+dx not in cnd \\\n",
    "            and visited[y+dy][x+dx] != layer \\\n",
    "            and abs(land[y][x] - land[y+dy][x+dx]) <= height : \n",
    "                dfs(land,height,visited,layer,y+dy,x+dx)\n",
    "    return \n",
    "\n",
    "def search_layers(land,height,visited) :\n",
    "    N = len(visited)\n",
    "    layer = 0\n",
    "    for y in range(N) : \n",
    "        for x in range(N) :\n",
    "            if visited[y][x] == -1 :  \n",
    "                dfs(land,height,visited,layer,y,x)\n",
    "                layer+=1\n",
    "    return \n",
    "\n",
    "def solution(land, height):\n",
    "    N = len(land)\n",
    "    visited = [[-1]*N for __ in range(N)]\n",
    "    print(visited)\n",
    "    search_layers(land,height,visited)\n",
    "    #dfs(land,height,visited,0,0,0) \n",
    "    print(visited)\n",
    "    \n",
    "    answer = 0\n",
    "    return answer"
   ]
  },
  {
   "cell_type": "code",
   "execution_count": 57,
   "metadata": {},
   "outputs": [],
   "source": [
    "# \n",
    "# 반복문은 타임오버 x\n",
    "def dfs(land,height,visited,layer,y,x) : \n",
    "    cnd = (-1,len(visited))\n",
    "    visited[y][x] = layer\n",
    "    stack = [[y,x]]\n",
    "    while stack :\n",
    "        y,x = stack.pop()\n",
    "        for dy,dx in [[1,0],[-1,0],[0,1],[0,-1]] : \n",
    "            if y+dy not in cnd and x+dx not in cnd \\\n",
    "                and visited[y+dy][x+dx] != layer \\\n",
    "                and abs(land[y][x] - land[y+dy][x+dx]) <= height : \n",
    "                    visited[y+dy][x+dx] = layer\n",
    "                    stack.append([y+dy,x+dx])\n",
    "    return \n",
    "\n",
    "def search_layers(land,height,visited) :\n",
    "    N = len(visited)\n",
    "    layer = 0\n",
    "    for y in range(N) : \n",
    "        for x in range(N) :\n",
    "            if visited[y][x] == -1 :  \n",
    "                dfs(land,height,visited,layer,y,x)\n",
    "                layer+=1\n",
    "    return \n",
    "\n",
    "def solution(land, height):\n",
    "    N = len(land)\n",
    "    visited = [[-1]*N for __ in range(N)]\n",
    "\n",
    "    search_layers(land,height,visited)\n",
    "    print(visited)\n",
    "    answer = 0\n",
    "    return answer"
   ]
  },
  {
   "cell_type": "code",
   "execution_count": 92,
   "metadata": {},
   "outputs": [],
   "source": [
    "#\n",
    "def dfs(land,height,visited,layer,y,x) : \n",
    "    visited[y][x] = layer\n",
    "    cnd = [-1,len(visited)]\n",
    "    stack = [[y,x]]\n",
    "    while stack :\n",
    "        y,x = stack.pop()\n",
    "        for dy,dx in [[1,0],[-1,0],[0,1],[0,-1]] : \n",
    "            if y+dy not in cnd and x+dx not in cnd \\\n",
    "                and visited[y+dy][x+dx] != layer \\\n",
    "                and abs(land[y][x] - land[y+dy][x+dx]) <= height : \n",
    "                    visited[y+dy][x+dx] = layer\n",
    "                    stack.append([y+dy,x+dx])\n",
    "    return \n",
    "\n",
    "def search_layers(land,height,visited) :\n",
    "    N = len(visited)\n",
    "    layer = 0\n",
    "    for y in range(N) : \n",
    "        for x in range(N) :\n",
    "            if visited[y][x] == -1 :  \n",
    "                dfs(land,height,visited,layer,y,x)\n",
    "                layer+=1\n",
    "    return layer\n",
    "\n",
    "def make_edges(land,height,visited) : \n",
    "    dic = {}\n",
    "    cnd = [-1,len(visited)]\n",
    "    N = len(visited)\n",
    "\n",
    "    for y in range(N) : \n",
    "        for x in range(N) : \n",
    "            for dy,dx in [[1,0],[-1,0],[0,1],[0,-1]] : \n",
    "                if y+dy not in cnd and x+dx not in cnd \\\n",
    "                    and visited[y][x] != visited[y+dy][x+dx] :                    \n",
    "                        layer1,layer2 = sorted([visited[y][x],visited[y+dy][x+dx]])\n",
    "                        weight = abs(land[y][x]-land[y+dy][x+dx])\n",
    "                        dic[(layer1,layer2)] = min(dic.get((layer1,layer2),10001),weight)\n",
    "                        \n",
    "    return sorted([[*key,dic[key]] for key in dic.keys()],key = lambda x : x[2])          \n",
    "\n",
    "def getParent(Parents,x) :\n",
    "\n",
    "    if Parents[x] == x : \n",
    "        return Parents[x]\n",
    "    else : \n",
    "        Parents[x] = getParent(Parents, Parents[x])\n",
    "        return Parents[x]   \n",
    "    \n",
    "def unionParent(Parents,x,y) : \n",
    "    \n",
    "    a = getParent(Parents,x)\n",
    "    b = getParent(Parents,y)\n",
    "    if a!=b :\n",
    "        Parents[b] = a\n",
    "            \n",
    "def findParent(Parents, x, y) :\n",
    "    a = getParent(Parents,x)\n",
    "    b = getParent(Parents,y)\n",
    "    \n",
    "    return True if a == b else False\n",
    "\n",
    "def solution(land, height):\n",
    "    N = len(land)\n",
    "    visited = [[-1]*N for __ in range(N)]\n",
    "    \n",
    "    num_edges = search_layers(land,height,visited)\n",
    "    edges = make_edges(land,height,visited)\n",
    "\n",
    "    parents = [i for i in range(num_edges)]\n",
    "    \n",
    "    answer = 0\n",
    "   \n",
    "    for v1, v2, cost in edges :  \n",
    "        if findParent(parents,v1,v2) == False :\n",
    "            unionParent(parents,v1,v2)\n",
    "            answer += cost\n",
    "    print(edges)\n",
    "    return answer"
   ]
  },
  {
   "cell_type": "code",
   "execution_count": 93,
   "metadata": {},
   "outputs": [
    {
     "name": "stdout",
     "output_type": "stream",
     "text": [
      "[[0, 1, 5], [1, 2, 7]]\n"
     ]
    },
    {
     "data": {
      "text/plain": [
       "12"
      ]
     },
     "execution_count": 93,
     "metadata": {},
     "output_type": "execute_result"
    }
   ],
   "source": [
    "solution([[1, 4, 8, 10], [5, 5, 5, 5], [10, 10, 10, 10], [10, 10, 3, 1]],3)"
   ]
  },
  {
   "cell_type": "code",
   "execution_count": null,
   "metadata": {},
   "outputs": [],
   "source": []
  },
  {
   "cell_type": "code",
   "execution_count": null,
   "metadata": {},
   "outputs": [],
   "source": []
  },
  {
   "cell_type": "code",
   "execution_count": 45,
   "metadata": {},
   "outputs": [
    {
     "name": "stdout",
     "output_type": "stream",
     "text": [
      "[[-1, -1, -1, -1], [-1, -1, -1, -1], [-1, -1, -1, -1], [-1, -1, -1, -1]]\n"
     ]
    },
    {
     "data": {
      "text/plain": [
       "0"
      ]
     },
     "execution_count": 45,
     "metadata": {},
     "output_type": "execute_result"
    }
   ],
   "source": []
  },
  {
   "cell_type": "code",
   "execution_count": 22,
   "metadata": {},
   "outputs": [
    {
     "data": {
      "text/plain": [
       "(7, 3)"
      ]
     },
     "execution_count": 22,
     "metadata": {},
     "output_type": "execute_result"
    }
   ],
   "source": [
    "a,b%a"
   ]
  },
  {
   "cell_type": "code",
   "execution_count": 67,
   "metadata": {},
   "outputs": [],
   "source": [
    "dic={}\n",
    "\n",
    "dic[1,2] = 1"
   ]
  },
  {
   "cell_type": "code",
   "execution_count": 94,
   "metadata": {},
   "outputs": [],
   "source": [
    "for i in range(3,1) :\n",
    "    print(i)"
   ]
  },
  {
   "cell_type": "code",
   "execution_count": null,
   "metadata": {},
   "outputs": [],
   "source": []
  }
 ],
 "metadata": {
  "kernelspec": {
   "display_name": "Python 3",
   "language": "python",
   "name": "python3"
  },
  "language_info": {
   "codemirror_mode": {
    "name": "ipython",
    "version": 3
   },
   "file_extension": ".py",
   "mimetype": "text/x-python",
   "name": "python",
   "nbconvert_exporter": "python",
   "pygments_lexer": "ipython3",
   "version": "3.7.4"
  }
 },
 "nbformat": 4,
 "nbformat_minor": 2
}
