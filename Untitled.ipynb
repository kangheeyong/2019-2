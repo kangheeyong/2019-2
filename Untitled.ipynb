{
 "cells": [
  {
   "cell_type": "code",
   "execution_count": 1,
   "metadata": {},
   "outputs": [],
   "source": [
    "import numpy as np"
   ]
  },
  {
   "cell_type": "code",
   "execution_count": 14,
   "metadata": {},
   "outputs": [],
   "source": [
    "a = ['A','B','C']\n"
   ]
  },
  {
   "cell_type": "code",
   "execution_count": 7,
   "metadata": {},
   "outputs": [
    {
     "data": {
      "text/plain": [
       "'Z'"
      ]
     },
     "execution_count": 7,
     "metadata": {},
     "output_type": "execute_result"
    }
   ],
   "source": [
    "chr(65) \n",
    "chr(90) "
   ]
  },
  {
   "cell_type": "code",
   "execution_count": 9,
   "metadata": {},
   "outputs": [],
   "source": [
    "a = [chr(i) for i in range(65,91)]"
   ]
  },
  {
   "cell_type": "code",
   "execution_count": 26,
   "metadata": {},
   "outputs": [],
   "source": [
    "b = [i for i in range(0,13)]\n",
    "c = [i for i  in range(13,0,-1)]"
   ]
  },
  {
   "cell_type": "code",
   "execution_count": 54,
   "metadata": {},
   "outputs": [
    {
     "data": {
      "text/plain": [
       "[0,\n",
       " 1,\n",
       " 2,\n",
       " 3,\n",
       " 4,\n",
       " 5,\n",
       " 6,\n",
       " 7,\n",
       " 8,\n",
       " 9,\n",
       " 10,\n",
       " 11,\n",
       " 12,\n",
       " 13,\n",
       " 12,\n",
       " 11,\n",
       " 10,\n",
       " 9,\n",
       " 8,\n",
       " 7,\n",
       " 6,\n",
       " 5,\n",
       " 4,\n",
       " 3,\n",
       " 2,\n",
       " 1]"
      ]
     },
     "execution_count": 54,
     "metadata": {},
     "output_type": "execute_result"
    }
   ],
   "source": [
    "d = b + c\n",
    "d"
   ]
  },
  {
   "cell_type": "code",
   "execution_count": 45,
   "metadata": {},
   "outputs": [
    {
     "data": {
      "text/plain": [
       "['A', 'A', 'A', 'A', 'A']"
      ]
     },
     "execution_count": 45,
     "metadata": {},
     "output_type": "execute_result"
    }
   ],
   "source": [
    "temp = ['A' ]*5\n",
    "temp"
   ]
  },
  {
   "cell_type": "code",
   "execution_count": 51,
   "metadata": {},
   "outputs": [
    {
     "data": {
      "text/plain": [
       "'1 23'"
      ]
     },
     "execution_count": 51,
     "metadata": {},
     "output_type": "execute_result"
    }
   ],
   "source": [
    "a = \"1 23\"\n",
    "a"
   ]
  },
  {
   "cell_type": "code",
   "execution_count": 52,
   "metadata": {},
   "outputs": [
    {
     "data": {
      "text/plain": [
       "['1', '23']"
      ]
     },
     "execution_count": 52,
     "metadata": {},
     "output_type": "execute_result"
    }
   ],
   "source": [
    "a.split(' ')"
   ]
  },
  {
   "cell_type": "code",
   "execution_count": 55,
   "metadata": {},
   "outputs": [],
   "source": [
    "def solution(name):\n",
    "    \n",
    "    L = len(name)\n",
    "    min_cnt = 10000\n",
    "    for i in range(0 , L ) : \n",
    "        k = L - i\n",
    "        name1 = name[0:i]\n",
    "        name2 = name[i:L]\n",
    "        cnt = simple(name1, 1) + simple(name2, -1) + k\n",
    "        min_cnt = min( min_cnt,cnt)\n",
    "        \n",
    "    answer =  min_cnt\n",
    "    \n",
    "    print(name )\n",
    "    return answer\n",
    "\n",
    "\n",
    "\n",
    "def simple(name,sign) : \n",
    "    a = [chr(i) for i in range(65,91)]\n",
    "    b = [i for i in range(0,13)] + [i for i  in range(13,0,-1)]\n",
    "    L = len(name)\n",
    "    name = [i for i in name]\n",
    "    temp = ['A']*L\n",
    "    cnt = 0\n",
    "    for i in range(0 , sign*L, sign*1) : \n",
    "        if name == temp : break\n",
    "        if i != 0 : cnt = cnt + 1\n",
    "        for j in range(0, 26) : \n",
    "            if name[i] == a[j] : \n",
    "                temp[i] = name[i]\n",
    "                cnt = cnt + b[j]\n",
    "                break\n",
    "        \n",
    "    return cnt\n",
    "    "
   ]
  },
  {
   "cell_type": "code",
   "execution_count": 59,
   "metadata": {},
   "outputs": [],
   "source": [
    "class data1 : \n",
    "    name = []\n",
    "    cnt = 0\n",
    "    cur = 0\n",
    "\n",
    "\n",
    "\n",
    "    \n",
    "L = len(\"name\")\n",
    "    \n",
    "\n",
    "        \n"
   ]
  },
  {
   "cell_type": "code",
   "execution_count": 60,
   "metadata": {},
   "outputs": [],
   "source": [
    " a = data1()"
   ]
  },
  {
   "cell_type": "code",
   "execution_count": 64,
   "metadata": {},
   "outputs": [
    {
     "name": "stdout",
     "output_type": "stream",
     "text": [
      "[]\n"
     ]
    }
   ],
   "source": [
    "print(a.name)"
   ]
  },
  {
   "cell_type": "code",
   "execution_count": 66,
   "metadata": {},
   "outputs": [
    {
     "data": {
      "text/plain": [
       "0"
      ]
     },
     "execution_count": 66,
     "metadata": {},
     "output_type": "execute_result"
    }
   ],
   "source": [
    "4%4"
   ]
  },
  {
   "cell_type": "code",
   "execution_count": 71,
   "metadata": {},
   "outputs": [
    {
     "ename": "ValueError",
     "evalue": "invalid literal for int() with base 10: \"['1', '1']\"",
     "output_type": "error",
     "traceback": [
      "\u001b[0;31m---------------------------------------------------------------------------\u001b[0m",
      "\u001b[0;31mValueError\u001b[0m                                Traceback (most recent call last)",
      "\u001b[0;32m<ipython-input-71-be0c73a09e69>\u001b[0m in \u001b[0;36m<module>\u001b[0;34m\u001b[0m\n\u001b[0;32m----> 1\u001b[0;31m \u001b[0mint\u001b[0m\u001b[0;34m(\u001b[0m\u001b[0mstr\u001b[0m\u001b[0;34m(\u001b[0m\u001b[0;34m[\u001b[0m\u001b[0;34m'1'\u001b[0m\u001b[0;34m]\u001b[0m\u001b[0;34m*\u001b[0m\u001b[0;36m2\u001b[0m\u001b[0;34m)\u001b[0m\u001b[0;34m)\u001b[0m\u001b[0;34m\u001b[0m\u001b[0;34m\u001b[0m\u001b[0m\n\u001b[0m",
      "\u001b[0;31mValueError\u001b[0m: invalid literal for int() with base 10: \"['1', '1']\""
     ]
    }
   ],
   "source": [
    "int(str(['1']*2))"
   ]
  },
  {
   "cell_type": "code",
   "execution_count": 72,
   "metadata": {},
   "outputs": [],
   "source": [
    "a = ''"
   ]
  },
  {
   "cell_type": "code",
   "execution_count": 75,
   "metadata": {},
   "outputs": [
    {
     "data": {
      "text/plain": [
       "12"
      ]
     },
     "execution_count": 75,
     "metadata": {},
     "output_type": "execute_result"
    }
   ],
   "source": [
    "int(a + '1'+'2')"
   ]
  },
  {
   "cell_type": "code",
   "execution_count": 76,
   "metadata": {},
   "outputs": [],
   "source": [
    "def solution(number, k):\n",
    "    \n",
    "    aaaa = '111111111'\n",
    "    answer = 0\n",
    "    number = [i for i in number]\n",
    "    L = len(number)\n",
    "    if L > 127 : return '0'\n",
    "    n = L-k  \n",
    "    num = ''\n",
    "    num_max = aaaa[0:n]\n",
    "    \n",
    "    answer = temp(num,number,num_max, n, 0)    \n",
    "    \n",
    "    \n",
    "    return answer\n",
    "\n",
    "\n",
    "\n",
    "def temp(num,number,num_max, n, cur) : \n",
    "    L = len(number)\n",
    "    num_max_ = [i for i in num_max]\n",
    "    L_ = len(num_max)\n",
    "    if n == 0 : \n",
    "        num_max = str(max(int(num_max), int(num)))\n",
    "        #print('max')\n",
    "    else : \n",
    "        n_max = 0\n",
    "        for i in range(cur,L-n+1) : \n",
    "            n_max = max(n_max, int(number[i])) \n",
    "            \n",
    "        for i in range(cur,L-n+1) :     \n",
    "            if n_max == int(number[i])  and int(num_max_[L_-n-1]) <= n_max: \n",
    "                #print(n,cur,n_max,i,num_max_,L_)\n",
    "                num_max = temp(num+number[i],number,num_max, n-1, i+1)\n",
    "\n",
    "    return num_max\n",
    "\n",
    "\n",
    "\n",
    "\n",
    "#def solution(number, k):\n",
    "#    answer = 0\n",
    "#    number = [i for i in number]\n",
    "#    L = len(number)\n",
    "#    num = ''\n",
    "#    num_max = 0    \n",
    "#    answer = temp(num,number,num_max, L-k, 0)\n",
    "#    \n",
    "#    return str(answer)\n",
    "\n",
    "#def temp(num,number,num_max, k, cur) : \n",
    "#    L = len(number)    \n",
    "#    if k == 0 : \n",
    "#        num_max = max(num_max, int(num))\n",
    "#    else : \n",
    "#        for i in range(cur,L) :             \n",
    "#            num_max = temp(num+number[i],number,num_max, k-1, i+1)\n",
    "#    return num_max"
   ]
  },
  {
   "cell_type": "code",
   "execution_count": 94,
   "metadata": {},
   "outputs": [],
   "source": [
    "aaaa = '12345'"
   ]
  },
  {
   "cell_type": "code",
   "execution_count": 86,
   "metadata": {},
   "outputs": [],
   "source": [
    "a = [i for i in aaaa]"
   ]
  },
  {
   "cell_type": "code",
   "execution_count": 93,
   "metadata": {},
   "outputs": [
    {
     "data": {
      "text/plain": [
       "'-'"
      ]
     },
     "execution_count": 93,
     "metadata": {},
     "output_type": "execute_result"
    }
   ],
   "source": [
    "min(aaaa)"
   ]
  },
  {
   "cell_type": "code",
   "execution_count": 95,
   "metadata": {},
   "outputs": [],
   "source": [
    "def solution(number, k):\n",
    "    \n",
    "    L = len(number)\n",
    "    \n",
    "    cnt1 = [0]*10\n",
    "    cnt2 = [0]*10\n",
    "    for i in range(0,L-k) : \n",
    "        cnt1[int(number[i])] = cnt1[int(number[i])] + 1\n",
    "\n",
    "    print(cnt1,number[L-k+1:L])\n",
    "    \n",
    "    \n",
    "    answer = ''\n",
    "    return answer"
   ]
  },
  {
   "cell_type": "code",
   "execution_count": 96,
   "metadata": {},
   "outputs": [],
   "source": [
    "def solution(number, k):\n",
    "    \n",
    "    L = len(number)\n",
    "    \n",
    "    while(True) : \n",
    "        n_min = min(number[0:k])\n",
    "\n",
    "        for i in range(0 , k) : \n",
    "            if int(number[i]) == n_min : \n",
    "                del number[i]\n",
    "                break\n",
    "        \n",
    "        if L - k == len(number) : break \n",
    "    \n",
    "    answer = number\n",
    "    return answer"
   ]
  },
  {
   "cell_type": "code",
   "execution_count": 117,
   "metadata": {},
   "outputs": [],
   "source": [
    "a = ['1','1','0']\n",
    "\n",
    "b = ['1']"
   ]
  },
  {
   "cell_type": "code",
   "execution_count": 104,
   "metadata": {},
   "outputs": [
    {
     "data": {
      "text/plain": [
       "['1', '1']"
      ]
     },
     "execution_count": 104,
     "metadata": {},
     "output_type": "execute_result"
    }
   ],
   "source": [
    "[i for i in a if i in '1']"
   ]
  },
  {
   "cell_type": "code",
   "execution_count": 105,
   "metadata": {},
   "outputs": [],
   "source": [
    "a.sort()"
   ]
  },
  {
   "cell_type": "code",
   "execution_count": 106,
   "metadata": {},
   "outputs": [
    {
     "data": {
      "text/plain": [
       "['0', '1', '1']"
      ]
     },
     "execution_count": 106,
     "metadata": {},
     "output_type": "execute_result"
    }
   ],
   "source": [
    "a"
   ]
  },
  {
   "cell_type": "code",
   "execution_count": 110,
   "metadata": {},
   "outputs": [
    {
     "data": {
      "text/plain": [
       "str"
      ]
     },
     "execution_count": 110,
     "metadata": {},
     "output_type": "execute_result"
    }
   ],
   "source": [
    "type(a[0])"
   ]
  },
  {
   "cell_type": "code",
   "execution_count": 118,
   "metadata": {},
   "outputs": [],
   "source": [
    "c = [i for i in a if i not in b]\n",
    "d = [i for i in b if i not in a]"
   ]
  },
  {
   "cell_type": "code",
   "execution_count": 119,
   "metadata": {},
   "outputs": [
    {
     "data": {
      "text/plain": [
       "['0']"
      ]
     },
     "execution_count": 119,
     "metadata": {},
     "output_type": "execute_result"
    }
   ],
   "source": [
    "c"
   ]
  },
  {
   "cell_type": "code",
   "execution_count": 128,
   "metadata": {},
   "outputs": [],
   "source": [
    "a = '123'"
   ]
  },
  {
   "cell_type": "code",
   "execution_count": 133,
   "metadata": {},
   "outputs": [],
   "source": [
    "a = list(a)"
   ]
  },
  {
   "cell_type": "code",
   "execution_count": 135,
   "metadata": {},
   "outputs": [],
   "source": [
    "del a[0]"
   ]
  },
  {
   "cell_type": "code",
   "execution_count": 136,
   "metadata": {},
   "outputs": [],
   "source": [
    "def solution(numbers):\n",
    "     \n",
    "    answer = 0\n",
    "    \n",
    "    \n",
    "    \n",
    "    prime_num = find_prime(numbers)\n",
    "    cnt = 0\n",
    "    for value in prime_num : \n",
    "        s1 = numbers\n",
    "        s2 = list(value)\n",
    "        \n",
    "        for i in range(0, len(s1)) :                \n",
    "            for j in range(0 , len(s2)) : \n",
    "                if s1[i] == s2[j] :\n",
    "                    #print(j,s1[j])\n",
    "                    del s2[j]\n",
    "                    break\n",
    "      #  print(s1, s2)\n",
    "        if s2 == [] : \n",
    "            #print(s1, s2)\n",
    "            cnt+=1\n",
    "\n",
    "        \n",
    "        \n",
    "    answer = cnt\n",
    "    return answer\n",
    "\n",
    "\n",
    "def find_prime(numbers) : \n",
    "    prime_num = []\n",
    "    \n",
    "    L = len(numbers)\n",
    "    \n",
    "    for i in range(2 , 10**L) :         \n",
    "        find = True        \n",
    "        for value in prime_num : \n",
    "            if i %value == 0 : \n",
    "                find = False\n",
    "                break\n",
    "        if find == True :\n",
    "            prime_num.append(i)\n",
    "        else : \n",
    "            find = True\n",
    "    prime_num = [str(i) for i in prime_num]\n",
    "    return prime_num "
   ]
  },
  {
   "cell_type": "code",
   "execution_count": 138,
   "metadata": {},
   "outputs": [
    {
     "ename": "NameError",
     "evalue": "name 'cnt' is not defined",
     "output_type": "error",
     "traceback": [
      "\u001b[0;31m---------------------------------------------------------------------------\u001b[0m",
      "\u001b[0;31mNameError\u001b[0m                                 Traceback (most recent call last)",
      "\u001b[0;32m<ipython-input-138-c0244c36c8f6>\u001b[0m in \u001b[0;36m<module>\u001b[0;34m\u001b[0m\n\u001b[1;32m      9\u001b[0m \u001b[0;34m\u001b[0m\u001b[0m\n\u001b[1;32m     10\u001b[0m \u001b[0;34m\u001b[0m\u001b[0m\n\u001b[0;32m---> 11\u001b[0;31m \u001b[0manswer\u001b[0m \u001b[0;34m=\u001b[0m \u001b[0mcnt\u001b[0m\u001b[0;34m\u001b[0m\u001b[0;34m\u001b[0m\u001b[0m\n\u001b[0m\u001b[1;32m     12\u001b[0m \u001b[0;34m\u001b[0m\u001b[0m\n\u001b[1;32m     13\u001b[0m \u001b[0;34m\u001b[0m\u001b[0m\n",
      "\u001b[0;31mNameError\u001b[0m: name 'cnt' is not defined"
     ]
    }
   ],
   "source": [
    "def solution(numbers):\n",
    "     \n",
    "    answer = 0\n",
    "    \n",
    "    \n",
    "    \n",
    "    prime_num = find_prime(numbers)\n",
    "  \n",
    "        \n",
    "        \n",
    "answer = cnt\n",
    "\n",
    "\n",
    "\n",
    "def find_prime(numbers) : \n",
    "    prime_num = []\n",
    "    \n",
    "    L = len(numbers)\n",
    "    check = [1]*10**L\n",
    "    for i in range(2 , 10**L) :         \n",
    "        find = True        \n",
    "        if check[i] == 0 : continue\n",
    "        \n",
    "        for value in prime_num : \n",
    "            if i %value == 0 : \n",
    "                find = False\n",
    "                break\n",
    "        if find == True :\n",
    "            j = 1\n",
    "            while(j*i < 10**L) : \n",
    "                check[i*j] = 0\n",
    "                j += j \n",
    "            prime_num.append(i)\n",
    "        else : \n",
    "            find = True\n",
    "    prime_num = [str(i) for i in prime_num]\n",
    "    return prime_num "
   ]
  },
  {
   "cell_type": "code",
   "execution_count": 140,
   "metadata": {},
   "outputs": [
    {
     "data": {
      "text/plain": [
       "1"
      ]
     },
     "execution_count": 140,
     "metadata": {},
     "output_type": "execute_result"
    }
   ],
   "source": [
    "3//2"
   ]
  },
  {
   "cell_type": "code",
   "execution_count": null,
   "metadata": {},
   "outputs": [],
   "source": [
    "mid = (start + end) // 2\n",
    "    b = sum(budgets[0:mid+1])\n",
    "    a = b+ budgets[mid+1] * (L-mid -1)\n",
    "    \n",
    "    while(start <= end) :       \n",
    "        before_mid = mid\n",
    "        if a < M:\n",
    "            start = mid + 1\n",
    "            mid = (start + end) // 2\n",
    "            b = b + sum(budgets[before_mid + 1 :mid+1])\n",
    "        else:\n",
    "            end = mid -1\n",
    "            mid = (start + end) // 2\n",
    "            b = sum(budgets[0:mid+1])\n",
    "        a = b+ budgets[mid+1] * (L-mid -1)\n",
    "    "
   ]
  },
  {
   "cell_type": "code",
   "execution_count": 141,
   "metadata": {},
   "outputs": [],
   "source": [
    "\n",
    "\n",
    "\n",
    "def solution(participant, completion):\n",
    "    answer = []\n",
    "\n",
    "    stack = []\n",
    "  \n",
    "    while(participant !=[]) :   \n",
    "        \n",
    "        p = participant.pop()\n",
    "        #print(participant,p, p not in completion,stack) \n",
    "        if p not in completion :\n",
    "            stack.append(p)\n",
    "            \n",
    "    answer = stack[0]\n",
    "    return answer\n",
    "\n",
    "\n"
   ]
  },
  {
   "cell_type": "code",
   "execution_count": 142,
   "metadata": {},
   "outputs": [
    {
     "ename": "IndentationError",
     "evalue": "unexpected indent (<ipython-input-142-5e352e0bf073>, line 23)",
     "output_type": "error",
     "traceback": [
      "\u001b[0;36m  File \u001b[0;32m\"<ipython-input-142-5e352e0bf073>\"\u001b[0;36m, line \u001b[0;32m23\u001b[0m\n\u001b[0;31m    for v in list :\u001b[0m\n\u001b[0m    ^\u001b[0m\n\u001b[0;31mIndentationError\u001b[0m\u001b[0;31m:\u001b[0m unexpected indent\n"
     ]
    }
   ],
   "source": [
    "def solution(genres, plays):\n",
    "    answer = []\n",
    "    \n",
    "    dic = {}\n",
    "    dic_total = {}\n",
    "    for idx, v in enumerate(genres) : \n",
    "        \n",
    "        if v not in dic : \n",
    "            dic[v] =[ [plays[idx], idx]]\n",
    "            dic_total[v] = plays[idx]\n",
    "        else : \n",
    "            dic[v] = dic[v] + [[plays[idx],idx]]\n",
    "            dic_total[v] += plays[idx]\n",
    "    \n",
    "    list = []\n",
    "    \n",
    "    for v in list :\n",
    "        dic[v].sort(key = lambda x : (x[0], -x[1]))\n",
    "    for key in dic.keys() :\n",
    "        list.append([dic_total[key],key])\n",
    "    list.sort(key = lambda x : (x[0]))\n",
    "    \n",
    "     for v in list : \n",
    "        print(dic[v[1]])\n",
    "        stack = dic[v[1]]\n",
    "        temp = stack.pop()\n",
    "        answer.append(temp[1])\n",
    "        if stack != [] :\n",
    "            temp = stack.pop()\n",
    "            answer.append(temp[1])\n",
    "    \n",
    "    print( list, dic_total)\n",
    "    return answer"
   ]
  },
  {
   "cell_type": "code",
   "execution_count": 147,
   "metadata": {},
   "outputs": [],
   "source": [
    "a = [[100, 2],[200,3],[10,1],[200,1]]"
   ]
  },
  {
   "cell_type": "code",
   "execution_count": 148,
   "metadata": {},
   "outputs": [
    {
     "data": {
      "text/plain": [
       "[[100, 2], [200, 3], [10, 1], [200, 1]]"
      ]
     },
     "execution_count": 148,
     "metadata": {},
     "output_type": "execute_result"
    }
   ],
   "source": [
    "a"
   ]
  },
  {
   "cell_type": "code",
   "execution_count": 156,
   "metadata": {},
   "outputs": [],
   "source": [
    "a.sort(key = lambda x : (x[0], -x[1]))"
   ]
  },
  {
   "cell_type": "code",
   "execution_count": 157,
   "metadata": {},
   "outputs": [
    {
     "data": {
      "text/plain": [
       "[[10, 1], [100, 2], [200, 3], [200, 1]]"
      ]
     },
     "execution_count": 157,
     "metadata": {},
     "output_type": "execute_result"
    }
   ],
   "source": [
    "a"
   ]
  },
  {
   "cell_type": "code",
   "execution_count": 158,
   "metadata": {},
   "outputs": [],
   "source": [
    "def solution(numbers):\n",
    "    answer = []\n",
    "    \n",
    "    n_max = max(numbers)\n",
    "    if n_max == 0 : return '0'\n",
    "    \n",
    "    max_l = len(str(n_max))\n",
    "    a = [str(i) for i in numbers]\n",
    "    \n",
    "    temp = []*len(a)\n",
    "    for v in a : \n",
    "        l = len(v)\n",
    "        #print(l,v,v[-1])\n",
    "        temp.append([v + v[-1]*(max_l  - l),l])\n",
    "    \n",
    "    temp.sort(key = lambda x : (x[0]))\n",
    "    \n",
    "    #print(a)\n",
    "    #print(temp)\n",
    "    \n",
    "    while(temp != []) :\n",
    "        b= temp.pop()\n",
    "        answer.append(b[0][:b[1]])\n",
    "        #print(b[1])\n",
    "    #print(''.join(answer))\n",
    "   \n",
    "    return ''.join(answer)"
   ]
  },
  {
   "cell_type": "code",
   "execution_count": 159,
   "metadata": {},
   "outputs": [
    {
     "data": {
      "text/plain": [
       "[12, 1213]"
      ]
     },
     "execution_count": 159,
     "metadata": {},
     "output_type": "execute_result"
    }
   ],
   "source": [
    "[40,403 ]\n",
    "[40,405]\n",
    "[40,404]\n",
    "[12,121]\n",
    "[2,22,223]\n",
    "[21,212]\n",
    "[41,415]\n",
    "[2,22 ]\n",
    "[70,0,0,0]\n",
    "[0,0,0,0]\n",
    "[0,0,0,1000]\n",
    "[12,1213]"
   ]
  },
  {
   "cell_type": "code",
   "execution_count": 179,
   "metadata": {},
   "outputs": [],
   "source": [
    "c = [1,2,3,4,5,6]"
   ]
  },
  {
   "cell_type": "code",
   "execution_count": 180,
   "metadata": {},
   "outputs": [
    {
     "data": {
      "text/plain": [
       "[1, 2, 3, 4, 5, 6]"
      ]
     },
     "execution_count": 180,
     "metadata": {},
     "output_type": "execute_result"
    }
   ],
   "source": [
    "c"
   ]
  },
  {
   "cell_type": "code",
   "execution_count": 181,
   "metadata": {},
   "outputs": [],
   "source": [
    "a = (c[0],c[2])"
   ]
  },
  {
   "cell_type": "code",
   "execution_count": 182,
   "metadata": {},
   "outputs": [
    {
     "data": {
      "text/plain": [
       "(1, 3)"
      ]
     },
     "execution_count": 182,
     "metadata": {},
     "output_type": "execute_result"
    }
   ],
   "source": [
    "a"
   ]
  },
  {
   "cell_type": "code",
   "execution_count": 184,
   "metadata": {},
   "outputs": [
    {
     "ename": "TypeError",
     "evalue": "'tuple' object does not support item assignment",
     "output_type": "error",
     "traceback": [
      "\u001b[0;31m---------------------------------------------------------------------------\u001b[0m",
      "\u001b[0;31mTypeError\u001b[0m                                 Traceback (most recent call last)",
      "\u001b[0;32m<ipython-input-184-fa1ba3f7cc8f>\u001b[0m in \u001b[0;36m<module>\u001b[0;34m\u001b[0m\n\u001b[0;32m----> 1\u001b[0;31m \u001b[0ma\u001b[0m\u001b[0;34m[\u001b[0m\u001b[0;36m0\u001b[0m\u001b[0;34m]\u001b[0m \u001b[0;34m=\u001b[0m \u001b[0;36m2\u001b[0m\u001b[0;34m\u001b[0m\u001b[0;34m\u001b[0m\u001b[0m\n\u001b[0m",
      "\u001b[0;31mTypeError\u001b[0m: 'tuple' object does not support item assignment"
     ]
    }
   ],
   "source": [
    "a[0] = 2"
   ]
  },
  {
   "cell_type": "code",
   "execution_count": 166,
   "metadata": {},
   "outputs": [
    {
     "data": {
      "text/plain": [
       "[1, 3, 3, 4, 5, 6]"
      ]
     },
     "execution_count": 166,
     "metadata": {},
     "output_type": "execute_result"
    }
   ],
   "source": [
    "d"
   ]
  },
  {
   "cell_type": "code",
   "execution_count": 186,
   "metadata": {},
   "outputs": [
    {
     "data": {
      "text/plain": [
       "12"
      ]
     },
     "execution_count": 186,
     "metadata": {},
     "output_type": "execute_result"
    }
   ],
   "source": [
    "(lambda x,y : x+y)(10,2)"
   ]
  },
  {
   "cell_type": "code",
   "execution_count": 196,
   "metadata": {},
   "outputs": [],
   "source": [
    "a = lambda x,y : x+y, 10,2"
   ]
  },
  {
   "cell_type": "code",
   "execution_count": 198,
   "metadata": {},
   "outputs": [],
   "source": [
    "a = 1,2,3,4,5"
   ]
  },
  {
   "cell_type": "code",
   "execution_count": 199,
   "metadata": {},
   "outputs": [
    {
     "data": {
      "text/plain": [
       "(1, 2, 3, 4, 5)"
      ]
     },
     "execution_count": 199,
     "metadata": {},
     "output_type": "execute_result"
    }
   ],
   "source": [
    "a"
   ]
  },
  {
   "cell_type": "code",
   "execution_count": 202,
   "metadata": {},
   "outputs": [
    {
     "data": {
      "text/plain": [
       "True"
      ]
     },
     "execution_count": 202,
     "metadata": {},
     "output_type": "execute_result"
    }
   ],
   "source": [
    "'I' < 'S'"
   ]
  },
  {
   "cell_type": "code",
   "execution_count": null,
   "metadata": {},
   "outputs": [],
   "source": []
  }
 ],
 "metadata": {
  "kernelspec": {
   "display_name": "Python 3",
   "language": "python",
   "name": "python3"
  },
  "language_info": {
   "codemirror_mode": {
    "name": "ipython",
    "version": 3
   },
   "file_extension": ".py",
   "mimetype": "text/x-python",
   "name": "python",
   "nbconvert_exporter": "python",
   "pygments_lexer": "ipython3",
   "version": "3.7.4"
  }
 },
 "nbformat": 4,
 "nbformat_minor": 2
}
